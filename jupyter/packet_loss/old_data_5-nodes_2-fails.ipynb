{
 "cells": [
  {
   "cell_type": "code",
   "execution_count": 1,
   "metadata": {},
   "outputs": [],
   "source": [
    "# Import the libraries\n",
    "import os\n",
    "import pandas as pd\n",
    "import matplotlib\n",
    "matplotlib.use(u'nbAgg')\n",
    "import matplotlib.pyplot as plt\n",
    "import seaborn as sns\n",
    "import numpy as np\n",
    "import pickle\n",
    "from sklearn.manifold import TSNE\n",
    "from sklearn import preprocessing\n",
    "import pandas as pd\n",
    "%matplotlib inline"
   ]
  },
  {
   "cell_type": "code",
   "execution_count": 2,
   "metadata": {},
   "outputs": [],
   "source": [
    "def isnumber(x):\n",
    "    try:\n",
    "        int(x)\n",
    "        return True\n",
    "    except:\n",
    "        return False"
   ]
  },
  {
   "cell_type": "code",
   "execution_count": 3,
   "metadata": {},
   "outputs": [],
   "source": [
    "raft_data_5_nodes = pd.read_csv(\"C:\\\\Users\\\\czaps\\\\Documents\\\\MSc\\\\experiments\\\\packet_loss\\\\raft_outdoor\\\\raft_5-nodes_2-fails\\\\data.csv\", sep=\",\")"
   ]
  },
  {
   "cell_type": "code",
   "execution_count": 4,
   "metadata": {},
   "outputs": [
    {
     "data": {
      "text/html": [
       "<div>\n",
       "<style scoped>\n",
       "    .dataframe tbody tr th:only-of-type {\n",
       "        vertical-align: middle;\n",
       "    }\n",
       "\n",
       "    .dataframe tbody tr th {\n",
       "        vertical-align: top;\n",
       "    }\n",
       "\n",
       "    .dataframe thead th {\n",
       "        text-align: right;\n",
       "    }\n",
       "</style>\n",
       "<table border=\"1\" class=\"dataframe\">\n",
       "  <thead>\n",
       "    <tr style=\"text-align: right;\">\n",
       "      <th></th>\n",
       "      <th>nodeName</th>\n",
       "      <th>packetNumber</th>\n",
       "      <th>temperature</th>\n",
       "      <th>brightness</th>\n",
       "      <th>humidity</th>\n",
       "      <th>onBoardTemp</th>\n",
       "    </tr>\n",
       "  </thead>\n",
       "  <tbody>\n",
       "    <tr>\n",
       "      <th>0</th>\n",
       "      <td>NaN</td>\n",
       "      <td>NaN</td>\n",
       "      <td>NaN</td>\n",
       "      <td>NaN</td>\n",
       "      <td>NaN</td>\n",
       "      <td>NaN</td>\n",
       "    </tr>\n",
       "    <tr>\n",
       "      <th>1</th>\n",
       "      <td>NaN</td>\n",
       "      <td>NaN</td>\n",
       "      <td>NaN</td>\n",
       "      <td>NaN</td>\n",
       "      <td>NaN</td>\n",
       "      <td>NaN</td>\n",
       "    </tr>\n",
       "    <tr>\n",
       "      <th>2</th>\n",
       "      <td>1</td>\n",
       "      <td>1</td>\n",
       "      <td>20</td>\n",
       "      <td>175</td>\n",
       "      <td>43</td>\n",
       "      <td>21</td>\n",
       "    </tr>\n",
       "    <tr>\n",
       "      <th>3</th>\n",
       "      <td>1</td>\n",
       "      <td>2</td>\n",
       "      <td>21</td>\n",
       "      <td>199</td>\n",
       "      <td>43</td>\n",
       "      <td>21</td>\n",
       "    </tr>\n",
       "    <tr>\n",
       "      <th>4</th>\n",
       "      <td>2</td>\n",
       "      <td>1</td>\n",
       "      <td>20</td>\n",
       "      <td>231</td>\n",
       "      <td>42</td>\n",
       "      <td>21</td>\n",
       "    </tr>\n",
       "    <tr>\n",
       "      <th>...</th>\n",
       "      <td>...</td>\n",
       "      <td>...</td>\n",
       "      <td>...</td>\n",
       "      <td>...</td>\n",
       "      <td>...</td>\n",
       "      <td>...</td>\n",
       "    </tr>\n",
       "    <tr>\n",
       "      <th>3770</th>\n",
       "      <td>3</td>\n",
       "      <td>999</td>\n",
       "      <td>21</td>\n",
       "      <td>146</td>\n",
       "      <td>37</td>\n",
       "      <td>23</td>\n",
       "    </tr>\n",
       "    <tr>\n",
       "      <th>3771</th>\n",
       "      <td>4</td>\n",
       "      <td>999</td>\n",
       "      <td>22</td>\n",
       "      <td>57</td>\n",
       "      <td>31</td>\n",
       "      <td>24</td>\n",
       "    </tr>\n",
       "    <tr>\n",
       "      <th>3772</th>\n",
       "      <td>5</td>\n",
       "      <td>999</td>\n",
       "      <td>21</td>\n",
       "      <td>127</td>\n",
       "      <td>31</td>\n",
       "      <td>25</td>\n",
       "    </tr>\n",
       "    <tr>\n",
       "      <th>3773</th>\n",
       "      <td>3</td>\n",
       "      <td>1000</td>\n",
       "      <td>20</td>\n",
       "      <td>130</td>\n",
       "      <td>37</td>\n",
       "      <td>23</td>\n",
       "    </tr>\n",
       "    <tr>\n",
       "      <th>3774</th>\n",
       "      <td>4</td>\n",
       "      <td>1000</td>\n",
       "      <td>22</td>\n",
       "      <td>57</td>\n",
       "      <td>31</td>\n",
       "      <td>24</td>\n",
       "    </tr>\n",
       "  </tbody>\n",
       "</table>\n",
       "<p>3775 rows × 6 columns</p>\n",
       "</div>"
      ],
      "text/plain": [
       "     nodeName packetNumber temperature brightness humidity onBoardTemp\n",
       "0         NaN          NaN         NaN        NaN      NaN         NaN\n",
       "1         NaN          NaN         NaN        NaN      NaN         NaN\n",
       "2           1            1          20        175       43          21\n",
       "3           1            2          21        199       43          21\n",
       "4           2            1          20        231       42          21\n",
       "...       ...          ...         ...        ...      ...         ...\n",
       "3770        3          999          21        146       37          23\n",
       "3771        4          999          22         57       31          24\n",
       "3772        5          999          21        127       31          25\n",
       "3773        3         1000          20        130       37          23\n",
       "3774        4         1000          22         57       31          24\n",
       "\n",
       "[3775 rows x 6 columns]"
      ]
     },
     "execution_count": 4,
     "metadata": {},
     "output_type": "execute_result"
    }
   ],
   "source": [
    "raft_data_5_nodes[raft_data_5_nodes.applymap(isnumber)]"
   ]
  },
  {
   "cell_type": "code",
   "execution_count": 5,
   "metadata": {},
   "outputs": [],
   "source": [
    "paxos_data_5_nodes = pd.read_csv(\"C:\\\\Users\\\\czaps\\\\Documents\\\\MSc\\\\experiments\\\\packet_loss\\\\paxos_outdoor\\\\paxos_5-nodes_2-fails\\\\data.csv\", sep=\",\")"
   ]
  },
  {
   "cell_type": "code",
   "execution_count": 6,
   "metadata": {},
   "outputs": [
    {
     "name": "stderr",
     "output_type": "stream",
     "text": [
      "b'Skipping line 889: expected 6 fields, saw 7\\nSkipping line 906: expected 6 fields, saw 7\\nSkipping line 964: expected 6 fields, saw 7\\nSkipping line 1216: expected 6 fields, saw 7\\nSkipping line 1403: expected 6 fields, saw 7\\nSkipping line 1880: expected 6 fields, saw 7\\n'\n"
     ]
    }
   ],
   "source": [
    "noalg_data_5_nodes = pd.read_csv(\"C:\\\\Users\\\\czaps\\\\Documents\\\\MSc\\\\experiments\\\\packet_loss\\\\control_outdoor\\\\outdoor_control_5-nodes_2-fails\\\\data.csv\", error_bad_lines=False, sep=\",\")"
   ]
  },
  {
   "cell_type": "code",
   "execution_count": 7,
   "metadata": {},
   "outputs": [
    {
     "name": "stdout",
     "output_type": "stream",
     "text": [
      "<class 'pandas.core.frame.DataFrame'>\n",
      "RangeIndex: 3775 entries, 0 to 3774\n",
      "Data columns (total 6 columns):\n",
      " #   Column        Non-Null Count  Dtype \n",
      "---  ------        --------------  ----- \n",
      " 0   nodeName      3775 non-null   object\n",
      " 1   packetNumber  3762 non-null   object\n",
      " 2   temperature   3762 non-null   object\n",
      " 3   brightness    3762 non-null   object\n",
      " 4   humidity      3756 non-null   object\n",
      " 5   onBoardTemp   3747 non-null   object\n",
      "dtypes: object(6)\n",
      "memory usage: 177.1+ KB\n"
     ]
    }
   ],
   "source": [
    "raft_data_5_nodes.info()"
   ]
  },
  {
   "cell_type": "code",
   "execution_count": 8,
   "metadata": {},
   "outputs": [
    {
     "data": {
      "text/plain": [
       "(3775, 6)"
      ]
     },
     "execution_count": 8,
     "metadata": {},
     "output_type": "execute_result"
    }
   ],
   "source": [
    "raft_data_5_nodes.shape"
   ]
  },
  {
   "cell_type": "code",
   "execution_count": 9,
   "metadata": {},
   "outputs": [
    {
     "name": "stdout",
     "output_type": "stream",
     "text": [
      "<class 'pandas.core.frame.DataFrame'>\n",
      "RangeIndex: 3673 entries, 0 to 3672\n",
      "Data columns (total 6 columns):\n",
      " #   Column        Non-Null Count  Dtype  \n",
      "---  ------        --------------  -----  \n",
      " 0   nodeName      3673 non-null   object \n",
      " 1   packetNumber  3667 non-null   object \n",
      " 2   temperature   3667 non-null   float64\n",
      " 3   brightness    3667 non-null   object \n",
      " 4   humidity      3667 non-null   object \n",
      " 5   onBoardTemp   3663 non-null   object \n",
      "dtypes: float64(1), object(5)\n",
      "memory usage: 172.3+ KB\n"
     ]
    }
   ],
   "source": [
    "paxos_data_5_nodes.info()"
   ]
  },
  {
   "cell_type": "code",
   "execution_count": 10,
   "metadata": {},
   "outputs": [
    {
     "data": {
      "text/plain": [
       "(3673, 6)"
      ]
     },
     "execution_count": 10,
     "metadata": {},
     "output_type": "execute_result"
    }
   ],
   "source": [
    "paxos_data_5_nodes.shape"
   ]
  },
  {
   "cell_type": "code",
   "execution_count": 11,
   "metadata": {},
   "outputs": [
    {
     "name": "stdout",
     "output_type": "stream",
     "text": [
      "<class 'pandas.core.frame.DataFrame'>\n",
      "RangeIndex: 2732 entries, 0 to 2731\n",
      "Data columns (total 6 columns):\n",
      " #   Column        Non-Null Count  Dtype \n",
      "---  ------        --------------  ----- \n",
      " 0   nodeName      2732 non-null   object\n",
      " 1   packetNumber  2694 non-null   object\n",
      " 2   temperature   2677 non-null   object\n",
      " 3   brightness    2661 non-null   object\n",
      " 4   humidity      2609 non-null   object\n",
      " 5   onBoardTemp   2579 non-null   object\n",
      "dtypes: object(6)\n",
      "memory usage: 128.2+ KB\n"
     ]
    }
   ],
   "source": [
    "noalg_data_5_nodes.info()"
   ]
  },
  {
   "cell_type": "code",
   "execution_count": 12,
   "metadata": {},
   "outputs": [
    {
     "data": {
      "text/plain": [
       "(2732, 6)"
      ]
     },
     "execution_count": 12,
     "metadata": {},
     "output_type": "execute_result"
    }
   ],
   "source": [
    "noalg_data_5_nodes.shape"
   ]
  },
  {
   "cell_type": "code",
   "execution_count": 13,
   "metadata": {},
   "outputs": [],
   "source": [
    "#RAFT"
   ]
  },
  {
   "cell_type": "code",
   "execution_count": 14,
   "metadata": {},
   "outputs": [
    {
     "data": {
      "text/html": [
       "<div>\n",
       "<style scoped>\n",
       "    .dataframe tbody tr th:only-of-type {\n",
       "        vertical-align: middle;\n",
       "    }\n",
       "\n",
       "    .dataframe tbody tr th {\n",
       "        vertical-align: top;\n",
       "    }\n",
       "\n",
       "    .dataframe thead th {\n",
       "        text-align: right;\n",
       "    }\n",
       "</style>\n",
       "<table border=\"1\" class=\"dataframe\">\n",
       "  <thead>\n",
       "    <tr style=\"text-align: right;\">\n",
       "      <th></th>\n",
       "      <th>nodeName</th>\n",
       "      <th>packetNumber</th>\n",
       "      <th>temperature</th>\n",
       "      <th>brightness</th>\n",
       "      <th>humidity</th>\n",
       "      <th>onBoardTemp</th>\n",
       "    </tr>\n",
       "  </thead>\n",
       "  <tbody>\n",
       "    <tr>\n",
       "      <th>0</th>\n",
       "      <td>NaN</td>\n",
       "      <td>NaN</td>\n",
       "      <td>NaN</td>\n",
       "      <td>NaN</td>\n",
       "      <td>NaN</td>\n",
       "      <td>NaN</td>\n",
       "    </tr>\n",
       "    <tr>\n",
       "      <th>1</th>\n",
       "      <td>NaN</td>\n",
       "      <td>NaN</td>\n",
       "      <td>NaN</td>\n",
       "      <td>NaN</td>\n",
       "      <td>NaN</td>\n",
       "      <td>NaN</td>\n",
       "    </tr>\n",
       "    <tr>\n",
       "      <th>2</th>\n",
       "      <td>1</td>\n",
       "      <td>1</td>\n",
       "      <td>20</td>\n",
       "      <td>175</td>\n",
       "      <td>43</td>\n",
       "      <td>21</td>\n",
       "    </tr>\n",
       "    <tr>\n",
       "      <th>3</th>\n",
       "      <td>1</td>\n",
       "      <td>2</td>\n",
       "      <td>21</td>\n",
       "      <td>199</td>\n",
       "      <td>43</td>\n",
       "      <td>21</td>\n",
       "    </tr>\n",
       "    <tr>\n",
       "      <th>4</th>\n",
       "      <td>2</td>\n",
       "      <td>1</td>\n",
       "      <td>20</td>\n",
       "      <td>231</td>\n",
       "      <td>42</td>\n",
       "      <td>21</td>\n",
       "    </tr>\n",
       "    <tr>\n",
       "      <th>...</th>\n",
       "      <td>...</td>\n",
       "      <td>...</td>\n",
       "      <td>...</td>\n",
       "      <td>...</td>\n",
       "      <td>...</td>\n",
       "      <td>...</td>\n",
       "    </tr>\n",
       "    <tr>\n",
       "      <th>3770</th>\n",
       "      <td>3</td>\n",
       "      <td>999</td>\n",
       "      <td>21</td>\n",
       "      <td>146</td>\n",
       "      <td>37</td>\n",
       "      <td>23</td>\n",
       "    </tr>\n",
       "    <tr>\n",
       "      <th>3771</th>\n",
       "      <td>4</td>\n",
       "      <td>999</td>\n",
       "      <td>22</td>\n",
       "      <td>57</td>\n",
       "      <td>31</td>\n",
       "      <td>24</td>\n",
       "    </tr>\n",
       "    <tr>\n",
       "      <th>3772</th>\n",
       "      <td>5</td>\n",
       "      <td>999</td>\n",
       "      <td>21</td>\n",
       "      <td>127</td>\n",
       "      <td>31</td>\n",
       "      <td>25</td>\n",
       "    </tr>\n",
       "    <tr>\n",
       "      <th>3773</th>\n",
       "      <td>3</td>\n",
       "      <td>1000</td>\n",
       "      <td>20</td>\n",
       "      <td>130</td>\n",
       "      <td>37</td>\n",
       "      <td>23</td>\n",
       "    </tr>\n",
       "    <tr>\n",
       "      <th>3774</th>\n",
       "      <td>4</td>\n",
       "      <td>1000</td>\n",
       "      <td>22</td>\n",
       "      <td>57</td>\n",
       "      <td>31</td>\n",
       "      <td>24</td>\n",
       "    </tr>\n",
       "  </tbody>\n",
       "</table>\n",
       "<p>3775 rows × 6 columns</p>\n",
       "</div>"
      ],
      "text/plain": [
       "     nodeName packetNumber temperature brightness humidity onBoardTemp\n",
       "0         NaN          NaN         NaN        NaN      NaN         NaN\n",
       "1         NaN          NaN         NaN        NaN      NaN         NaN\n",
       "2           1            1          20        175       43          21\n",
       "3           1            2          21        199       43          21\n",
       "4           2            1          20        231       42          21\n",
       "...       ...          ...         ...        ...      ...         ...\n",
       "3770        3          999          21        146       37          23\n",
       "3771        4          999          22         57       31          24\n",
       "3772        5          999          21        127       31          25\n",
       "3773        3         1000          20        130       37          23\n",
       "3774        4         1000          22         57       31          24\n",
       "\n",
       "[3775 rows x 6 columns]"
      ]
     },
     "execution_count": 14,
     "metadata": {},
     "output_type": "execute_result"
    }
   ],
   "source": [
    "raft_data_5_nodes[raft_data_5_nodes.applymap(isnumber)]"
   ]
  },
  {
   "cell_type": "code",
   "execution_count": 15,
   "metadata": {},
   "outputs": [],
   "source": [
    "raft_data_5_nodes_clean = raft_data_5_nodes.dropna()"
   ]
  },
  {
   "cell_type": "code",
   "execution_count": 16,
   "metadata": {},
   "outputs": [
    {
     "data": {
      "text/plain": [
       "(3747, 6)"
      ]
     },
     "execution_count": 16,
     "metadata": {},
     "output_type": "execute_result"
    }
   ],
   "source": [
    "raft_data_5_nodes_clean.shape"
   ]
  },
  {
   "cell_type": "code",
   "execution_count": 17,
   "metadata": {},
   "outputs": [],
   "source": [
    "raft_data_5_nodes_clean.to_csv('C:\\\\Users\\\\czaps\\\\Documents\\\\MSc\\\\data_wrangling\\\\raft_data_5_nodes_2_clean.csv', index = False, header=True)"
   ]
  },
  {
   "cell_type": "code",
   "execution_count": 18,
   "metadata": {},
   "outputs": [],
   "source": [
    "#manual cleaning of the csv req"
   ]
  },
  {
   "cell_type": "code",
   "execution_count": 17,
   "metadata": {},
   "outputs": [],
   "source": [
    "clean_raft_data_5_nodes = pd.read_csv(\"C:\\\\Users\\\\czaps\\\\Documents\\\\MSc\\\\data_wrangling\\\\raft_data_5_nodes_2_clean.csv\", sep=\",\")"
   ]
  },
  {
   "cell_type": "code",
   "execution_count": 18,
   "metadata": {},
   "outputs": [],
   "source": [
    "clean_raft_data_5 = clean_raft_data_5_nodes.dropna()"
   ]
  },
  {
   "cell_type": "code",
   "execution_count": 19,
   "metadata": {},
   "outputs": [],
   "source": [
    "final_clean_raft_5 = clean_raft_data_5.astype({\"nodeName\":np.int64,\"packetNumber\":np.int64,\"temperature\":np.int64,\"brightness\":np.int64,\"humidity\":np.int64,\"onBoardTemp\":np.int64})"
   ]
  },
  {
   "cell_type": "code",
   "execution_count": 20,
   "metadata": {},
   "outputs": [
    {
     "name": "stdout",
     "output_type": "stream",
     "text": [
      "<class 'pandas.core.frame.DataFrame'>\n",
      "Int64Index: 3742 entries, 0 to 3746\n",
      "Data columns (total 6 columns):\n",
      " #   Column        Non-Null Count  Dtype\n",
      "---  ------        --------------  -----\n",
      " 0   nodeName      3742 non-null   int64\n",
      " 1   packetNumber  3742 non-null   int64\n",
      " 2   temperature   3742 non-null   int64\n",
      " 3   brightness    3742 non-null   int64\n",
      " 4   humidity      3742 non-null   int64\n",
      " 5   onBoardTemp   3742 non-null   int64\n",
      "dtypes: int64(6)\n",
      "memory usage: 204.6 KB\n"
     ]
    }
   ],
   "source": [
    "final_clean_raft_5.info()"
   ]
  },
  {
   "cell_type": "code",
   "execution_count": 31,
   "metadata": {},
   "outputs": [
    {
     "data": {
      "text/plain": [
       "(3742, 6)"
      ]
     },
     "execution_count": 31,
     "metadata": {},
     "output_type": "execute_result"
    }
   ],
   "source": [
    "final_clean_raft_5.shape"
   ]
  },
  {
   "cell_type": "code",
   "execution_count": 21,
   "metadata": {},
   "outputs": [],
   "source": [
    "#PAXOS"
   ]
  },
  {
   "cell_type": "code",
   "execution_count": 22,
   "metadata": {},
   "outputs": [
    {
     "data": {
      "text/html": [
       "<div>\n",
       "<style scoped>\n",
       "    .dataframe tbody tr th:only-of-type {\n",
       "        vertical-align: middle;\n",
       "    }\n",
       "\n",
       "    .dataframe tbody tr th {\n",
       "        vertical-align: top;\n",
       "    }\n",
       "\n",
       "    .dataframe thead th {\n",
       "        text-align: right;\n",
       "    }\n",
       "</style>\n",
       "<table border=\"1\" class=\"dataframe\">\n",
       "  <thead>\n",
       "    <tr style=\"text-align: right;\">\n",
       "      <th></th>\n",
       "      <th>nodeName</th>\n",
       "      <th>packetNumber</th>\n",
       "      <th>temperature</th>\n",
       "      <th>brightness</th>\n",
       "      <th>humidity</th>\n",
       "      <th>onBoardTemp</th>\n",
       "    </tr>\n",
       "  </thead>\n",
       "  <tbody>\n",
       "    <tr>\n",
       "      <th>0</th>\n",
       "      <td>NaN</td>\n",
       "      <td>NaN</td>\n",
       "      <td>NaN</td>\n",
       "      <td>NaN</td>\n",
       "      <td>NaN</td>\n",
       "      <td>NaN</td>\n",
       "    </tr>\n",
       "    <tr>\n",
       "      <th>1</th>\n",
       "      <td>NaN</td>\n",
       "      <td>NaN</td>\n",
       "      <td>NaN</td>\n",
       "      <td>NaN</td>\n",
       "      <td>NaN</td>\n",
       "      <td>NaN</td>\n",
       "    </tr>\n",
       "    <tr>\n",
       "      <th>2</th>\n",
       "      <td>1</td>\n",
       "      <td>1</td>\n",
       "      <td>21.0</td>\n",
       "      <td>118</td>\n",
       "      <td>44</td>\n",
       "      <td>23</td>\n",
       "    </tr>\n",
       "    <tr>\n",
       "      <th>3</th>\n",
       "      <td>1</td>\n",
       "      <td>2</td>\n",
       "      <td>21.0</td>\n",
       "      <td>117</td>\n",
       "      <td>44</td>\n",
       "      <td>23</td>\n",
       "    </tr>\n",
       "    <tr>\n",
       "      <th>4</th>\n",
       "      <td>1</td>\n",
       "      <td>3</td>\n",
       "      <td>22.0</td>\n",
       "      <td>227</td>\n",
       "      <td>44</td>\n",
       "      <td>23</td>\n",
       "    </tr>\n",
       "    <tr>\n",
       "      <th>...</th>\n",
       "      <td>...</td>\n",
       "      <td>...</td>\n",
       "      <td>...</td>\n",
       "      <td>...</td>\n",
       "      <td>...</td>\n",
       "      <td>...</td>\n",
       "    </tr>\n",
       "    <tr>\n",
       "      <th>3668</th>\n",
       "      <td>3</td>\n",
       "      <td>1000</td>\n",
       "      <td>20.0</td>\n",
       "      <td>101</td>\n",
       "      <td>42</td>\n",
       "      <td>23</td>\n",
       "    </tr>\n",
       "    <tr>\n",
       "      <th>3669</th>\n",
       "      <td>4</td>\n",
       "      <td>998</td>\n",
       "      <td>21.0</td>\n",
       "      <td>58</td>\n",
       "      <td>33</td>\n",
       "      <td>24</td>\n",
       "    </tr>\n",
       "    <tr>\n",
       "      <th>3670</th>\n",
       "      <td>4</td>\n",
       "      <td>999</td>\n",
       "      <td>21.0</td>\n",
       "      <td>63</td>\n",
       "      <td>33</td>\n",
       "      <td>24</td>\n",
       "    </tr>\n",
       "    <tr>\n",
       "      <th>3671</th>\n",
       "      <td>4</td>\n",
       "      <td>1000</td>\n",
       "      <td>21.0</td>\n",
       "      <td>58</td>\n",
       "      <td>33</td>\n",
       "      <td>24</td>\n",
       "    </tr>\n",
       "    <tr>\n",
       "      <th>3672</th>\n",
       "      <td>NaN</td>\n",
       "      <td>NaN</td>\n",
       "      <td>NaN</td>\n",
       "      <td>NaN</td>\n",
       "      <td>NaN</td>\n",
       "      <td>NaN</td>\n",
       "    </tr>\n",
       "  </tbody>\n",
       "</table>\n",
       "<p>3673 rows × 6 columns</p>\n",
       "</div>"
      ],
      "text/plain": [
       "     nodeName packetNumber  temperature brightness humidity onBoardTemp\n",
       "0         NaN          NaN          NaN        NaN      NaN         NaN\n",
       "1         NaN          NaN          NaN        NaN      NaN         NaN\n",
       "2           1            1         21.0        118       44          23\n",
       "3           1            2         21.0        117       44          23\n",
       "4           1            3         22.0        227       44          23\n",
       "...       ...          ...          ...        ...      ...         ...\n",
       "3668        3         1000         20.0        101       42          23\n",
       "3669        4          998         21.0         58       33          24\n",
       "3670        4          999         21.0         63       33          24\n",
       "3671        4         1000         21.0         58       33          24\n",
       "3672      NaN          NaN          NaN        NaN      NaN         NaN\n",
       "\n",
       "[3673 rows x 6 columns]"
      ]
     },
     "execution_count": 22,
     "metadata": {},
     "output_type": "execute_result"
    }
   ],
   "source": [
    "paxos_data_5_nodes[paxos_data_5_nodes.applymap(isnumber)]"
   ]
  },
  {
   "cell_type": "code",
   "execution_count": 23,
   "metadata": {},
   "outputs": [],
   "source": [
    "paxos_data_5_nodes_clean = paxos_data_5_nodes.dropna()"
   ]
  },
  {
   "cell_type": "code",
   "execution_count": 24,
   "metadata": {},
   "outputs": [
    {
     "data": {
      "text/plain": [
       "(3663, 6)"
      ]
     },
     "execution_count": 24,
     "metadata": {},
     "output_type": "execute_result"
    }
   ],
   "source": [
    "paxos_data_5_nodes_clean.shape"
   ]
  },
  {
   "cell_type": "code",
   "execution_count": 25,
   "metadata": {},
   "outputs": [],
   "source": [
    "paxos_data_5_nodes_clean.to_csv('C:\\\\Users\\\\czaps\\\\Documents\\\\MSc\\\\data_wrangling\\\\paxos_data_5_nodes_2_clean.csv', index = False, header=True)"
   ]
  },
  {
   "cell_type": "code",
   "execution_count": 26,
   "metadata": {},
   "outputs": [],
   "source": [
    "#manual cleaning of the csv req"
   ]
  },
  {
   "cell_type": "code",
   "execution_count": 27,
   "metadata": {},
   "outputs": [],
   "source": [
    "clean_paxos_data_5_nodes = pd.read_csv(\"C:\\\\Users\\\\czaps\\\\Documents\\\\MSc\\\\data_wrangling\\\\paxos_data_5_nodes_2_clean.csv\", sep=\",\")"
   ]
  },
  {
   "cell_type": "code",
   "execution_count": 28,
   "metadata": {},
   "outputs": [
    {
     "data": {
      "text/plain": [
       "(3663, 6)"
      ]
     },
     "execution_count": 28,
     "metadata": {},
     "output_type": "execute_result"
    }
   ],
   "source": [
    "clean_paxos_data_5_nodes.shape"
   ]
  },
  {
   "cell_type": "code",
   "execution_count": 29,
   "metadata": {},
   "outputs": [],
   "source": [
    "clean_paxos_data_5 = clean_paxos_data_5_nodes.dropna()"
   ]
  },
  {
   "cell_type": "code",
   "execution_count": 30,
   "metadata": {},
   "outputs": [
    {
     "data": {
      "text/plain": [
       "(3655, 6)"
      ]
     },
     "execution_count": 30,
     "metadata": {},
     "output_type": "execute_result"
    }
   ],
   "source": [
    "clean_paxos_data_5.shape"
   ]
  },
  {
   "cell_type": "code",
   "execution_count": 32,
   "metadata": {},
   "outputs": [],
   "source": [
    "final_clean_paxos_5 = clean_paxos_data_5.astype({\"nodeName\":np.int64,\"packetNumber\":np.int64,\"temperature\":np.int64,\"brightness\":np.int64,\"humidity\":np.int64,\"onBoardTemp\":np.int64})"
   ]
  },
  {
   "cell_type": "code",
   "execution_count": 33,
   "metadata": {},
   "outputs": [],
   "source": [
    "#NO ALG"
   ]
  },
  {
   "cell_type": "code",
   "execution_count": 34,
   "metadata": {},
   "outputs": [
    {
     "data": {
      "text/html": [
       "<div>\n",
       "<style scoped>\n",
       "    .dataframe tbody tr th:only-of-type {\n",
       "        vertical-align: middle;\n",
       "    }\n",
       "\n",
       "    .dataframe tbody tr th {\n",
       "        vertical-align: top;\n",
       "    }\n",
       "\n",
       "    .dataframe thead th {\n",
       "        text-align: right;\n",
       "    }\n",
       "</style>\n",
       "<table border=\"1\" class=\"dataframe\">\n",
       "  <thead>\n",
       "    <tr style=\"text-align: right;\">\n",
       "      <th></th>\n",
       "      <th>nodeName</th>\n",
       "      <th>packetNumber</th>\n",
       "      <th>temperature</th>\n",
       "      <th>brightness</th>\n",
       "      <th>humidity</th>\n",
       "      <th>onBoardTemp</th>\n",
       "    </tr>\n",
       "  </thead>\n",
       "  <tbody>\n",
       "    <tr>\n",
       "      <th>0</th>\n",
       "      <td>NaN</td>\n",
       "      <td>NaN</td>\n",
       "      <td>NaN</td>\n",
       "      <td>NaN</td>\n",
       "      <td>NaN</td>\n",
       "      <td>NaN</td>\n",
       "    </tr>\n",
       "    <tr>\n",
       "      <th>1</th>\n",
       "      <td>1</td>\n",
       "      <td>1</td>\n",
       "      <td>17</td>\n",
       "      <td>1544</td>\n",
       "      <td>61</td>\n",
       "      <td>17</td>\n",
       "    </tr>\n",
       "    <tr>\n",
       "      <th>2</th>\n",
       "      <td>NaN</td>\n",
       "      <td>NaN</td>\n",
       "      <td>NaN</td>\n",
       "      <td>NaN</td>\n",
       "      <td>NaN</td>\n",
       "      <td>NaN</td>\n",
       "    </tr>\n",
       "    <tr>\n",
       "      <th>3</th>\n",
       "      <td>NaN</td>\n",
       "      <td>NaN</td>\n",
       "      <td>NaN</td>\n",
       "      <td>NaN</td>\n",
       "      <td>NaN</td>\n",
       "      <td>NaN</td>\n",
       "    </tr>\n",
       "    <tr>\n",
       "      <th>4</th>\n",
       "      <td>NaN</td>\n",
       "      <td>NaN</td>\n",
       "      <td>NaN</td>\n",
       "      <td>NaN</td>\n",
       "      <td>NaN</td>\n",
       "      <td>NaN</td>\n",
       "    </tr>\n",
       "    <tr>\n",
       "      <th>...</th>\n",
       "      <td>...</td>\n",
       "      <td>...</td>\n",
       "      <td>...</td>\n",
       "      <td>...</td>\n",
       "      <td>...</td>\n",
       "      <td>...</td>\n",
       "    </tr>\n",
       "    <tr>\n",
       "      <th>2727</th>\n",
       "      <td>7</td>\n",
       "      <td>999</td>\n",
       "      <td>16</td>\n",
       "      <td>838</td>\n",
       "      <td>54</td>\n",
       "      <td>20</td>\n",
       "    </tr>\n",
       "    <tr>\n",
       "      <th>2728</th>\n",
       "      <td>7</td>\n",
       "      <td>1000</td>\n",
       "      <td>17</td>\n",
       "      <td>1211</td>\n",
       "      <td>54</td>\n",
       "      <td>20</td>\n",
       "    </tr>\n",
       "    <tr>\n",
       "      <th>2729</th>\n",
       "      <td>4</td>\n",
       "      <td>998</td>\n",
       "      <td>20</td>\n",
       "      <td>65535</td>\n",
       "      <td>26</td>\n",
       "      <td>31</td>\n",
       "    </tr>\n",
       "    <tr>\n",
       "      <th>2730</th>\n",
       "      <td>4</td>\n",
       "      <td>999</td>\n",
       "      <td>20</td>\n",
       "      <td>1380</td>\n",
       "      <td>26</td>\n",
       "      <td>31</td>\n",
       "    </tr>\n",
       "    <tr>\n",
       "      <th>2731</th>\n",
       "      <td>4</td>\n",
       "      <td>1000</td>\n",
       "      <td>20</td>\n",
       "      <td>1380</td>\n",
       "      <td>26</td>\n",
       "      <td>31</td>\n",
       "    </tr>\n",
       "  </tbody>\n",
       "</table>\n",
       "<p>2732 rows × 6 columns</p>\n",
       "</div>"
      ],
      "text/plain": [
       "     nodeName packetNumber temperature brightness humidity onBoardTemp\n",
       "0         NaN          NaN         NaN        NaN      NaN         NaN\n",
       "1           1            1          17       1544       61          17\n",
       "2         NaN          NaN         NaN        NaN      NaN         NaN\n",
       "3         NaN          NaN         NaN        NaN      NaN         NaN\n",
       "4         NaN          NaN         NaN        NaN      NaN         NaN\n",
       "...       ...          ...         ...        ...      ...         ...\n",
       "2727        7          999          16        838       54          20\n",
       "2728        7         1000          17       1211       54          20\n",
       "2729        4          998          20      65535       26          31\n",
       "2730        4          999          20       1380       26          31\n",
       "2731        4         1000          20       1380       26          31\n",
       "\n",
       "[2732 rows x 6 columns]"
      ]
     },
     "execution_count": 34,
     "metadata": {},
     "output_type": "execute_result"
    }
   ],
   "source": [
    "noalg_data_5_nodes[noalg_data_5_nodes.applymap(isnumber)]"
   ]
  },
  {
   "cell_type": "code",
   "execution_count": 35,
   "metadata": {},
   "outputs": [],
   "source": [
    "noalg_data_5_nodes_clean = noalg_data_5_nodes.dropna()"
   ]
  },
  {
   "cell_type": "code",
   "execution_count": 36,
   "metadata": {},
   "outputs": [
    {
     "data": {
      "text/plain": [
       "(2578, 6)"
      ]
     },
     "execution_count": 36,
     "metadata": {},
     "output_type": "execute_result"
    }
   ],
   "source": [
    "noalg_data_5_nodes_clean.shape"
   ]
  },
  {
   "cell_type": "code",
   "execution_count": 37,
   "metadata": {},
   "outputs": [],
   "source": [
    "noalg_data_5_nodes_clean.to_csv('C:\\\\Users\\\\czaps\\\\Documents\\\\MSc\\\\data_wrangling\\\\noalg_data_5_nodes_2_clean.csv', index = False, header=True)"
   ]
  },
  {
   "cell_type": "code",
   "execution_count": 37,
   "metadata": {},
   "outputs": [],
   "source": [
    "#manual cleaning of the csv req"
   ]
  },
  {
   "cell_type": "code",
   "execution_count": 38,
   "metadata": {},
   "outputs": [],
   "source": [
    "clean_noalg_data_5_nodes = pd.read_csv(\"C:\\\\Users\\\\czaps\\\\Documents\\\\MSc\\\\data_wrangling\\\\noalg_data_5_nodes_2_clean.csv\", sep=\",\")"
   ]
  },
  {
   "cell_type": "code",
   "execution_count": 39,
   "metadata": {},
   "outputs": [
    {
     "data": {
      "text/plain": [
       "(2578, 6)"
      ]
     },
     "execution_count": 39,
     "metadata": {},
     "output_type": "execute_result"
    }
   ],
   "source": [
    "clean_noalg_data_5_nodes.shape"
   ]
  },
  {
   "cell_type": "code",
   "execution_count": 40,
   "metadata": {},
   "outputs": [],
   "source": [
    "clean_noalg_data_5 = clean_noalg_data_5_nodes.dropna()"
   ]
  },
  {
   "cell_type": "code",
   "execution_count": 41,
   "metadata": {},
   "outputs": [
    {
     "data": {
      "text/plain": [
       "(2551, 6)"
      ]
     },
     "execution_count": 41,
     "metadata": {},
     "output_type": "execute_result"
    }
   ],
   "source": [
    "clean_noalg_data_5.shape"
   ]
  },
  {
   "cell_type": "code",
   "execution_count": 42,
   "metadata": {},
   "outputs": [],
   "source": [
    "final_clean_noalg_5 = clean_noalg_data_5.astype({\"nodeName\":np.int64,\"packetNumber\":np.int64,\"temperature\":np.int64,\"brightness\":np.int64,\"humidity\":np.int64,\"onBoardTemp\":np.int64})"
   ]
  },
  {
   "cell_type": "code",
   "execution_count": 65,
   "metadata": {},
   "outputs": [],
   "source": [
    "df = {'algorithm': ['RAFT', 'Paxos', 'NoAlgorithm'], \n",
    "               'goodPacketsReceived': [len(final_clean_raft_5), len(final_clean_paxos_5), len(final_clean_noalg_5)], \n",
    "               'totalPacketsReceived': [len(raft_data_5_nodes), len(paxos_data_5_nodes), len(noalg_data_5_nodes)], \n",
    "               'packetsExpected': [3800, 3800, 3800]}\n",
    "\n",
    "all_5_nodes = pd.DataFrame(df)"
   ]
  },
  {
   "cell_type": "code",
   "execution_count": 66,
   "metadata": {},
   "outputs": [],
   "source": [
    "plt.rcParams['figure.figsize'] = (15.0, 12.0)\n",
    "plt.rcParams['font.family'] = \"serif\""
   ]
  },
  {
   "cell_type": "code",
   "execution_count": 67,
   "metadata": {},
   "outputs": [
    {
     "data": {
      "image/png": "[encoded data removed]",
      "text/plain": [
       "<Figure size 1080x864 with 1 Axes>"
      ]
     },
     "metadata": {},
     "output_type": "display_data"
    }
   ],
   "source": [
    "ax = all_5_nodes.plot.bar(x='algorithm')\n",
    "plt.title('LoRa Packet Delivered in 5 Node Setup (2 fails) with Different Algorithms')\n",
    "ax.set(xlabel='', ylabel='Number of Packets Received')\n",
    "ax.set_xticklabels(ax.get_xticklabels(), rotation=0, ha=\"center\")\n",
    "for bars in ax.containers:\n",
    "    ax.bar_label(bars)\n",
    "plt.legend(loc='lower left')\n",
    "plt.savefig('C:\\\\Users\\\\czaps\\\\Documents\\\\MSc\\\\images\\\\5_nodes_2.png', bbox_inches='tight')"
   ]
  },
  {
   "cell_type": "code",
   "execution_count": 68,
   "metadata": {},
   "outputs": [
    {
     "data": {
      "image/png": "[encoded data removed]",
      "text/plain": [
       "<Figure size 1080x720 with 1 Axes>"
      ]
     },
     "metadata": {},
     "output_type": "display_data"
    }
   ],
   "source": [
    "#LoRa Packet Loss in 5 Node Setup (2 fails) with RAFT Algorithm\n",
    "plt.rcParams['figure.figsize']=(15,10)\n",
    "sns.set_theme(style=\"darkgrid\")\n",
    "ax = sns.countplot(x='nodeName', data=final_clean_raft_5)\n",
    "plt.title('LoRa Packet Loss in 5 Node Setup (2 fails) with RAFT Algorithm')\n",
    "ax.set(xlabel='Node', ylabel='Number of Packets Received')\n",
    "#for container in ax.containers:\n",
    "    #ax.bar_label(container)\n",
    "ax.bar_label(ax.containers[0])\n",
    "plt.savefig('C:\\\\Users\\\\czaps\\\\Documents\\\\MSc\\\\images\\\\5_nodes_2_RAFT.png', bbox_inches='tight')"
   ]
  },
  {
   "cell_type": "code",
   "execution_count": 69,
   "metadata": {},
   "outputs": [
    {
     "data": {
      "image/png": "[encoded data removed]",
      "text/plain": [
       "<Figure size 1080x720 with 1 Axes>"
      ]
     },
     "metadata": {},
     "output_type": "display_data"
    }
   ],
   "source": [
    "#LoRa Packet Loss in 5 Node Setup (2 fails) with Paxos Algorithm\n",
    "plt.rcParams['figure.figsize']=(15,10)\n",
    "sns.set_theme(style=\"darkgrid\")\n",
    "ax = sns.countplot(x='nodeName', data=final_clean_paxos_5)\n",
    "plt.title('LoRa Packet Loss in 5 Node Setup (2 fails) with Paxos Algorithm')\n",
    "ax.set(xlabel='Node', ylabel='Number of Packets Received')\n",
    "#for container in ax.containers:\n",
    "    #ax.bar_label(container)\n",
    "ax.bar_label(ax.containers[0])\n",
    "plt.savefig('C:\\\\Users\\\\czaps\\\\Documents\\\\MSc\\\\images\\\\5_nodes_2_Paxos.png', bbox_inches='tight')"
   ]
  },
  {
   "cell_type": "code",
   "execution_count": 70,
   "metadata": {},
   "outputs": [
    {
     "data": {
      "image/png": "[encoded data removed]",
      "text/plain": [
       "<Figure size 1080x720 with 1 Axes>"
      ]
     },
     "metadata": {},
     "output_type": "display_data"
    }
   ],
   "source": [
    "#LoRa Packet Loss in 5 Node Setup (2 fails) without Algorithms\n",
    "plt.rcParams['figure.figsize']=(15,10)\n",
    "sns.set_theme(style=\"darkgrid\")\n",
    "ax = sns.countplot(x='nodeName', data=final_clean_noalg_5)\n",
    "plt.title('LoRa Packet Loss in 5 Node Setup (2 fails) without Algorithms')\n",
    "ax.set(xlabel='Node', ylabel='Number of Packets Received')\n",
    "#for container in ax.containers:\n",
    "    #ax.bar_label(container)\n",
    "ax.bar_label(ax.containers[0])\n",
    "plt.savefig('C:\\\\Users\\\\czaps\\\\Documents\\\\MSc\\\\images\\\\5_nodes_2_noAlg_outdoor.png', bbox_inches='tight')"
   ]
  },
  {
   "cell_type": "code",
   "execution_count": 50,
   "metadata": {},
   "outputs": [],
   "source": [
    "#no alg indoor"
   ]
  },
  {
   "cell_type": "code",
   "execution_count": 51,
   "metadata": {},
   "outputs": [],
   "source": [
    "indoor_noalg_data_5_nodes = pd.read_csv(\"C:\\\\Users\\\\czaps\\\\Documents\\\\MSc\\\\experiments\\\\packet_loss\\\\control\\\\5_control_5-nodes_2-failures\\\\data.csv\", error_bad_lines=False, sep=\",\")"
   ]
  },
  {
   "cell_type": "code",
   "execution_count": 52,
   "metadata": {},
   "outputs": [
    {
     "data": {
      "text/html": [
       "<div>\n",
       "<style scoped>\n",
       "    .dataframe tbody tr th:only-of-type {\n",
       "        vertical-align: middle;\n",
       "    }\n",
       "\n",
       "    .dataframe tbody tr th {\n",
       "        vertical-align: top;\n",
       "    }\n",
       "\n",
       "    .dataframe thead th {\n",
       "        text-align: right;\n",
       "    }\n",
       "</style>\n",
       "<table border=\"1\" class=\"dataframe\">\n",
       "  <thead>\n",
       "    <tr style=\"text-align: right;\">\n",
       "      <th></th>\n",
       "      <th>nodeName</th>\n",
       "      <th>packetNumber</th>\n",
       "      <th>temperature</th>\n",
       "      <th>brightness</th>\n",
       "      <th>humidity</th>\n",
       "      <th>onBoardTemp</th>\n",
       "    </tr>\n",
       "  </thead>\n",
       "  <tbody>\n",
       "    <tr>\n",
       "      <th>0</th>\n",
       "      <td>4</td>\n",
       "      <td>1</td>\n",
       "      <td>20.0</td>\n",
       "      <td>7.0</td>\n",
       "      <td>54.0</td>\n",
       "      <td>20</td>\n",
       "    </tr>\n",
       "    <tr>\n",
       "      <th>1</th>\n",
       "      <td>4</td>\n",
       "      <td>2</td>\n",
       "      <td>20.0</td>\n",
       "      <td>7.0</td>\n",
       "      <td>54.0</td>\n",
       "      <td>20</td>\n",
       "    </tr>\n",
       "    <tr>\n",
       "      <th>2</th>\n",
       "      <td>4</td>\n",
       "      <td>3</td>\n",
       "      <td>20.0</td>\n",
       "      <td>5.0</td>\n",
       "      <td>54.0</td>\n",
       "      <td>20</td>\n",
       "    </tr>\n",
       "    <tr>\n",
       "      <th>3</th>\n",
       "      <td>NaN</td>\n",
       "      <td>NaN</td>\n",
       "      <td>NaN</td>\n",
       "      <td>NaN</td>\n",
       "      <td>NaN</td>\n",
       "      <td>NaN</td>\n",
       "    </tr>\n",
       "    <tr>\n",
       "      <th>4</th>\n",
       "      <td>4</td>\n",
       "      <td>7</td>\n",
       "      <td>20.0</td>\n",
       "      <td>6.0</td>\n",
       "      <td>54.0</td>\n",
       "      <td>20</td>\n",
       "    </tr>\n",
       "    <tr>\n",
       "      <th>...</th>\n",
       "      <td>...</td>\n",
       "      <td>...</td>\n",
       "      <td>...</td>\n",
       "      <td>...</td>\n",
       "      <td>...</td>\n",
       "      <td>...</td>\n",
       "    </tr>\n",
       "    <tr>\n",
       "      <th>2011</th>\n",
       "      <td>5</td>\n",
       "      <td>1000</td>\n",
       "      <td>28.0</td>\n",
       "      <td>73.0</td>\n",
       "      <td>37.0</td>\n",
       "      <td>26</td>\n",
       "    </tr>\n",
       "    <tr>\n",
       "      <th>2012</th>\n",
       "      <td>2</td>\n",
       "      <td>997</td>\n",
       "      <td>21.0</td>\n",
       "      <td>7.0</td>\n",
       "      <td>45.0</td>\n",
       "      <td>24</td>\n",
       "    </tr>\n",
       "    <tr>\n",
       "      <th>2013</th>\n",
       "      <td>2</td>\n",
       "      <td>998</td>\n",
       "      <td>21.0</td>\n",
       "      <td>8.0</td>\n",
       "      <td>45.0</td>\n",
       "      <td>24</td>\n",
       "    </tr>\n",
       "    <tr>\n",
       "      <th>2014</th>\n",
       "      <td>2</td>\n",
       "      <td>999</td>\n",
       "      <td>21.0</td>\n",
       "      <td>8.0</td>\n",
       "      <td>45.0</td>\n",
       "      <td>24</td>\n",
       "    </tr>\n",
       "    <tr>\n",
       "      <th>2015</th>\n",
       "      <td>2</td>\n",
       "      <td>1000</td>\n",
       "      <td>21.0</td>\n",
       "      <td>8.0</td>\n",
       "      <td>45.0</td>\n",
       "      <td>24</td>\n",
       "    </tr>\n",
       "  </tbody>\n",
       "</table>\n",
       "<p>2016 rows × 6 columns</p>\n",
       "</div>"
      ],
      "text/plain": [
       "     nodeName packetNumber  temperature  brightness  humidity onBoardTemp\n",
       "0           4            1         20.0         7.0      54.0          20\n",
       "1           4            2         20.0         7.0      54.0          20\n",
       "2           4            3         20.0         5.0      54.0          20\n",
       "3         NaN          NaN          NaN         NaN       NaN         NaN\n",
       "4           4            7         20.0         6.0      54.0          20\n",
       "...       ...          ...          ...         ...       ...         ...\n",
       "2011        5         1000         28.0        73.0      37.0          26\n",
       "2012        2          997         21.0         7.0      45.0          24\n",
       "2013        2          998         21.0         8.0      45.0          24\n",
       "2014        2          999         21.0         8.0      45.0          24\n",
       "2015        2         1000         21.0         8.0      45.0          24\n",
       "\n",
       "[2016 rows x 6 columns]"
      ]
     },
     "execution_count": 52,
     "metadata": {},
     "output_type": "execute_result"
    }
   ],
   "source": [
    "indoor_noalg_data_5_nodes[indoor_noalg_data_5_nodes.applymap(isnumber)]"
   ]
  },
  {
   "cell_type": "code",
   "execution_count": 53,
   "metadata": {},
   "outputs": [],
   "source": [
    "indoor_noalg_data_5_nodes_clean = indoor_noalg_data_5_nodes.dropna()"
   ]
  },
  {
   "cell_type": "code",
   "execution_count": 54,
   "metadata": {},
   "outputs": [
    {
     "data": {
      "text/plain": [
       "(2014, 6)"
      ]
     },
     "execution_count": 54,
     "metadata": {},
     "output_type": "execute_result"
    }
   ],
   "source": [
    "indoor_noalg_data_5_nodes_clean.shape"
   ]
  },
  {
   "cell_type": "code",
   "execution_count": 55,
   "metadata": {},
   "outputs": [],
   "source": [
    "indoor_noalg_data_5_nodes_clean.to_csv('C:\\\\Users\\\\czaps\\\\Documents\\\\MSc\\\\data_wrangling\\\\indoor_noalg_data_5_nodes_2_clean.csv', index = False, header=True)"
   ]
  },
  {
   "cell_type": "code",
   "execution_count": 56,
   "metadata": {},
   "outputs": [],
   "source": [
    "#manual cleaning of the csv req"
   ]
  },
  {
   "cell_type": "code",
   "execution_count": 57,
   "metadata": {},
   "outputs": [],
   "source": [
    "clean_indoor_noalg_data_5_nodes = pd.read_csv(\"C:\\\\Users\\\\czaps\\\\Documents\\\\MSc\\\\data_wrangling\\\\indoor_noalg_data_5_nodes_2_clean.csv\", sep=\",\")"
   ]
  },
  {
   "cell_type": "code",
   "execution_count": 58,
   "metadata": {},
   "outputs": [
    {
     "data": {
      "text/plain": [
       "(2014, 6)"
      ]
     },
     "execution_count": 58,
     "metadata": {},
     "output_type": "execute_result"
    }
   ],
   "source": [
    "clean_indoor_noalg_data_5_nodes.shape"
   ]
  },
  {
   "cell_type": "code",
   "execution_count": 59,
   "metadata": {},
   "outputs": [],
   "source": [
    "clean_indoor_noalg_data_5 = clean_indoor_noalg_data_5_nodes.dropna()"
   ]
  },
  {
   "cell_type": "code",
   "execution_count": 60,
   "metadata": {},
   "outputs": [
    {
     "data": {
      "text/plain": [
       "(2011, 6)"
      ]
     },
     "execution_count": 60,
     "metadata": {},
     "output_type": "execute_result"
    }
   ],
   "source": [
    "clean_indoor_noalg_data_5.shape"
   ]
  },
  {
   "cell_type": "code",
   "execution_count": 61,
   "metadata": {},
   "outputs": [],
   "source": [
    "final_indoor_clean_noalg_5 = clean_indoor_noalg_data_5.astype({\"nodeName\":np.int64,\"packetNumber\":np.int64,\"temperature\":np.int64,\"brightness\":np.int64,\"humidity\":np.int64,\"onBoardTemp\":np.int64})"
   ]
  },
  {
   "cell_type": "code",
   "execution_count": 71,
   "metadata": {},
   "outputs": [],
   "source": [
    "df1 = {'algorithm': ['RAFT', 'Paxos', 'NoAlgorithmOutdoor', 'NoAlgorithmIndoor'], \n",
    "               'goodPacketsReceived': [len(final_clean_raft_5), len(final_clean_paxos_5), len(final_clean_noalg_5),len(final_indoor_clean_noalg_5)], \n",
    "               'totalPacketsReceived': [len(raft_data_5_nodes), len(paxos_data_5_nodes), len(noalg_data_5_nodes),len(indoor_noalg_data_5_nodes)], \n",
    "               'packetsExpected': [3800, 3800, 3800,3800]}\n",
    "\n",
    "all_5_nodes_indoor = pd.DataFrame(df1)"
   ]
  },
  {
   "cell_type": "code",
   "execution_count": 72,
   "metadata": {},
   "outputs": [
    {
     "data": {
      "image/png": "[encoded data removed]",
      "text/plain": [
       "<Figure size 1080x720 with 1 Axes>"
      ]
     },
     "metadata": {},
     "output_type": "display_data"
    }
   ],
   "source": [
    "ax = all_5_nodes_indoor.plot.bar(x='algorithm')\n",
    "plt.title('LoRa Packet Delivered in 5 Node Setup (2 fails) with Different Algorithms')\n",
    "ax.set(xlabel='', ylabel='Number of Packets Sent')\n",
    "ax.set_xticklabels(ax.get_xticklabels(), rotation=0, ha=\"center\")\n",
    "for bars in ax.containers:\n",
    "    ax.bar_label(bars)\n",
    "plt.legend(loc='lower left')\n",
    "plt.savefig('C:\\\\Users\\\\czaps\\\\Documents\\\\MSc\\\\images\\\\5_nodes_2_indoor.png', bbox_inches='tight')"
   ]
  },
  {
   "cell_type": "code",
   "execution_count": 73,
   "metadata": {},
   "outputs": [
    {
     "data": {
      "image/png": "[encoded data removed]",
      "text/plain": [
       "<Figure size 1080x720 with 1 Axes>"
      ]
     },
     "metadata": {},
     "output_type": "display_data"
    }
   ],
   "source": [
    "#LoRa Packet Loss in 5 Node Setup (no fails) without Algorithms INDOOR\n",
    "plt.rcParams['figure.figsize']=(15,10)\n",
    "sns.set_theme(style=\"darkgrid\")\n",
    "ax = sns.countplot(x='nodeName', data=final_indoor_clean_noalg_5)\n",
    "plt.title('LoRa Packet Loss in 5 Node Setup (2 fails) without Algorithms(indoor)')\n",
    "ax.set(xlabel='Node', ylabel='Number of Packets Received')\n",
    "#for container in ax.containers:\n",
    "    #ax.bar_label(container)\n",
    "ax.bar_label(ax.containers[0])\n",
    "plt.savefig('C:\\\\Users\\\\czaps\\\\Documents\\\\MSc\\\\images\\\\5_nodes_2_noAlg_indoor.png', bbox_inches='tight')"
   ]
  },
  {
   "cell_type": "code",
   "execution_count": null,
   "metadata": {},
   "outputs": [],
   "source": []
  }
 ],
 "metadata": {
  "kernelspec": {
   "display_name": "Python 3",
   "language": "python",
   "name": "python3"
  },
  "language_info": {
   "codemirror_mode": {
    "name": "ipython",
    "version": 3
   },
   "file_extension": ".py",
   "mimetype": "text/x-python",
   "name": "python",
   "nbconvert_exporter": "python",
   "pygments_lexer": "ipython3",
   "version": "3.7.1"
  }
 },
 "nbformat": 4,
 "nbformat_minor": 4
}
