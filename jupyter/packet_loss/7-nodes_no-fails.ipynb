{
 "cells": [
  {
   "cell_type": "code",
   "execution_count": 33,
   "metadata": {},
   "outputs": [],
   "source": [
    "# Import the libraries\n",
    "import os\n",
    "import pandas as pd\n",
    "import matplotlib\n",
    "matplotlib.use(u'nbAgg')\n",
    "import matplotlib.pyplot as plt\n",
    "import seaborn as sns\n",
    "import numpy as np\n",
    "import pickle\n",
    "from sklearn.manifold import TSNE\n",
    "from sklearn import preprocessing\n",
    "import pandas as pd\n",
    "%matplotlib inline"
   ]
  },
  {
   "cell_type": "code",
   "execution_count": 34,
   "metadata": {},
   "outputs": [],
   "source": [
    "def isnumber(x):\n",
    "    try:\n",
    "        int(x)\n",
    "        return True\n",
    "    except:\n",
    "        return False"
   ]
  },
  {
   "cell_type": "code",
   "execution_count": 35,
   "metadata": {},
   "outputs": [],
   "source": [
    "raft_data_7_nodes = pd.read_csv(\"C:\\\\Users\\\\czaps\\\\Documents\\\\MSc\\\\experiments\\\\packet_loss\\\\raft_outdoor\\\\raft_7-nodes\\\\data.csv\", sep=\",\")"
   ]
  },
  {
   "cell_type": "code",
   "execution_count": 36,
   "metadata": {},
   "outputs": [
    {
     "data": {
      "text/html": [
       "<div>\n",
       "<style scoped>\n",
       "    .dataframe tbody tr th:only-of-type {\n",
       "        vertical-align: middle;\n",
       "    }\n",
       "\n",
       "    .dataframe tbody tr th {\n",
       "        vertical-align: top;\n",
       "    }\n",
       "\n",
       "    .dataframe thead th {\n",
       "        text-align: right;\n",
       "    }\n",
       "</style>\n",
       "<table border=\"1\" class=\"dataframe\">\n",
       "  <thead>\n",
       "    <tr style=\"text-align: right;\">\n",
       "      <th></th>\n",
       "      <th>nodeName</th>\n",
       "      <th>packetNumber</th>\n",
       "      <th>temperature</th>\n",
       "      <th>brightness</th>\n",
       "      <th>humidity</th>\n",
       "      <th>onBoardTemp</th>\n",
       "    </tr>\n",
       "  </thead>\n",
       "  <tbody>\n",
       "    <tr>\n",
       "      <th>0</th>\n",
       "      <td>NaN</td>\n",
       "      <td>NaN</td>\n",
       "      <td>NaN</td>\n",
       "      <td>NaN</td>\n",
       "      <td>NaN</td>\n",
       "      <td>NaN</td>\n",
       "    </tr>\n",
       "    <tr>\n",
       "      <th>1</th>\n",
       "      <td>NaN</td>\n",
       "      <td>NaN</td>\n",
       "      <td>NaN</td>\n",
       "      <td>NaN</td>\n",
       "      <td>NaN</td>\n",
       "      <td>NaN</td>\n",
       "    </tr>\n",
       "    <tr>\n",
       "      <th>2</th>\n",
       "      <td>NaN</td>\n",
       "      <td>NaN</td>\n",
       "      <td>NaN</td>\n",
       "      <td>NaN</td>\n",
       "      <td>NaN</td>\n",
       "      <td>NaN</td>\n",
       "    </tr>\n",
       "    <tr>\n",
       "      <th>3</th>\n",
       "      <td>1</td>\n",
       "      <td>2</td>\n",
       "      <td>19</td>\n",
       "      <td>364</td>\n",
       "      <td>57</td>\n",
       "      <td>19.0</td>\n",
       "    </tr>\n",
       "    <tr>\n",
       "      <th>4</th>\n",
       "      <td>2</td>\n",
       "      <td>1</td>\n",
       "      <td>18</td>\n",
       "      <td>241</td>\n",
       "      <td>56</td>\n",
       "      <td>19.0</td>\n",
       "    </tr>\n",
       "    <tr>\n",
       "      <th>...</th>\n",
       "      <td>...</td>\n",
       "      <td>...</td>\n",
       "      <td>...</td>\n",
       "      <td>...</td>\n",
       "      <td>...</td>\n",
       "      <td>...</td>\n",
       "    </tr>\n",
       "    <tr>\n",
       "      <th>6867</th>\n",
       "      <td>4</td>\n",
       "      <td>996</td>\n",
       "      <td>22</td>\n",
       "      <td>1394</td>\n",
       "      <td>33</td>\n",
       "      <td>26.0</td>\n",
       "    </tr>\n",
       "    <tr>\n",
       "      <th>6868</th>\n",
       "      <td>5</td>\n",
       "      <td>1000</td>\n",
       "      <td>23</td>\n",
       "      <td>652</td>\n",
       "      <td>37</td>\n",
       "      <td>25.0</td>\n",
       "    </tr>\n",
       "    <tr>\n",
       "      <th>6869</th>\n",
       "      <td>6</td>\n",
       "      <td>1000</td>\n",
       "      <td>20</td>\n",
       "      <td>65535</td>\n",
       "      <td>33</td>\n",
       "      <td>26.0</td>\n",
       "    </tr>\n",
       "    <tr>\n",
       "      <th>6870</th>\n",
       "      <td>7</td>\n",
       "      <td>999</td>\n",
       "      <td>23</td>\n",
       "      <td>955</td>\n",
       "      <td>33</td>\n",
       "      <td>25.0</td>\n",
       "    </tr>\n",
       "    <tr>\n",
       "      <th>6871</th>\n",
       "      <td>7</td>\n",
       "      <td>1000</td>\n",
       "      <td>23</td>\n",
       "      <td>952</td>\n",
       "      <td>34</td>\n",
       "      <td>25.0</td>\n",
       "    </tr>\n",
       "  </tbody>\n",
       "</table>\n",
       "<p>6872 rows × 6 columns</p>\n",
       "</div>"
      ],
      "text/plain": [
       "     nodeName packetNumber temperature brightness humidity  onBoardTemp\n",
       "0         NaN          NaN         NaN        NaN      NaN          NaN\n",
       "1         NaN          NaN         NaN        NaN      NaN          NaN\n",
       "2         NaN          NaN         NaN        NaN      NaN          NaN\n",
       "3           1            2          19        364       57         19.0\n",
       "4           2            1          18        241       56         19.0\n",
       "...       ...          ...         ...        ...      ...          ...\n",
       "6867        4          996          22       1394       33         26.0\n",
       "6868        5         1000          23        652       37         25.0\n",
       "6869        6         1000          20      65535       33         26.0\n",
       "6870        7          999          23        955       33         25.0\n",
       "6871        7         1000          23        952       34         25.0\n",
       "\n",
       "[6872 rows x 6 columns]"
      ]
     },
     "execution_count": 36,
     "metadata": {},
     "output_type": "execute_result"
    }
   ],
   "source": [
    "raft_data_7_nodes[raft_data_7_nodes.applymap(isnumber)]"
   ]
  },
  {
   "cell_type": "code",
   "execution_count": 37,
   "metadata": {},
   "outputs": [],
   "source": [
    "paxos_data_7_nodes = pd.read_csv(\"C:\\\\Users\\\\czaps\\\\Documents\\\\MSc\\\\experiments\\\\packet_loss\\\\paxos_outdoor\\\\paxos_7-nodes\\\\data.csv\", sep=\",\")"
   ]
  },
  {
   "cell_type": "code",
   "execution_count": 38,
   "metadata": {},
   "outputs": [
    {
     "name": "stderr",
     "output_type": "stream",
     "text": [
      "b'Skipping line 198: expected 6 fields, saw 7\\n'\n"
     ]
    }
   ],
   "source": [
    "noalg_data_7_nodes = pd.read_csv(\"C:\\\\Users\\\\czaps\\\\Documents\\\\MSc\\\\experiments\\\\packet_loss\\\\control_outdoor\\\\outdoor_control_7-nodes\\\\data.csv\", error_bad_lines=False, sep=\",\")"
   ]
  },
  {
   "cell_type": "code",
   "execution_count": 39,
   "metadata": {},
   "outputs": [
    {
     "name": "stdout",
     "output_type": "stream",
     "text": [
      "<class 'pandas.core.frame.DataFrame'>\n",
      "RangeIndex: 6872 entries, 0 to 6871\n",
      "Data columns (total 6 columns):\n",
      " #   Column        Non-Null Count  Dtype  \n",
      "---  ------        --------------  -----  \n",
      " 0   nodeName      6872 non-null   object \n",
      " 1   packetNumber  6867 non-null   object \n",
      " 2   temperature   6867 non-null   object \n",
      " 3   brightness    6867 non-null   object \n",
      " 4   humidity      6865 non-null   object \n",
      " 5   onBoardTemp   6854 non-null   float64\n",
      "dtypes: float64(1), object(5)\n",
      "memory usage: 322.2+ KB\n"
     ]
    }
   ],
   "source": [
    "raft_data_7_nodes.info()"
   ]
  },
  {
   "cell_type": "code",
   "execution_count": 40,
   "metadata": {},
   "outputs": [
    {
     "data": {
      "text/plain": [
       "(6872, 6)"
      ]
     },
     "execution_count": 40,
     "metadata": {},
     "output_type": "execute_result"
    }
   ],
   "source": [
    "raft_data_7_nodes.shape"
   ]
  },
  {
   "cell_type": "code",
   "execution_count": 41,
   "metadata": {},
   "outputs": [
    {
     "name": "stdout",
     "output_type": "stream",
     "text": [
      "<class 'pandas.core.frame.DataFrame'>\n",
      "RangeIndex: 6689 entries, 0 to 6688\n",
      "Data columns (total 6 columns):\n",
      " #   Column        Non-Null Count  Dtype \n",
      "---  ------        --------------  ----- \n",
      " 0   nodeName      6689 non-null   object\n",
      " 1   packetNumber  6682 non-null   object\n",
      " 2   temperature   6682 non-null   object\n",
      " 3   brightness    6682 non-null   object\n",
      " 4   humidity      6682 non-null   object\n",
      " 5   onBoardTemp   6678 non-null   object\n",
      "dtypes: object(6)\n",
      "memory usage: 313.7+ KB\n"
     ]
    }
   ],
   "source": [
    "paxos_data_7_nodes.info()"
   ]
  },
  {
   "cell_type": "code",
   "execution_count": 42,
   "metadata": {},
   "outputs": [
    {
     "data": {
      "text/plain": [
       "(6689, 6)"
      ]
     },
     "execution_count": 42,
     "metadata": {},
     "output_type": "execute_result"
    }
   ],
   "source": [
    "paxos_data_7_nodes.shape"
   ]
  },
  {
   "cell_type": "code",
   "execution_count": 43,
   "metadata": {},
   "outputs": [
    {
     "name": "stdout",
     "output_type": "stream",
     "text": [
      "<class 'pandas.core.frame.DataFrame'>\n",
      "RangeIndex: 3541 entries, 0 to 3540\n",
      "Data columns (total 6 columns):\n",
      " #   Column        Non-Null Count  Dtype \n",
      "---  ------        --------------  ----- \n",
      " 0   nodeName      3541 non-null   object\n",
      " 1   packetNumber  3498 non-null   object\n",
      " 2   temperature   3450 non-null   object\n",
      " 3   brightness    3408 non-null   object\n",
      " 4   humidity      3354 non-null   object\n",
      " 5   onBoardTemp   3289 non-null   object\n",
      "dtypes: object(6)\n",
      "memory usage: 166.1+ KB\n"
     ]
    }
   ],
   "source": [
    "noalg_data_7_nodes.info()"
   ]
  },
  {
   "cell_type": "code",
   "execution_count": 44,
   "metadata": {},
   "outputs": [
    {
     "data": {
      "text/plain": [
       "(3541, 6)"
      ]
     },
     "execution_count": 44,
     "metadata": {},
     "output_type": "execute_result"
    }
   ],
   "source": [
    "noalg_data_7_nodes.shape"
   ]
  },
  {
   "cell_type": "code",
   "execution_count": 45,
   "metadata": {},
   "outputs": [],
   "source": [
    "#RAFT"
   ]
  },
  {
   "cell_type": "code",
   "execution_count": 46,
   "metadata": {},
   "outputs": [
    {
     "data": {
      "text/html": [
       "<div>\n",
       "<style scoped>\n",
       "    .dataframe tbody tr th:only-of-type {\n",
       "        vertical-align: middle;\n",
       "    }\n",
       "\n",
       "    .dataframe tbody tr th {\n",
       "        vertical-align: top;\n",
       "    }\n",
       "\n",
       "    .dataframe thead th {\n",
       "        text-align: right;\n",
       "    }\n",
       "</style>\n",
       "<table border=\"1\" class=\"dataframe\">\n",
       "  <thead>\n",
       "    <tr style=\"text-align: right;\">\n",
       "      <th></th>\n",
       "      <th>nodeName</th>\n",
       "      <th>packetNumber</th>\n",
       "      <th>temperature</th>\n",
       "      <th>brightness</th>\n",
       "      <th>humidity</th>\n",
       "      <th>onBoardTemp</th>\n",
       "    </tr>\n",
       "  </thead>\n",
       "  <tbody>\n",
       "    <tr>\n",
       "      <th>0</th>\n",
       "      <td>NaN</td>\n",
       "      <td>NaN</td>\n",
       "      <td>NaN</td>\n",
       "      <td>NaN</td>\n",
       "      <td>NaN</td>\n",
       "      <td>NaN</td>\n",
       "    </tr>\n",
       "    <tr>\n",
       "      <th>1</th>\n",
       "      <td>NaN</td>\n",
       "      <td>NaN</td>\n",
       "      <td>NaN</td>\n",
       "      <td>NaN</td>\n",
       "      <td>NaN</td>\n",
       "      <td>NaN</td>\n",
       "    </tr>\n",
       "    <tr>\n",
       "      <th>2</th>\n",
       "      <td>NaN</td>\n",
       "      <td>NaN</td>\n",
       "      <td>NaN</td>\n",
       "      <td>NaN</td>\n",
       "      <td>NaN</td>\n",
       "      <td>NaN</td>\n",
       "    </tr>\n",
       "    <tr>\n",
       "      <th>3</th>\n",
       "      <td>1</td>\n",
       "      <td>2</td>\n",
       "      <td>19</td>\n",
       "      <td>364</td>\n",
       "      <td>57</td>\n",
       "      <td>19.0</td>\n",
       "    </tr>\n",
       "    <tr>\n",
       "      <th>4</th>\n",
       "      <td>2</td>\n",
       "      <td>1</td>\n",
       "      <td>18</td>\n",
       "      <td>241</td>\n",
       "      <td>56</td>\n",
       "      <td>19.0</td>\n",
       "    </tr>\n",
       "    <tr>\n",
       "      <th>...</th>\n",
       "      <td>...</td>\n",
       "      <td>...</td>\n",
       "      <td>...</td>\n",
       "      <td>...</td>\n",
       "      <td>...</td>\n",
       "      <td>...</td>\n",
       "    </tr>\n",
       "    <tr>\n",
       "      <th>6867</th>\n",
       "      <td>4</td>\n",
       "      <td>996</td>\n",
       "      <td>22</td>\n",
       "      <td>1394</td>\n",
       "      <td>33</td>\n",
       "      <td>26.0</td>\n",
       "    </tr>\n",
       "    <tr>\n",
       "      <th>6868</th>\n",
       "      <td>5</td>\n",
       "      <td>1000</td>\n",
       "      <td>23</td>\n",
       "      <td>652</td>\n",
       "      <td>37</td>\n",
       "      <td>25.0</td>\n",
       "    </tr>\n",
       "    <tr>\n",
       "      <th>6869</th>\n",
       "      <td>6</td>\n",
       "      <td>1000</td>\n",
       "      <td>20</td>\n",
       "      <td>65535</td>\n",
       "      <td>33</td>\n",
       "      <td>26.0</td>\n",
       "    </tr>\n",
       "    <tr>\n",
       "      <th>6870</th>\n",
       "      <td>7</td>\n",
       "      <td>999</td>\n",
       "      <td>23</td>\n",
       "      <td>955</td>\n",
       "      <td>33</td>\n",
       "      <td>25.0</td>\n",
       "    </tr>\n",
       "    <tr>\n",
       "      <th>6871</th>\n",
       "      <td>7</td>\n",
       "      <td>1000</td>\n",
       "      <td>23</td>\n",
       "      <td>952</td>\n",
       "      <td>34</td>\n",
       "      <td>25.0</td>\n",
       "    </tr>\n",
       "  </tbody>\n",
       "</table>\n",
       "<p>6872 rows × 6 columns</p>\n",
       "</div>"
      ],
      "text/plain": [
       "     nodeName packetNumber temperature brightness humidity  onBoardTemp\n",
       "0         NaN          NaN         NaN        NaN      NaN          NaN\n",
       "1         NaN          NaN         NaN        NaN      NaN          NaN\n",
       "2         NaN          NaN         NaN        NaN      NaN          NaN\n",
       "3           1            2          19        364       57         19.0\n",
       "4           2            1          18        241       56         19.0\n",
       "...       ...          ...         ...        ...      ...          ...\n",
       "6867        4          996          22       1394       33         26.0\n",
       "6868        5         1000          23        652       37         25.0\n",
       "6869        6         1000          20      65535       33         26.0\n",
       "6870        7          999          23        955       33         25.0\n",
       "6871        7         1000          23        952       34         25.0\n",
       "\n",
       "[6872 rows x 6 columns]"
      ]
     },
     "execution_count": 46,
     "metadata": {},
     "output_type": "execute_result"
    }
   ],
   "source": [
    "raft_data_7_nodes[raft_data_7_nodes.applymap(isnumber)]"
   ]
  },
  {
   "cell_type": "code",
   "execution_count": 47,
   "metadata": {},
   "outputs": [],
   "source": [
    "raft_data_7_nodes_clean = raft_data_7_nodes.dropna()"
   ]
  },
  {
   "cell_type": "code",
   "execution_count": 48,
   "metadata": {},
   "outputs": [
    {
     "data": {
      "text/plain": [
       "(6854, 6)"
      ]
     },
     "execution_count": 48,
     "metadata": {},
     "output_type": "execute_result"
    }
   ],
   "source": [
    "raft_data_7_nodes_clean.shape"
   ]
  },
  {
   "cell_type": "code",
   "execution_count": 49,
   "metadata": {},
   "outputs": [],
   "source": [
    "raft_data_7_nodes_clean.to_csv('C:\\\\Users\\\\czaps\\\\Documents\\\\MSc\\\\data_wrangling\\\\raft_data_7_nodes_clean.csv', index = False, header=True)"
   ]
  },
  {
   "cell_type": "code",
   "execution_count": 62,
   "metadata": {},
   "outputs": [],
   "source": [
    "#manual cleaning of the csv req"
   ]
  },
  {
   "cell_type": "code",
   "execution_count": 64,
   "metadata": {},
   "outputs": [],
   "source": [
    "clean_raft_data_7_nodes = pd.read_csv(\"C:\\\\Users\\\\czaps\\\\Documents\\\\MSc\\\\data_wrangling\\\\raft_data_7_nodes_clean.csv\", sep=\",\")"
   ]
  },
  {
   "cell_type": "code",
   "execution_count": 65,
   "metadata": {},
   "outputs": [],
   "source": [
    "clean_raft_data_7 = clean_raft_data_7_nodes.dropna()"
   ]
  },
  {
   "cell_type": "code",
   "execution_count": 67,
   "metadata": {},
   "outputs": [],
   "source": [
    "final_clean_raft_7 = clean_raft_data_7.astype({\"nodeName\":np.int64,\"packetNumber\":np.int64,\"temperature\":np.int64,\"brightness\":np.int64,\"humidity\":np.int64,\"onBoardTemp\":np.int64})"
   ]
  },
  {
   "cell_type": "code",
   "execution_count": 68,
   "metadata": {},
   "outputs": [
    {
     "name": "stdout",
     "output_type": "stream",
     "text": [
      "<class 'pandas.core.frame.DataFrame'>\n",
      "Int64Index: 6848 entries, 0 to 6853\n",
      "Data columns (total 6 columns):\n",
      " #   Column        Non-Null Count  Dtype\n",
      "---  ------        --------------  -----\n",
      " 0   nodeName      6848 non-null   int64\n",
      " 1   packetNumber  6848 non-null   int64\n",
      " 2   temperature   6848 non-null   int64\n",
      " 3   brightness    6848 non-null   int64\n",
      " 4   humidity      6848 non-null   int64\n",
      " 5   onBoardTemp   6848 non-null   int64\n",
      "dtypes: int64(6)\n",
      "memory usage: 374.5 KB\n"
     ]
    }
   ],
   "source": [
    "final_clean_raft_7.info()"
   ]
  },
  {
   "cell_type": "code",
   "execution_count": 51,
   "metadata": {},
   "outputs": [],
   "source": [
    "#PAXOS"
   ]
  },
  {
   "cell_type": "code",
   "execution_count": 52,
   "metadata": {},
   "outputs": [
    {
     "data": {
      "text/html": [
       "<div>\n",
       "<style scoped>\n",
       "    .dataframe tbody tr th:only-of-type {\n",
       "        vertical-align: middle;\n",
       "    }\n",
       "\n",
       "    .dataframe tbody tr th {\n",
       "        vertical-align: top;\n",
       "    }\n",
       "\n",
       "    .dataframe thead th {\n",
       "        text-align: right;\n",
       "    }\n",
       "</style>\n",
       "<table border=\"1\" class=\"dataframe\">\n",
       "  <thead>\n",
       "    <tr style=\"text-align: right;\">\n",
       "      <th></th>\n",
       "      <th>nodeName</th>\n",
       "      <th>packetNumber</th>\n",
       "      <th>temperature</th>\n",
       "      <th>brightness</th>\n",
       "      <th>humidity</th>\n",
       "      <th>onBoardTemp</th>\n",
       "    </tr>\n",
       "  </thead>\n",
       "  <tbody>\n",
       "    <tr>\n",
       "      <th>0</th>\n",
       "      <td>NaN</td>\n",
       "      <td>NaN</td>\n",
       "      <td>NaN</td>\n",
       "      <td>NaN</td>\n",
       "      <td>NaN</td>\n",
       "      <td>NaN</td>\n",
       "    </tr>\n",
       "    <tr>\n",
       "      <th>1</th>\n",
       "      <td>NaN</td>\n",
       "      <td>NaN</td>\n",
       "      <td>NaN</td>\n",
       "      <td>NaN</td>\n",
       "      <td>NaN</td>\n",
       "      <td>NaN</td>\n",
       "    </tr>\n",
       "    <tr>\n",
       "      <th>2</th>\n",
       "      <td>NaN</td>\n",
       "      <td>NaN</td>\n",
       "      <td>NaN</td>\n",
       "      <td>NaN</td>\n",
       "      <td>NaN</td>\n",
       "      <td>NaN</td>\n",
       "    </tr>\n",
       "    <tr>\n",
       "      <th>3</th>\n",
       "      <td>5</td>\n",
       "      <td>1</td>\n",
       "      <td>24</td>\n",
       "      <td>152</td>\n",
       "      <td>45</td>\n",
       "      <td>24</td>\n",
       "    </tr>\n",
       "    <tr>\n",
       "      <th>4</th>\n",
       "      <td>6</td>\n",
       "      <td>1</td>\n",
       "      <td>22</td>\n",
       "      <td>747</td>\n",
       "      <td>43</td>\n",
       "      <td>24</td>\n",
       "    </tr>\n",
       "    <tr>\n",
       "      <th>...</th>\n",
       "      <td>...</td>\n",
       "      <td>...</td>\n",
       "      <td>...</td>\n",
       "      <td>...</td>\n",
       "      <td>...</td>\n",
       "      <td>...</td>\n",
       "    </tr>\n",
       "    <tr>\n",
       "      <th>6684</th>\n",
       "      <td>3</td>\n",
       "      <td>999</td>\n",
       "      <td>21</td>\n",
       "      <td>0</td>\n",
       "      <td>48</td>\n",
       "      <td>22</td>\n",
       "    </tr>\n",
       "    <tr>\n",
       "      <th>6685</th>\n",
       "      <td>5</td>\n",
       "      <td>989</td>\n",
       "      <td>22</td>\n",
       "      <td>0</td>\n",
       "      <td>42</td>\n",
       "      <td>23</td>\n",
       "    </tr>\n",
       "    <tr>\n",
       "      <th>6686</th>\n",
       "      <td>6</td>\n",
       "      <td>998</td>\n",
       "      <td>20</td>\n",
       "      <td>3</td>\n",
       "      <td>42</td>\n",
       "      <td>23</td>\n",
       "    </tr>\n",
       "    <tr>\n",
       "      <th>6687</th>\n",
       "      <td>2</td>\n",
       "      <td>1000</td>\n",
       "      <td>22</td>\n",
       "      <td>0</td>\n",
       "      <td>40</td>\n",
       "      <td>23</td>\n",
       "    </tr>\n",
       "    <tr>\n",
       "      <th>6688</th>\n",
       "      <td>3</td>\n",
       "      <td>1000</td>\n",
       "      <td>21</td>\n",
       "      <td>0</td>\n",
       "      <td>48</td>\n",
       "      <td>22</td>\n",
       "    </tr>\n",
       "  </tbody>\n",
       "</table>\n",
       "<p>6689 rows × 6 columns</p>\n",
       "</div>"
      ],
      "text/plain": [
       "     nodeName packetNumber temperature brightness humidity onBoardTemp\n",
       "0         NaN          NaN         NaN        NaN      NaN         NaN\n",
       "1         NaN          NaN         NaN        NaN      NaN         NaN\n",
       "2         NaN          NaN         NaN        NaN      NaN         NaN\n",
       "3           5            1          24        152       45          24\n",
       "4           6            1          22        747       43          24\n",
       "...       ...          ...         ...        ...      ...         ...\n",
       "6684        3          999          21          0       48          22\n",
       "6685        5          989          22          0       42          23\n",
       "6686        6          998          20          3       42          23\n",
       "6687        2         1000          22          0       40          23\n",
       "6688        3         1000          21          0       48          22\n",
       "\n",
       "[6689 rows x 6 columns]"
      ]
     },
     "execution_count": 52,
     "metadata": {},
     "output_type": "execute_result"
    }
   ],
   "source": [
    "paxos_data_7_nodes[paxos_data_7_nodes.applymap(isnumber)]"
   ]
  },
  {
   "cell_type": "code",
   "execution_count": 53,
   "metadata": {},
   "outputs": [],
   "source": [
    "paxos_data_7_nodes_clean = paxos_data_7_nodes.dropna()"
   ]
  },
  {
   "cell_type": "code",
   "execution_count": 54,
   "metadata": {},
   "outputs": [
    {
     "data": {
      "text/plain": [
       "(6678, 6)"
      ]
     },
     "execution_count": 54,
     "metadata": {},
     "output_type": "execute_result"
    }
   ],
   "source": [
    "paxos_data_7_nodes_clean.shape"
   ]
  },
  {
   "cell_type": "code",
   "execution_count": 55,
   "metadata": {},
   "outputs": [],
   "source": [
    "paxos_data_7_nodes_clean.to_csv('C:\\\\Users\\\\czaps\\\\Documents\\\\MSc\\\\data_wrangling\\\\paxos_data_7_nodes_clean.csv', index = False, header=True)"
   ]
  },
  {
   "cell_type": "code",
   "execution_count": 69,
   "metadata": {},
   "outputs": [],
   "source": [
    "#manual cleaning of the csv req"
   ]
  },
  {
   "cell_type": "code",
   "execution_count": 70,
   "metadata": {},
   "outputs": [],
   "source": [
    "clean_paxos_data_7_nodes = pd.read_csv(\"C:\\\\Users\\\\czaps\\\\Documents\\\\MSc\\\\data_wrangling\\\\paxos_data_7_nodes_clean.csv\", sep=\",\")"
   ]
  },
  {
   "cell_type": "code",
   "execution_count": 71,
   "metadata": {},
   "outputs": [
    {
     "data": {
      "text/plain": [
       "(6678, 6)"
      ]
     },
     "execution_count": 71,
     "metadata": {},
     "output_type": "execute_result"
    }
   ],
   "source": [
    "clean_paxos_data_7_nodes.shape"
   ]
  },
  {
   "cell_type": "code",
   "execution_count": 72,
   "metadata": {},
   "outputs": [],
   "source": [
    "clean_paxos_data_7 = clean_paxos_data_7_nodes.dropna()"
   ]
  },
  {
   "cell_type": "code",
   "execution_count": 73,
   "metadata": {},
   "outputs": [
    {
     "data": {
      "text/plain": [
       "(6671, 6)"
      ]
     },
     "execution_count": 73,
     "metadata": {},
     "output_type": "execute_result"
    }
   ],
   "source": [
    "clean_paxos_data_7.shape"
   ]
  },
  {
   "cell_type": "code",
   "execution_count": 74,
   "metadata": {},
   "outputs": [],
   "source": [
    "final_clean_paxos_7 = clean_paxos_data_7.astype({\"nodeName\":np.int64,\"packetNumber\":np.int64,\"temperature\":np.int64,\"brightness\":np.int64,\"humidity\":np.int64,\"onBoardTemp\":np.int64})"
   ]
  },
  {
   "cell_type": "code",
   "execution_count": 57,
   "metadata": {},
   "outputs": [],
   "source": [
    "#NO ALG"
   ]
  },
  {
   "cell_type": "code",
   "execution_count": 58,
   "metadata": {},
   "outputs": [
    {
     "data": {
      "text/html": [
       "<div>\n",
       "<style scoped>\n",
       "    .dataframe tbody tr th:only-of-type {\n",
       "        vertical-align: middle;\n",
       "    }\n",
       "\n",
       "    .dataframe tbody tr th {\n",
       "        vertical-align: top;\n",
       "    }\n",
       "\n",
       "    .dataframe thead th {\n",
       "        text-align: right;\n",
       "    }\n",
       "</style>\n",
       "<table border=\"1\" class=\"dataframe\">\n",
       "  <thead>\n",
       "    <tr style=\"text-align: right;\">\n",
       "      <th></th>\n",
       "      <th>nodeName</th>\n",
       "      <th>packetNumber</th>\n",
       "      <th>temperature</th>\n",
       "      <th>brightness</th>\n",
       "      <th>humidity</th>\n",
       "      <th>onBoardTemp</th>\n",
       "    </tr>\n",
       "  </thead>\n",
       "  <tbody>\n",
       "    <tr>\n",
       "      <th>0</th>\n",
       "      <td>NaN</td>\n",
       "      <td>NaN</td>\n",
       "      <td>NaN</td>\n",
       "      <td>NaN</td>\n",
       "      <td>NaN</td>\n",
       "      <td>NaN</td>\n",
       "    </tr>\n",
       "    <tr>\n",
       "      <th>1</th>\n",
       "      <td>NaN</td>\n",
       "      <td>NaN</td>\n",
       "      <td>NaN</td>\n",
       "      <td>NaN</td>\n",
       "      <td>NaN</td>\n",
       "      <td>NaN</td>\n",
       "    </tr>\n",
       "    <tr>\n",
       "      <th>2</th>\n",
       "      <td>NaN</td>\n",
       "      <td>NaN</td>\n",
       "      <td>NaN</td>\n",
       "      <td>NaN</td>\n",
       "      <td>NaN</td>\n",
       "      <td>NaN</td>\n",
       "    </tr>\n",
       "    <tr>\n",
       "      <th>3</th>\n",
       "      <td>NaN</td>\n",
       "      <td>NaN</td>\n",
       "      <td>NaN</td>\n",
       "      <td>NaN</td>\n",
       "      <td>NaN</td>\n",
       "      <td>NaN</td>\n",
       "    </tr>\n",
       "    <tr>\n",
       "      <th>4</th>\n",
       "      <td>NaN</td>\n",
       "      <td>NaN</td>\n",
       "      <td>NaN</td>\n",
       "      <td>NaN</td>\n",
       "      <td>NaN</td>\n",
       "      <td>NaN</td>\n",
       "    </tr>\n",
       "    <tr>\n",
       "      <th>...</th>\n",
       "      <td>...</td>\n",
       "      <td>...</td>\n",
       "      <td>...</td>\n",
       "      <td>...</td>\n",
       "      <td>...</td>\n",
       "      <td>...</td>\n",
       "    </tr>\n",
       "    <tr>\n",
       "      <th>3536</th>\n",
       "      <td>7</td>\n",
       "      <td>996</td>\n",
       "      <td>16</td>\n",
       "      <td>72</td>\n",
       "      <td>58</td>\n",
       "      <td>17</td>\n",
       "    </tr>\n",
       "    <tr>\n",
       "      <th>3537</th>\n",
       "      <td>7</td>\n",
       "      <td>997</td>\n",
       "      <td>16</td>\n",
       "      <td>66</td>\n",
       "      <td>58</td>\n",
       "      <td>17</td>\n",
       "    </tr>\n",
       "    <tr>\n",
       "      <th>3538</th>\n",
       "      <td>7</td>\n",
       "      <td>998</td>\n",
       "      <td>16</td>\n",
       "      <td>66</td>\n",
       "      <td>59</td>\n",
       "      <td>17</td>\n",
       "    </tr>\n",
       "    <tr>\n",
       "      <th>3539</th>\n",
       "      <td>7</td>\n",
       "      <td>999</td>\n",
       "      <td>16</td>\n",
       "      <td>66</td>\n",
       "      <td>59</td>\n",
       "      <td>17</td>\n",
       "    </tr>\n",
       "    <tr>\n",
       "      <th>3540</th>\n",
       "      <td>7</td>\n",
       "      <td>1000</td>\n",
       "      <td>16</td>\n",
       "      <td>66</td>\n",
       "      <td>59</td>\n",
       "      <td>17</td>\n",
       "    </tr>\n",
       "  </tbody>\n",
       "</table>\n",
       "<p>3541 rows × 6 columns</p>\n",
       "</div>"
      ],
      "text/plain": [
       "     nodeName packetNumber temperature brightness humidity onBoardTemp\n",
       "0         NaN          NaN         NaN        NaN      NaN         NaN\n",
       "1         NaN          NaN         NaN        NaN      NaN         NaN\n",
       "2         NaN          NaN         NaN        NaN      NaN         NaN\n",
       "3         NaN          NaN         NaN        NaN      NaN         NaN\n",
       "4         NaN          NaN         NaN        NaN      NaN         NaN\n",
       "...       ...          ...         ...        ...      ...         ...\n",
       "3536        7          996          16         72       58          17\n",
       "3537        7          997          16         66       58          17\n",
       "3538        7          998          16         66       59          17\n",
       "3539        7          999          16         66       59          17\n",
       "3540        7         1000          16         66       59          17\n",
       "\n",
       "[3541 rows x 6 columns]"
      ]
     },
     "execution_count": 58,
     "metadata": {},
     "output_type": "execute_result"
    }
   ],
   "source": [
    "noalg_data_7_nodes[noalg_data_7_nodes.applymap(isnumber)]"
   ]
  },
  {
   "cell_type": "code",
   "execution_count": 59,
   "metadata": {},
   "outputs": [],
   "source": [
    "noalg_data_7_nodes_clean = noalg_data_7_nodes.dropna()"
   ]
  },
  {
   "cell_type": "code",
   "execution_count": 60,
   "metadata": {},
   "outputs": [
    {
     "data": {
      "text/plain": [
       "(3289, 6)"
      ]
     },
     "execution_count": 60,
     "metadata": {},
     "output_type": "execute_result"
    }
   ],
   "source": [
    "noalg_data_7_nodes_clean.shape"
   ]
  },
  {
   "cell_type": "code",
   "execution_count": 61,
   "metadata": {},
   "outputs": [],
   "source": [
    "noalg_data_7_nodes_clean.to_csv('C:\\\\Users\\\\czaps\\\\Documents\\\\MSc\\\\data_wrangling\\\\noalg_data_7_nodes_clean.csv', index = False, header=True)"
   ]
  },
  {
   "cell_type": "code",
   "execution_count": 75,
   "metadata": {},
   "outputs": [],
   "source": [
    "#manual cleaning of the csv req"
   ]
  },
  {
   "cell_type": "code",
   "execution_count": 76,
   "metadata": {},
   "outputs": [],
   "source": [
    "clean_noalg_data_7_nodes = pd.read_csv(\"C:\\\\Users\\\\czaps\\\\Documents\\\\MSc\\\\data_wrangling\\\\noalg_data_7_nodes_clean.csv\", sep=\",\")"
   ]
  },
  {
   "cell_type": "code",
   "execution_count": 77,
   "metadata": {},
   "outputs": [
    {
     "data": {
      "text/plain": [
       "(3289, 6)"
      ]
     },
     "execution_count": 77,
     "metadata": {},
     "output_type": "execute_result"
    }
   ],
   "source": [
    "clean_noalg_data_7_nodes.shape"
   ]
  },
  {
   "cell_type": "code",
   "execution_count": 78,
   "metadata": {},
   "outputs": [],
   "source": [
    "clean_noalg_data_7 = clean_noalg_data_7_nodes.dropna()"
   ]
  },
  {
   "cell_type": "code",
   "execution_count": 79,
   "metadata": {},
   "outputs": [
    {
     "data": {
      "text/plain": [
       "(3258, 6)"
      ]
     },
     "execution_count": 79,
     "metadata": {},
     "output_type": "execute_result"
    }
   ],
   "source": [
    "clean_noalg_data_7.shape"
   ]
  },
  {
   "cell_type": "code",
   "execution_count": 80,
   "metadata": {},
   "outputs": [],
   "source": [
    "final_clean_noalg_7 = clean_noalg_data_7.astype({\"nodeName\":np.int64,\"packetNumber\":np.int64,\"temperature\":np.int64,\"brightness\":np.int64,\"humidity\":np.int64,\"onBoardTemp\":np.int64})"
   ]
  },
  {
   "cell_type": "code",
   "execution_count": 132,
   "metadata": {},
   "outputs": [],
   "source": [
    "df = {'algorithm': ['RAFT', 'Paxos', 'NoAlgorithm'], \n",
    "               'goodPacketsReceived': [len(final_clean_raft_7), len(final_clean_paxos_7), len(final_clean_noalg_7)], \n",
    "               'totalPacketsReceived': [len(raft_data_7_nodes), len(paxos_data_7_nodes), len(noalg_data_7_nodes)], \n",
    "               'packetsExpected': [7000, 7000, 7000]}\n",
    "\n",
    "all_7_nodes = pd.DataFrame(df)"
   ]
  },
  {
   "cell_type": "code",
   "execution_count": 133,
   "metadata": {},
   "outputs": [],
   "source": [
    "plt.rcParams['figure.figsize'] = (15.0, 12.0)\n",
    "plt.rcParams['font.family'] = \"serif\""
   ]
  },
  {
   "cell_type": "code",
   "execution_count": 142,
   "metadata": {},
   "outputs": [
    {
     "data": {
      "image/png": "[encoded data removed]",
      "text/plain": [
       "<Figure size 1080x864 with 1 Axes>"
      ]
     },
     "metadata": {},
     "output_type": "display_data"
    }
   ],
   "source": [
    "ax = all_7_nodes.plot.bar(x='algorithm')\n",
    "plt.title('LoRa Packet Delivered in 7 Node Setup (no fails) with Different Algorithms')\n",
    "ax.set(xlabel='', ylabel='Number of Packets Sent')\n",
    "ax.set_xticklabels(ax.get_xticklabels(), rotation=0, ha=\"center\")\n",
    "for bars in ax.containers:\n",
    "    ax.bar_label(bars)\n",
    "plt.legend(loc='lower left')\n",
    "plt.savefig('C:\\\\Users\\\\czaps\\\\Documents\\\\MSc\\\\images\\\\7_nodes.png', bbox_inches='tight')"
   ]
  },
  {
   "cell_type": "code",
   "execution_count": 143,
   "metadata": {},
   "outputs": [
    {
     "data": {
      "image/png": "[encoded data removed]",
      "text/plain": [
       "<Figure size 1080x720 with 1 Axes>"
      ]
     },
     "metadata": {},
     "output_type": "display_data"
    }
   ],
   "source": [
    "#LoRa Packet Loss in 7 Node Setup (no fails) with RAFT Algorithm\n",
    "plt.rcParams['figure.figsize']=(15,10)\n",
    "sns.set_theme(style=\"darkgrid\")\n",
    "ax = sns.countplot(x='nodeName', data=final_clean_raft_7)\n",
    "plt.title('LoRa Packet Loss in 7 Node Setup (no fails) with RAFT Algorithm')\n",
    "ax.set(xlabel='Node', ylabel='Number of Packets Received')\n",
    "#for container in ax.containers:\n",
    "    #ax.bar_label(container)\n",
    "ax.bar_label(ax.containers[0])\n",
    "plt.savefig('C:\\\\Users\\\\czaps\\\\Documents\\\\MSc\\\\images\\\\7_nodes_RAFT.png', bbox_inches='tight')"
   ]
  },
  {
   "cell_type": "code",
   "execution_count": 144,
   "metadata": {},
   "outputs": [
    {
     "data": {
      "image/png": "[encoded data removed]",
      "text/plain": [
       "<Figure size 1080x720 with 1 Axes>"
      ]
     },
     "metadata": {},
     "output_type": "display_data"
    }
   ],
   "source": [
    "#LoRa Packet Loss in 7 Node Setup (no fails) with Paxos Algorithm\n",
    "plt.rcParams['figure.figsize']=(15,10)\n",
    "sns.set_theme(style=\"darkgrid\")\n",
    "ax = sns.countplot(x='nodeName', data=final_clean_paxos_7)\n",
    "plt.title('LoRa Packet Loss in 7 Node Setup (no fails) with Paxos Algorithm')\n",
    "ax.set(xlabel='Node', ylabel='Number of Packets Received')\n",
    "#for container in ax.containers:\n",
    "    #ax.bar_label(container)\n",
    "ax.bar_label(ax.containers[0])\n",
    "plt.savefig('C:\\\\Users\\\\czaps\\\\Documents\\\\MSc\\\\images\\\\7_nodes_Paxos.png', bbox_inches='tight')"
   ]
  },
  {
   "cell_type": "code",
   "execution_count": 145,
   "metadata": {},
   "outputs": [
    {
     "data": {
      "image/png": "[encoded data removed]",
      "text/plain": [
       "<Figure size 1080x720 with 1 Axes>"
      ]
     },
     "metadata": {},
     "output_type": "display_data"
    }
   ],
   "source": [
    "#LoRa Packet Loss in 7 Node Setup (no fails) without Algorithms\n",
    "plt.rcParams['figure.figsize']=(15,10)\n",
    "sns.set_theme(style=\"darkgrid\")\n",
    "ax = sns.countplot(x='nodeName', data=final_clean_noalg_7)\n",
    "plt.title('LoRa Packet Loss in 7 Node Setup (no fails) without Algorithms')\n",
    "ax.set(xlabel='Node', ylabel='Number of Packets Received')\n",
    "#for container in ax.containers:\n",
    "    #ax.bar_label(container)\n",
    "ax.bar_label(ax.containers[0])\n",
    "plt.savefig('C:\\\\Users\\\\czaps\\\\Documents\\\\MSc\\\\images\\\\7_nodes_noAlg_outdoor.png', bbox_inches='tight')"
   ]
  },
  {
   "cell_type": "code",
   "execution_count": 106,
   "metadata": {},
   "outputs": [],
   "source": [
    "#no alg indoor"
   ]
  },
  {
   "cell_type": "code",
   "execution_count": 122,
   "metadata": {},
   "outputs": [
    {
     "name": "stderr",
     "output_type": "stream",
     "text": [
      "b'Skipping line 157: expected 6 fields, saw 7\\nSkipping line 240: expected 6 fields, saw 7\\nSkipping line 242: expected 6 fields, saw 7\\nSkipping line 430: expected 6 fields, saw 7\\nSkipping line 798: expected 6 fields, saw 7\\nSkipping line 1007: expected 6 fields, saw 7\\nSkipping line 1581: expected 6 fields, saw 7\\nSkipping line 1822: expected 6 fields, saw 7\\nSkipping line 2603: expected 6 fields, saw 7\\n'\n"
     ]
    }
   ],
   "source": [
    "indoor_noalg_data_7_nodes = pd.read_csv(\"C:\\\\Users\\\\czaps\\\\Documents\\\\MSc\\\\experiments\\\\packet_loss\\\\control\\\\3_control_7-nodes\\\\data.csv\", error_bad_lines=False, sep=\",\")"
   ]
  },
  {
   "cell_type": "code",
   "execution_count": 108,
   "metadata": {},
   "outputs": [
    {
     "data": {
      "text/html": [
       "<div>\n",
       "<style scoped>\n",
       "    .dataframe tbody tr th:only-of-type {\n",
       "        vertical-align: middle;\n",
       "    }\n",
       "\n",
       "    .dataframe tbody tr th {\n",
       "        vertical-align: top;\n",
       "    }\n",
       "\n",
       "    .dataframe thead th {\n",
       "        text-align: right;\n",
       "    }\n",
       "</style>\n",
       "<table border=\"1\" class=\"dataframe\">\n",
       "  <thead>\n",
       "    <tr style=\"text-align: right;\">\n",
       "      <th></th>\n",
       "      <th>nodeName</th>\n",
       "      <th>packetNumber</th>\n",
       "      <th>temperature</th>\n",
       "      <th>brightness</th>\n",
       "      <th>humidity</th>\n",
       "      <th>onBoardTemp</th>\n",
       "    </tr>\n",
       "  </thead>\n",
       "  <tbody>\n",
       "    <tr>\n",
       "      <th>0</th>\n",
       "      <td>NaN</td>\n",
       "      <td>NaN</td>\n",
       "      <td>NaN</td>\n",
       "      <td>NaN</td>\n",
       "      <td>NaN</td>\n",
       "      <td>NaN</td>\n",
       "    </tr>\n",
       "    <tr>\n",
       "      <th>1</th>\n",
       "      <td>NaN</td>\n",
       "      <td>NaN</td>\n",
       "      <td>NaN</td>\n",
       "      <td>NaN</td>\n",
       "      <td>NaN</td>\n",
       "      <td>NaN</td>\n",
       "    </tr>\n",
       "    <tr>\n",
       "      <th>2</th>\n",
       "      <td>4</td>\n",
       "      <td>1</td>\n",
       "      <td>21</td>\n",
       "      <td>12</td>\n",
       "      <td>56</td>\n",
       "      <td>19</td>\n",
       "    </tr>\n",
       "    <tr>\n",
       "      <th>3</th>\n",
       "      <td>4</td>\n",
       "      <td>2</td>\n",
       "      <td>21</td>\n",
       "      <td>12</td>\n",
       "      <td>56</td>\n",
       "      <td>19</td>\n",
       "    </tr>\n",
       "    <tr>\n",
       "      <th>4</th>\n",
       "      <td>4</td>\n",
       "      <td>3</td>\n",
       "      <td>21</td>\n",
       "      <td>12</td>\n",
       "      <td>56</td>\n",
       "      <td>19</td>\n",
       "    </tr>\n",
       "    <tr>\n",
       "      <th>...</th>\n",
       "      <td>...</td>\n",
       "      <td>...</td>\n",
       "      <td>...</td>\n",
       "      <td>...</td>\n",
       "      <td>...</td>\n",
       "      <td>...</td>\n",
       "    </tr>\n",
       "    <tr>\n",
       "      <th>2643</th>\n",
       "      <td>3</td>\n",
       "      <td>996</td>\n",
       "      <td>20</td>\n",
       "      <td>10</td>\n",
       "      <td>45</td>\n",
       "      <td>21</td>\n",
       "    </tr>\n",
       "    <tr>\n",
       "      <th>2644</th>\n",
       "      <td>3</td>\n",
       "      <td>997</td>\n",
       "      <td>20</td>\n",
       "      <td>10</td>\n",
       "      <td>45</td>\n",
       "      <td>21</td>\n",
       "    </tr>\n",
       "    <tr>\n",
       "      <th>2645</th>\n",
       "      <td>3</td>\n",
       "      <td>998</td>\n",
       "      <td>20</td>\n",
       "      <td>11</td>\n",
       "      <td>45</td>\n",
       "      <td>21</td>\n",
       "    </tr>\n",
       "    <tr>\n",
       "      <th>2646</th>\n",
       "      <td>3</td>\n",
       "      <td>999</td>\n",
       "      <td>20</td>\n",
       "      <td>10</td>\n",
       "      <td>45</td>\n",
       "      <td>21</td>\n",
       "    </tr>\n",
       "    <tr>\n",
       "      <th>2647</th>\n",
       "      <td>3</td>\n",
       "      <td>1000</td>\n",
       "      <td>20</td>\n",
       "      <td>10</td>\n",
       "      <td>45</td>\n",
       "      <td>21</td>\n",
       "    </tr>\n",
       "  </tbody>\n",
       "</table>\n",
       "<p>2648 rows × 6 columns</p>\n",
       "</div>"
      ],
      "text/plain": [
       "     nodeName packetNumber temperature brightness humidity onBoardTemp\n",
       "0         NaN          NaN         NaN        NaN      NaN         NaN\n",
       "1         NaN          NaN         NaN        NaN      NaN         NaN\n",
       "2           4            1          21         12       56          19\n",
       "3           4            2          21         12       56          19\n",
       "4           4            3          21         12       56          19\n",
       "...       ...          ...         ...        ...      ...         ...\n",
       "2643        3          996          20         10       45          21\n",
       "2644        3          997          20         10       45          21\n",
       "2645        3          998          20         11       45          21\n",
       "2646        3          999          20         10       45          21\n",
       "2647        3         1000          20         10       45          21\n",
       "\n",
       "[2648 rows x 6 columns]"
      ]
     },
     "execution_count": 108,
     "metadata": {},
     "output_type": "execute_result"
    }
   ],
   "source": [
    "indoor_noalg_data_7_nodes[indoor_noalg_data_7_nodes.applymap(isnumber)]"
   ]
  },
  {
   "cell_type": "code",
   "execution_count": 109,
   "metadata": {},
   "outputs": [],
   "source": [
    "indoor_noalg_data_7_nodes_clean = indoor_noalg_data_7_nodes.dropna()"
   ]
  },
  {
   "cell_type": "code",
   "execution_count": 110,
   "metadata": {},
   "outputs": [
    {
     "data": {
      "text/plain": [
       "(2403, 6)"
      ]
     },
     "execution_count": 110,
     "metadata": {},
     "output_type": "execute_result"
    }
   ],
   "source": [
    "indoor_noalg_data_7_nodes_clean.shape"
   ]
  },
  {
   "cell_type": "code",
   "execution_count": 111,
   "metadata": {},
   "outputs": [],
   "source": [
    "indoor_noalg_data_7_nodes_clean.to_csv('C:\\\\Users\\\\czaps\\\\Documents\\\\MSc\\\\data_wrangling\\\\indoor_noalg_data_7_nodes_clean.csv', index = False, header=True)"
   ]
  },
  {
   "cell_type": "code",
   "execution_count": 112,
   "metadata": {},
   "outputs": [],
   "source": [
    "#manual cleaning of the csv req"
   ]
  },
  {
   "cell_type": "code",
   "execution_count": 123,
   "metadata": {},
   "outputs": [],
   "source": [
    "clean_indoor_noalg_data_7_nodes = pd.read_csv(\"C:\\\\Users\\\\czaps\\\\Documents\\\\MSc\\\\data_wrangling\\\\indoor_noalg_data_7_nodes_clean.csv\", sep=\",\")"
   ]
  },
  {
   "cell_type": "code",
   "execution_count": 124,
   "metadata": {},
   "outputs": [
    {
     "data": {
      "text/plain": [
       "(2403, 6)"
      ]
     },
     "execution_count": 124,
     "metadata": {},
     "output_type": "execute_result"
    }
   ],
   "source": [
    "clean_indoor_noalg_data_7_nodes.shape"
   ]
  },
  {
   "cell_type": "code",
   "execution_count": 125,
   "metadata": {},
   "outputs": [],
   "source": [
    "clean_indoor_noalg_data_7 = clean_indoor_noalg_data_7_nodes.dropna()"
   ]
  },
  {
   "cell_type": "code",
   "execution_count": 126,
   "metadata": {},
   "outputs": [
    {
     "data": {
      "text/plain": [
       "(2366, 6)"
      ]
     },
     "execution_count": 126,
     "metadata": {},
     "output_type": "execute_result"
    }
   ],
   "source": [
    "clean_indoor_noalg_data_7.shape"
   ]
  },
  {
   "cell_type": "code",
   "execution_count": 127,
   "metadata": {},
   "outputs": [],
   "source": [
    "final_indoor_clean_noalg_7 = clean_indoor_noalg_data_7.astype({\"nodeName\":np.int64,\"packetNumber\":np.int64,\"temperature\":np.int64,\"brightness\":np.int64,\"humidity\":np.int64,\"onBoardTemp\":np.int64})"
   ]
  },
  {
   "cell_type": "code",
   "execution_count": 135,
   "metadata": {},
   "outputs": [],
   "source": [
    "df1 = {'algorithm': ['RAFT', 'Paxos', 'NoAlgorithmOutdoor', 'NoAlgorithmIndoor'], \n",
    "               'goodPacketsReceived': [len(final_clean_raft_7), len(final_clean_paxos_7), len(final_clean_noalg_7),len(final_indoor_clean_noalg_7)], \n",
    "               'totalPacketsReceived': [len(raft_data_7_nodes), len(paxos_data_7_nodes), len(noalg_data_7_nodes),len(indoor_noalg_data_7_nodes)], \n",
    "               'packetsExpected': [7000, 7000, 7000,7000]}\n",
    "\n",
    "all_7_nodes_indoor = pd.DataFrame(df1)"
   ]
  },
  {
   "cell_type": "code",
   "execution_count": 141,
   "metadata": {},
   "outputs": [
    {
     "data": {
      "image/png": "[encoded data removed]",
      "text/plain": [
       "<Figure size 1080x864 with 1 Axes>"
      ]
     },
     "metadata": {},
     "output_type": "display_data"
    }
   ],
   "source": [
    "ax = all_7_nodes_indoor.plot.bar(x='algorithm')\n",
    "plt.title('LoRa Packet Delivered in 7 Node Setup (no fails) with Different Algorithms')\n",
    "ax.set(xlabel='', ylabel='Number of Packets Sent')\n",
    "ax.set_xticklabels(ax.get_xticklabels(), rotation=0, ha=\"center\")\n",
    "for bars in ax.containers:\n",
    "    ax.bar_label(bars)\n",
    "plt.legend(loc='lower left')\n",
    "plt.savefig('C:\\\\Users\\\\czaps\\\\Documents\\\\MSc\\\\images\\\\7_nodes_indoor.png', bbox_inches='tight')"
   ]
  },
  {
   "cell_type": "code",
   "execution_count": 146,
   "metadata": {},
   "outputs": [
    {
     "data": {
      "image/png": "[encoded data removed]",
      "text/plain": [
       "<Figure size 1080x720 with 1 Axes>"
      ]
     },
     "metadata": {},
     "output_type": "display_data"
    }
   ],
   "source": [
    "#LoRa Packet Loss in 7 Node Setup (no fails) without Algorithms INDOOR\n",
    "plt.rcParams['figure.figsize']=(15,10)\n",
    "sns.set_theme(style=\"darkgrid\")\n",
    "ax = sns.countplot(x='nodeName', data=final_indoor_clean_noalg_7)\n",
    "plt.title('LoRa Packet Loss in 7 Node Setup (no fails) without Algorithms(indoor)')\n",
    "ax.set(xlabel='Node', ylabel='Number of Packets Received')\n",
    "#for container in ax.containers:\n",
    "    #ax.bar_label(container)\n",
    "ax.bar_label(ax.containers[0])\n",
    "plt.savefig('C:\\\\Users\\\\czaps\\\\Documents\\\\MSc\\\\images\\\\7_nodes_noAlg_indoor.png', bbox_inches='tight')"
   ]
  },
  {
   "cell_type": "code",
   "execution_count": null,
   "metadata": {},
   "outputs": [],
   "source": []
  }
 ],
 "metadata": {
  "kernelspec": {
   "display_name": "Python 3",
   "language": "python",
   "name": "python3"
  },
  "language_info": {
   "codemirror_mode": {
    "name": "ipython",
    "version": 3
   },
   "file_extension": ".py",
   "mimetype": "text/x-python",
   "name": "python",
   "nbconvert_exporter": "python",
   "pygments_lexer": "ipython3",
   "version": "3.7.1"
  }
 },
 "nbformat": 4,
 "nbformat_minor": 4
}
