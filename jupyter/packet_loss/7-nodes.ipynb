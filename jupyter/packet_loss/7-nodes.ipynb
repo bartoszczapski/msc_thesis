{
 "cells": [
  {
   "cell_type": "code",
   "execution_count": 1,
   "metadata": {},
   "outputs": [],
   "source": [
    "# Import the libraries\n",
    "import os\n",
    "import pandas as pd\n",
    "import matplotlib\n",
    "matplotlib.use(u'nbAgg')\n",
    "import matplotlib.pyplot as plt\n",
    "import seaborn as sns\n",
    "import numpy as np\n",
    "import pickle\n",
    "from sklearn.manifold import TSNE\n",
    "from sklearn import preprocessing\n",
    "import pandas as pd\n",
    "%matplotlib inline"
   ]
  },
  {
   "cell_type": "code",
   "execution_count": 11,
   "metadata": {},
   "outputs": [],
   "source": [
    "raft_7_nodes_data = pd.read_csv(\"C:\\\\Users\\\\czaps\\\\Documents\\\\MSc\\\\data_wrangling\\\\raft_7_clean_output.csv\", sep=\",\")"
   ]
  },
  {
   "cell_type": "code",
   "execution_count": 12,
   "metadata": {},
   "outputs": [],
   "source": [
    "raft_7_nodes_data_clean = df.dropna()"
   ]
  },
  {
   "cell_type": "code",
   "execution_count": 13,
   "metadata": {},
   "outputs": [
    {
     "name": "stdout",
     "output_type": "stream",
     "text": [
      "<class 'pandas.core.frame.DataFrame'>\n",
      "Int64Index: 6848 entries, 0 to 6853\n",
      "Data columns (total 6 columns):\n",
      " #   Column        Non-Null Count  Dtype\n",
      "---  ------        --------------  -----\n",
      " 0   nodeName      6848 non-null   int64\n",
      " 1   packetNumber  6848 non-null   int64\n",
      " 2   temperature   6848 non-null   int64\n",
      " 3   brightness    6848 non-null   int64\n",
      " 4   humidity      6848 non-null   int64\n",
      " 5   onBoardTemp   6848 non-null   int64\n",
      "dtypes: int64(6)\n",
      "memory usage: 374.5 KB\n"
     ]
    }
   ],
   "source": [
    "raft_7_nodes_data_clean.info()"
   ]
  },
  {
   "cell_type": "code",
   "execution_count": 14,
   "metadata": {},
   "outputs": [],
   "source": [
    "raft_7_nodes_data_clean = df_clean.astype({\"nodeName\":np.int64,\"packetNumber\":np.int64,\"temperature\":np.int64,\"brightness\":np.int64,\"humidity\":np.int64,\"onBoardTemp\":np.int64})"
   ]
  },
  {
   "cell_type": "code",
   "execution_count": 6,
   "metadata": {},
   "outputs": [
    {
     "name": "stdout",
     "output_type": "stream",
     "text": [
      "<class 'pandas.core.frame.DataFrame'>\n",
      "Int64Index: 6848 entries, 0 to 6853\n",
      "Data columns (total 6 columns):\n",
      " #   Column        Non-Null Count  Dtype\n",
      "---  ------        --------------  -----\n",
      " 0   nodeName      6848 non-null   int64\n",
      " 1   packetNumber  6848 non-null   int64\n",
      " 2   temperature   6848 non-null   int64\n",
      " 3   brightness    6848 non-null   int64\n",
      " 4   humidity      6848 non-null   int64\n",
      " 5   onBoardTemp   6848 non-null   int64\n",
      "dtypes: int64(6)\n",
      "memory usage: 374.5 KB\n"
     ]
    }
   ],
   "source": [
    "df.info()"
   ]
  },
  {
   "cell_type": "code",
   "execution_count": 15,
   "metadata": {},
   "outputs": [
    {
     "data": {
      "text/html": [
       "<div>\n",
       "<style scoped>\n",
       "    .dataframe tbody tr th:only-of-type {\n",
       "        vertical-align: middle;\n",
       "    }\n",
       "\n",
       "    .dataframe tbody tr th {\n",
       "        vertical-align: top;\n",
       "    }\n",
       "\n",
       "    .dataframe thead th {\n",
       "        text-align: right;\n",
       "    }\n",
       "</style>\n",
       "<table border=\"1\" class=\"dataframe\">\n",
       "  <thead>\n",
       "    <tr style=\"text-align: right;\">\n",
       "      <th></th>\n",
       "      <th>nodeName</th>\n",
       "      <th>packetNumber</th>\n",
       "      <th>temperature</th>\n",
       "      <th>brightness</th>\n",
       "      <th>humidity</th>\n",
       "      <th>onBoardTemp</th>\n",
       "    </tr>\n",
       "  </thead>\n",
       "  <tbody>\n",
       "    <tr>\n",
       "      <th>count</th>\n",
       "      <td>6848.000000</td>\n",
       "      <td>6848.000000</td>\n",
       "      <td>6848.000000</td>\n",
       "      <td>6848.000000</td>\n",
       "      <td>6848.000000</td>\n",
       "      <td>6848.000000</td>\n",
       "    </tr>\n",
       "    <tr>\n",
       "      <th>mean</th>\n",
       "      <td>3.982039</td>\n",
       "      <td>502.641209</td>\n",
       "      <td>19.970794</td>\n",
       "      <td>810.694217</td>\n",
       "      <td>42.039866</td>\n",
       "      <td>23.334988</td>\n",
       "    </tr>\n",
       "    <tr>\n",
       "      <th>std</th>\n",
       "      <td>1.993446</td>\n",
       "      <td>289.226979</td>\n",
       "      <td>1.185827</td>\n",
       "      <td>4008.976537</td>\n",
       "      <td>4.536114</td>\n",
       "      <td>1.112717</td>\n",
       "    </tr>\n",
       "    <tr>\n",
       "      <th>min</th>\n",
       "      <td>1.000000</td>\n",
       "      <td>1.000000</td>\n",
       "      <td>16.000000</td>\n",
       "      <td>13.000000</td>\n",
       "      <td>33.000000</td>\n",
       "      <td>19.000000</td>\n",
       "    </tr>\n",
       "    <tr>\n",
       "      <th>25%</th>\n",
       "      <td>2.000000</td>\n",
       "      <td>251.000000</td>\n",
       "      <td>19.000000</td>\n",
       "      <td>346.500000</td>\n",
       "      <td>39.000000</td>\n",
       "      <td>23.000000</td>\n",
       "    </tr>\n",
       "    <tr>\n",
       "      <th>50%</th>\n",
       "      <td>4.000000</td>\n",
       "      <td>506.000000</td>\n",
       "      <td>20.000000</td>\n",
       "      <td>495.000000</td>\n",
       "      <td>42.000000</td>\n",
       "      <td>23.000000</td>\n",
       "    </tr>\n",
       "    <tr>\n",
       "      <th>75%</th>\n",
       "      <td>6.000000</td>\n",
       "      <td>754.000000</td>\n",
       "      <td>21.000000</td>\n",
       "      <td>728.000000</td>\n",
       "      <td>44.000000</td>\n",
       "      <td>24.000000</td>\n",
       "    </tr>\n",
       "    <tr>\n",
       "      <th>max</th>\n",
       "      <td>7.000000</td>\n",
       "      <td>1000.000000</td>\n",
       "      <td>25.000000</td>\n",
       "      <td>65535.000000</td>\n",
       "      <td>62.000000</td>\n",
       "      <td>26.000000</td>\n",
       "    </tr>\n",
       "  </tbody>\n",
       "</table>\n",
       "</div>"
      ],
      "text/plain": [
       "          nodeName  packetNumber  temperature    brightness     humidity  \\\n",
       "count  6848.000000   6848.000000  6848.000000   6848.000000  6848.000000   \n",
       "mean      3.982039    502.641209    19.970794    810.694217    42.039866   \n",
       "std       1.993446    289.226979     1.185827   4008.976537     4.536114   \n",
       "min       1.000000      1.000000    16.000000     13.000000    33.000000   \n",
       "25%       2.000000    251.000000    19.000000    346.500000    39.000000   \n",
       "50%       4.000000    506.000000    20.000000    495.000000    42.000000   \n",
       "75%       6.000000    754.000000    21.000000    728.000000    44.000000   \n",
       "max       7.000000   1000.000000    25.000000  65535.000000    62.000000   \n",
       "\n",
       "       onBoardTemp  \n",
       "count  6848.000000  \n",
       "mean     23.334988  \n",
       "std       1.112717  \n",
       "min      19.000000  \n",
       "25%      23.000000  \n",
       "50%      23.000000  \n",
       "75%      24.000000  \n",
       "max      26.000000  "
      ]
     },
     "execution_count": 15,
     "metadata": {},
     "output_type": "execute_result"
    }
   ],
   "source": [
    "raft_7_nodes_data_clean.describe()"
   ]
  },
  {
   "cell_type": "code",
   "execution_count": 16,
   "metadata": {},
   "outputs": [
    {
     "data": {
      "text/plain": [
       "(6848, 6)"
      ]
     },
     "execution_count": 16,
     "metadata": {},
     "output_type": "execute_result"
    }
   ],
   "source": [
    "raft_7_nodes_data_clean.shape"
   ]
  },
  {
   "cell_type": "code",
   "execution_count": 17,
   "metadata": {},
   "outputs": [
    {
     "data": {
      "text/plain": [
       "[Text(0, 0, '992'),\n",
       " Text(0, 0, '971'),\n",
       " Text(0, 0, '985'),\n",
       " Text(0, 0, '991'),\n",
       " Text(0, 0, '984'),\n",
       " Text(0, 0, '979'),\n",
       " Text(0, 0, '946')]"
      ]
     },
     "execution_count": 17,
     "metadata": {},
     "output_type": "execute_result"
    },
    {
     "data": {
      "image/png": "[encoded data removed]",
      "text/plain": [
       "<Figure size 1080x720 with 1 Axes>"
      ]
     },
     "metadata": {},
     "output_type": "display_data"
    }
   ],
   "source": [
    "plt.rcParams['figure.figsize']=(15,10)\n",
    "sns.set_theme(style=\"darkgrid\")\n",
    "ax = sns.countplot(x='nodeName', data=raft_7_nodes_data_clean)\n",
    "plt.title('LoRa Packet Loss in 7 Node Setup (no fails) with RAFT Algorithm')\n",
    "ax.set(xlabel='Node', ylabel='Number of Packets Sent')\n",
    "#for container in ax.containers:\n",
    "    #ax.bar_label(container)\n",
    "ax.bar_label(ax.containers[0])"
   ]
  },
  {
   "cell_type": "code",
   "execution_count": null,
   "metadata": {},
   "outputs": [],
   "source": []
  }
 ],
 "metadata": {
  "kernelspec": {
   "display_name": "Python 3",
   "language": "python",
   "name": "python3"
  },
  "language_info": {
   "codemirror_mode": {
    "name": "ipython",
    "version": 3
   },
   "file_extension": ".py",
   "mimetype": "text/x-python",
   "name": "python",
   "nbconvert_exporter": "python",
   "pygments_lexer": "ipython3",
   "version": "3.7.1"
  }
 },
 "nbformat": 4,
 "nbformat_minor": 4
}
