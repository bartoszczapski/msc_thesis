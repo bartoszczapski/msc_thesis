{
 "cells": [
  {
   "cell_type": "code",
   "execution_count": 1,
   "metadata": {},
   "outputs": [],
   "source": [
    "# Import the libraries\n",
    "import os\n",
    "import pandas as pd\n",
    "import matplotlib\n",
    "matplotlib.use(u'nbAgg')\n",
    "import matplotlib.pyplot as plt\n",
    "import seaborn as sns\n",
    "import numpy as np\n",
    "import pickle\n",
    "from sklearn.manifold import TSNE\n",
    "from sklearn import preprocessing\n",
    "import pandas as pd\n",
    "%matplotlib inline"
   ]
  },
  {
   "cell_type": "code",
   "execution_count": 2,
   "metadata": {},
   "outputs": [],
   "source": [
    "def isnumber(x):\n",
    "    try:\n",
    "        int(x)\n",
    "        return True\n",
    "    except:\n",
    "        return False"
   ]
  },
  {
   "cell_type": "code",
   "execution_count": 3,
   "metadata": {},
   "outputs": [],
   "source": [
    "raft_data_3_nodes = pd.read_csv(\"C:\\\\Users\\\\czaps\\\\Documents\\\\MSc\\\\experiments\\\\packet_loss\\\\raft_outdoor\\\\raft_3-nodes_1-fail\\\\data.csv\", sep=\",\")"
   ]
  },
  {
   "cell_type": "code",
   "execution_count": 4,
   "metadata": {},
   "outputs": [
    {
     "data": {
      "text/html": [
       "<div>\n",
       "<style scoped>\n",
       "    .dataframe tbody tr th:only-of-type {\n",
       "        vertical-align: middle;\n",
       "    }\n",
       "\n",
       "    .dataframe tbody tr th {\n",
       "        vertical-align: top;\n",
       "    }\n",
       "\n",
       "    .dataframe thead th {\n",
       "        text-align: right;\n",
       "    }\n",
       "</style>\n",
       "<table border=\"1\" class=\"dataframe\">\n",
       "  <thead>\n",
       "    <tr style=\"text-align: right;\">\n",
       "      <th></th>\n",
       "      <th>nodeName</th>\n",
       "      <th>packetNumber</th>\n",
       "      <th>temperature</th>\n",
       "      <th>brightness</th>\n",
       "      <th>humidity</th>\n",
       "      <th>onBoardTemp</th>\n",
       "    </tr>\n",
       "  </thead>\n",
       "  <tbody>\n",
       "    <tr>\n",
       "      <th>0</th>\n",
       "      <td>NaN</td>\n",
       "      <td>NaN</td>\n",
       "      <td>NaN</td>\n",
       "      <td>NaN</td>\n",
       "      <td>NaN</td>\n",
       "      <td>NaN</td>\n",
       "    </tr>\n",
       "    <tr>\n",
       "      <th>1</th>\n",
       "      <td>1</td>\n",
       "      <td>1</td>\n",
       "      <td>19</td>\n",
       "      <td>150</td>\n",
       "      <td>52</td>\n",
       "      <td>20</td>\n",
       "    </tr>\n",
       "    <tr>\n",
       "      <th>2</th>\n",
       "      <td>1</td>\n",
       "      <td>2</td>\n",
       "      <td>19</td>\n",
       "      <td>151</td>\n",
       "      <td>52</td>\n",
       "      <td>20</td>\n",
       "    </tr>\n",
       "    <tr>\n",
       "      <th>3</th>\n",
       "      <td>2</td>\n",
       "      <td>1</td>\n",
       "      <td>21</td>\n",
       "      <td>194</td>\n",
       "      <td>51</td>\n",
       "      <td>20</td>\n",
       "    </tr>\n",
       "    <tr>\n",
       "      <th>4</th>\n",
       "      <td>1</td>\n",
       "      <td>3</td>\n",
       "      <td>20</td>\n",
       "      <td>168</td>\n",
       "      <td>52</td>\n",
       "      <td>20</td>\n",
       "    </tr>\n",
       "    <tr>\n",
       "      <th>...</th>\n",
       "      <td>...</td>\n",
       "      <td>...</td>\n",
       "      <td>...</td>\n",
       "      <td>...</td>\n",
       "      <td>...</td>\n",
       "      <td>...</td>\n",
       "    </tr>\n",
       "    <tr>\n",
       "      <th>2473</th>\n",
       "      <td>3</td>\n",
       "      <td>998</td>\n",
       "      <td>21</td>\n",
       "      <td>135</td>\n",
       "      <td>53</td>\n",
       "      <td>23</td>\n",
       "    </tr>\n",
       "    <tr>\n",
       "      <th>2474</th>\n",
       "      <td>2</td>\n",
       "      <td>999</td>\n",
       "      <td>22</td>\n",
       "      <td>180</td>\n",
       "      <td>45</td>\n",
       "      <td>24</td>\n",
       "    </tr>\n",
       "    <tr>\n",
       "      <th>2475</th>\n",
       "      <td>3</td>\n",
       "      <td>999</td>\n",
       "      <td>21</td>\n",
       "      <td>154</td>\n",
       "      <td>53</td>\n",
       "      <td>23</td>\n",
       "    </tr>\n",
       "    <tr>\n",
       "      <th>2476</th>\n",
       "      <td>2</td>\n",
       "      <td>1000</td>\n",
       "      <td>21</td>\n",
       "      <td>181</td>\n",
       "      <td>45</td>\n",
       "      <td>24</td>\n",
       "    </tr>\n",
       "    <tr>\n",
       "      <th>2477</th>\n",
       "      <td>3</td>\n",
       "      <td>1000</td>\n",
       "      <td>20</td>\n",
       "      <td>155</td>\n",
       "      <td>53</td>\n",
       "      <td>23</td>\n",
       "    </tr>\n",
       "  </tbody>\n",
       "</table>\n",
       "<p>2478 rows × 6 columns</p>\n",
       "</div>"
      ],
      "text/plain": [
       "     nodeName packetNumber temperature brightness humidity onBoardTemp\n",
       "0         NaN          NaN         NaN        NaN      NaN         NaN\n",
       "1           1            1          19        150       52          20\n",
       "2           1            2          19        151       52          20\n",
       "3           2            1          21        194       51          20\n",
       "4           1            3          20        168       52          20\n",
       "...       ...          ...         ...        ...      ...         ...\n",
       "2473        3          998          21        135       53          23\n",
       "2474        2          999          22        180       45          24\n",
       "2475        3          999          21        154       53          23\n",
       "2476        2         1000          21        181       45          24\n",
       "2477        3         1000          20        155       53          23\n",
       "\n",
       "[2478 rows x 6 columns]"
      ]
     },
     "execution_count": 4,
     "metadata": {},
     "output_type": "execute_result"
    }
   ],
   "source": [
    "raft_data_3_nodes[raft_data_3_nodes.applymap(isnumber)]"
   ]
  },
  {
   "cell_type": "code",
   "execution_count": 5,
   "metadata": {},
   "outputs": [],
   "source": [
    "paxos_data_3_nodes = pd.read_csv(\"C:\\\\Users\\\\czaps\\\\Documents\\\\MSc\\\\experiments\\\\packet_loss\\\\paxos_outdoor\\\\paxos_3-nodes_1-fail\\\\data.csv\", sep=\",\")"
   ]
  },
  {
   "cell_type": "code",
   "execution_count": 6,
   "metadata": {},
   "outputs": [
    {
     "name": "stderr",
     "output_type": "stream",
     "text": [
      "b'Skipping line 1583: expected 6 fields, saw 7\\nSkipping line 1613: expected 6 fields, saw 7\\n'\n"
     ]
    }
   ],
   "source": [
    "noalg_data_3_nodes = pd.read_csv(\"C:\\\\Users\\\\czaps\\\\Documents\\\\MSc\\\\experiments\\\\packet_loss\\\\control_outdoor\\\\outdoor_control_3-nodes_1-fail\\\\data.csv\", error_bad_lines=False, sep=\",\")"
   ]
  },
  {
   "cell_type": "code",
   "execution_count": 7,
   "metadata": {},
   "outputs": [
    {
     "name": "stdout",
     "output_type": "stream",
     "text": [
      "<class 'pandas.core.frame.DataFrame'>\n",
      "RangeIndex: 2478 entries, 0 to 2477\n",
      "Data columns (total 6 columns):\n",
      " #   Column        Non-Null Count  Dtype \n",
      "---  ------        --------------  ----- \n",
      " 0   nodeName      2478 non-null   object\n",
      " 1   packetNumber  2474 non-null   object\n",
      " 2   temperature   2473 non-null   object\n",
      " 3   brightness    2473 non-null   object\n",
      " 4   humidity      2470 non-null   object\n",
      " 5   onBoardTemp   2467 non-null   object\n",
      "dtypes: object(6)\n",
      "memory usage: 116.3+ KB\n"
     ]
    }
   ],
   "source": [
    "raft_data_3_nodes.info()"
   ]
  },
  {
   "cell_type": "code",
   "execution_count": 8,
   "metadata": {},
   "outputs": [
    {
     "data": {
      "text/plain": [
       "(2478, 6)"
      ]
     },
     "execution_count": 8,
     "metadata": {},
     "output_type": "execute_result"
    }
   ],
   "source": [
    "raft_data_3_nodes.shape"
   ]
  },
  {
   "cell_type": "code",
   "execution_count": 9,
   "metadata": {},
   "outputs": [
    {
     "name": "stdout",
     "output_type": "stream",
     "text": [
      "<class 'pandas.core.frame.DataFrame'>\n",
      "RangeIndex: 2251 entries, 0 to 2250\n",
      "Data columns (total 6 columns):\n",
      " #   Column        Non-Null Count  Dtype  \n",
      "---  ------        --------------  -----  \n",
      " 0   nodeName      2251 non-null   object \n",
      " 1   packetNumber  2247 non-null   object \n",
      " 2   temperature   2247 non-null   float64\n",
      " 3   brightness    2247 non-null   object \n",
      " 4   humidity      2247 non-null   object \n",
      " 5   onBoardTemp   2244 non-null   object \n",
      "dtypes: float64(1), object(5)\n",
      "memory usage: 105.6+ KB\n"
     ]
    }
   ],
   "source": [
    "paxos_data_3_nodes.info()"
   ]
  },
  {
   "cell_type": "code",
   "execution_count": 10,
   "metadata": {},
   "outputs": [
    {
     "data": {
      "text/plain": [
       "(2251, 6)"
      ]
     },
     "execution_count": 10,
     "metadata": {},
     "output_type": "execute_result"
    }
   ],
   "source": [
    "paxos_data_3_nodes.shape"
   ]
  },
  {
   "cell_type": "code",
   "execution_count": 11,
   "metadata": {},
   "outputs": [
    {
     "name": "stdout",
     "output_type": "stream",
     "text": [
      "<class 'pandas.core.frame.DataFrame'>\n",
      "RangeIndex: 2012 entries, 0 to 2011\n",
      "Data columns (total 6 columns):\n",
      " #   Column        Non-Null Count  Dtype \n",
      "---  ------        --------------  ----- \n",
      " 0   nodeName      2012 non-null   object\n",
      " 1   packetNumber  1999 non-null   object\n",
      " 2   temperature   1995 non-null   object\n",
      " 3   brightness    1984 non-null   object\n",
      " 4   humidity      1975 non-null   object\n",
      " 5   onBoardTemp   1967 non-null   object\n",
      "dtypes: object(6)\n",
      "memory usage: 94.4+ KB\n"
     ]
    }
   ],
   "source": [
    "noalg_data_3_nodes.info()"
   ]
  },
  {
   "cell_type": "code",
   "execution_count": 12,
   "metadata": {},
   "outputs": [
    {
     "data": {
      "text/plain": [
       "(2012, 6)"
      ]
     },
     "execution_count": 12,
     "metadata": {},
     "output_type": "execute_result"
    }
   ],
   "source": [
    "noalg_data_3_nodes.shape"
   ]
  },
  {
   "cell_type": "code",
   "execution_count": 13,
   "metadata": {},
   "outputs": [],
   "source": [
    "#RAFT"
   ]
  },
  {
   "cell_type": "code",
   "execution_count": 14,
   "metadata": {},
   "outputs": [
    {
     "data": {
      "text/html": [
       "<div>\n",
       "<style scoped>\n",
       "    .dataframe tbody tr th:only-of-type {\n",
       "        vertical-align: middle;\n",
       "    }\n",
       "\n",
       "    .dataframe tbody tr th {\n",
       "        vertical-align: top;\n",
       "    }\n",
       "\n",
       "    .dataframe thead th {\n",
       "        text-align: right;\n",
       "    }\n",
       "</style>\n",
       "<table border=\"1\" class=\"dataframe\">\n",
       "  <thead>\n",
       "    <tr style=\"text-align: right;\">\n",
       "      <th></th>\n",
       "      <th>nodeName</th>\n",
       "      <th>packetNumber</th>\n",
       "      <th>temperature</th>\n",
       "      <th>brightness</th>\n",
       "      <th>humidity</th>\n",
       "      <th>onBoardTemp</th>\n",
       "    </tr>\n",
       "  </thead>\n",
       "  <tbody>\n",
       "    <tr>\n",
       "      <th>0</th>\n",
       "      <td>NaN</td>\n",
       "      <td>NaN</td>\n",
       "      <td>NaN</td>\n",
       "      <td>NaN</td>\n",
       "      <td>NaN</td>\n",
       "      <td>NaN</td>\n",
       "    </tr>\n",
       "    <tr>\n",
       "      <th>1</th>\n",
       "      <td>1</td>\n",
       "      <td>1</td>\n",
       "      <td>19</td>\n",
       "      <td>150</td>\n",
       "      <td>52</td>\n",
       "      <td>20</td>\n",
       "    </tr>\n",
       "    <tr>\n",
       "      <th>2</th>\n",
       "      <td>1</td>\n",
       "      <td>2</td>\n",
       "      <td>19</td>\n",
       "      <td>151</td>\n",
       "      <td>52</td>\n",
       "      <td>20</td>\n",
       "    </tr>\n",
       "    <tr>\n",
       "      <th>3</th>\n",
       "      <td>2</td>\n",
       "      <td>1</td>\n",
       "      <td>21</td>\n",
       "      <td>194</td>\n",
       "      <td>51</td>\n",
       "      <td>20</td>\n",
       "    </tr>\n",
       "    <tr>\n",
       "      <th>4</th>\n",
       "      <td>1</td>\n",
       "      <td>3</td>\n",
       "      <td>20</td>\n",
       "      <td>168</td>\n",
       "      <td>52</td>\n",
       "      <td>20</td>\n",
       "    </tr>\n",
       "    <tr>\n",
       "      <th>...</th>\n",
       "      <td>...</td>\n",
       "      <td>...</td>\n",
       "      <td>...</td>\n",
       "      <td>...</td>\n",
       "      <td>...</td>\n",
       "      <td>...</td>\n",
       "    </tr>\n",
       "    <tr>\n",
       "      <th>2473</th>\n",
       "      <td>3</td>\n",
       "      <td>998</td>\n",
       "      <td>21</td>\n",
       "      <td>135</td>\n",
       "      <td>53</td>\n",
       "      <td>23</td>\n",
       "    </tr>\n",
       "    <tr>\n",
       "      <th>2474</th>\n",
       "      <td>2</td>\n",
       "      <td>999</td>\n",
       "      <td>22</td>\n",
       "      <td>180</td>\n",
       "      <td>45</td>\n",
       "      <td>24</td>\n",
       "    </tr>\n",
       "    <tr>\n",
       "      <th>2475</th>\n",
       "      <td>3</td>\n",
       "      <td>999</td>\n",
       "      <td>21</td>\n",
       "      <td>154</td>\n",
       "      <td>53</td>\n",
       "      <td>23</td>\n",
       "    </tr>\n",
       "    <tr>\n",
       "      <th>2476</th>\n",
       "      <td>2</td>\n",
       "      <td>1000</td>\n",
       "      <td>21</td>\n",
       "      <td>181</td>\n",
       "      <td>45</td>\n",
       "      <td>24</td>\n",
       "    </tr>\n",
       "    <tr>\n",
       "      <th>2477</th>\n",
       "      <td>3</td>\n",
       "      <td>1000</td>\n",
       "      <td>20</td>\n",
       "      <td>155</td>\n",
       "      <td>53</td>\n",
       "      <td>23</td>\n",
       "    </tr>\n",
       "  </tbody>\n",
       "</table>\n",
       "<p>2478 rows × 6 columns</p>\n",
       "</div>"
      ],
      "text/plain": [
       "     nodeName packetNumber temperature brightness humidity onBoardTemp\n",
       "0         NaN          NaN         NaN        NaN      NaN         NaN\n",
       "1           1            1          19        150       52          20\n",
       "2           1            2          19        151       52          20\n",
       "3           2            1          21        194       51          20\n",
       "4           1            3          20        168       52          20\n",
       "...       ...          ...         ...        ...      ...         ...\n",
       "2473        3          998          21        135       53          23\n",
       "2474        2          999          22        180       45          24\n",
       "2475        3          999          21        154       53          23\n",
       "2476        2         1000          21        181       45          24\n",
       "2477        3         1000          20        155       53          23\n",
       "\n",
       "[2478 rows x 6 columns]"
      ]
     },
     "execution_count": 14,
     "metadata": {},
     "output_type": "execute_result"
    }
   ],
   "source": [
    "raft_data_3_nodes[raft_data_3_nodes.applymap(isnumber)]"
   ]
  },
  {
   "cell_type": "code",
   "execution_count": 15,
   "metadata": {},
   "outputs": [],
   "source": [
    "raft_data_3_nodes_clean = raft_data_3_nodes.dropna()"
   ]
  },
  {
   "cell_type": "code",
   "execution_count": 16,
   "metadata": {},
   "outputs": [
    {
     "data": {
      "text/plain": [
       "(2467, 6)"
      ]
     },
     "execution_count": 16,
     "metadata": {},
     "output_type": "execute_result"
    }
   ],
   "source": [
    "raft_data_3_nodes_clean.shape"
   ]
  },
  {
   "cell_type": "code",
   "execution_count": 17,
   "metadata": {},
   "outputs": [],
   "source": [
    "raft_data_3_nodes_clean.to_csv('C:\\\\Users\\\\czaps\\\\Documents\\\\MSc\\\\data_wrangling\\\\raft_data_3_nodes_1_clean.csv', index = False, header=True)"
   ]
  },
  {
   "cell_type": "code",
   "execution_count": 18,
   "metadata": {},
   "outputs": [],
   "source": [
    "#manual cleaning of the csv req"
   ]
  },
  {
   "cell_type": "code",
   "execution_count": 19,
   "metadata": {},
   "outputs": [],
   "source": [
    "clean_raft_data_3_nodes = pd.read_csv(\"C:\\\\Users\\\\czaps\\\\Documents\\\\MSc\\\\data_wrangling\\\\raft_data_3_nodes_1_clean.csv\", sep=\",\")"
   ]
  },
  {
   "cell_type": "code",
   "execution_count": 20,
   "metadata": {},
   "outputs": [],
   "source": [
    "clean_raft_data_3 = clean_raft_data_3_nodes.dropna()"
   ]
  },
  {
   "cell_type": "code",
   "execution_count": 21,
   "metadata": {},
   "outputs": [],
   "source": [
    "final_clean_raft_3 = clean_raft_data_3.astype({\"nodeName\":np.int64,\"packetNumber\":np.int64,\"temperature\":np.int64,\"brightness\":np.int64,\"humidity\":np.int64,\"onBoardTemp\":np.int64})"
   ]
  },
  {
   "cell_type": "code",
   "execution_count": 22,
   "metadata": {},
   "outputs": [
    {
     "name": "stdout",
     "output_type": "stream",
     "text": [
      "<class 'pandas.core.frame.DataFrame'>\n",
      "Int64Index: 2464 entries, 0 to 2466\n",
      "Data columns (total 6 columns):\n",
      " #   Column        Non-Null Count  Dtype\n",
      "---  ------        --------------  -----\n",
      " 0   nodeName      2464 non-null   int64\n",
      " 1   packetNumber  2464 non-null   int64\n",
      " 2   temperature   2464 non-null   int64\n",
      " 3   brightness    2464 non-null   int64\n",
      " 4   humidity      2464 non-null   int64\n",
      " 5   onBoardTemp   2464 non-null   int64\n",
      "dtypes: int64(6)\n",
      "memory usage: 134.8 KB\n"
     ]
    }
   ],
   "source": [
    "final_clean_raft_3.info()"
   ]
  },
  {
   "cell_type": "code",
   "execution_count": 23,
   "metadata": {},
   "outputs": [],
   "source": [
    "#PAXOS"
   ]
  },
  {
   "cell_type": "code",
   "execution_count": 24,
   "metadata": {},
   "outputs": [
    {
     "data": {
      "text/html": [
       "<div>\n",
       "<style scoped>\n",
       "    .dataframe tbody tr th:only-of-type {\n",
       "        vertical-align: middle;\n",
       "    }\n",
       "\n",
       "    .dataframe tbody tr th {\n",
       "        vertical-align: top;\n",
       "    }\n",
       "\n",
       "    .dataframe thead th {\n",
       "        text-align: right;\n",
       "    }\n",
       "</style>\n",
       "<table border=\"1\" class=\"dataframe\">\n",
       "  <thead>\n",
       "    <tr style=\"text-align: right;\">\n",
       "      <th></th>\n",
       "      <th>nodeName</th>\n",
       "      <th>packetNumber</th>\n",
       "      <th>temperature</th>\n",
       "      <th>brightness</th>\n",
       "      <th>humidity</th>\n",
       "      <th>onBoardTemp</th>\n",
       "    </tr>\n",
       "  </thead>\n",
       "  <tbody>\n",
       "    <tr>\n",
       "      <th>0</th>\n",
       "      <td>NaN</td>\n",
       "      <td>NaN</td>\n",
       "      <td>NaN</td>\n",
       "      <td>NaN</td>\n",
       "      <td>NaN</td>\n",
       "      <td>NaN</td>\n",
       "    </tr>\n",
       "    <tr>\n",
       "      <th>1</th>\n",
       "      <td>1</td>\n",
       "      <td>1</td>\n",
       "      <td>19.0</td>\n",
       "      <td>131</td>\n",
       "      <td>53</td>\n",
       "      <td>19</td>\n",
       "    </tr>\n",
       "    <tr>\n",
       "      <th>2</th>\n",
       "      <td>1</td>\n",
       "      <td>2</td>\n",
       "      <td>19.0</td>\n",
       "      <td>131</td>\n",
       "      <td>53</td>\n",
       "      <td>19</td>\n",
       "    </tr>\n",
       "    <tr>\n",
       "      <th>3</th>\n",
       "      <td>1</td>\n",
       "      <td>3</td>\n",
       "      <td>20.0</td>\n",
       "      <td>114</td>\n",
       "      <td>53</td>\n",
       "      <td>19</td>\n",
       "    </tr>\n",
       "    <tr>\n",
       "      <th>4</th>\n",
       "      <td>1</td>\n",
       "      <td>4</td>\n",
       "      <td>20.0</td>\n",
       "      <td>114</td>\n",
       "      <td>53</td>\n",
       "      <td>19</td>\n",
       "    </tr>\n",
       "    <tr>\n",
       "      <th>...</th>\n",
       "      <td>...</td>\n",
       "      <td>...</td>\n",
       "      <td>...</td>\n",
       "      <td>...</td>\n",
       "      <td>...</td>\n",
       "      <td>...</td>\n",
       "    </tr>\n",
       "    <tr>\n",
       "      <th>2246</th>\n",
       "      <td>2</td>\n",
       "      <td>998</td>\n",
       "      <td>21.0</td>\n",
       "      <td>162</td>\n",
       "      <td>42</td>\n",
       "      <td>23</td>\n",
       "    </tr>\n",
       "    <tr>\n",
       "      <th>2247</th>\n",
       "      <td>3</td>\n",
       "      <td>999</td>\n",
       "      <td>20.0</td>\n",
       "      <td>152</td>\n",
       "      <td>50</td>\n",
       "      <td>22</td>\n",
       "    </tr>\n",
       "    <tr>\n",
       "      <th>2248</th>\n",
       "      <td>2</td>\n",
       "      <td>999</td>\n",
       "      <td>20.0</td>\n",
       "      <td>154</td>\n",
       "      <td>42</td>\n",
       "      <td>23</td>\n",
       "    </tr>\n",
       "    <tr>\n",
       "      <th>2249</th>\n",
       "      <td>3</td>\n",
       "      <td>1000</td>\n",
       "      <td>20.0</td>\n",
       "      <td>150</td>\n",
       "      <td>50</td>\n",
       "      <td>22</td>\n",
       "    </tr>\n",
       "    <tr>\n",
       "      <th>2250</th>\n",
       "      <td>2</td>\n",
       "      <td>1000</td>\n",
       "      <td>20.0</td>\n",
       "      <td>149</td>\n",
       "      <td>42</td>\n",
       "      <td>23</td>\n",
       "    </tr>\n",
       "  </tbody>\n",
       "</table>\n",
       "<p>2251 rows × 6 columns</p>\n",
       "</div>"
      ],
      "text/plain": [
       "     nodeName packetNumber  temperature brightness humidity onBoardTemp\n",
       "0         NaN          NaN          NaN        NaN      NaN         NaN\n",
       "1           1            1         19.0        131       53          19\n",
       "2           1            2         19.0        131       53          19\n",
       "3           1            3         20.0        114       53          19\n",
       "4           1            4         20.0        114       53          19\n",
       "...       ...          ...          ...        ...      ...         ...\n",
       "2246        2          998         21.0        162       42          23\n",
       "2247        3          999         20.0        152       50          22\n",
       "2248        2          999         20.0        154       42          23\n",
       "2249        3         1000         20.0        150       50          22\n",
       "2250        2         1000         20.0        149       42          23\n",
       "\n",
       "[2251 rows x 6 columns]"
      ]
     },
     "execution_count": 24,
     "metadata": {},
     "output_type": "execute_result"
    }
   ],
   "source": [
    "paxos_data_3_nodes[paxos_data_3_nodes.applymap(isnumber)]"
   ]
  },
  {
   "cell_type": "code",
   "execution_count": 25,
   "metadata": {},
   "outputs": [],
   "source": [
    "paxos_data_3_nodes_clean = paxos_data_3_nodes.dropna()"
   ]
  },
  {
   "cell_type": "code",
   "execution_count": 26,
   "metadata": {},
   "outputs": [
    {
     "data": {
      "text/plain": [
       "(2244, 6)"
      ]
     },
     "execution_count": 26,
     "metadata": {},
     "output_type": "execute_result"
    }
   ],
   "source": [
    "paxos_data_3_nodes_clean.shape"
   ]
  },
  {
   "cell_type": "code",
   "execution_count": 27,
   "metadata": {},
   "outputs": [],
   "source": [
    "paxos_data_3_nodes_clean.to_csv('C:\\\\Users\\\\czaps\\\\Documents\\\\MSc\\\\data_wrangling\\\\paxos_data_3_nodes_1_clean.csv', index = False, header=True)"
   ]
  },
  {
   "cell_type": "code",
   "execution_count": 28,
   "metadata": {},
   "outputs": [],
   "source": [
    "#manual cleaning of the csv req"
   ]
  },
  {
   "cell_type": "code",
   "execution_count": 28,
   "metadata": {},
   "outputs": [],
   "source": [
    "clean_paxos_data_3_nodes = pd.read_csv(\"C:\\\\Users\\\\czaps\\\\Documents\\\\MSc\\\\data_wrangling\\\\paxos_data_3_nodes_1_clean.csv\", sep=\",\")"
   ]
  },
  {
   "cell_type": "code",
   "execution_count": 29,
   "metadata": {},
   "outputs": [
    {
     "data": {
      "text/plain": [
       "(2244, 6)"
      ]
     },
     "execution_count": 29,
     "metadata": {},
     "output_type": "execute_result"
    }
   ],
   "source": [
    "clean_paxos_data_3_nodes.shape"
   ]
  },
  {
   "cell_type": "code",
   "execution_count": 30,
   "metadata": {},
   "outputs": [],
   "source": [
    "clean_paxos_data_3 = clean_paxos_data_3_nodes.dropna()"
   ]
  },
  {
   "cell_type": "code",
   "execution_count": 31,
   "metadata": {},
   "outputs": [
    {
     "data": {
      "text/plain": [
       "(2242, 6)"
      ]
     },
     "execution_count": 31,
     "metadata": {},
     "output_type": "execute_result"
    }
   ],
   "source": [
    "clean_paxos_data_3.shape"
   ]
  },
  {
   "cell_type": "code",
   "execution_count": 32,
   "metadata": {},
   "outputs": [],
   "source": [
    "final_clean_paxos_3 = clean_paxos_data_3.astype({\"nodeName\":np.int64,\"packetNumber\":np.int64,\"temperature\":np.int64,\"brightness\":np.int64,\"humidity\":np.int64,\"onBoardTemp\":np.int64})"
   ]
  },
  {
   "cell_type": "code",
   "execution_count": 33,
   "metadata": {},
   "outputs": [],
   "source": [
    "#NO ALG"
   ]
  },
  {
   "cell_type": "code",
   "execution_count": 34,
   "metadata": {},
   "outputs": [
    {
     "data": {
      "text/html": [
       "<div>\n",
       "<style scoped>\n",
       "    .dataframe tbody tr th:only-of-type {\n",
       "        vertical-align: middle;\n",
       "    }\n",
       "\n",
       "    .dataframe tbody tr th {\n",
       "        vertical-align: top;\n",
       "    }\n",
       "\n",
       "    .dataframe thead th {\n",
       "        text-align: right;\n",
       "    }\n",
       "</style>\n",
       "<table border=\"1\" class=\"dataframe\">\n",
       "  <thead>\n",
       "    <tr style=\"text-align: right;\">\n",
       "      <th></th>\n",
       "      <th>nodeName</th>\n",
       "      <th>packetNumber</th>\n",
       "      <th>temperature</th>\n",
       "      <th>brightness</th>\n",
       "      <th>humidity</th>\n",
       "      <th>onBoardTemp</th>\n",
       "    </tr>\n",
       "  </thead>\n",
       "  <tbody>\n",
       "    <tr>\n",
       "      <th>0</th>\n",
       "      <td>NaN</td>\n",
       "      <td>NaN</td>\n",
       "      <td>NaN</td>\n",
       "      <td>NaN</td>\n",
       "      <td>NaN</td>\n",
       "      <td>NaN</td>\n",
       "    </tr>\n",
       "    <tr>\n",
       "      <th>1</th>\n",
       "      <td>1</td>\n",
       "      <td>1</td>\n",
       "      <td>24</td>\n",
       "      <td>65535</td>\n",
       "      <td>37</td>\n",
       "      <td>24</td>\n",
       "    </tr>\n",
       "    <tr>\n",
       "      <th>2</th>\n",
       "      <td>5</td>\n",
       "      <td>2</td>\n",
       "      <td>23</td>\n",
       "      <td>65535</td>\n",
       "      <td>37</td>\n",
       "      <td>24</td>\n",
       "    </tr>\n",
       "    <tr>\n",
       "      <th>3</th>\n",
       "      <td>NaN</td>\n",
       "      <td>NaN</td>\n",
       "      <td>NaN</td>\n",
       "      <td>NaN</td>\n",
       "      <td>NaN</td>\n",
       "      <td>NaN</td>\n",
       "    </tr>\n",
       "    <tr>\n",
       "      <th>4</th>\n",
       "      <td>5</td>\n",
       "      <td>3</td>\n",
       "      <td>23</td>\n",
       "      <td>65535</td>\n",
       "      <td>37</td>\n",
       "      <td>24</td>\n",
       "    </tr>\n",
       "    <tr>\n",
       "      <th>...</th>\n",
       "      <td>...</td>\n",
       "      <td>...</td>\n",
       "      <td>...</td>\n",
       "      <td>...</td>\n",
       "      <td>...</td>\n",
       "      <td>...</td>\n",
       "    </tr>\n",
       "    <tr>\n",
       "      <th>2007</th>\n",
       "      <td>5</td>\n",
       "      <td>996</td>\n",
       "      <td>19</td>\n",
       "      <td>65535</td>\n",
       "      <td>42</td>\n",
       "      <td>20</td>\n",
       "    </tr>\n",
       "    <tr>\n",
       "      <th>2008</th>\n",
       "      <td>5</td>\n",
       "      <td>997</td>\n",
       "      <td>20</td>\n",
       "      <td>65535</td>\n",
       "      <td>42</td>\n",
       "      <td>20</td>\n",
       "    </tr>\n",
       "    <tr>\n",
       "      <th>2009</th>\n",
       "      <td>5</td>\n",
       "      <td>998</td>\n",
       "      <td>19</td>\n",
       "      <td>65535</td>\n",
       "      <td>42</td>\n",
       "      <td>20</td>\n",
       "    </tr>\n",
       "    <tr>\n",
       "      <th>2010</th>\n",
       "      <td>5</td>\n",
       "      <td>999</td>\n",
       "      <td>20</td>\n",
       "      <td>65535</td>\n",
       "      <td>42</td>\n",
       "      <td>20</td>\n",
       "    </tr>\n",
       "    <tr>\n",
       "      <th>2011</th>\n",
       "      <td>5</td>\n",
       "      <td>1000</td>\n",
       "      <td>20</td>\n",
       "      <td>65535</td>\n",
       "      <td>43</td>\n",
       "      <td>20</td>\n",
       "    </tr>\n",
       "  </tbody>\n",
       "</table>\n",
       "<p>2012 rows × 6 columns</p>\n",
       "</div>"
      ],
      "text/plain": [
       "     nodeName packetNumber temperature brightness humidity onBoardTemp\n",
       "0         NaN          NaN         NaN        NaN      NaN         NaN\n",
       "1           1            1          24      65535       37          24\n",
       "2           5            2          23      65535       37          24\n",
       "3         NaN          NaN         NaN        NaN      NaN         NaN\n",
       "4           5            3          23      65535       37          24\n",
       "...       ...          ...         ...        ...      ...         ...\n",
       "2007        5          996          19      65535       42          20\n",
       "2008        5          997          20      65535       42          20\n",
       "2009        5          998          19      65535       42          20\n",
       "2010        5          999          20      65535       42          20\n",
       "2011        5         1000          20      65535       43          20\n",
       "\n",
       "[2012 rows x 6 columns]"
      ]
     },
     "execution_count": 34,
     "metadata": {},
     "output_type": "execute_result"
    }
   ],
   "source": [
    "noalg_data_3_nodes[noalg_data_3_nodes.applymap(isnumber)]"
   ]
  },
  {
   "cell_type": "code",
   "execution_count": 35,
   "metadata": {},
   "outputs": [],
   "source": [
    "noalg_data_3_nodes_clean = noalg_data_3_nodes.dropna()"
   ]
  },
  {
   "cell_type": "code",
   "execution_count": 36,
   "metadata": {},
   "outputs": [
    {
     "data": {
      "text/plain": [
       "(1966, 6)"
      ]
     },
     "execution_count": 36,
     "metadata": {},
     "output_type": "execute_result"
    }
   ],
   "source": [
    "noalg_data_3_nodes_clean.shape"
   ]
  },
  {
   "cell_type": "code",
   "execution_count": 37,
   "metadata": {},
   "outputs": [],
   "source": [
    "noalg_data_3_nodes_clean.to_csv('C:\\\\Users\\\\czaps\\\\Documents\\\\MSc\\\\data_wrangling\\\\noalg_data_3_nodes_1_clean.csv', index = False, header=True)"
   ]
  },
  {
   "cell_type": "code",
   "execution_count": 39,
   "metadata": {},
   "outputs": [],
   "source": [
    "#manual cleaning of the csv req"
   ]
  },
  {
   "cell_type": "code",
   "execution_count": 44,
   "metadata": {},
   "outputs": [],
   "source": [
    "clean_noalg_data_3_nodes = pd.read_csv(\"C:\\\\Users\\\\czaps\\\\Documents\\\\MSc\\\\data_wrangling\\\\noalg_data_3_nodes_1_clean.csv\", sep=\",\")"
   ]
  },
  {
   "cell_type": "code",
   "execution_count": 45,
   "metadata": {},
   "outputs": [
    {
     "data": {
      "text/plain": [
       "(1966, 6)"
      ]
     },
     "execution_count": 45,
     "metadata": {},
     "output_type": "execute_result"
    }
   ],
   "source": [
    "clean_noalg_data_3_nodes.shape"
   ]
  },
  {
   "cell_type": "code",
   "execution_count": 46,
   "metadata": {},
   "outputs": [],
   "source": [
    "clean_noalg_data_3 = clean_noalg_data_3_nodes.dropna()"
   ]
  },
  {
   "cell_type": "code",
   "execution_count": 47,
   "metadata": {},
   "outputs": [
    {
     "data": {
      "text/plain": [
       "(1954, 6)"
      ]
     },
     "execution_count": 47,
     "metadata": {},
     "output_type": "execute_result"
    }
   ],
   "source": [
    "clean_noalg_data_3.shape"
   ]
  },
  {
   "cell_type": "code",
   "execution_count": 48,
   "metadata": {},
   "outputs": [],
   "source": [
    "final_clean_noalg_3 = clean_noalg_data_3.astype({\"nodeName\":np.int64,\"packetNumber\":np.int64,\"temperature\":np.int64,\"brightness\":np.int64,\"humidity\":np.int64,\"onBoardTemp\":np.int64})"
   ]
  },
  {
   "cell_type": "code",
   "execution_count": 76,
   "metadata": {},
   "outputs": [],
   "source": [
    "df = {'algorithm': ['RAFT', 'Paxos', 'NoAlgorithm'], \n",
    "               'goodPacketsReceived': [len(final_clean_raft_3), len(final_clean_paxos_3), len(final_clean_noalg_3)], \n",
    "               'totalPacketsReceived': [len(raft_data_3_nodes), len(paxos_data_3_nodes), len(noalg_data_3_nodes)], \n",
    "               'packetsExpected': [2500, 2500, 2500]}\n",
    "\n",
    "all_3_nodes = pd.DataFrame(df)"
   ]
  },
  {
   "cell_type": "code",
   "execution_count": 77,
   "metadata": {},
   "outputs": [],
   "source": [
    "plt.rcParams['figure.figsize'] = (15.0, 12.0)\n",
    "plt.rcParams['font.family'] = \"serif\""
   ]
  },
  {
   "cell_type": "code",
   "execution_count": 79,
   "metadata": {},
   "outputs": [
    {
     "data": {
      "image/png": "[encoded data removed]",
      "text/plain": [
       "<Figure size 1080x864 with 1 Axes>"
      ]
     },
     "metadata": {},
     "output_type": "display_data"
    }
   ],
   "source": [
    "ax = all_3_nodes.plot.bar(x='algorithm')\n",
    "plt.title('LoRa Packet Delivered in 3 Node Setup (1 fail) with Different Algorithms')\n",
    "ax.set(xlabel='', ylabel='Number of Packets Received')\n",
    "ax.set_xticklabels(ax.get_xticklabels(), rotation=0, ha=\"center\")\n",
    "for bars in ax.containers:\n",
    "    ax.bar_label(bars)\n",
    "plt.legend(loc='lower left')\n",
    "plt.savefig('C:\\\\Users\\\\czaps\\\\Documents\\\\MSc\\\\images\\\\3_nodes_1.png', bbox_inches='tight')"
   ]
  },
  {
   "cell_type": "code",
   "execution_count": 80,
   "metadata": {},
   "outputs": [
    {
     "data": {
      "image/png": "[encoded data removed]",
      "text/plain": [
       "<Figure size 1080x720 with 1 Axes>"
      ]
     },
     "metadata": {},
     "output_type": "display_data"
    }
   ],
   "source": [
    "#LoRa Packet Loss in 3 Node Setup (1 fail) with RAFT Algorithm\n",
    "plt.rcParams['figure.figsize']=(15,10)\n",
    "sns.set_theme(style=\"darkgrid\")\n",
    "ax = sns.countplot(x='nodeName', data=final_clean_raft_3)\n",
    "plt.title('LoRa Packet Loss in 3 Node Setup (1 fail) with RAFT Algorithm')\n",
    "ax.set(xlabel='Node', ylabel='Number of Packets Received')\n",
    "#for container in ax.containers:\n",
    "    #ax.bar_label(container)\n",
    "ax.bar_label(ax.containers[0])\n",
    "plt.savefig('C:\\\\Users\\\\czaps\\\\Documents\\\\MSc\\\\images\\\\3_nodes_1_RAFT.png', bbox_inches='tight')"
   ]
  },
  {
   "cell_type": "code",
   "execution_count": 81,
   "metadata": {},
   "outputs": [
    {
     "data": {
      "image/png": "[encoded data removed]",
      "text/plain": [
       "<Figure size 1080x720 with 1 Axes>"
      ]
     },
     "metadata": {},
     "output_type": "display_data"
    }
   ],
   "source": [
    "#LoRa Packet Loss in 3 Node Setup (1 fail) with Paxos Algorithm\n",
    "plt.rcParams['figure.figsize']=(15,10)\n",
    "sns.set_theme(style=\"darkgrid\")\n",
    "ax = sns.countplot(x='nodeName', data=final_clean_paxos_3)\n",
    "plt.title('LoRa Packet Loss in 3 Node Setup (1 fail) with Paxos Algorithm')\n",
    "ax.set(xlabel='Node', ylabel='Number of Packets Received')\n",
    "#for container in ax.containers:\n",
    "    #ax.bar_label(container)\n",
    "ax.bar_label(ax.containers[0])\n",
    "plt.savefig('C:\\\\Users\\\\czaps\\\\Documents\\\\MSc\\\\images\\\\3_nodes_1_Paxos.png', bbox_inches='tight')"
   ]
  },
  {
   "cell_type": "code",
   "execution_count": 82,
   "metadata": {},
   "outputs": [
    {
     "data": {
      "image/png": "[encoded data removed]",
      "text/plain": [
       "<Figure size 1080x720 with 1 Axes>"
      ]
     },
     "metadata": {},
     "output_type": "display_data"
    }
   ],
   "source": [
    "#LoRa Packet Loss in 3 Node Setup (1 fail) without Algorithms\n",
    "plt.rcParams['figure.figsize']=(15,10)\n",
    "sns.set_theme(style=\"darkgrid\")\n",
    "ax = sns.countplot(x='nodeName', data=final_clean_noalg_3)\n",
    "plt.title('LoRa Packet Loss in 3 Node Setup (1 fail) without Algorithms')\n",
    "ax.set(xlabel='Node', ylabel='Number of Packets Received')\n",
    "#for container in ax.containers:\n",
    "    #ax.bar_label(container)\n",
    "ax.bar_label(ax.containers[0])\n",
    "plt.savefig('C:\\\\Users\\\\czaps\\\\Documents\\\\MSc\\\\images\\\\3_nodes_1_noAlg_outdoor.png', bbox_inches='tight')"
   ]
  },
  {
   "cell_type": "code",
   "execution_count": 61,
   "metadata": {},
   "outputs": [],
   "source": [
    "#no alg indoor"
   ]
  },
  {
   "cell_type": "code",
   "execution_count": 62,
   "metadata": {},
   "outputs": [],
   "source": [
    "indoor_noalg_data_3_nodes = pd.read_csv(\"C:\\\\Users\\\\czaps\\\\Documents\\\\MSc\\\\experiments\\\\packet_loss\\\\control\\\\6_control_3-nodes_1-failure\\\\data.csv\", error_bad_lines=False, sep=\",\")"
   ]
  },
  {
   "cell_type": "code",
   "execution_count": 63,
   "metadata": {},
   "outputs": [
    {
     "data": {
      "text/html": [
       "<div>\n",
       "<style scoped>\n",
       "    .dataframe tbody tr th:only-of-type {\n",
       "        vertical-align: middle;\n",
       "    }\n",
       "\n",
       "    .dataframe tbody tr th {\n",
       "        vertical-align: top;\n",
       "    }\n",
       "\n",
       "    .dataframe thead th {\n",
       "        text-align: right;\n",
       "    }\n",
       "</style>\n",
       "<table border=\"1\" class=\"dataframe\">\n",
       "  <thead>\n",
       "    <tr style=\"text-align: right;\">\n",
       "      <th></th>\n",
       "      <th>nodeName</th>\n",
       "      <th>packetNumber</th>\n",
       "      <th>temperature</th>\n",
       "      <th>brightness</th>\n",
       "      <th>humidity</th>\n",
       "      <th>onBoardTemp</th>\n",
       "    </tr>\n",
       "  </thead>\n",
       "  <tbody>\n",
       "    <tr>\n",
       "      <th>0</th>\n",
       "      <td>NaN</td>\n",
       "      <td>NaN</td>\n",
       "      <td>NaN</td>\n",
       "      <td>NaN</td>\n",
       "      <td>NaN</td>\n",
       "      <td>NaN</td>\n",
       "    </tr>\n",
       "    <tr>\n",
       "      <th>1</th>\n",
       "      <td>NaN</td>\n",
       "      <td>NaN</td>\n",
       "      <td>NaN</td>\n",
       "      <td>NaN</td>\n",
       "      <td>NaN</td>\n",
       "      <td>NaN</td>\n",
       "    </tr>\n",
       "    <tr>\n",
       "      <th>2</th>\n",
       "      <td>5</td>\n",
       "      <td>1</td>\n",
       "      <td>27.0</td>\n",
       "      <td>53.0</td>\n",
       "      <td>38.0</td>\n",
       "      <td>25</td>\n",
       "    </tr>\n",
       "    <tr>\n",
       "      <th>3</th>\n",
       "      <td>5</td>\n",
       "      <td>2</td>\n",
       "      <td>27.0</td>\n",
       "      <td>53.0</td>\n",
       "      <td>38.0</td>\n",
       "      <td>25</td>\n",
       "    </tr>\n",
       "    <tr>\n",
       "      <th>4</th>\n",
       "      <td>5</td>\n",
       "      <td>3</td>\n",
       "      <td>27.0</td>\n",
       "      <td>53.0</td>\n",
       "      <td>38.0</td>\n",
       "      <td>25</td>\n",
       "    </tr>\n",
       "    <tr>\n",
       "      <th>...</th>\n",
       "      <td>...</td>\n",
       "      <td>...</td>\n",
       "      <td>...</td>\n",
       "      <td>...</td>\n",
       "      <td>...</td>\n",
       "      <td>...</td>\n",
       "    </tr>\n",
       "    <tr>\n",
       "      <th>1997</th>\n",
       "      <td>5</td>\n",
       "      <td>1000</td>\n",
       "      <td>27.0</td>\n",
       "      <td>34.0</td>\n",
       "      <td>37.0</td>\n",
       "      <td>25</td>\n",
       "    </tr>\n",
       "    <tr>\n",
       "      <th>1998</th>\n",
       "      <td>2</td>\n",
       "      <td>997</td>\n",
       "      <td>21.0</td>\n",
       "      <td>63.0</td>\n",
       "      <td>40.0</td>\n",
       "      <td>25</td>\n",
       "    </tr>\n",
       "    <tr>\n",
       "      <th>1999</th>\n",
       "      <td>2</td>\n",
       "      <td>998</td>\n",
       "      <td>21.0</td>\n",
       "      <td>66.0</td>\n",
       "      <td>40.0</td>\n",
       "      <td>25</td>\n",
       "    </tr>\n",
       "    <tr>\n",
       "      <th>2000</th>\n",
       "      <td>2</td>\n",
       "      <td>999</td>\n",
       "      <td>21.0</td>\n",
       "      <td>72.0</td>\n",
       "      <td>40.0</td>\n",
       "      <td>25</td>\n",
       "    </tr>\n",
       "    <tr>\n",
       "      <th>2001</th>\n",
       "      <td>2</td>\n",
       "      <td>1000</td>\n",
       "      <td>21.0</td>\n",
       "      <td>85.0</td>\n",
       "      <td>40.0</td>\n",
       "      <td>25</td>\n",
       "    </tr>\n",
       "  </tbody>\n",
       "</table>\n",
       "<p>2002 rows × 6 columns</p>\n",
       "</div>"
      ],
      "text/plain": [
       "     nodeName packetNumber  temperature  brightness  humidity onBoardTemp\n",
       "0         NaN          NaN          NaN         NaN       NaN         NaN\n",
       "1         NaN          NaN          NaN         NaN       NaN         NaN\n",
       "2           5            1         27.0        53.0      38.0          25\n",
       "3           5            2         27.0        53.0      38.0          25\n",
       "4           5            3         27.0        53.0      38.0          25\n",
       "...       ...          ...          ...         ...       ...         ...\n",
       "1997        5         1000         27.0        34.0      37.0          25\n",
       "1998        2          997         21.0        63.0      40.0          25\n",
       "1999        2          998         21.0        66.0      40.0          25\n",
       "2000        2          999         21.0        72.0      40.0          25\n",
       "2001        2         1000         21.0        85.0      40.0          25\n",
       "\n",
       "[2002 rows x 6 columns]"
      ]
     },
     "execution_count": 63,
     "metadata": {},
     "output_type": "execute_result"
    }
   ],
   "source": [
    "indoor_noalg_data_3_nodes[indoor_noalg_data_3_nodes.applymap(isnumber)]"
   ]
  },
  {
   "cell_type": "code",
   "execution_count": 64,
   "metadata": {},
   "outputs": [],
   "source": [
    "indoor_noalg_data_3_nodes_clean = indoor_noalg_data_3_nodes.dropna()"
   ]
  },
  {
   "cell_type": "code",
   "execution_count": 65,
   "metadata": {},
   "outputs": [
    {
     "data": {
      "text/plain": [
       "(2000, 6)"
      ]
     },
     "execution_count": 65,
     "metadata": {},
     "output_type": "execute_result"
    }
   ],
   "source": [
    "indoor_noalg_data_3_nodes_clean.shape"
   ]
  },
  {
   "cell_type": "code",
   "execution_count": 66,
   "metadata": {},
   "outputs": [],
   "source": [
    "indoor_noalg_data_3_nodes_clean.to_csv('C:\\\\Users\\\\czaps\\\\Documents\\\\MSc\\\\data_wrangling\\\\indoor_noalg_data_3_nodes_1_clean.csv', index = False, header=True)"
   ]
  },
  {
   "cell_type": "code",
   "execution_count": 67,
   "metadata": {},
   "outputs": [],
   "source": [
    "#manual cleaning of the csv req"
   ]
  },
  {
   "cell_type": "code",
   "execution_count": 68,
   "metadata": {},
   "outputs": [],
   "source": [
    "clean_indoor_noalg_data_3_nodes = pd.read_csv(\"C:\\\\Users\\\\czaps\\\\Documents\\\\MSc\\\\data_wrangling\\\\indoor_noalg_data_3_nodes_1_clean.csv\", sep=\",\")"
   ]
  },
  {
   "cell_type": "code",
   "execution_count": 69,
   "metadata": {},
   "outputs": [
    {
     "data": {
      "text/plain": [
       "(2000, 6)"
      ]
     },
     "execution_count": 69,
     "metadata": {},
     "output_type": "execute_result"
    }
   ],
   "source": [
    "clean_indoor_noalg_data_3_nodes.shape"
   ]
  },
  {
   "cell_type": "code",
   "execution_count": 70,
   "metadata": {},
   "outputs": [],
   "source": [
    "clean_indoor_noalg_data_3 = clean_indoor_noalg_data_3_nodes.dropna()"
   ]
  },
  {
   "cell_type": "code",
   "execution_count": 71,
   "metadata": {},
   "outputs": [
    {
     "data": {
      "text/plain": [
       "(1996, 6)"
      ]
     },
     "execution_count": 71,
     "metadata": {},
     "output_type": "execute_result"
    }
   ],
   "source": [
    "clean_indoor_noalg_data_3.shape"
   ]
  },
  {
   "cell_type": "code",
   "execution_count": 72,
   "metadata": {},
   "outputs": [],
   "source": [
    "final_indoor_clean_noalg_3 = clean_indoor_noalg_data_3.astype({\"nodeName\":np.int64,\"packetNumber\":np.int64,\"temperature\":np.int64,\"brightness\":np.int64,\"humidity\":np.int64,\"onBoardTemp\":np.int64})"
   ]
  },
  {
   "cell_type": "code",
   "execution_count": 83,
   "metadata": {},
   "outputs": [],
   "source": [
    "df1 = {'algorithm': ['RAFT', 'Paxos', 'NoAlgorithmOutdoor', 'NoAlgorithmIndoor'], \n",
    "               'goodPacketsReceived': [len(final_clean_raft_3), len(final_clean_paxos_3), len(final_clean_noalg_3),len(final_indoor_clean_noalg_3)], \n",
    "               'totalPacketsReceived': [len(raft_data_3_nodes), len(paxos_data_3_nodes), len(noalg_data_3_nodes),len(indoor_noalg_data_3_nodes)], \n",
    "               'packetsExpected': [2500, 2500, 2500,2500]}\n",
    "\n",
    "all_3_nodes_indoor = pd.DataFrame(df1)"
   ]
  },
  {
   "cell_type": "code",
   "execution_count": 85,
   "metadata": {},
   "outputs": [
    {
     "data": {
      "image/png": "[encoded data removed]",
      "text/plain": [
       "<Figure size 1080x720 with 1 Axes>"
      ]
     },
     "metadata": {},
     "output_type": "display_data"
    }
   ],
   "source": [
    "ax = all_3_nodes_indoor.plot.bar(x='algorithm')\n",
    "plt.title('LoRa Packet Delivered in 3 Node Setup (1 fail) with Different Algorithms')\n",
    "ax.set(xlabel='', ylabel='Number of Packets Sent')\n",
    "ax.set_xticklabels(ax.get_xticklabels(), rotation=0, ha=\"center\")\n",
    "for bars in ax.containers:\n",
    "    ax.bar_label(bars)\n",
    "plt.legend(loc='lower left')\n",
    "plt.savefig('C:\\\\Users\\\\czaps\\\\Documents\\\\MSc\\\\images\\\\3_nodes_1_indoor.png', bbox_inches='tight')"
   ]
  },
  {
   "cell_type": "code",
   "execution_count": 86,
   "metadata": {},
   "outputs": [
    {
     "data": {
      "image/png": "[encoded data removed]",
      "text/plain": [
       "<Figure size 1080x720 with 1 Axes>"
      ]
     },
     "metadata": {},
     "output_type": "display_data"
    }
   ],
   "source": [
    "#LoRa Packet Loss in 3 Node Setup (1 fail) without Algorithms INDOOR\n",
    "plt.rcParams['figure.figsize']=(15,10)\n",
    "sns.set_theme(style=\"darkgrid\")\n",
    "ax = sns.countplot(x='nodeName', data=final_indoor_clean_noalg_3)\n",
    "plt.title('LoRa Packet Loss in 3 Node Setup (1 fail) without Algorithms(indoor)')\n",
    "ax.set(xlabel='Node', ylabel='Number of Packets Received')\n",
    "#for container in ax.containers:\n",
    "    #ax.bar_label(container)\n",
    "ax.bar_label(ax.containers[0])\n",
    "plt.savefig('C:\\\\Users\\\\czaps\\\\Documents\\\\MSc\\\\images\\\\3_nodes_1_noAlg_indoor.png', bbox_inches='tight')"
   ]
  },
  {
   "cell_type": "code",
   "execution_count": null,
   "metadata": {},
   "outputs": [],
   "source": []
  }
 ],
 "metadata": {
  "kernelspec": {
   "display_name": "Python 3",
   "language": "python",
   "name": "python3"
  },
  "language_info": {
   "codemirror_mode": {
    "name": "ipython",
    "version": 3
   },
   "file_extension": ".py",
   "mimetype": "text/x-python",
   "name": "python",
   "nbconvert_exporter": "python",
   "pygments_lexer": "ipython3",
   "version": "3.7.1"
  }
 },
 "nbformat": 4,
 "nbformat_minor": 4
}
