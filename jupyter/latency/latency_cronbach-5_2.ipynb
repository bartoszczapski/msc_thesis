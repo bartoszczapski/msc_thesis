{
 "cells": [
  {
   "cell_type": "code",
   "execution_count": 1,
   "metadata": {},
   "outputs": [],
   "source": [
    "# Import the libraries\n",
    "import os\n",
    "import pandas as pd\n",
    "import matplotlib\n",
    "matplotlib.use(u'nbAgg')\n",
    "import matplotlib.pyplot as plt\n",
    "import seaborn as sns\n",
    "import numpy as np\n",
    "import pickle\n",
    "from sklearn.manifold import TSNE\n",
    "from sklearn import preprocessing\n",
    "import pandas as pd\n",
    "import pingouin as pg\n",
    "import reliability_stability\n",
    "%matplotlib inline"
   ]
  },
  {
   "cell_type": "code",
   "execution_count": 2,
   "metadata": {},
   "outputs": [],
   "source": [
    "def isnumber(x):\n",
    "    try:\n",
    "        int(x)\n",
    "        return True\n",
    "    except:\n",
    "        return False"
   ]
  },
  {
   "cell_type": "code",
   "execution_count": 3,
   "metadata": {},
   "outputs": [
    {
     "name": "stderr",
     "output_type": "stream",
     "text": [
      "b'Skipping line 2053: expected 8 fields, saw 9\\nSkipping line 2095: expected 8 fields, saw 9\\nSkipping line 2400: expected 8 fields, saw 10\\nSkipping line 2403: expected 8 fields, saw 9\\nSkipping line 2796: expected 8 fields, saw 9\\n'\n",
      "b'Skipping line 375: expected 8 fields, saw 9\\nSkipping line 952: expected 8 fields, saw 9\\nSkipping line 2691: expected 8 fields, saw 9\\n'\n",
      "b'Skipping line 7: expected 8 fields, saw 9\\nSkipping line 48: expected 8 fields, saw 9\\nSkipping line 424: expected 8 fields, saw 9\\n'\n"
     ]
    }
   ],
   "source": [
    "raft = pd.read_csv(\"C:\\\\Users\\\\czaps\\\\Documents\\\\MSc\\\\experiments\\\\latency\\\\outdoor_latency_experiment\\\\raft_data_5-nodes_2-fails.csv\", error_bad_lines=False, sep=\",\")\n",
    "paxos = pd.read_csv(\"C:\\\\Users\\\\czaps\\\\Documents\\\\MSc\\\\experiments\\\\latency\\\\outdoor_latency_experiment\\\\paxos_data_5-nodes_2-fails.csv\", error_bad_lines=False, sep=\",\")\n",
    "noAlg = pd.read_csv(\"C:\\\\Users\\\\czaps\\\\Documents\\\\MSc\\\\experiments\\\\latency\\\\outdoor_latency_experiment\\\\control\\\\outdoor_control_5-nodes_2-fails\\\\data.csv\", error_bad_lines=False, sep=\",\")"
   ]
  },
  {
   "cell_type": "code",
   "execution_count": 4,
   "metadata": {},
   "outputs": [
    {
     "data": {
      "text/plain": [
       "(3693, 8)"
      ]
     },
     "execution_count": 4,
     "metadata": {},
     "output_type": "execute_result"
    }
   ],
   "source": [
    "raft.shape"
   ]
  },
  {
   "cell_type": "code",
   "execution_count": 5,
   "metadata": {},
   "outputs": [
    {
     "data": {
      "text/plain": [
       "(3491, 8)"
      ]
     },
     "execution_count": 5,
     "metadata": {},
     "output_type": "execute_result"
    }
   ],
   "source": [
    "paxos.shape"
   ]
  },
  {
   "cell_type": "code",
   "execution_count": 6,
   "metadata": {},
   "outputs": [
    {
     "data": {
      "text/plain": [
       "(2132, 8)"
      ]
     },
     "execution_count": 6,
     "metadata": {},
     "output_type": "execute_result"
    }
   ],
   "source": [
    "noAlg.shape"
   ]
  },
  {
   "cell_type": "code",
   "execution_count": 7,
   "metadata": {},
   "outputs": [
    {
     "name": "stdout",
     "output_type": "stream",
     "text": [
      "<class 'pandas.core.frame.DataFrame'>\n",
      "RangeIndex: 3693 entries, 0 to 3692\n",
      "Data columns (total 8 columns):\n",
      " #   Column        Non-Null Count  Dtype  \n",
      "---  ------        --------------  -----  \n",
      " 0   nodeName      3691 non-null   object \n",
      " 1   packetNumber  3693 non-null   object \n",
      " 2   temperature   3693 non-null   object \n",
      " 3   brightness    3675 non-null   object \n",
      " 4   humidity      3662 non-null   object \n",
      " 5   onBoardTemp   3650 non-null   object \n",
      " 6   sent          3629 non-null   object \n",
      " 7   received      3492 non-null   float64\n",
      "dtypes: float64(1), object(7)\n",
      "memory usage: 230.9+ KB\n"
     ]
    }
   ],
   "source": [
    "raft.info()"
   ]
  },
  {
   "cell_type": "code",
   "execution_count": 8,
   "metadata": {},
   "outputs": [
    {
     "name": "stdout",
     "output_type": "stream",
     "text": [
      "<class 'pandas.core.frame.DataFrame'>\n",
      "RangeIndex: 3491 entries, 0 to 3490\n",
      "Data columns (total 8 columns):\n",
      " #   Column        Non-Null Count  Dtype  \n",
      "---  ------        --------------  -----  \n",
      " 0   nodeName      3488 non-null   object \n",
      " 1   packetNumber  3490 non-null   object \n",
      " 2   temperature   3483 non-null   object \n",
      " 3   brightness    3464 non-null   object \n",
      " 4   humidity      3448 non-null   object \n",
      " 5   onBoardTemp   3424 non-null   object \n",
      " 6   sent          3376 non-null   object \n",
      " 7   received      3204 non-null   float64\n",
      "dtypes: float64(1), object(7)\n",
      "memory usage: 218.3+ KB\n"
     ]
    }
   ],
   "source": [
    "paxos.info()"
   ]
  },
  {
   "cell_type": "code",
   "execution_count": 9,
   "metadata": {},
   "outputs": [
    {
     "name": "stdout",
     "output_type": "stream",
     "text": [
      "<class 'pandas.core.frame.DataFrame'>\n",
      "RangeIndex: 2132 entries, 0 to 2131\n",
      "Data columns (total 8 columns):\n",
      " #   Column        Non-Null Count  Dtype  \n",
      "---  ------        --------------  -----  \n",
      " 0   nodeName      2131 non-null   object \n",
      " 1   packetNumber  2132 non-null   object \n",
      " 2   temperature   2111 non-null   object \n",
      " 3   brightness    2087 non-null   object \n",
      " 4   humidity      2054 non-null   object \n",
      " 5   onBoardTemp   2032 non-null   object \n",
      " 6   sent          2002 non-null   object \n",
      " 7   received      1975 non-null   float64\n",
      "dtypes: float64(1), object(7)\n",
      "memory usage: 133.4+ KB\n"
     ]
    }
   ],
   "source": [
    "noAlg.info()"
   ]
  },
  {
   "cell_type": "code",
   "execution_count": 10,
   "metadata": {},
   "outputs": [
    {
     "data": {
      "text/html": [
       "<div>\n",
       "<style scoped>\n",
       "    .dataframe tbody tr th:only-of-type {\n",
       "        vertical-align: middle;\n",
       "    }\n",
       "\n",
       "    .dataframe tbody tr th {\n",
       "        vertical-align: top;\n",
       "    }\n",
       "\n",
       "    .dataframe thead th {\n",
       "        text-align: right;\n",
       "    }\n",
       "</style>\n",
       "<table border=\"1\" class=\"dataframe\">\n",
       "  <thead>\n",
       "    <tr style=\"text-align: right;\">\n",
       "      <th></th>\n",
       "      <th>nodeName</th>\n",
       "      <th>packetNumber</th>\n",
       "      <th>temperature</th>\n",
       "      <th>brightness</th>\n",
       "      <th>humidity</th>\n",
       "      <th>onBoardTemp</th>\n",
       "      <th>sent</th>\n",
       "      <th>received</th>\n",
       "    </tr>\n",
       "  </thead>\n",
       "  <tbody>\n",
       "    <tr>\n",
       "      <th>0</th>\n",
       "      <td>5</td>\n",
       "      <td>1</td>\n",
       "      <td>20</td>\n",
       "      <td>489</td>\n",
       "      <td>41</td>\n",
       "      <td>23</td>\n",
       "      <td>706443508403</td>\n",
       "      <td>7.064435e+11</td>\n",
       "    </tr>\n",
       "    <tr>\n",
       "      <th>1</th>\n",
       "      <td>1</td>\n",
       "      <td>4</td>\n",
       "      <td>20</td>\n",
       "      <td>400</td>\n",
       "      <td>41</td>\n",
       "      <td>23</td>\n",
       "      <td>706443512039</td>\n",
       "      <td>7.064435e+11</td>\n",
       "    </tr>\n",
       "    <tr>\n",
       "      <th>2</th>\n",
       "      <td>2</td>\n",
       "      <td>2</td>\n",
       "      <td>18</td>\n",
       "      <td>636</td>\n",
       "      <td>39</td>\n",
       "      <td>23</td>\n",
       "      <td>706443513660</td>\n",
       "      <td>7.064435e+11</td>\n",
       "    </tr>\n",
       "    <tr>\n",
       "      <th>3</th>\n",
       "      <td>3</td>\n",
       "      <td>2</td>\n",
       "      <td>19</td>\n",
       "      <td>323</td>\n",
       "      <td>46</td>\n",
       "      <td>22</td>\n",
       "      <td>706443516160</td>\n",
       "      <td>7.064435e+11</td>\n",
       "    </tr>\n",
       "    <tr>\n",
       "      <th>4</th>\n",
       "      <td>5</td>\n",
       "      <td>2</td>\n",
       "      <td>20</td>\n",
       "      <td>512</td>\n",
       "      <td>41</td>\n",
       "      <td>23</td>\n",
       "      <td>706443518921</td>\n",
       "      <td>7.064435e+11</td>\n",
       "    </tr>\n",
       "    <tr>\n",
       "      <th>...</th>\n",
       "      <td>...</td>\n",
       "      <td>...</td>\n",
       "      <td>...</td>\n",
       "      <td>...</td>\n",
       "      <td>...</td>\n",
       "      <td>...</td>\n",
       "      <td>...</td>\n",
       "      <td>...</td>\n",
       "    </tr>\n",
       "    <tr>\n",
       "      <th>3688</th>\n",
       "      <td>4</td>\n",
       "      <td>996</td>\n",
       "      <td>22</td>\n",
       "      <td>430</td>\n",
       "      <td>34</td>\n",
       "      <td>26</td>\n",
       "      <td>706454018016</td>\n",
       "      <td>7.064540e+11</td>\n",
       "    </tr>\n",
       "    <tr>\n",
       "      <th>3689</th>\n",
       "      <td>4</td>\n",
       "      <td>997</td>\n",
       "      <td>23</td>\n",
       "      <td>428</td>\n",
       "      <td>34</td>\n",
       "      <td>26</td>\n",
       "      <td>706454019524</td>\n",
       "      <td>7.064540e+11</td>\n",
       "    </tr>\n",
       "    <tr>\n",
       "      <th>3690</th>\n",
       "      <td>4</td>\n",
       "      <td>998</td>\n",
       "      <td>NaN</td>\n",
       "      <td>506</td>\n",
       "      <td>34</td>\n",
       "      <td>26</td>\n",
       "      <td>706454021032</td>\n",
       "      <td>7.064540e+11</td>\n",
       "    </tr>\n",
       "    <tr>\n",
       "      <th>3691</th>\n",
       "      <td>4</td>\n",
       "      <td>999</td>\n",
       "      <td>20</td>\n",
       "      <td>542</td>\n",
       "      <td>34</td>\n",
       "      <td>26</td>\n",
       "      <td>706454022540</td>\n",
       "      <td>7.064540e+11</td>\n",
       "    </tr>\n",
       "    <tr>\n",
       "      <th>3692</th>\n",
       "      <td>4</td>\n",
       "      <td>1000</td>\n",
       "      <td>21</td>\n",
       "      <td>543</td>\n",
       "      <td>34</td>\n",
       "      <td>26</td>\n",
       "      <td>706454024048</td>\n",
       "      <td>7.064540e+11</td>\n",
       "    </tr>\n",
       "  </tbody>\n",
       "</table>\n",
       "<p>3693 rows × 8 columns</p>\n",
       "</div>"
      ],
      "text/plain": [
       "     nodeName packetNumber temperature brightness humidity onBoardTemp  \\\n",
       "0           5            1          20        489       41          23   \n",
       "1           1            4          20        400       41          23   \n",
       "2           2            2          18        636       39          23   \n",
       "3           3            2          19        323       46          22   \n",
       "4           5            2          20        512       41          23   \n",
       "...       ...          ...         ...        ...      ...         ...   \n",
       "3688        4          996          22        430       34          26   \n",
       "3689        4          997          23        428       34          26   \n",
       "3690        4          998         NaN        506       34          26   \n",
       "3691        4          999          20        542       34          26   \n",
       "3692        4         1000          21        543       34          26   \n",
       "\n",
       "              sent      received  \n",
       "0     706443508403  7.064435e+11  \n",
       "1     706443512039  7.064435e+11  \n",
       "2     706443513660  7.064435e+11  \n",
       "3     706443516160  7.064435e+11  \n",
       "4     706443518921  7.064435e+11  \n",
       "...            ...           ...  \n",
       "3688  706454018016  7.064540e+11  \n",
       "3689  706454019524  7.064540e+11  \n",
       "3690  706454021032  7.064540e+11  \n",
       "3691  706454022540  7.064540e+11  \n",
       "3692  706454024048  7.064540e+11  \n",
       "\n",
       "[3693 rows x 8 columns]"
      ]
     },
     "execution_count": 10,
     "metadata": {},
     "output_type": "execute_result"
    }
   ],
   "source": [
    "raft[raft.applymap(isnumber)]"
   ]
  },
  {
   "cell_type": "code",
   "execution_count": 11,
   "metadata": {},
   "outputs": [
    {
     "data": {
      "text/html": [
       "<div>\n",
       "<style scoped>\n",
       "    .dataframe tbody tr th:only-of-type {\n",
       "        vertical-align: middle;\n",
       "    }\n",
       "\n",
       "    .dataframe tbody tr th {\n",
       "        vertical-align: top;\n",
       "    }\n",
       "\n",
       "    .dataframe thead th {\n",
       "        text-align: right;\n",
       "    }\n",
       "</style>\n",
       "<table border=\"1\" class=\"dataframe\">\n",
       "  <thead>\n",
       "    <tr style=\"text-align: right;\">\n",
       "      <th></th>\n",
       "      <th>nodeName</th>\n",
       "      <th>packetNumber</th>\n",
       "      <th>temperature</th>\n",
       "      <th>brightness</th>\n",
       "      <th>humidity</th>\n",
       "      <th>onBoardTemp</th>\n",
       "      <th>sent</th>\n",
       "      <th>received</th>\n",
       "    </tr>\n",
       "  </thead>\n",
       "  <tbody>\n",
       "    <tr>\n",
       "      <th>0</th>\n",
       "      <td>2</td>\n",
       "      <td>1</td>\n",
       "      <td>21</td>\n",
       "      <td>1383</td>\n",
       "      <td>40</td>\n",
       "      <td>23</td>\n",
       "      <td>706454251265</td>\n",
       "      <td>7.064543e+11</td>\n",
       "    </tr>\n",
       "    <tr>\n",
       "      <th>1</th>\n",
       "      <td>NaN</td>\n",
       "      <td>706454252225</td>\n",
       "      <td>706454253670</td>\n",
       "      <td>NaN</td>\n",
       "      <td>NaN</td>\n",
       "      <td>NaN</td>\n",
       "      <td>NaN</td>\n",
       "      <td>NaN</td>\n",
       "    </tr>\n",
       "    <tr>\n",
       "      <th>2</th>\n",
       "      <td>4</td>\n",
       "      <td>1</td>\n",
       "      <td>21</td>\n",
       "      <td>462</td>\n",
       "      <td>33</td>\n",
       "      <td>25</td>\n",
       "      <td>706454254940</td>\n",
       "      <td>7.064543e+11</td>\n",
       "    </tr>\n",
       "    <tr>\n",
       "      <th>3</th>\n",
       "      <td>5</td>\n",
       "      <td>1</td>\n",
       "      <td>23</td>\n",
       "      <td>1061</td>\n",
       "      <td>36</td>\n",
       "      <td>25</td>\n",
       "      <td>706454256261</td>\n",
       "      <td>7.064543e+11</td>\n",
       "    </tr>\n",
       "    <tr>\n",
       "      <th>4</th>\n",
       "      <td>1</td>\n",
       "      <td>3</td>\n",
       "      <td>20</td>\n",
       "      <td>1094</td>\n",
       "      <td>41</td>\n",
       "      <td>23</td>\n",
       "      <td>706454261212</td>\n",
       "      <td>7.064543e+11</td>\n",
       "    </tr>\n",
       "    <tr>\n",
       "      <th>...</th>\n",
       "      <td>...</td>\n",
       "      <td>...</td>\n",
       "      <td>...</td>\n",
       "      <td>...</td>\n",
       "      <td>...</td>\n",
       "      <td>...</td>\n",
       "      <td>...</td>\n",
       "      <td>...</td>\n",
       "    </tr>\n",
       "    <tr>\n",
       "      <th>3486</th>\n",
       "      <td>5</td>\n",
       "      <td>998</td>\n",
       "      <td>22</td>\n",
       "      <td>325</td>\n",
       "      <td>36</td>\n",
       "      <td>25</td>\n",
       "      <td>706464742029</td>\n",
       "      <td>7.064647e+11</td>\n",
       "    </tr>\n",
       "    <tr>\n",
       "      <th>3487</th>\n",
       "      <td>3</td>\n",
       "      <td>993</td>\n",
       "      <td>21</td>\n",
       "      <td>179</td>\n",
       "      <td>43</td>\n",
       "      <td>24</td>\n",
       "      <td>706464750007</td>\n",
       "      <td>7.064648e+11</td>\n",
       "    </tr>\n",
       "    <tr>\n",
       "      <th>3488</th>\n",
       "      <td>5</td>\n",
       "      <td>999</td>\n",
       "      <td>23</td>\n",
       "      <td>204</td>\n",
       "      <td>36</td>\n",
       "      <td>25</td>\n",
       "      <td>706464752547</td>\n",
       "      <td>7.064648e+11</td>\n",
       "    </tr>\n",
       "    <tr>\n",
       "      <th>3489</th>\n",
       "      <td>3</td>\n",
       "      <td>994</td>\n",
       "      <td>21</td>\n",
       "      <td>179</td>\n",
       "      <td>43</td>\n",
       "      <td>24</td>\n",
       "      <td>706464760524</td>\n",
       "      <td>7.064648e+11</td>\n",
       "    </tr>\n",
       "    <tr>\n",
       "      <th>3490</th>\n",
       "      <td>5</td>\n",
       "      <td>1000</td>\n",
       "      <td>22</td>\n",
       "      <td>201</td>\n",
       "      <td>36</td>\n",
       "      <td>25</td>\n",
       "      <td>706464763062</td>\n",
       "      <td>7.064648e+11</td>\n",
       "    </tr>\n",
       "  </tbody>\n",
       "</table>\n",
       "<p>3491 rows × 8 columns</p>\n",
       "</div>"
      ],
      "text/plain": [
       "     nodeName  packetNumber   temperature brightness humidity onBoardTemp  \\\n",
       "0           2             1            21       1383       40          23   \n",
       "1         NaN  706454252225  706454253670        NaN      NaN         NaN   \n",
       "2           4             1            21        462       33          25   \n",
       "3           5             1            23       1061       36          25   \n",
       "4           1             3            20       1094       41          23   \n",
       "...       ...           ...           ...        ...      ...         ...   \n",
       "3486        5           998            22        325       36          25   \n",
       "3487        3           993            21        179       43          24   \n",
       "3488        5           999            23        204       36          25   \n",
       "3489        3           994            21        179       43          24   \n",
       "3490        5          1000            22        201       36          25   \n",
       "\n",
       "              sent      received  \n",
       "0     706454251265  7.064543e+11  \n",
       "1              NaN           NaN  \n",
       "2     706454254940  7.064543e+11  \n",
       "3     706454256261  7.064543e+11  \n",
       "4     706454261212  7.064543e+11  \n",
       "...            ...           ...  \n",
       "3486  706464742029  7.064647e+11  \n",
       "3487  706464750007  7.064648e+11  \n",
       "3488  706464752547  7.064648e+11  \n",
       "3489  706464760524  7.064648e+11  \n",
       "3490  706464763062  7.064648e+11  \n",
       "\n",
       "[3491 rows x 8 columns]"
      ]
     },
     "execution_count": 11,
     "metadata": {},
     "output_type": "execute_result"
    }
   ],
   "source": [
    "paxos[paxos.applymap(isnumber)]"
   ]
  },
  {
   "cell_type": "code",
   "execution_count": 12,
   "metadata": {},
   "outputs": [
    {
     "data": {
      "text/html": [
       "<div>\n",
       "<style scoped>\n",
       "    .dataframe tbody tr th:only-of-type {\n",
       "        vertical-align: middle;\n",
       "    }\n",
       "\n",
       "    .dataframe tbody tr th {\n",
       "        vertical-align: top;\n",
       "    }\n",
       "\n",
       "    .dataframe thead th {\n",
       "        text-align: right;\n",
       "    }\n",
       "</style>\n",
       "<table border=\"1\" class=\"dataframe\">\n",
       "  <thead>\n",
       "    <tr style=\"text-align: right;\">\n",
       "      <th></th>\n",
       "      <th>nodeName</th>\n",
       "      <th>packetNumber</th>\n",
       "      <th>temperature</th>\n",
       "      <th>brightness</th>\n",
       "      <th>humidity</th>\n",
       "      <th>onBoardTemp</th>\n",
       "      <th>sent</th>\n",
       "      <th>received</th>\n",
       "    </tr>\n",
       "  </thead>\n",
       "  <tbody>\n",
       "    <tr>\n",
       "      <th>0</th>\n",
       "      <td>4</td>\n",
       "      <td>1</td>\n",
       "      <td>21</td>\n",
       "      <td>187</td>\n",
       "      <td>46</td>\n",
       "      <td>21</td>\n",
       "      <td>706614420676</td>\n",
       "      <td>7.066144e+11</td>\n",
       "    </tr>\n",
       "    <tr>\n",
       "      <th>1</th>\n",
       "      <td>NaN</td>\n",
       "      <td>NaN</td>\n",
       "      <td>706614422857</td>\n",
       "      <td>NaN</td>\n",
       "      <td>NaN</td>\n",
       "      <td>NaN</td>\n",
       "      <td>NaN</td>\n",
       "      <td>NaN</td>\n",
       "    </tr>\n",
       "    <tr>\n",
       "      <th>2</th>\n",
       "      <td>NaN</td>\n",
       "      <td>706614423865</td>\n",
       "      <td>NaN</td>\n",
       "      <td>NaN</td>\n",
       "      <td>NaN</td>\n",
       "      <td>NaN</td>\n",
       "      <td>NaN</td>\n",
       "      <td>NaN</td>\n",
       "    </tr>\n",
       "    <tr>\n",
       "      <th>3</th>\n",
       "      <td>3</td>\n",
       "      <td>3</td>\n",
       "      <td>21</td>\n",
       "      <td>31145</td>\n",
       "      <td>21</td>\n",
       "      <td>706614423699</td>\n",
       "      <td>706614424752</td>\n",
       "      <td>NaN</td>\n",
       "    </tr>\n",
       "    <tr>\n",
       "      <th>4</th>\n",
       "      <td>4</td>\n",
       "      <td>5</td>\n",
       "      <td>20</td>\n",
       "      <td>71</td>\n",
       "      <td>46</td>\n",
       "      <td>21</td>\n",
       "      <td>706614424706</td>\n",
       "      <td>7.066144e+11</td>\n",
       "    </tr>\n",
       "    <tr>\n",
       "      <th>...</th>\n",
       "      <td>...</td>\n",
       "      <td>...</td>\n",
       "      <td>...</td>\n",
       "      <td>...</td>\n",
       "      <td>...</td>\n",
       "      <td>...</td>\n",
       "      <td>...</td>\n",
       "      <td>...</td>\n",
       "    </tr>\n",
       "    <tr>\n",
       "      <th>2127</th>\n",
       "      <td>5</td>\n",
       "      <td>996</td>\n",
       "      <td>21</td>\n",
       "      <td>668</td>\n",
       "      <td>35</td>\n",
       "      <td>25</td>\n",
       "      <td>706616418002</td>\n",
       "      <td>7.066164e+11</td>\n",
       "    </tr>\n",
       "    <tr>\n",
       "      <th>2128</th>\n",
       "      <td>5</td>\n",
       "      <td>997</td>\n",
       "      <td>21</td>\n",
       "      <td>534</td>\n",
       "      <td>35</td>\n",
       "      <td>25</td>\n",
       "      <td>706616420010</td>\n",
       "      <td>7.066164e+11</td>\n",
       "    </tr>\n",
       "    <tr>\n",
       "      <th>2129</th>\n",
       "      <td>5</td>\n",
       "      <td>998</td>\n",
       "      <td>22</td>\n",
       "      <td>531</td>\n",
       "      <td>35</td>\n",
       "      <td>25</td>\n",
       "      <td>706616422019</td>\n",
       "      <td>7.066164e+11</td>\n",
       "    </tr>\n",
       "    <tr>\n",
       "      <th>2130</th>\n",
       "      <td>5</td>\n",
       "      <td>999</td>\n",
       "      <td>21</td>\n",
       "      <td>668</td>\n",
       "      <td>35</td>\n",
       "      <td>25</td>\n",
       "      <td>706616424027</td>\n",
       "      <td>7.066164e+11</td>\n",
       "    </tr>\n",
       "    <tr>\n",
       "      <th>2131</th>\n",
       "      <td>5</td>\n",
       "      <td>1000</td>\n",
       "      <td>22</td>\n",
       "      <td>531</td>\n",
       "      <td>35</td>\n",
       "      <td>25</td>\n",
       "      <td>706616426035</td>\n",
       "      <td>7.066164e+11</td>\n",
       "    </tr>\n",
       "  </tbody>\n",
       "</table>\n",
       "<p>2132 rows × 8 columns</p>\n",
       "</div>"
      ],
      "text/plain": [
       "     nodeName  packetNumber   temperature brightness humidity   onBoardTemp  \\\n",
       "0           4             1            21        187       46            21   \n",
       "1         NaN           NaN  706614422857        NaN      NaN           NaN   \n",
       "2         NaN  706614423865           NaN        NaN      NaN           NaN   \n",
       "3           3             3            21      31145       21  706614423699   \n",
       "4           4             5            20         71       46            21   \n",
       "...       ...           ...           ...        ...      ...           ...   \n",
       "2127        5           996            21        668       35            25   \n",
       "2128        5           997            21        534       35            25   \n",
       "2129        5           998            22        531       35            25   \n",
       "2130        5           999            21        668       35            25   \n",
       "2131        5          1000            22        531       35            25   \n",
       "\n",
       "              sent      received  \n",
       "0     706614420676  7.066144e+11  \n",
       "1              NaN           NaN  \n",
       "2              NaN           NaN  \n",
       "3     706614424752           NaN  \n",
       "4     706614424706  7.066144e+11  \n",
       "...            ...           ...  \n",
       "2127  706616418002  7.066164e+11  \n",
       "2128  706616420010  7.066164e+11  \n",
       "2129  706616422019  7.066164e+11  \n",
       "2130  706616424027  7.066164e+11  \n",
       "2131  706616426035  7.066164e+11  \n",
       "\n",
       "[2132 rows x 8 columns]"
      ]
     },
     "execution_count": 12,
     "metadata": {},
     "output_type": "execute_result"
    }
   ],
   "source": [
    "noAlg[noAlg.applymap(isnumber)]"
   ]
  },
  {
   "cell_type": "code",
   "execution_count": 13,
   "metadata": {},
   "outputs": [],
   "source": [
    "raft_dropna=raft.dropna()"
   ]
  },
  {
   "cell_type": "code",
   "execution_count": 14,
   "metadata": {},
   "outputs": [
    {
     "data": {
      "text/plain": [
       "(3490, 8)"
      ]
     },
     "execution_count": 14,
     "metadata": {},
     "output_type": "execute_result"
    }
   ],
   "source": [
    "raft_dropna.shape"
   ]
  },
  {
   "cell_type": "code",
   "execution_count": 15,
   "metadata": {},
   "outputs": [],
   "source": [
    "paxos_dropna=paxos.dropna()"
   ]
  },
  {
   "cell_type": "code",
   "execution_count": 16,
   "metadata": {},
   "outputs": [
    {
     "data": {
      "text/plain": [
       "(3200, 8)"
      ]
     },
     "execution_count": 16,
     "metadata": {},
     "output_type": "execute_result"
    }
   ],
   "source": [
    "paxos_dropna.shape"
   ]
  },
  {
   "cell_type": "code",
   "execution_count": 17,
   "metadata": {},
   "outputs": [],
   "source": [
    "noAlg_dropna=noAlg.dropna()"
   ]
  },
  {
   "cell_type": "code",
   "execution_count": 18,
   "metadata": {},
   "outputs": [
    {
     "data": {
      "text/plain": [
       "(1974, 8)"
      ]
     },
     "execution_count": 18,
     "metadata": {},
     "output_type": "execute_result"
    }
   ],
   "source": [
    "noAlg_dropna.shape"
   ]
  },
  {
   "cell_type": "code",
   "execution_count": 19,
   "metadata": {},
   "outputs": [],
   "source": [
    "raft_timings = raft_dropna.drop(columns=['nodeName','packetNumber','temperature','brightness','humidity','onBoardTemp'])"
   ]
  },
  {
   "cell_type": "code",
   "execution_count": 20,
   "metadata": {},
   "outputs": [],
   "source": [
    "paxos_timings = paxos_dropna.drop(columns=['nodeName','packetNumber','temperature','brightness','humidity','onBoardTemp'])"
   ]
  },
  {
   "cell_type": "code",
   "execution_count": 21,
   "metadata": {},
   "outputs": [],
   "source": [
    "noAlg_timings = noAlg_dropna.drop(columns=['nodeName','packetNumber','temperature','brightness','humidity','onBoardTemp'])"
   ]
  },
  {
   "cell_type": "code",
   "execution_count": 22,
   "metadata": {},
   "outputs": [],
   "source": [
    "raft_timings_coerce = raft_timings.apply(pd.to_numeric, errors = 'coerce')"
   ]
  },
  {
   "cell_type": "code",
   "execution_count": 23,
   "metadata": {},
   "outputs": [],
   "source": [
    "paxos_timings_coerce= paxos_timings.apply(pd.to_numeric, errors = 'coerce')"
   ]
  },
  {
   "cell_type": "code",
   "execution_count": 24,
   "metadata": {},
   "outputs": [],
   "source": [
    "noAlg_timings_coerce= noAlg_timings.apply(pd.to_numeric, errors = 'coerce')"
   ]
  },
  {
   "cell_type": "code",
   "execution_count": 25,
   "metadata": {},
   "outputs": [],
   "source": [
    "raft_timings_coerce_dropna=raft_timings_coerce.dropna()"
   ]
  },
  {
   "cell_type": "code",
   "execution_count": 26,
   "metadata": {},
   "outputs": [],
   "source": [
    "paxos_timings_coerce_dropna=paxos_timings_coerce.dropna()"
   ]
  },
  {
   "cell_type": "code",
   "execution_count": 27,
   "metadata": {},
   "outputs": [],
   "source": [
    "noAlg_timings_coerce_dropna=noAlg_timings_coerce.dropna()"
   ]
  },
  {
   "cell_type": "code",
   "execution_count": 28,
   "metadata": {},
   "outputs": [
    {
     "data": {
      "text/plain": [
       "(3394, 2)"
      ]
     },
     "execution_count": 28,
     "metadata": {},
     "output_type": "execute_result"
    }
   ],
   "source": [
    "raft_timings_coerce_dropna.shape"
   ]
  },
  {
   "cell_type": "code",
   "execution_count": 29,
   "metadata": {},
   "outputs": [
    {
     "data": {
      "text/plain": [
       "(3109, 2)"
      ]
     },
     "execution_count": 29,
     "metadata": {},
     "output_type": "execute_result"
    }
   ],
   "source": [
    "paxos_timings_coerce_dropna.shape"
   ]
  },
  {
   "cell_type": "code",
   "execution_count": 30,
   "metadata": {},
   "outputs": [
    {
     "data": {
      "text/plain": [
       "(1922, 2)"
      ]
     },
     "execution_count": 30,
     "metadata": {},
     "output_type": "execute_result"
    }
   ],
   "source": [
    "noAlg_timings_coerce_dropna.shape"
   ]
  },
  {
   "cell_type": "code",
   "execution_count": 31,
   "metadata": {},
   "outputs": [
    {
     "name": "stdout",
     "output_type": "stream",
     "text": [
      "<class 'pandas.core.frame.DataFrame'>\n",
      "Int64Index: 3394 entries, 0 to 3692\n",
      "Data columns (total 2 columns):\n",
      " #   Column    Non-Null Count  Dtype  \n",
      "---  ------    --------------  -----  \n",
      " 0   sent      3394 non-null   float64\n",
      " 1   received  3394 non-null   float64\n",
      "dtypes: float64(2)\n",
      "memory usage: 79.5 KB\n"
     ]
    }
   ],
   "source": [
    "raft_timings_coerce_dropna.info()"
   ]
  },
  {
   "cell_type": "code",
   "execution_count": 32,
   "metadata": {},
   "outputs": [
    {
     "name": "stdout",
     "output_type": "stream",
     "text": [
      "<class 'pandas.core.frame.DataFrame'>\n",
      "Int64Index: 3109 entries, 0 to 3490\n",
      "Data columns (total 2 columns):\n",
      " #   Column    Non-Null Count  Dtype  \n",
      "---  ------    --------------  -----  \n",
      " 0   sent      3109 non-null   float64\n",
      " 1   received  3109 non-null   float64\n",
      "dtypes: float64(2)\n",
      "memory usage: 72.9 KB\n"
     ]
    }
   ],
   "source": [
    "paxos_timings_coerce_dropna.info()"
   ]
  },
  {
   "cell_type": "code",
   "execution_count": 33,
   "metadata": {},
   "outputs": [
    {
     "name": "stdout",
     "output_type": "stream",
     "text": [
      "<class 'pandas.core.frame.DataFrame'>\n",
      "Int64Index: 1922 entries, 0 to 2131\n",
      "Data columns (total 2 columns):\n",
      " #   Column    Non-Null Count  Dtype  \n",
      "---  ------    --------------  -----  \n",
      " 0   sent      1922 non-null   float64\n",
      " 1   received  1922 non-null   float64\n",
      "dtypes: float64(2)\n",
      "memory usage: 45.0 KB\n"
     ]
    }
   ],
   "source": [
    "noAlg_timings_coerce_dropna.info()"
   ]
  },
  {
   "cell_type": "code",
   "execution_count": 34,
   "metadata": {},
   "outputs": [],
   "source": [
    "raft_timings_redone = {'sent': [],'received':[]}\n",
    "\n",
    "raft_result_redone = pd.DataFrame(raft_timings_redone)"
   ]
  },
  {
   "cell_type": "code",
   "execution_count": 35,
   "metadata": {},
   "outputs": [],
   "source": [
    "paxos_timings_redone = {'sent': [],'received':[]}\n",
    "\n",
    "paxos_result_redone = pd.DataFrame(paxos_timings_redone)"
   ]
  },
  {
   "cell_type": "code",
   "execution_count": 36,
   "metadata": {},
   "outputs": [],
   "source": [
    "noAlg_timings_redone = {'sent': [],'received':[]}\n",
    "\n",
    "noAlg_result_redone = pd.DataFrame(noAlg_timings_redone)"
   ]
  },
  {
   "cell_type": "code",
   "execution_count": 37,
   "metadata": {},
   "outputs": [],
   "source": [
    "for index, row in raft_timings_coerce_dropna.iterrows():\n",
    "    try: \n",
    "        if(int(row['received']) > int(row['sent']) and int(row['sent']) > raft_timings_coerce_dropna['sent'].iloc[0]):\n",
    "            \n",
    "            raft_result_redone.at[index, 'sent'] = int(row['sent'])\n",
    "            raft_result_redone.at[index, 'received'] = int(row['received'])\n",
    "    except:\n",
    "        pass\n",
    "        #print('error')"
   ]
  },
  {
   "cell_type": "code",
   "execution_count": 38,
   "metadata": {},
   "outputs": [],
   "source": [
    "for index, row in paxos_timings_coerce_dropna.iterrows():\n",
    "    try: \n",
    "        if(int(row['received']) > int(row['sent']) and int(row['sent']) > paxos_timings_coerce_dropna['sent'].iloc[0]):\n",
    "            \n",
    "            paxos_result_redone.at[index, 'sent'] = int(row['sent'])\n",
    "            paxos_result_redone.at[index, 'received'] = int(row['received'])\n",
    "    except:\n",
    "        pass\n",
    "        #print('error')"
   ]
  },
  {
   "cell_type": "code",
   "execution_count": 39,
   "metadata": {},
   "outputs": [],
   "source": [
    "for index, row in noAlg_timings_coerce_dropna.iterrows():\n",
    "    try: \n",
    "        if(int(row['received']) > int(row['sent']) and int(row['sent']) > noAlg_timings_coerce_dropna['sent'].iloc[0]):\n",
    "            \n",
    "            noAlg_result_redone.at[index, 'sent'] = int(row['sent'])\n",
    "            noAlg_result_redone.at[index, 'received'] = int(row['received'])\n",
    "    except:\n",
    "        pass\n",
    "        #print('error')"
   ]
  },
  {
   "cell_type": "code",
   "execution_count": 40,
   "metadata": {},
   "outputs": [
    {
     "name": "stdout",
     "output_type": "stream",
     "text": [
      "<class 'pandas.core.frame.DataFrame'>\n",
      "Int64Index: 1412 entries, 1 to 3692\n",
      "Data columns (total 2 columns):\n",
      " #   Column    Non-Null Count  Dtype  \n",
      "---  ------    --------------  -----  \n",
      " 0   sent      1412 non-null   float64\n",
      " 1   received  1412 non-null   float64\n",
      "dtypes: float64(2)\n",
      "memory usage: 73.1 KB\n"
     ]
    }
   ],
   "source": [
    "raft_result_redone.info()\n"
   ]
  },
  {
   "cell_type": "code",
   "execution_count": 41,
   "metadata": {},
   "outputs": [
    {
     "name": "stdout",
     "output_type": "stream",
     "text": [
      "<class 'pandas.core.frame.DataFrame'>\n",
      "Int64Index: 3096 entries, 2 to 3490\n",
      "Data columns (total 2 columns):\n",
      " #   Column    Non-Null Count  Dtype  \n",
      "---  ------    --------------  -----  \n",
      " 0   sent      3096 non-null   float64\n",
      " 1   received  3096 non-null   float64\n",
      "dtypes: float64(2)\n",
      "memory usage: 152.6 KB\n"
     ]
    }
   ],
   "source": [
    "paxos_result_redone.info()"
   ]
  },
  {
   "cell_type": "code",
   "execution_count": 42,
   "metadata": {},
   "outputs": [
    {
     "name": "stdout",
     "output_type": "stream",
     "text": [
      "<class 'pandas.core.frame.DataFrame'>\n",
      "Int64Index: 1909 entries, 4 to 2131\n",
      "Data columns (total 2 columns):\n",
      " #   Column    Non-Null Count  Dtype  \n",
      "---  ------    --------------  -----  \n",
      " 0   sent      1909 non-null   float64\n",
      " 1   received  1909 non-null   float64\n",
      "dtypes: float64(2)\n",
      "memory usage: 124.7 KB\n"
     ]
    }
   ],
   "source": [
    "noAlg_result_redone.info()"
   ]
  },
  {
   "cell_type": "code",
   "execution_count": 43,
   "metadata": {},
   "outputs": [
    {
     "data": {
      "text/plain": [
       "(0.9999999995264384, array([1., 1.]))"
      ]
     },
     "execution_count": 43,
     "metadata": {},
     "output_type": "execute_result"
    }
   ],
   "source": [
    "#CRONBACH ALPHA\n",
    "pg.cronbach_alpha(data=raft_result_redone)"
   ]
  },
  {
   "cell_type": "code",
   "execution_count": 44,
   "metadata": {},
   "outputs": [
    {
     "data": {
      "text/plain": [
       "(0.9999999845784877, array([1., 1.]))"
      ]
     },
     "execution_count": 44,
     "metadata": {},
     "output_type": "execute_result"
    }
   ],
   "source": [
    "#CRONBACH ALPHA\n",
    "pg.cronbach_alpha(data=paxos_result_redone)"
   ]
  },
  {
   "cell_type": "code",
   "execution_count": 45,
   "metadata": {},
   "outputs": [
    {
     "data": {
      "text/plain": [
       "(0.999999909088741, array([1., 1.]))"
      ]
     },
     "execution_count": 45,
     "metadata": {},
     "output_type": "execute_result"
    }
   ],
   "source": [
    "#CRONBACH ALPHA\n",
    "pg.cronbach_alpha(data=noAlg_result_redone)"
   ]
  },
  {
   "cell_type": "code",
   "execution_count": 46,
   "metadata": {},
   "outputs": [],
   "source": [
    "raft_latency_pd = {'latency': []}\n",
    "\n",
    "raft_latency = pd.DataFrame(raft_latency_pd)"
   ]
  },
  {
   "cell_type": "code",
   "execution_count": 47,
   "metadata": {},
   "outputs": [],
   "source": [
    "paxos_latency_pd = {'latency': []}\n",
    "\n",
    "paxos_latency = pd.DataFrame(paxos_latency_pd)"
   ]
  },
  {
   "cell_type": "code",
   "execution_count": 48,
   "metadata": {},
   "outputs": [],
   "source": [
    "noAlg_latency_pd = {'latency': []}\n",
    "\n",
    "noAlg_latency = pd.DataFrame(noAlg_latency_pd)"
   ]
  },
  {
   "cell_type": "code",
   "execution_count": 49,
   "metadata": {},
   "outputs": [],
   "source": [
    "for index, row in raft_result_redone.iterrows():\n",
    "    try:\n",
    "        \n",
    "        result = int(row['received']) - int(row['sent'])\n",
    "        raft_latency.at[index, 'latency'] = result      \n",
    "    except:\n",
    "        pass\n",
    "        "
   ]
  },
  {
   "cell_type": "code",
   "execution_count": 50,
   "metadata": {},
   "outputs": [],
   "source": [
    "for index, row in paxos_result_redone.iterrows():\n",
    "    try:\n",
    "        \n",
    "        result = int(row['received']) - int(row['sent'])\n",
    "        paxos_latency.at[index, 'latency'] = result      \n",
    "    except:\n",
    "        pass\n",
    "        "
   ]
  },
  {
   "cell_type": "code",
   "execution_count": 51,
   "metadata": {},
   "outputs": [],
   "source": [
    "for index, row in noAlg_result_redone.iterrows():\n",
    "    try:\n",
    "        \n",
    "        result = int(row['received']) - int(row['sent'])\n",
    "        noAlg_latency.at[index, 'latency'] = result      \n",
    "    except:\n",
    "        pass\n",
    "        "
   ]
  },
  {
   "cell_type": "code",
   "execution_count": 52,
   "metadata": {},
   "outputs": [
    {
     "name": "stdout",
     "output_type": "stream",
     "text": [
      "<class 'pandas.core.frame.DataFrame'>\n",
      "Int64Index: 1412 entries, 1 to 3692\n",
      "Data columns (total 1 columns):\n",
      " #   Column   Non-Null Count  Dtype  \n",
      "---  ------   --------------  -----  \n",
      " 0   latency  1412 non-null   float64\n",
      "dtypes: float64(1)\n",
      "memory usage: 62.1 KB\n"
     ]
    }
   ],
   "source": [
    "raft_latency.info()"
   ]
  },
  {
   "cell_type": "code",
   "execution_count": 53,
   "metadata": {},
   "outputs": [
    {
     "data": {
      "text/plain": [
       "(1412, 1)"
      ]
     },
     "execution_count": 53,
     "metadata": {},
     "output_type": "execute_result"
    }
   ],
   "source": [
    "raft_latency.shape"
   ]
  },
  {
   "cell_type": "code",
   "execution_count": 54,
   "metadata": {},
   "outputs": [
    {
     "name": "stdout",
     "output_type": "stream",
     "text": [
      "<class 'pandas.core.frame.DataFrame'>\n",
      "Int64Index: 3096 entries, 2 to 3490\n",
      "Data columns (total 1 columns):\n",
      " #   Column   Non-Null Count  Dtype  \n",
      "---  ------   --------------  -----  \n",
      " 0   latency  3096 non-null   float64\n",
      "dtypes: float64(1)\n",
      "memory usage: 128.4 KB\n"
     ]
    }
   ],
   "source": [
    "paxos_latency.info()"
   ]
  },
  {
   "cell_type": "code",
   "execution_count": 55,
   "metadata": {},
   "outputs": [
    {
     "data": {
      "text/plain": [
       "(3096, 1)"
      ]
     },
     "execution_count": 55,
     "metadata": {},
     "output_type": "execute_result"
    }
   ],
   "source": [
    "paxos_latency.shape"
   ]
  },
  {
   "cell_type": "code",
   "execution_count": 56,
   "metadata": {},
   "outputs": [
    {
     "name": "stdout",
     "output_type": "stream",
     "text": [
      "<class 'pandas.core.frame.DataFrame'>\n",
      "Int64Index: 1909 entries, 4 to 2131\n",
      "Data columns (total 1 columns):\n",
      " #   Column   Non-Null Count  Dtype  \n",
      "---  ------   --------------  -----  \n",
      " 0   latency  1909 non-null   float64\n",
      "dtypes: float64(1)\n",
      "memory usage: 109.8 KB\n"
     ]
    }
   ],
   "source": [
    "noAlg_latency.info()"
   ]
  },
  {
   "cell_type": "code",
   "execution_count": 57,
   "metadata": {},
   "outputs": [
    {
     "data": {
      "text/plain": [
       "(1909, 1)"
      ]
     },
     "execution_count": 57,
     "metadata": {},
     "output_type": "execute_result"
    }
   ],
   "source": [
    "noAlg_latency.shape"
   ]
  },
  {
   "cell_type": "code",
   "execution_count": 58,
   "metadata": {},
   "outputs": [
    {
     "data": {
      "text/plain": [
       "433.0545325779037"
      ]
     },
     "execution_count": 58,
     "metadata": {},
     "output_type": "execute_result"
    }
   ],
   "source": [
    "raft_latency['latency'].mean()"
   ]
  },
  {
   "cell_type": "code",
   "execution_count": 59,
   "metadata": {},
   "outputs": [
    {
     "data": {
      "text/plain": [
       "1093.6734496124031"
      ]
     },
     "execution_count": 59,
     "metadata": {},
     "output_type": "execute_result"
    }
   ],
   "source": [
    "paxos_latency['latency'].mean()"
   ]
  },
  {
   "cell_type": "code",
   "execution_count": 60,
   "metadata": {},
   "outputs": [
    {
     "data": {
      "text/plain": [
       "653.6856993190152"
      ]
     },
     "execution_count": 60,
     "metadata": {},
     "output_type": "execute_result"
    }
   ],
   "source": [
    "noAlg_latency['latency'].mean()"
   ]
  },
  {
   "cell_type": "code",
   "execution_count": 61,
   "metadata": {},
   "outputs": [
    {
     "data": {
      "text/plain": [
       "'C:\\\\Users\\\\czaps\\\\Documents\\\\MSc\\\\data_wrangling\\\\latency_workbook'"
      ]
     },
     "execution_count": 61,
     "metadata": {},
     "output_type": "execute_result"
    }
   ],
   "source": [
    "pwd"
   ]
  },
  {
   "cell_type": "code",
   "execution_count": 69,
   "metadata": {},
   "outputs": [],
   "source": [
    "latency_5_2 = pd.read_csv(\"C:\\\\Users\\\\czaps\\\\Documents\\\\MSc\\\\data_wrangling\\\\latency_workbook\\\\latency_5_2.csv\", error_bad_lines=False, sep=\",\")"
   ]
  },
  {
   "cell_type": "code",
   "execution_count": 70,
   "metadata": {},
   "outputs": [
    {
     "data": {
      "image/png": "[encoded data removed]",
      "text/plain": [
       "<Figure size 432x288 with 1 Axes>"
      ]
     },
     "metadata": {
      "needs_background": "light"
     },
     "output_type": "display_data"
    }
   ],
   "source": [
    "ax = latency_5_2.plot.bar(x='algorithm')\n",
    "plt.title('Average latency of 5 node network with 2fails')\n",
    "ax.set(xlabel='', ylabel='miliseconds')\n",
    "ax.set_xticklabels(ax.get_xticklabels(), rotation=0, ha=\"center\")\n",
    "for bars in ax.containers:\n",
    "    ax.bar_label(bars)\n",
    "#plt.legend(loc='upper left')\n",
    "ax.get_legend().remove()\n",
    "plt.savefig('C:\\\\Users\\\\czaps\\\\Documents\\\\MSc\\\\images\\\\latency_5_2_mean.png', bbox_inches='tight')"
   ]
  },
  {
   "cell_type": "code",
   "execution_count": null,
   "metadata": {},
   "outputs": [],
   "source": []
  }
 ],
 "metadata": {
  "kernelspec": {
   "display_name": "Python 3",
   "language": "python",
   "name": "python3"
  },
  "language_info": {
   "codemirror_mode": {
    "name": "ipython",
    "version": 3
   },
   "file_extension": ".py",
   "mimetype": "text/x-python",
   "name": "python",
   "nbconvert_exporter": "python",
   "pygments_lexer": "ipython3",
   "version": "3.7.1"
  }
 },
 "nbformat": 4,
 "nbformat_minor": 4
}
