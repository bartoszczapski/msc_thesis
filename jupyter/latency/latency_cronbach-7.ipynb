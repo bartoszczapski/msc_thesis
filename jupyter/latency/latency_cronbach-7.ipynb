{
 "cells": [
  {
   "cell_type": "code",
   "execution_count": 1,
   "metadata": {},
   "outputs": [],
   "source": [
    "# Import the libraries\n",
    "import os\n",
    "import pandas as pd\n",
    "import matplotlib\n",
    "matplotlib.use(u'nbAgg')\n",
    "import matplotlib.pyplot as plt\n",
    "import seaborn as sns\n",
    "import numpy as np\n",
    "import pickle\n",
    "from sklearn.manifold import TSNE\n",
    "from sklearn import preprocessing\n",
    "import pandas as pd\n",
    "import pingouin as pg\n",
    "import reliability_stability\n",
    "%matplotlib inline"
   ]
  },
  {
   "cell_type": "code",
   "execution_count": 2,
   "metadata": {},
   "outputs": [],
   "source": [
    "def isnumber(x):\n",
    "    try:\n",
    "        int(x)\n",
    "        return True\n",
    "    except:\n",
    "        return False"
   ]
  },
  {
   "cell_type": "code",
   "execution_count": 3,
   "metadata": {},
   "outputs": [
    {
     "name": "stderr",
     "output_type": "stream",
     "text": [
      "b'Skipping line 3858: expected 8 fields, saw 9\\nSkipping line 4595: expected 8 fields, saw 9\\nSkipping line 4975: expected 8 fields, saw 9\\n'\n",
      "b'Skipping line 1144: expected 8 fields, saw 9\\nSkipping line 2090: expected 8 fields, saw 9\\nSkipping line 2746: expected 8 fields, saw 9\\n'\n",
      "b'Skipping line 49: expected 8 fields, saw 9\\nSkipping line 325: expected 8 fields, saw 9\\nSkipping line 636: expected 8 fields, saw 9\\nSkipping line 665: expected 8 fields, saw 9\\nSkipping line 764: expected 8 fields, saw 9\\n'\n"
     ]
    }
   ],
   "source": [
    "raft = pd.read_csv(\"C:\\\\Users\\\\czaps\\\\Documents\\\\MSc\\\\experiments\\\\latency\\\\outdoor_latency_experiment\\\\raft_data_7-nodes.csv\", error_bad_lines=False, sep=\",\")\n",
    "paxos = pd.read_csv(\"C:\\\\Users\\\\czaps\\\\Documents\\\\MSc\\\\experiments\\\\latency\\\\outdoor_latency_experiment\\\\paxos_data_7-nodes.csv\", error_bad_lines=False, sep=\",\")\n",
    "noAlg = pd.read_csv(\"C:\\\\Users\\\\czaps\\\\Documents\\\\MSc\\\\experiments\\\\latency\\\\outdoor_latency_experiment\\\\control\\\\outdoor_control_7-nodes\\\\data.csv\", error_bad_lines=False, sep=\",\")"
   ]
  },
  {
   "cell_type": "code",
   "execution_count": 4,
   "metadata": {},
   "outputs": [
    {
     "data": {
      "text/plain": [
       "(6306, 8)"
      ]
     },
     "execution_count": 4,
     "metadata": {},
     "output_type": "execute_result"
    }
   ],
   "source": [
    "raft.shape"
   ]
  },
  {
   "cell_type": "code",
   "execution_count": 5,
   "metadata": {},
   "outputs": [
    {
     "data": {
      "text/plain": [
       "(5673, 8)"
      ]
     },
     "execution_count": 5,
     "metadata": {},
     "output_type": "execute_result"
    }
   ],
   "source": [
    "paxos.shape"
   ]
  },
  {
   "cell_type": "code",
   "execution_count": 6,
   "metadata": {},
   "outputs": [
    {
     "data": {
      "text/plain": [
       "(2627, 8)"
      ]
     },
     "execution_count": 6,
     "metadata": {},
     "output_type": "execute_result"
    }
   ],
   "source": [
    "noAlg.shape"
   ]
  },
  {
   "cell_type": "code",
   "execution_count": 7,
   "metadata": {},
   "outputs": [
    {
     "name": "stdout",
     "output_type": "stream",
     "text": [
      "<class 'pandas.core.frame.DataFrame'>\n",
      "RangeIndex: 6306 entries, 0 to 6305\n",
      "Data columns (total 8 columns):\n",
      " #   Column        Non-Null Count  Dtype  \n",
      "---  ------        --------------  -----  \n",
      " 0   nodeName      6306 non-null   object \n",
      " 1   packetNumber  6306 non-null   object \n",
      " 2   temperature   6306 non-null   object \n",
      " 3   brightness    6245 non-null   object \n",
      " 4   humidity      6245 non-null   object \n",
      " 5   onBoardTemp   6244 non-null   object \n",
      " 6   sent          6242 non-null   object \n",
      " 7   received      6234 non-null   float64\n",
      "dtypes: float64(1), object(7)\n",
      "memory usage: 394.2+ KB\n"
     ]
    }
   ],
   "source": [
    "raft.info()"
   ]
  },
  {
   "cell_type": "code",
   "execution_count": 8,
   "metadata": {},
   "outputs": [
    {
     "name": "stdout",
     "output_type": "stream",
     "text": [
      "<class 'pandas.core.frame.DataFrame'>\n",
      "RangeIndex: 5673 entries, 0 to 5672\n",
      "Data columns (total 8 columns):\n",
      " #   Column        Non-Null Count  Dtype  \n",
      "---  ------        --------------  -----  \n",
      " 0   nodeName      5673 non-null   object \n",
      " 1   packetNumber  5673 non-null   object \n",
      " 2   temperature   5668 non-null   object \n",
      " 3   brightness    5584 non-null   object \n",
      " 4   humidity      5582 non-null   object \n",
      " 5   onBoardTemp   5581 non-null   object \n",
      " 6   sent          5576 non-null   float64\n",
      " 7   received      5568 non-null   float64\n",
      "dtypes: float64(2), object(6)\n",
      "memory usage: 354.7+ KB\n"
     ]
    }
   ],
   "source": [
    "paxos.info()"
   ]
  },
  {
   "cell_type": "code",
   "execution_count": 9,
   "metadata": {},
   "outputs": [
    {
     "name": "stdout",
     "output_type": "stream",
     "text": [
      "<class 'pandas.core.frame.DataFrame'>\n",
      "RangeIndex: 2627 entries, 0 to 2626\n",
      "Data columns (total 8 columns):\n",
      " #   Column        Non-Null Count  Dtype  \n",
      "---  ------        --------------  -----  \n",
      " 0   nodeName      2627 non-null   object \n",
      " 1   packetNumber  2627 non-null   object \n",
      " 2   temperature   2586 non-null   object \n",
      " 3   brightness    2550 non-null   object \n",
      " 4   humidity      2503 non-null   object \n",
      " 5   onBoardTemp   2459 non-null   object \n",
      " 6   sent          2395 non-null   object \n",
      " 7   received      2317 non-null   float64\n",
      "dtypes: float64(1), object(7)\n",
      "memory usage: 164.3+ KB\n"
     ]
    }
   ],
   "source": [
    "noAlg.info()"
   ]
  },
  {
   "cell_type": "code",
   "execution_count": 10,
   "metadata": {},
   "outputs": [
    {
     "data": {
      "text/html": [
       "<div>\n",
       "<style scoped>\n",
       "    .dataframe tbody tr th:only-of-type {\n",
       "        vertical-align: middle;\n",
       "    }\n",
       "\n",
       "    .dataframe tbody tr th {\n",
       "        vertical-align: top;\n",
       "    }\n",
       "\n",
       "    .dataframe thead th {\n",
       "        text-align: right;\n",
       "    }\n",
       "</style>\n",
       "<table border=\"1\" class=\"dataframe\">\n",
       "  <thead>\n",
       "    <tr style=\"text-align: right;\">\n",
       "      <th></th>\n",
       "      <th>nodeName</th>\n",
       "      <th>packetNumber</th>\n",
       "      <th>temperature</th>\n",
       "      <th>brightness</th>\n",
       "      <th>humidity</th>\n",
       "      <th>onBoardTemp</th>\n",
       "      <th>sent</th>\n",
       "      <th>received</th>\n",
       "    </tr>\n",
       "  </thead>\n",
       "  <tbody>\n",
       "    <tr>\n",
       "      <th>0</th>\n",
       "      <td>4</td>\n",
       "      <td>1</td>\n",
       "      <td>21</td>\n",
       "      <td>312</td>\n",
       "      <td>37</td>\n",
       "      <td>24</td>\n",
       "      <td>706362029810</td>\n",
       "      <td>7.063620e+11</td>\n",
       "    </tr>\n",
       "    <tr>\n",
       "      <th>1</th>\n",
       "      <td>5</td>\n",
       "      <td>1</td>\n",
       "      <td>21</td>\n",
       "      <td>88</td>\n",
       "      <td>42</td>\n",
       "      <td>23</td>\n",
       "      <td>706362030731</td>\n",
       "      <td>7.063620e+11</td>\n",
       "    </tr>\n",
       "    <tr>\n",
       "      <th>2</th>\n",
       "      <td>6</td>\n",
       "      <td>1</td>\n",
       "      <td>19</td>\n",
       "      <td>515</td>\n",
       "      <td>41</td>\n",
       "      <td>23</td>\n",
       "      <td>706362032600</td>\n",
       "      <td>7.063620e+11</td>\n",
       "    </tr>\n",
       "    <tr>\n",
       "      <th>3</th>\n",
       "      <td>7</td>\n",
       "      <td>1</td>\n",
       "      <td>20</td>\n",
       "      <td>189</td>\n",
       "      <td>41</td>\n",
       "      <td>22</td>\n",
       "      <td>706362034044</td>\n",
       "      <td>7.063620e+11</td>\n",
       "    </tr>\n",
       "    <tr>\n",
       "      <th>4</th>\n",
       "      <td>1</td>\n",
       "      <td>4</td>\n",
       "      <td>19</td>\n",
       "      <td>202</td>\n",
       "      <td>41</td>\n",
       "      <td>23</td>\n",
       "      <td>706362036215</td>\n",
       "      <td>7.063620e+11</td>\n",
       "    </tr>\n",
       "    <tr>\n",
       "      <th>...</th>\n",
       "      <td>...</td>\n",
       "      <td>...</td>\n",
       "      <td>...</td>\n",
       "      <td>...</td>\n",
       "      <td>...</td>\n",
       "      <td>...</td>\n",
       "      <td>...</td>\n",
       "      <td>...</td>\n",
       "    </tr>\n",
       "    <tr>\n",
       "      <th>6301</th>\n",
       "      <td>3</td>\n",
       "      <td>999</td>\n",
       "      <td>21</td>\n",
       "      <td>225</td>\n",
       "      <td>47</td>\n",
       "      <td>24</td>\n",
       "      <td>706372527472</td>\n",
       "      <td>7.063725e+11</td>\n",
       "    </tr>\n",
       "    <tr>\n",
       "      <th>6302</th>\n",
       "      <td>4</td>\n",
       "      <td>997</td>\n",
       "      <td>21</td>\n",
       "      <td>616</td>\n",
       "      <td>37</td>\n",
       "      <td>26</td>\n",
       "      <td>706372528859</td>\n",
       "      <td>7.063725e+11</td>\n",
       "    </tr>\n",
       "    <tr>\n",
       "      <th>6303</th>\n",
       "      <td>4</td>\n",
       "      <td>998</td>\n",
       "      <td>20</td>\n",
       "      <td>618</td>\n",
       "      <td>37</td>\n",
       "      <td>26</td>\n",
       "      <td>706372530366</td>\n",
       "      <td>7.063725e+11</td>\n",
       "    </tr>\n",
       "    <tr>\n",
       "      <th>6304</th>\n",
       "      <td>4</td>\n",
       "      <td>999</td>\n",
       "      <td>22</td>\n",
       "      <td>485</td>\n",
       "      <td>37</td>\n",
       "      <td>26</td>\n",
       "      <td>706372531874</td>\n",
       "      <td>7.063725e+11</td>\n",
       "    </tr>\n",
       "    <tr>\n",
       "      <th>6305</th>\n",
       "      <td>4</td>\n",
       "      <td>1000</td>\n",
       "      <td>21</td>\n",
       "      <td>485</td>\n",
       "      <td>37</td>\n",
       "      <td>26</td>\n",
       "      <td>706372533382</td>\n",
       "      <td>7.063725e+11</td>\n",
       "    </tr>\n",
       "  </tbody>\n",
       "</table>\n",
       "<p>6306 rows × 8 columns</p>\n",
       "</div>"
      ],
      "text/plain": [
       "     nodeName packetNumber temperature brightness humidity onBoardTemp  \\\n",
       "0           4            1          21        312       37          24   \n",
       "1           5            1          21         88       42          23   \n",
       "2           6            1          19        515       41          23   \n",
       "3           7            1          20        189       41          22   \n",
       "4           1            4          19        202       41          23   \n",
       "...       ...          ...         ...        ...      ...         ...   \n",
       "6301        3          999          21        225       47          24   \n",
       "6302        4          997          21        616       37          26   \n",
       "6303        4          998          20        618       37          26   \n",
       "6304        4          999          22        485       37          26   \n",
       "6305        4         1000          21        485       37          26   \n",
       "\n",
       "              sent      received  \n",
       "0     706362029810  7.063620e+11  \n",
       "1     706362030731  7.063620e+11  \n",
       "2     706362032600  7.063620e+11  \n",
       "3     706362034044  7.063620e+11  \n",
       "4     706362036215  7.063620e+11  \n",
       "...            ...           ...  \n",
       "6301  706372527472  7.063725e+11  \n",
       "6302  706372528859  7.063725e+11  \n",
       "6303  706372530366  7.063725e+11  \n",
       "6304  706372531874  7.063725e+11  \n",
       "6305  706372533382  7.063725e+11  \n",
       "\n",
       "[6306 rows x 8 columns]"
      ]
     },
     "execution_count": 10,
     "metadata": {},
     "output_type": "execute_result"
    }
   ],
   "source": [
    "raft[raft.applymap(isnumber)]"
   ]
  },
  {
   "cell_type": "code",
   "execution_count": 11,
   "metadata": {},
   "outputs": [
    {
     "data": {
      "text/html": [
       "<div>\n",
       "<style scoped>\n",
       "    .dataframe tbody tr th:only-of-type {\n",
       "        vertical-align: middle;\n",
       "    }\n",
       "\n",
       "    .dataframe tbody tr th {\n",
       "        vertical-align: top;\n",
       "    }\n",
       "\n",
       "    .dataframe thead th {\n",
       "        text-align: right;\n",
       "    }\n",
       "</style>\n",
       "<table border=\"1\" class=\"dataframe\">\n",
       "  <thead>\n",
       "    <tr style=\"text-align: right;\">\n",
       "      <th></th>\n",
       "      <th>nodeName</th>\n",
       "      <th>packetNumber</th>\n",
       "      <th>temperature</th>\n",
       "      <th>brightness</th>\n",
       "      <th>humidity</th>\n",
       "      <th>onBoardTemp</th>\n",
       "      <th>sent</th>\n",
       "      <th>received</th>\n",
       "    </tr>\n",
       "  </thead>\n",
       "  <tbody>\n",
       "    <tr>\n",
       "      <th>0</th>\n",
       "      <td>5</td>\n",
       "      <td>1</td>\n",
       "      <td>19</td>\n",
       "      <td>52</td>\n",
       "      <td>53</td>\n",
       "      <td>18</td>\n",
       "      <td>7.063445e+11</td>\n",
       "      <td>7.063445e+11</td>\n",
       "    </tr>\n",
       "    <tr>\n",
       "      <th>1</th>\n",
       "      <td>6</td>\n",
       "      <td>1</td>\n",
       "      <td>18</td>\n",
       "      <td>178</td>\n",
       "      <td>54</td>\n",
       "      <td>17</td>\n",
       "      <td>7.063445e+11</td>\n",
       "      <td>7.063445e+11</td>\n",
       "    </tr>\n",
       "    <tr>\n",
       "      <th>2</th>\n",
       "      <td>7</td>\n",
       "      <td>1</td>\n",
       "      <td>19</td>\n",
       "      <td>85</td>\n",
       "      <td>49</td>\n",
       "      <td>18</td>\n",
       "      <td>7.063445e+11</td>\n",
       "      <td>7.063445e+11</td>\n",
       "    </tr>\n",
       "    <tr>\n",
       "      <th>3</th>\n",
       "      <td>1</td>\n",
       "      <td>5</td>\n",
       "      <td>19</td>\n",
       "      <td>172</td>\n",
       "      <td>53</td>\n",
       "      <td>18</td>\n",
       "      <td>7.063445e+11</td>\n",
       "      <td>7.063445e+11</td>\n",
       "    </tr>\n",
       "    <tr>\n",
       "      <th>4</th>\n",
       "      <td>2</td>\n",
       "      <td>3</td>\n",
       "      <td>19</td>\n",
       "      <td>121</td>\n",
       "      <td>50</td>\n",
       "      <td>18</td>\n",
       "      <td>7.063445e+11</td>\n",
       "      <td>7.063445e+11</td>\n",
       "    </tr>\n",
       "    <tr>\n",
       "      <th>...</th>\n",
       "      <td>...</td>\n",
       "      <td>...</td>\n",
       "      <td>...</td>\n",
       "      <td>...</td>\n",
       "      <td>...</td>\n",
       "      <td>...</td>\n",
       "      <td>...</td>\n",
       "      <td>...</td>\n",
       "    </tr>\n",
       "    <tr>\n",
       "      <th>5668</th>\n",
       "      <td>5</td>\n",
       "      <td>994</td>\n",
       "      <td>20</td>\n",
       "      <td>331</td>\n",
       "      <td>36</td>\n",
       "      <td>23</td>\n",
       "      <td>7.063550e+11</td>\n",
       "      <td>7.063550e+11</td>\n",
       "    </tr>\n",
       "    <tr>\n",
       "      <th>5669</th>\n",
       "      <td>6</td>\n",
       "      <td>997</td>\n",
       "      <td>19</td>\n",
       "      <td>1150</td>\n",
       "      <td>34</td>\n",
       "      <td>23</td>\n",
       "      <td>7.063550e+11</td>\n",
       "      <td>7.063550e+11</td>\n",
       "    </tr>\n",
       "    <tr>\n",
       "      <th>5670</th>\n",
       "      <td>7</td>\n",
       "      <td>1000</td>\n",
       "      <td>21</td>\n",
       "      <td>430</td>\n",
       "      <td>34</td>\n",
       "      <td>23</td>\n",
       "      <td>7.063550e+11</td>\n",
       "      <td>7.063550e+11</td>\n",
       "    </tr>\n",
       "    <tr>\n",
       "      <th>5671</th>\n",
       "      <td>1</td>\n",
       "      <td>999</td>\n",
       "      <td>20</td>\n",
       "      <td>622</td>\n",
       "      <td>35</td>\n",
       "      <td>23</td>\n",
       "      <td>7.063550e+11</td>\n",
       "      <td>7.063550e+11</td>\n",
       "    </tr>\n",
       "    <tr>\n",
       "      <th>5672</th>\n",
       "      <td>1</td>\n",
       "      <td>1000</td>\n",
       "      <td>19</td>\n",
       "      <td>489</td>\n",
       "      <td>36</td>\n",
       "      <td>23</td>\n",
       "      <td>7.063550e+11</td>\n",
       "      <td>7.063550e+11</td>\n",
       "    </tr>\n",
       "  </tbody>\n",
       "</table>\n",
       "<p>5673 rows × 8 columns</p>\n",
       "</div>"
      ],
      "text/plain": [
       "     nodeName packetNumber temperature brightness humidity onBoardTemp  \\\n",
       "0           5            1          19         52       53          18   \n",
       "1           6            1          18        178       54          17   \n",
       "2           7            1          19         85       49          18   \n",
       "3           1            5          19        172       53          18   \n",
       "4           2            3          19        121       50          18   \n",
       "...       ...          ...         ...        ...      ...         ...   \n",
       "5668        5          994          20        331       36          23   \n",
       "5669        6          997          19       1150       34          23   \n",
       "5670        7         1000          21        430       34          23   \n",
       "5671        1          999          20        622       35          23   \n",
       "5672        1         1000          19        489       36          23   \n",
       "\n",
       "              sent      received  \n",
       "0     7.063445e+11  7.063445e+11  \n",
       "1     7.063445e+11  7.063445e+11  \n",
       "2     7.063445e+11  7.063445e+11  \n",
       "3     7.063445e+11  7.063445e+11  \n",
       "4     7.063445e+11  7.063445e+11  \n",
       "...            ...           ...  \n",
       "5668  7.063550e+11  7.063550e+11  \n",
       "5669  7.063550e+11  7.063550e+11  \n",
       "5670  7.063550e+11  7.063550e+11  \n",
       "5671  7.063550e+11  7.063550e+11  \n",
       "5672  7.063550e+11  7.063550e+11  \n",
       "\n",
       "[5673 rows x 8 columns]"
      ]
     },
     "execution_count": 11,
     "metadata": {},
     "output_type": "execute_result"
    }
   ],
   "source": [
    "paxos[paxos.applymap(isnumber)]"
   ]
  },
  {
   "cell_type": "code",
   "execution_count": 12,
   "metadata": {},
   "outputs": [
    {
     "data": {
      "text/html": [
       "<div>\n",
       "<style scoped>\n",
       "    .dataframe tbody tr th:only-of-type {\n",
       "        vertical-align: middle;\n",
       "    }\n",
       "\n",
       "    .dataframe tbody tr th {\n",
       "        vertical-align: top;\n",
       "    }\n",
       "\n",
       "    .dataframe thead th {\n",
       "        text-align: right;\n",
       "    }\n",
       "</style>\n",
       "<table border=\"1\" class=\"dataframe\">\n",
       "  <thead>\n",
       "    <tr style=\"text-align: right;\">\n",
       "      <th></th>\n",
       "      <th>nodeName</th>\n",
       "      <th>packetNumber</th>\n",
       "      <th>temperature</th>\n",
       "      <th>brightness</th>\n",
       "      <th>humidity</th>\n",
       "      <th>onBoardTemp</th>\n",
       "      <th>sent</th>\n",
       "      <th>received</th>\n",
       "    </tr>\n",
       "  </thead>\n",
       "  <tbody>\n",
       "    <tr>\n",
       "      <th>0</th>\n",
       "      <td>3</td>\n",
       "      <td>2</td>\n",
       "      <td>21</td>\n",
       "      <td>336</td>\n",
       "      <td>44</td>\n",
       "      <td>23</td>\n",
       "      <td>706631632373</td>\n",
       "      <td>7.066316e+11</td>\n",
       "    </tr>\n",
       "    <tr>\n",
       "      <th>1</th>\n",
       "      <td>2</td>\n",
       "      <td>2</td>\n",
       "      <td>22</td>\n",
       "      <td>662</td>\n",
       "      <td>39</td>\n",
       "      <td>22</td>\n",
       "      <td>706631633056</td>\n",
       "      <td>7.066316e+11</td>\n",
       "    </tr>\n",
       "    <tr>\n",
       "      <th>2</th>\n",
       "      <td>3</td>\n",
       "      <td>3</td>\n",
       "      <td>22</td>\n",
       "      <td>337</td>\n",
       "      <td>44</td>\n",
       "      <td>23</td>\n",
       "      <td>706631633879</td>\n",
       "      <td>7.066316e+11</td>\n",
       "    </tr>\n",
       "    <tr>\n",
       "      <th>3</th>\n",
       "      <td>2</td>\n",
       "      <td>3</td>\n",
       "      <td>23</td>\n",
       "      <td>647</td>\n",
       "      <td>39</td>\n",
       "      <td>22</td>\n",
       "      <td>706631634864</td>\n",
       "      <td>7.066316e+11</td>\n",
       "    </tr>\n",
       "    <tr>\n",
       "      <th>4</th>\n",
       "      <td>3</td>\n",
       "      <td>4</td>\n",
       "      <td>22</td>\n",
       "      <td>134</td>\n",
       "      <td>44</td>\n",
       "      <td>23</td>\n",
       "      <td>NaN</td>\n",
       "      <td>7.066316e+11</td>\n",
       "    </tr>\n",
       "    <tr>\n",
       "      <th>...</th>\n",
       "      <td>...</td>\n",
       "      <td>...</td>\n",
       "      <td>...</td>\n",
       "      <td>...</td>\n",
       "      <td>...</td>\n",
       "      <td>...</td>\n",
       "      <td>...</td>\n",
       "      <td>...</td>\n",
       "    </tr>\n",
       "    <tr>\n",
       "      <th>2622</th>\n",
       "      <td>5</td>\n",
       "      <td>996</td>\n",
       "      <td>24</td>\n",
       "      <td>678</td>\n",
       "      <td>35</td>\n",
       "      <td>26</td>\n",
       "      <td>706633648095</td>\n",
       "      <td>7.066336e+11</td>\n",
       "    </tr>\n",
       "    <tr>\n",
       "      <th>2623</th>\n",
       "      <td>5</td>\n",
       "      <td>997</td>\n",
       "      <td>24</td>\n",
       "      <td>678</td>\n",
       "      <td>35</td>\n",
       "      <td>26</td>\n",
       "      <td>706633650103</td>\n",
       "      <td>7.066337e+11</td>\n",
       "    </tr>\n",
       "    <tr>\n",
       "      <th>2624</th>\n",
       "      <td>5</td>\n",
       "      <td>998</td>\n",
       "      <td>23</td>\n",
       "      <td>682</td>\n",
       "      <td>35</td>\n",
       "      <td>26</td>\n",
       "      <td>706633652112</td>\n",
       "      <td>7.066337e+11</td>\n",
       "    </tr>\n",
       "    <tr>\n",
       "      <th>2625</th>\n",
       "      <td>5</td>\n",
       "      <td>999</td>\n",
       "      <td>24</td>\n",
       "      <td>687</td>\n",
       "      <td>35</td>\n",
       "      <td>26</td>\n",
       "      <td>706633654119</td>\n",
       "      <td>7.066337e+11</td>\n",
       "    </tr>\n",
       "    <tr>\n",
       "      <th>2626</th>\n",
       "      <td>5</td>\n",
       "      <td>1000</td>\n",
       "      <td>23</td>\n",
       "      <td>688</td>\n",
       "      <td>35</td>\n",
       "      <td>26</td>\n",
       "      <td>706633656127</td>\n",
       "      <td>7.066337e+11</td>\n",
       "    </tr>\n",
       "  </tbody>\n",
       "</table>\n",
       "<p>2627 rows × 8 columns</p>\n",
       "</div>"
      ],
      "text/plain": [
       "     nodeName packetNumber temperature brightness humidity onBoardTemp  \\\n",
       "0           3            2          21        336       44          23   \n",
       "1           2            2          22        662       39          22   \n",
       "2           3            3          22        337       44          23   \n",
       "3           2            3          23        647       39          22   \n",
       "4           3            4          22        134       44          23   \n",
       "...       ...          ...         ...        ...      ...         ...   \n",
       "2622        5          996          24        678       35          26   \n",
       "2623        5          997          24        678       35          26   \n",
       "2624        5          998          23        682       35          26   \n",
       "2625        5          999          24        687       35          26   \n",
       "2626        5         1000          23        688       35          26   \n",
       "\n",
       "              sent      received  \n",
       "0     706631632373  7.066316e+11  \n",
       "1     706631633056  7.066316e+11  \n",
       "2     706631633879  7.066316e+11  \n",
       "3     706631634864  7.066316e+11  \n",
       "4              NaN  7.066316e+11  \n",
       "...            ...           ...  \n",
       "2622  706633648095  7.066336e+11  \n",
       "2623  706633650103  7.066337e+11  \n",
       "2624  706633652112  7.066337e+11  \n",
       "2625  706633654119  7.066337e+11  \n",
       "2626  706633656127  7.066337e+11  \n",
       "\n",
       "[2627 rows x 8 columns]"
      ]
     },
     "execution_count": 12,
     "metadata": {},
     "output_type": "execute_result"
    }
   ],
   "source": [
    "noAlg[noAlg.applymap(isnumber)]"
   ]
  },
  {
   "cell_type": "code",
   "execution_count": 13,
   "metadata": {},
   "outputs": [],
   "source": [
    "raft_dropna=raft.dropna()"
   ]
  },
  {
   "cell_type": "code",
   "execution_count": 14,
   "metadata": {},
   "outputs": [
    {
     "data": {
      "text/plain": [
       "(6234, 8)"
      ]
     },
     "execution_count": 14,
     "metadata": {},
     "output_type": "execute_result"
    }
   ],
   "source": [
    "raft_dropna.shape"
   ]
  },
  {
   "cell_type": "code",
   "execution_count": 15,
   "metadata": {},
   "outputs": [],
   "source": [
    "paxos_dropna=paxos.dropna()"
   ]
  },
  {
   "cell_type": "code",
   "execution_count": 16,
   "metadata": {},
   "outputs": [
    {
     "data": {
      "text/plain": [
       "(5568, 8)"
      ]
     },
     "execution_count": 16,
     "metadata": {},
     "output_type": "execute_result"
    }
   ],
   "source": [
    "paxos_dropna.shape"
   ]
  },
  {
   "cell_type": "code",
   "execution_count": 17,
   "metadata": {},
   "outputs": [],
   "source": [
    "noAlg_dropna=noAlg.dropna()"
   ]
  },
  {
   "cell_type": "code",
   "execution_count": 18,
   "metadata": {},
   "outputs": [
    {
     "data": {
      "text/plain": [
       "(2317, 8)"
      ]
     },
     "execution_count": 18,
     "metadata": {},
     "output_type": "execute_result"
    }
   ],
   "source": [
    "noAlg_dropna.shape"
   ]
  },
  {
   "cell_type": "code",
   "execution_count": 19,
   "metadata": {},
   "outputs": [],
   "source": [
    "raft_timings = raft_dropna.drop(columns=['nodeName','packetNumber','temperature','brightness','humidity','onBoardTemp'])"
   ]
  },
  {
   "cell_type": "code",
   "execution_count": 20,
   "metadata": {},
   "outputs": [],
   "source": [
    "paxos_timings = paxos_dropna.drop(columns=['nodeName','packetNumber','temperature','brightness','humidity','onBoardTemp'])"
   ]
  },
  {
   "cell_type": "code",
   "execution_count": 21,
   "metadata": {},
   "outputs": [],
   "source": [
    "noAlg_timings = noAlg_dropna.drop(columns=['nodeName','packetNumber','temperature','brightness','humidity','onBoardTemp'])"
   ]
  },
  {
   "cell_type": "code",
   "execution_count": 22,
   "metadata": {},
   "outputs": [],
   "source": [
    "raft_timings_coerce = raft_timings.apply(pd.to_numeric, errors = 'coerce')"
   ]
  },
  {
   "cell_type": "code",
   "execution_count": 23,
   "metadata": {},
   "outputs": [],
   "source": [
    "paxos_timings_coerce= paxos_timings.apply(pd.to_numeric, errors = 'coerce')"
   ]
  },
  {
   "cell_type": "code",
   "execution_count": 24,
   "metadata": {},
   "outputs": [],
   "source": [
    "noAlg_timings_coerce= noAlg_timings.apply(pd.to_numeric, errors = 'coerce')"
   ]
  },
  {
   "cell_type": "code",
   "execution_count": 25,
   "metadata": {},
   "outputs": [],
   "source": [
    "raft_timings_coerce_dropna=raft_timings_coerce.dropna()"
   ]
  },
  {
   "cell_type": "code",
   "execution_count": 26,
   "metadata": {},
   "outputs": [],
   "source": [
    "paxos_timings_coerce_dropna=paxos_timings_coerce.dropna()"
   ]
  },
  {
   "cell_type": "code",
   "execution_count": 27,
   "metadata": {},
   "outputs": [],
   "source": [
    "noAlg_timings_coerce_dropna=noAlg_timings_coerce.dropna()"
   ]
  },
  {
   "cell_type": "code",
   "execution_count": 28,
   "metadata": {},
   "outputs": [
    {
     "data": {
      "text/plain": [
       "(6206, 2)"
      ]
     },
     "execution_count": 28,
     "metadata": {},
     "output_type": "execute_result"
    }
   ],
   "source": [
    "raft_timings_coerce_dropna.shape"
   ]
  },
  {
   "cell_type": "code",
   "execution_count": 29,
   "metadata": {},
   "outputs": [
    {
     "data": {
      "text/plain": [
       "(5568, 2)"
      ]
     },
     "execution_count": 29,
     "metadata": {},
     "output_type": "execute_result"
    }
   ],
   "source": [
    "paxos_timings_coerce_dropna.shape"
   ]
  },
  {
   "cell_type": "code",
   "execution_count": 30,
   "metadata": {},
   "outputs": [
    {
     "data": {
      "text/plain": [
       "(2174, 2)"
      ]
     },
     "execution_count": 30,
     "metadata": {},
     "output_type": "execute_result"
    }
   ],
   "source": [
    "noAlg_timings_coerce_dropna.shape"
   ]
  },
  {
   "cell_type": "code",
   "execution_count": 31,
   "metadata": {},
   "outputs": [
    {
     "name": "stdout",
     "output_type": "stream",
     "text": [
      "<class 'pandas.core.frame.DataFrame'>\n",
      "Int64Index: 6206 entries, 0 to 6305\n",
      "Data columns (total 2 columns):\n",
      " #   Column    Non-Null Count  Dtype  \n",
      "---  ------    --------------  -----  \n",
      " 0   sent      6206 non-null   float64\n",
      " 1   received  6206 non-null   float64\n",
      "dtypes: float64(2)\n",
      "memory usage: 145.5 KB\n"
     ]
    }
   ],
   "source": [
    "raft_timings_coerce_dropna.info()"
   ]
  },
  {
   "cell_type": "code",
   "execution_count": 32,
   "metadata": {},
   "outputs": [
    {
     "name": "stdout",
     "output_type": "stream",
     "text": [
      "<class 'pandas.core.frame.DataFrame'>\n",
      "Int64Index: 5568 entries, 0 to 5672\n",
      "Data columns (total 2 columns):\n",
      " #   Column    Non-Null Count  Dtype  \n",
      "---  ------    --------------  -----  \n",
      " 0   sent      5568 non-null   float64\n",
      " 1   received  5568 non-null   float64\n",
      "dtypes: float64(2)\n",
      "memory usage: 130.5 KB\n"
     ]
    }
   ],
   "source": [
    "paxos_timings_coerce_dropna.info()"
   ]
  },
  {
   "cell_type": "code",
   "execution_count": 33,
   "metadata": {},
   "outputs": [
    {
     "name": "stdout",
     "output_type": "stream",
     "text": [
      "<class 'pandas.core.frame.DataFrame'>\n",
      "Int64Index: 2174 entries, 0 to 2626\n",
      "Data columns (total 2 columns):\n",
      " #   Column    Non-Null Count  Dtype  \n",
      "---  ------    --------------  -----  \n",
      " 0   sent      2174 non-null   float64\n",
      " 1   received  2174 non-null   float64\n",
      "dtypes: float64(2)\n",
      "memory usage: 51.0 KB\n"
     ]
    }
   ],
   "source": [
    "noAlg_timings_coerce_dropna.info()"
   ]
  },
  {
   "cell_type": "code",
   "execution_count": 34,
   "metadata": {},
   "outputs": [],
   "source": [
    "raft_timings_redone = {'sent': [],'received':[]}\n",
    "\n",
    "raft_result_redone = pd.DataFrame(raft_timings_redone)"
   ]
  },
  {
   "cell_type": "code",
   "execution_count": 35,
   "metadata": {},
   "outputs": [],
   "source": [
    "paxos_timings_redone = {'sent': [],'received':[]}\n",
    "\n",
    "paxos_result_redone = pd.DataFrame(paxos_timings_redone)"
   ]
  },
  {
   "cell_type": "code",
   "execution_count": 36,
   "metadata": {},
   "outputs": [],
   "source": [
    "noAlg_timings_redone = {'sent': [],'received':[]}\n",
    "\n",
    "noAlg_result_redone = pd.DataFrame(noAlg_timings_redone)"
   ]
  },
  {
   "cell_type": "code",
   "execution_count": 37,
   "metadata": {},
   "outputs": [],
   "source": [
    "for index, row in raft_timings_coerce_dropna.iterrows():\n",
    "    try: \n",
    "        if(int(row['received']) > int(row['sent']) and int(row['sent']) > raft_timings_coerce_dropna['sent'].iloc[0]):\n",
    "            \n",
    "            raft_result_redone.at[index, 'sent'] = int(row['sent'])\n",
    "            raft_result_redone.at[index, 'received'] = int(row['received'])\n",
    "    except:\n",
    "        pass\n",
    "        #print('error')"
   ]
  },
  {
   "cell_type": "code",
   "execution_count": 38,
   "metadata": {},
   "outputs": [],
   "source": [
    "for index, row in paxos_timings_coerce_dropna.iterrows():\n",
    "    try: \n",
    "        if(int(row['received']) > int(row['sent']) and int(row['sent']) > paxos_timings_coerce_dropna['sent'].iloc[0]):\n",
    "            \n",
    "            paxos_result_redone.at[index, 'sent'] = int(row['sent'])\n",
    "            paxos_result_redone.at[index, 'received'] = int(row['received'])\n",
    "    except:\n",
    "        pass\n",
    "        #print('error')"
   ]
  },
  {
   "cell_type": "code",
   "execution_count": 39,
   "metadata": {},
   "outputs": [],
   "source": [
    "for index, row in noAlg_timings_coerce_dropna.iterrows():\n",
    "    try: \n",
    "        if(int(row['received']) > int(row['sent']) and int(row['sent']) > noAlg_timings_coerce_dropna['sent'].iloc[0]):\n",
    "            \n",
    "            noAlg_result_redone.at[index, 'sent'] = int(row['sent'])\n",
    "            noAlg_result_redone.at[index, 'received'] = int(row['received'])\n",
    "    except:\n",
    "        pass\n",
    "        #print('error')"
   ]
  },
  {
   "cell_type": "code",
   "execution_count": 40,
   "metadata": {},
   "outputs": [
    {
     "name": "stdout",
     "output_type": "stream",
     "text": [
      "<class 'pandas.core.frame.DataFrame'>\n",
      "Int64Index: 5983 entries, 1 to 6305\n",
      "Data columns (total 2 columns):\n",
      " #   Column    Non-Null Count  Dtype  \n",
      "---  ------    --------------  -----  \n",
      " 0   sent      5983 non-null   float64\n",
      " 1   received  5983 non-null   float64\n",
      "dtypes: float64(2)\n",
      "memory usage: 300.2 KB\n"
     ]
    }
   ],
   "source": [
    "raft_result_redone.info()\n"
   ]
  },
  {
   "cell_type": "code",
   "execution_count": 41,
   "metadata": {},
   "outputs": [
    {
     "name": "stdout",
     "output_type": "stream",
     "text": [
      "<class 'pandas.core.frame.DataFrame'>\n",
      "Int64Index: 4978 entries, 1 to 5672\n",
      "Data columns (total 2 columns):\n",
      " #   Column    Non-Null Count  Dtype  \n",
      "---  ------    --------------  -----  \n",
      " 0   sent      4978 non-null   float64\n",
      " 1   received  4978 non-null   float64\n",
      "dtypes: float64(2)\n",
      "memory usage: 276.7 KB\n"
     ]
    }
   ],
   "source": [
    "paxos_result_redone.info()"
   ]
  },
  {
   "cell_type": "code",
   "execution_count": 42,
   "metadata": {},
   "outputs": [
    {
     "name": "stdout",
     "output_type": "stream",
     "text": [
      "<class 'pandas.core.frame.DataFrame'>\n",
      "Int64Index: 2098 entries, 1 to 2626\n",
      "Data columns (total 2 columns):\n",
      " #   Column    Non-Null Count  Dtype  \n",
      "---  ------    --------------  -----  \n",
      " 0   sent      2098 non-null   float64\n",
      " 1   received  2098 non-null   float64\n",
      "dtypes: float64(2)\n",
      "memory usage: 129.2 KB\n"
     ]
    }
   ],
   "source": [
    "noAlg_result_redone.info()"
   ]
  },
  {
   "cell_type": "code",
   "execution_count": 43,
   "metadata": {},
   "outputs": [
    {
     "data": {
      "text/plain": [
       "(0.9999999975562757, array([1., 1.]))"
      ]
     },
     "execution_count": 43,
     "metadata": {},
     "output_type": "execute_result"
    }
   ],
   "source": [
    "#CRONBACH ALPHA\n",
    "pg.cronbach_alpha(data=raft_result_redone)"
   ]
  },
  {
   "cell_type": "code",
   "execution_count": 44,
   "metadata": {},
   "outputs": [
    {
     "data": {
      "text/plain": [
       "(0.9999999989602635, array([1., 1.]))"
      ]
     },
     "execution_count": 44,
     "metadata": {},
     "output_type": "execute_result"
    }
   ],
   "source": [
    "#CRONBACH ALPHA\n",
    "pg.cronbach_alpha(data=paxos_result_redone)"
   ]
  },
  {
   "cell_type": "code",
   "execution_count": 45,
   "metadata": {},
   "outputs": [
    {
     "data": {
      "text/plain": [
       "(0.9999999695547097, array([1., 1.]))"
      ]
     },
     "execution_count": 45,
     "metadata": {},
     "output_type": "execute_result"
    }
   ],
   "source": [
    "#CRONBACH ALPHA\n",
    "pg.cronbach_alpha(data=noAlg_result_redone)"
   ]
  },
  {
   "cell_type": "code",
   "execution_count": 46,
   "metadata": {},
   "outputs": [],
   "source": [
    "raft_latency_pd = {'latency': []}\n",
    "\n",
    "raft_latency = pd.DataFrame(raft_latency_pd)"
   ]
  },
  {
   "cell_type": "code",
   "execution_count": 47,
   "metadata": {},
   "outputs": [],
   "source": [
    "paxos_latency_pd = {'latency': []}\n",
    "\n",
    "paxos_latency = pd.DataFrame(paxos_latency_pd)"
   ]
  },
  {
   "cell_type": "code",
   "execution_count": 48,
   "metadata": {},
   "outputs": [],
   "source": [
    "noAlg_latency_pd = {'latency': []}\n",
    "\n",
    "noAlg_latency = pd.DataFrame(noAlg_latency_pd)"
   ]
  },
  {
   "cell_type": "code",
   "execution_count": 49,
   "metadata": {},
   "outputs": [],
   "source": [
    "for index, row in raft_result_redone.iterrows():\n",
    "    try:\n",
    "        \n",
    "        result = int(row['received']) - int(row['sent'])\n",
    "        raft_latency.at[index, 'latency'] = result      \n",
    "    except:\n",
    "        pass\n",
    "        "
   ]
  },
  {
   "cell_type": "code",
   "execution_count": 50,
   "metadata": {},
   "outputs": [],
   "source": [
    "for index, row in paxos_result_redone.iterrows():\n",
    "    try:\n",
    "        \n",
    "        result = int(row['received']) - int(row['sent'])\n",
    "        paxos_latency.at[index, 'latency'] = result      \n",
    "    except:\n",
    "        pass\n",
    "        "
   ]
  },
  {
   "cell_type": "code",
   "execution_count": 51,
   "metadata": {},
   "outputs": [],
   "source": [
    "for index, row in noAlg_result_redone.iterrows():\n",
    "    try:\n",
    "        \n",
    "        result = int(row['received']) - int(row['sent'])\n",
    "        noAlg_latency.at[index, 'latency'] = result      \n",
    "    except:\n",
    "        pass\n",
    "        "
   ]
  },
  {
   "cell_type": "code",
   "execution_count": 52,
   "metadata": {},
   "outputs": [
    {
     "name": "stdout",
     "output_type": "stream",
     "text": [
      "<class 'pandas.core.frame.DataFrame'>\n",
      "Int64Index: 5983 entries, 1 to 6305\n",
      "Data columns (total 1 columns):\n",
      " #   Column   Non-Null Count  Dtype  \n",
      "---  ------   --------------  -----  \n",
      " 0   latency  5983 non-null   float64\n",
      "dtypes: float64(1)\n",
      "memory usage: 253.5 KB\n"
     ]
    }
   ],
   "source": [
    "raft_latency.info()"
   ]
  },
  {
   "cell_type": "code",
   "execution_count": 53,
   "metadata": {},
   "outputs": [
    {
     "data": {
      "text/plain": [
       "(5983, 1)"
      ]
     },
     "execution_count": 53,
     "metadata": {},
     "output_type": "execute_result"
    }
   ],
   "source": [
    "raft_latency.shape"
   ]
  },
  {
   "cell_type": "code",
   "execution_count": 54,
   "metadata": {},
   "outputs": [
    {
     "name": "stdout",
     "output_type": "stream",
     "text": [
      "<class 'pandas.core.frame.DataFrame'>\n",
      "Int64Index: 4978 entries, 1 to 5672\n",
      "Data columns (total 1 columns):\n",
      " #   Column   Non-Null Count  Dtype  \n",
      "---  ------   --------------  -----  \n",
      " 0   latency  4978 non-null   float64\n",
      "dtypes: float64(1)\n",
      "memory usage: 237.8 KB\n"
     ]
    }
   ],
   "source": [
    "paxos_latency.info()"
   ]
  },
  {
   "cell_type": "code",
   "execution_count": 55,
   "metadata": {},
   "outputs": [
    {
     "data": {
      "text/plain": [
       "(4978, 1)"
      ]
     },
     "execution_count": 55,
     "metadata": {},
     "output_type": "execute_result"
    }
   ],
   "source": [
    "paxos_latency.shape"
   ]
  },
  {
   "cell_type": "code",
   "execution_count": 56,
   "metadata": {},
   "outputs": [
    {
     "name": "stdout",
     "output_type": "stream",
     "text": [
      "<class 'pandas.core.frame.DataFrame'>\n",
      "Int64Index: 2098 entries, 1 to 2626\n",
      "Data columns (total 1 columns):\n",
      " #   Column   Non-Null Count  Dtype  \n",
      "---  ------   --------------  -----  \n",
      " 0   latency  2098 non-null   float64\n",
      "dtypes: float64(1)\n",
      "memory usage: 112.8 KB\n"
     ]
    }
   ],
   "source": [
    "noAlg_latency.info()"
   ]
  },
  {
   "cell_type": "code",
   "execution_count": 57,
   "metadata": {},
   "outputs": [
    {
     "data": {
      "text/plain": [
       "(2098, 1)"
      ]
     },
     "execution_count": 57,
     "metadata": {},
     "output_type": "execute_result"
    }
   ],
   "source": [
    "noAlg_latency.shape"
   ]
  },
  {
   "cell_type": "code",
   "execution_count": 58,
   "metadata": {},
   "outputs": [
    {
     "data": {
      "text/plain": [
       "436.0934313889353"
      ]
     },
     "execution_count": 58,
     "metadata": {},
     "output_type": "execute_result"
    }
   ],
   "source": [
    "raft_latency['latency'].mean()"
   ]
  },
  {
   "cell_type": "code",
   "execution_count": 59,
   "metadata": {},
   "outputs": [
    {
     "data": {
      "text/plain": [
       "509.56769787063075"
      ]
     },
     "execution_count": 59,
     "metadata": {},
     "output_type": "execute_result"
    }
   ],
   "source": [
    "paxos_latency['latency'].mean()"
   ]
  },
  {
   "cell_type": "code",
   "execution_count": 60,
   "metadata": {},
   "outputs": [
    {
     "data": {
      "text/plain": [
       "378.3465204957102"
      ]
     },
     "execution_count": 60,
     "metadata": {},
     "output_type": "execute_result"
    }
   ],
   "source": [
    "noAlg_latency['latency'].mean()"
   ]
  },
  {
   "cell_type": "code",
   "execution_count": 61,
   "metadata": {},
   "outputs": [
    {
     "data": {
      "text/plain": [
       "'C:\\\\Users\\\\czaps\\\\Documents\\\\MSc\\\\data_wrangling\\\\latency_workbook'"
      ]
     },
     "execution_count": 61,
     "metadata": {},
     "output_type": "execute_result"
    }
   ],
   "source": [
    "pwd"
   ]
  },
  {
   "cell_type": "code",
   "execution_count": 62,
   "metadata": {},
   "outputs": [],
   "source": [
    "latency_7 = pd.read_csv(\"C:\\\\Users\\\\czaps\\\\Documents\\\\MSc\\\\data_wrangling\\\\latency_workbook\\\\latency_7.csv\", error_bad_lines=False, sep=\",\")"
   ]
  },
  {
   "cell_type": "code",
   "execution_count": 69,
   "metadata": {},
   "outputs": [
    {
     "data": {
      "image/png": "[encoded data removed]",
      "text/plain": [
       "<Figure size 432x288 with 1 Axes>"
      ]
     },
     "metadata": {
      "needs_background": "light"
     },
     "output_type": "display_data"
    }
   ],
   "source": [
    "ax = latency_7.plot.bar(x='algorithm')\n",
    "plt.title('Average latency of 7 node network')\n",
    "ax.set(xlabel='', ylabel='miliseconds')\n",
    "ax.set_xticklabels(ax.get_xticklabels(), rotation=0, ha=\"center\")\n",
    "for bars in ax.containers:\n",
    "    ax.bar_label(bars)\n",
    "#ax.plot(legend=False)\n",
    "ax.get_legend().remove()\n",
    "plt.savefig('C:\\\\Users\\\\czaps\\\\Documents\\\\MSc\\\\images\\\\latency_7_mean.png', bbox_inches='tight')"
   ]
  },
  {
   "cell_type": "code",
   "execution_count": null,
   "metadata": {},
   "outputs": [],
   "source": []
  }
 ],
 "metadata": {
  "kernelspec": {
   "display_name": "Python 3",
   "language": "python",
   "name": "python3"
  },
  "language_info": {
   "codemirror_mode": {
    "name": "ipython",
    "version": 3
   },
   "file_extension": ".py",
   "mimetype": "text/x-python",
   "name": "python",
   "nbconvert_exporter": "python",
   "pygments_lexer": "ipython3",
   "version": "3.7.1"
  }
 },
 "nbformat": 4,
 "nbformat_minor": 4
}
