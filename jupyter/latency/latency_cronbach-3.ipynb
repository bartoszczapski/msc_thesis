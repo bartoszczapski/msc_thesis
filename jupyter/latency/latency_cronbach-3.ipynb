{
 "cells": [
  {
   "cell_type": "code",
   "execution_count": 1,
   "metadata": {},
   "outputs": [],
   "source": [
    "# Import the libraries\n",
    "import os\n",
    "import pandas as pd\n",
    "import matplotlib\n",
    "matplotlib.use(u'nbAgg')\n",
    "import matplotlib.pyplot as plt\n",
    "import seaborn as sns\n",
    "import numpy as np\n",
    "import pickle\n",
    "from sklearn.manifold import TSNE\n",
    "from sklearn import preprocessing\n",
    "import pandas as pd\n",
    "import pingouin as pg\n",
    "import reliability_stability\n",
    "%matplotlib inline"
   ]
  },
  {
   "cell_type": "code",
   "execution_count": 2,
   "metadata": {},
   "outputs": [],
   "source": [
    "def isnumber(x):\n",
    "    try:\n",
    "        int(x)\n",
    "        return True\n",
    "    except:\n",
    "        return False"
   ]
  },
  {
   "cell_type": "code",
   "execution_count": 3,
   "metadata": {},
   "outputs": [
    {
     "name": "stderr",
     "output_type": "stream",
     "text": [
      "b'Skipping line 33: expected 8 fields, saw 9\\nSkipping line 420: expected 8 fields, saw 9\\nSkipping line 612: expected 8 fields, saw 9\\nSkipping line 790: expected 8 fields, saw 9\\nSkipping line 1432: expected 8 fields, saw 9\\n'\n"
     ]
    }
   ],
   "source": [
    "raft = pd.read_csv(\"C:\\\\Users\\\\czaps\\\\Documents\\\\MSc\\\\experiments\\\\latency\\\\outdoor_latency_experiment\\\\raft_data_3-nodes.csv\", error_bad_lines=False, sep=\",\")\n",
    "paxos = pd.read_csv(\"C:\\\\Users\\\\czaps\\\\Documents\\\\MSc\\\\experiments\\\\latency\\\\outdoor_latency_experiment\\\\paxos_data_3-nodes.csv\", error_bad_lines=False, sep=\",\")\n",
    "noAlg = pd.read_csv(\"C:\\\\Users\\\\czaps\\\\Documents\\\\MSc\\\\experiments\\\\latency\\\\outdoor_latency_experiment\\\\control\\\\outdoor_contol_3-nodes\\\\data.csv\", error_bad_lines=False, sep=\",\")"
   ]
  },
  {
   "cell_type": "code",
   "execution_count": 4,
   "metadata": {},
   "outputs": [
    {
     "data": {
      "text/plain": [
       "(2963, 8)"
      ]
     },
     "execution_count": 4,
     "metadata": {},
     "output_type": "execute_result"
    }
   ],
   "source": [
    "raft.shape"
   ]
  },
  {
   "cell_type": "code",
   "execution_count": 5,
   "metadata": {},
   "outputs": [
    {
     "data": {
      "text/plain": [
       "(2974, 8)"
      ]
     },
     "execution_count": 5,
     "metadata": {},
     "output_type": "execute_result"
    }
   ],
   "source": [
    "paxos.shape"
   ]
  },
  {
   "cell_type": "code",
   "execution_count": 6,
   "metadata": {},
   "outputs": [
    {
     "data": {
      "text/plain": [
       "(1814, 8)"
      ]
     },
     "execution_count": 6,
     "metadata": {},
     "output_type": "execute_result"
    }
   ],
   "source": [
    "noAlg.shape"
   ]
  },
  {
   "cell_type": "code",
   "execution_count": 7,
   "metadata": {},
   "outputs": [
    {
     "name": "stdout",
     "output_type": "stream",
     "text": [
      "<class 'pandas.core.frame.DataFrame'>\n",
      "RangeIndex: 2963 entries, 0 to 2962\n",
      "Data columns (total 8 columns):\n",
      " #   Column        Non-Null Count  Dtype  \n",
      "---  ------        --------------  -----  \n",
      " 0   nodeName      2963 non-null   object \n",
      " 1   packetNumber  2963 non-null   object \n",
      " 2   temperature   2962 non-null   float64\n",
      " 3   brightness    2940 non-null   float64\n",
      " 4   humidity      2940 non-null   float64\n",
      " 5   onBoardTemp   2940 non-null   object \n",
      " 6   sent          2940 non-null   object \n",
      " 7   received      2938 non-null   float64\n",
      "dtypes: float64(4), object(4)\n",
      "memory usage: 185.3+ KB\n"
     ]
    }
   ],
   "source": [
    "raft.info()"
   ]
  },
  {
   "cell_type": "code",
   "execution_count": 8,
   "metadata": {},
   "outputs": [
    {
     "name": "stdout",
     "output_type": "stream",
     "text": [
      "<class 'pandas.core.frame.DataFrame'>\n",
      "RangeIndex: 2974 entries, 0 to 2973\n",
      "Data columns (total 8 columns):\n",
      " #   Column        Non-Null Count  Dtype  \n",
      "---  ------        --------------  -----  \n",
      " 0   nodeName      2974 non-null   object \n",
      " 1   packetNumber  2974 non-null   object \n",
      " 2   temperature   2974 non-null   object \n",
      " 3   brightness    2951 non-null   object \n",
      " 4   humidity      2951 non-null   object \n",
      " 5   onBoardTemp   2950 non-null   object \n",
      " 6   sent          2950 non-null   object \n",
      " 7   received      2950 non-null   float64\n",
      "dtypes: float64(1), object(7)\n",
      "memory usage: 186.0+ KB\n"
     ]
    }
   ],
   "source": [
    "paxos.info()"
   ]
  },
  {
   "cell_type": "code",
   "execution_count": 9,
   "metadata": {},
   "outputs": [
    {
     "name": "stdout",
     "output_type": "stream",
     "text": [
      "<class 'pandas.core.frame.DataFrame'>\n",
      "RangeIndex: 1814 entries, 0 to 1813\n",
      "Data columns (total 8 columns):\n",
      " #   Column        Non-Null Count  Dtype  \n",
      "---  ------        --------------  -----  \n",
      " 0   nodeName      1814 non-null   object \n",
      " 1   packetNumber  1814 non-null   object \n",
      " 2   temperature   1807 non-null   object \n",
      " 3   brightness    1797 non-null   object \n",
      " 4   humidity      1782 non-null   object \n",
      " 5   onBoardTemp   1763 non-null   object \n",
      " 6   sent          1746 non-null   object \n",
      " 7   received      1725 non-null   float64\n",
      "dtypes: float64(1), object(7)\n",
      "memory usage: 113.5+ KB\n"
     ]
    }
   ],
   "source": [
    "noAlg.info()"
   ]
  },
  {
   "cell_type": "code",
   "execution_count": 10,
   "metadata": {},
   "outputs": [
    {
     "data": {
      "text/html": [
       "<div>\n",
       "<style scoped>\n",
       "    .dataframe tbody tr th:only-of-type {\n",
       "        vertical-align: middle;\n",
       "    }\n",
       "\n",
       "    .dataframe tbody tr th {\n",
       "        vertical-align: top;\n",
       "    }\n",
       "\n",
       "    .dataframe thead th {\n",
       "        text-align: right;\n",
       "    }\n",
       "</style>\n",
       "<table border=\"1\" class=\"dataframe\">\n",
       "  <thead>\n",
       "    <tr style=\"text-align: right;\">\n",
       "      <th></th>\n",
       "      <th>nodeName</th>\n",
       "      <th>packetNumber</th>\n",
       "      <th>temperature</th>\n",
       "      <th>brightness</th>\n",
       "      <th>humidity</th>\n",
       "      <th>onBoardTemp</th>\n",
       "      <th>sent</th>\n",
       "      <th>received</th>\n",
       "    </tr>\n",
       "  </thead>\n",
       "  <tbody>\n",
       "    <tr>\n",
       "      <th>0</th>\n",
       "      <td>2</td>\n",
       "      <td>1</td>\n",
       "      <td>22.0</td>\n",
       "      <td>172.0</td>\n",
       "      <td>42.0</td>\n",
       "      <td>21</td>\n",
       "      <td>706472399487</td>\n",
       "      <td>7.064724e+11</td>\n",
       "    </tr>\n",
       "    <tr>\n",
       "      <th>1</th>\n",
       "      <td>3</td>\n",
       "      <td>1</td>\n",
       "      <td>21.0</td>\n",
       "      <td>97.0</td>\n",
       "      <td>46.0</td>\n",
       "      <td>22</td>\n",
       "      <td>706472400913</td>\n",
       "      <td>7.064724e+11</td>\n",
       "    </tr>\n",
       "    <tr>\n",
       "      <th>2</th>\n",
       "      <td>2</td>\n",
       "      <td>2</td>\n",
       "      <td>21.0</td>\n",
       "      <td>189.0</td>\n",
       "      <td>42.0</td>\n",
       "      <td>21</td>\n",
       "      <td>706472410004</td>\n",
       "      <td>7.064724e+11</td>\n",
       "    </tr>\n",
       "    <tr>\n",
       "      <th>3</th>\n",
       "      <td>3</td>\n",
       "      <td>2</td>\n",
       "      <td>20.0</td>\n",
       "      <td>106.0</td>\n",
       "      <td>46.0</td>\n",
       "      <td>22</td>\n",
       "      <td>706472411431</td>\n",
       "      <td>7.064724e+11</td>\n",
       "    </tr>\n",
       "    <tr>\n",
       "      <th>4</th>\n",
       "      <td>2</td>\n",
       "      <td>3</td>\n",
       "      <td>21.0</td>\n",
       "      <td>188.0</td>\n",
       "      <td>42.0</td>\n",
       "      <td>21</td>\n",
       "      <td>706472420521</td>\n",
       "      <td>7.064724e+11</td>\n",
       "    </tr>\n",
       "    <tr>\n",
       "      <th>...</th>\n",
       "      <td>...</td>\n",
       "      <td>...</td>\n",
       "      <td>...</td>\n",
       "      <td>...</td>\n",
       "      <td>...</td>\n",
       "      <td>...</td>\n",
       "      <td>...</td>\n",
       "      <td>...</td>\n",
       "    </tr>\n",
       "    <tr>\n",
       "      <th>2958</th>\n",
       "      <td>3</td>\n",
       "      <td>998</td>\n",
       "      <td>21.0</td>\n",
       "      <td>0.0</td>\n",
       "      <td>44.0</td>\n",
       "      <td>22</td>\n",
       "      <td>706482855115</td>\n",
       "      <td>7.064829e+11</td>\n",
       "    </tr>\n",
       "    <tr>\n",
       "      <th>2959</th>\n",
       "      <td>1</td>\n",
       "      <td>998</td>\n",
       "      <td>22.0</td>\n",
       "      <td>0.0</td>\n",
       "      <td>37.0</td>\n",
       "      <td>23</td>\n",
       "      <td>706482864223</td>\n",
       "      <td>7.064829e+11</td>\n",
       "    </tr>\n",
       "    <tr>\n",
       "      <th>2960</th>\n",
       "      <td>3</td>\n",
       "      <td>999</td>\n",
       "      <td>21.0</td>\n",
       "      <td>65535.0</td>\n",
       "      <td>44.0</td>\n",
       "      <td>22</td>\n",
       "      <td>706482865633</td>\n",
       "      <td>7.064829e+11</td>\n",
       "    </tr>\n",
       "    <tr>\n",
       "      <th>2961</th>\n",
       "      <td>1</td>\n",
       "      <td>999</td>\n",
       "      <td>22.0</td>\n",
       "      <td>0.0</td>\n",
       "      <td>37.0</td>\n",
       "      <td>23</td>\n",
       "      <td>706482874741</td>\n",
       "      <td>7.064829e+11</td>\n",
       "    </tr>\n",
       "    <tr>\n",
       "      <th>2962</th>\n",
       "      <td>3</td>\n",
       "      <td>1000</td>\n",
       "      <td>21.0</td>\n",
       "      <td>65535.0</td>\n",
       "      <td>44.0</td>\n",
       "      <td>22</td>\n",
       "      <td>706482876152</td>\n",
       "      <td>7.064829e+11</td>\n",
       "    </tr>\n",
       "  </tbody>\n",
       "</table>\n",
       "<p>2963 rows × 8 columns</p>\n",
       "</div>"
      ],
      "text/plain": [
       "     nodeName packetNumber  temperature  brightness  humidity onBoardTemp  \\\n",
       "0           2            1         22.0       172.0      42.0          21   \n",
       "1           3            1         21.0        97.0      46.0          22   \n",
       "2           2            2         21.0       189.0      42.0          21   \n",
       "3           3            2         20.0       106.0      46.0          22   \n",
       "4           2            3         21.0       188.0      42.0          21   \n",
       "...       ...          ...          ...         ...       ...         ...   \n",
       "2958        3          998         21.0         0.0      44.0          22   \n",
       "2959        1          998         22.0         0.0      37.0          23   \n",
       "2960        3          999         21.0     65535.0      44.0          22   \n",
       "2961        1          999         22.0         0.0      37.0          23   \n",
       "2962        3         1000         21.0     65535.0      44.0          22   \n",
       "\n",
       "              sent      received  \n",
       "0     706472399487  7.064724e+11  \n",
       "1     706472400913  7.064724e+11  \n",
       "2     706472410004  7.064724e+11  \n",
       "3     706472411431  7.064724e+11  \n",
       "4     706472420521  7.064724e+11  \n",
       "...            ...           ...  \n",
       "2958  706482855115  7.064829e+11  \n",
       "2959  706482864223  7.064829e+11  \n",
       "2960  706482865633  7.064829e+11  \n",
       "2961  706482874741  7.064829e+11  \n",
       "2962  706482876152  7.064829e+11  \n",
       "\n",
       "[2963 rows x 8 columns]"
      ]
     },
     "execution_count": 10,
     "metadata": {},
     "output_type": "execute_result"
    }
   ],
   "source": [
    "raft[raft.applymap(isnumber)]"
   ]
  },
  {
   "cell_type": "code",
   "execution_count": 11,
   "metadata": {},
   "outputs": [
    {
     "data": {
      "text/html": [
       "<div>\n",
       "<style scoped>\n",
       "    .dataframe tbody tr th:only-of-type {\n",
       "        vertical-align: middle;\n",
       "    }\n",
       "\n",
       "    .dataframe tbody tr th {\n",
       "        vertical-align: top;\n",
       "    }\n",
       "\n",
       "    .dataframe thead th {\n",
       "        text-align: right;\n",
       "    }\n",
       "</style>\n",
       "<table border=\"1\" class=\"dataframe\">\n",
       "  <thead>\n",
       "    <tr style=\"text-align: right;\">\n",
       "      <th></th>\n",
       "      <th>nodeName</th>\n",
       "      <th>packetNumber</th>\n",
       "      <th>temperature</th>\n",
       "      <th>brightness</th>\n",
       "      <th>humidity</th>\n",
       "      <th>onBoardTemp</th>\n",
       "      <th>sent</th>\n",
       "      <th>received</th>\n",
       "    </tr>\n",
       "  </thead>\n",
       "  <tbody>\n",
       "    <tr>\n",
       "      <th>0</th>\n",
       "      <td>1</td>\n",
       "      <td>2</td>\n",
       "      <td>22</td>\n",
       "      <td>65535</td>\n",
       "      <td>38</td>\n",
       "      <td>23</td>\n",
       "      <td>706484115659</td>\n",
       "      <td>7.064841e+11</td>\n",
       "    </tr>\n",
       "    <tr>\n",
       "      <th>1</th>\n",
       "      <td>2</td>\n",
       "      <td>1</td>\n",
       "      <td>22</td>\n",
       "      <td>0</td>\n",
       "      <td>41</td>\n",
       "      <td>21</td>\n",
       "      <td>706484118292</td>\n",
       "      <td>7.064841e+11</td>\n",
       "    </tr>\n",
       "    <tr>\n",
       "      <th>2</th>\n",
       "      <td>NaN</td>\n",
       "      <td>706484126182</td>\n",
       "      <td>706484127272</td>\n",
       "      <td>NaN</td>\n",
       "      <td>NaN</td>\n",
       "      <td>NaN</td>\n",
       "      <td>NaN</td>\n",
       "      <td>NaN</td>\n",
       "    </tr>\n",
       "    <tr>\n",
       "      <th>3</th>\n",
       "      <td>2</td>\n",
       "      <td>2</td>\n",
       "      <td>22</td>\n",
       "      <td>0</td>\n",
       "      <td>41</td>\n",
       "      <td>21</td>\n",
       "      <td>706484128810</td>\n",
       "      <td>7.064841e+11</td>\n",
       "    </tr>\n",
       "    <tr>\n",
       "      <th>4</th>\n",
       "      <td>3</td>\n",
       "      <td>1</td>\n",
       "      <td>21</td>\n",
       "      <td>0</td>\n",
       "      <td>47</td>\n",
       "      <td>21</td>\n",
       "      <td>706484129178</td>\n",
       "      <td>7.064841e+11</td>\n",
       "    </tr>\n",
       "    <tr>\n",
       "      <th>...</th>\n",
       "      <td>...</td>\n",
       "      <td>...</td>\n",
       "      <td>...</td>\n",
       "      <td>...</td>\n",
       "      <td>...</td>\n",
       "      <td>...</td>\n",
       "      <td>...</td>\n",
       "      <td>...</td>\n",
       "    </tr>\n",
       "    <tr>\n",
       "      <th>2969</th>\n",
       "      <td>2</td>\n",
       "      <td>998</td>\n",
       "      <td>22</td>\n",
       "      <td>0</td>\n",
       "      <td>42</td>\n",
       "      <td>22</td>\n",
       "      <td>706494604095</td>\n",
       "      <td>7.064946e+11</td>\n",
       "    </tr>\n",
       "    <tr>\n",
       "      <th>2970</th>\n",
       "      <td>3</td>\n",
       "      <td>989</td>\n",
       "      <td>21</td>\n",
       "      <td>65535</td>\n",
       "      <td>49</td>\n",
       "      <td>22</td>\n",
       "      <td>706494605914</td>\n",
       "      <td>7.064946e+11</td>\n",
       "    </tr>\n",
       "    <tr>\n",
       "      <th>2971</th>\n",
       "      <td>1</td>\n",
       "      <td>1000</td>\n",
       "      <td>22</td>\n",
       "      <td>0</td>\n",
       "      <td>42</td>\n",
       "      <td>23</td>\n",
       "      <td>706494612848</td>\n",
       "      <td>7.064946e+11</td>\n",
       "    </tr>\n",
       "    <tr>\n",
       "      <th>2972</th>\n",
       "      <td>2</td>\n",
       "      <td>999</td>\n",
       "      <td>22</td>\n",
       "      <td>65535</td>\n",
       "      <td>42</td>\n",
       "      <td>22</td>\n",
       "      <td>706494614613</td>\n",
       "      <td>7.064946e+11</td>\n",
       "    </tr>\n",
       "    <tr>\n",
       "      <th>2973</th>\n",
       "      <td>2</td>\n",
       "      <td>1000</td>\n",
       "      <td>22</td>\n",
       "      <td>65535</td>\n",
       "      <td>42</td>\n",
       "      <td>22</td>\n",
       "      <td>706494616121</td>\n",
       "      <td>7.064946e+11</td>\n",
       "    </tr>\n",
       "  </tbody>\n",
       "</table>\n",
       "<p>2974 rows × 8 columns</p>\n",
       "</div>"
      ],
      "text/plain": [
       "     nodeName  packetNumber   temperature brightness humidity onBoardTemp  \\\n",
       "0           1             2            22      65535       38          23   \n",
       "1           2             1            22          0       41          21   \n",
       "2         NaN  706484126182  706484127272        NaN      NaN         NaN   \n",
       "3           2             2            22          0       41          21   \n",
       "4           3             1            21          0       47          21   \n",
       "...       ...           ...           ...        ...      ...         ...   \n",
       "2969        2           998            22          0       42          22   \n",
       "2970        3           989            21      65535       49          22   \n",
       "2971        1          1000            22          0       42          23   \n",
       "2972        2           999            22      65535       42          22   \n",
       "2973        2          1000            22      65535       42          22   \n",
       "\n",
       "              sent      received  \n",
       "0     706484115659  7.064841e+11  \n",
       "1     706484118292  7.064841e+11  \n",
       "2              NaN           NaN  \n",
       "3     706484128810  7.064841e+11  \n",
       "4     706484129178  7.064841e+11  \n",
       "...            ...           ...  \n",
       "2969  706494604095  7.064946e+11  \n",
       "2970  706494605914  7.064946e+11  \n",
       "2971  706494612848  7.064946e+11  \n",
       "2972  706494614613  7.064946e+11  \n",
       "2973  706494616121  7.064946e+11  \n",
       "\n",
       "[2974 rows x 8 columns]"
      ]
     },
     "execution_count": 11,
     "metadata": {},
     "output_type": "execute_result"
    }
   ],
   "source": [
    "paxos[paxos.applymap(isnumber)]"
   ]
  },
  {
   "cell_type": "code",
   "execution_count": 12,
   "metadata": {},
   "outputs": [
    {
     "data": {
      "text/html": [
       "<div>\n",
       "<style scoped>\n",
       "    .dataframe tbody tr th:only-of-type {\n",
       "        vertical-align: middle;\n",
       "    }\n",
       "\n",
       "    .dataframe tbody tr th {\n",
       "        vertical-align: top;\n",
       "    }\n",
       "\n",
       "    .dataframe thead th {\n",
       "        text-align: right;\n",
       "    }\n",
       "</style>\n",
       "<table border=\"1\" class=\"dataframe\">\n",
       "  <thead>\n",
       "    <tr style=\"text-align: right;\">\n",
       "      <th></th>\n",
       "      <th>nodeName</th>\n",
       "      <th>packetNumber</th>\n",
       "      <th>temperature</th>\n",
       "      <th>brightness</th>\n",
       "      <th>humidity</th>\n",
       "      <th>onBoardTemp</th>\n",
       "      <th>sent</th>\n",
       "      <th>received</th>\n",
       "    </tr>\n",
       "  </thead>\n",
       "  <tbody>\n",
       "    <tr>\n",
       "      <th>0</th>\n",
       "      <td>2</td>\n",
       "      <td>2</td>\n",
       "      <td>21</td>\n",
       "      <td>404</td>\n",
       "      <td>38</td>\n",
       "      <td>22</td>\n",
       "      <td>706621708234</td>\n",
       "      <td>7.066217e+11</td>\n",
       "    </tr>\n",
       "    <tr>\n",
       "      <th>1</th>\n",
       "      <td>NaN</td>\n",
       "      <td>706621709426</td>\n",
       "      <td>706621709878</td>\n",
       "      <td>NaN</td>\n",
       "      <td>NaN</td>\n",
       "      <td>NaN</td>\n",
       "      <td>NaN</td>\n",
       "      <td>NaN</td>\n",
       "    </tr>\n",
       "    <tr>\n",
       "      <th>2</th>\n",
       "      <td>2</td>\n",
       "      <td>4</td>\n",
       "      <td>21</td>\n",
       "      <td>401</td>\n",
       "      <td>38</td>\n",
       "      <td>22</td>\n",
       "      <td>706621710949</td>\n",
       "      <td>7.066217e+11</td>\n",
       "    </tr>\n",
       "    <tr>\n",
       "      <th>3</th>\n",
       "      <td>2</td>\n",
       "      <td>5</td>\n",
       "      <td>22</td>\n",
       "      <td>400</td>\n",
       "      <td>38</td>\n",
       "      <td>22</td>\n",
       "      <td>706621712958</td>\n",
       "      <td>7.066217e+11</td>\n",
       "    </tr>\n",
       "    <tr>\n",
       "      <th>4</th>\n",
       "      <td>3</td>\n",
       "      <td>10</td>\n",
       "      <td>2</td>\n",
       "      <td>400</td>\n",
       "      <td>38</td>\n",
       "      <td>22</td>\n",
       "      <td>706621714165</td>\n",
       "      <td>7.066217e+11</td>\n",
       "    </tr>\n",
       "    <tr>\n",
       "      <th>...</th>\n",
       "      <td>...</td>\n",
       "      <td>...</td>\n",
       "      <td>...</td>\n",
       "      <td>...</td>\n",
       "      <td>...</td>\n",
       "      <td>...</td>\n",
       "      <td>...</td>\n",
       "      <td>...</td>\n",
       "    </tr>\n",
       "    <tr>\n",
       "      <th>1809</th>\n",
       "      <td>2</td>\n",
       "      <td>1000</td>\n",
       "      <td>21</td>\n",
       "      <td>388</td>\n",
       "      <td>35</td>\n",
       "      <td>24</td>\n",
       "      <td>706623217339</td>\n",
       "      <td>7.066232e+11</td>\n",
       "    </tr>\n",
       "    <tr>\n",
       "      <th>1810</th>\n",
       "      <td>3</td>\n",
       "      <td>997</td>\n",
       "      <td>21</td>\n",
       "      <td>184</td>\n",
       "      <td>43</td>\n",
       "      <td>24</td>\n",
       "      <td>706623218856</td>\n",
       "      <td>7.066232e+11</td>\n",
       "    </tr>\n",
       "    <tr>\n",
       "      <th>1811</th>\n",
       "      <td>3</td>\n",
       "      <td>998</td>\n",
       "      <td>22</td>\n",
       "      <td>185</td>\n",
       "      <td>43</td>\n",
       "      <td>24</td>\n",
       "      <td>706623220864</td>\n",
       "      <td>7.066232e+11</td>\n",
       "    </tr>\n",
       "    <tr>\n",
       "      <th>1812</th>\n",
       "      <td>3</td>\n",
       "      <td>999</td>\n",
       "      <td>22</td>\n",
       "      <td>167</td>\n",
       "      <td>43</td>\n",
       "      <td>24</td>\n",
       "      <td>706623221871</td>\n",
       "      <td>7.066232e+11</td>\n",
       "    </tr>\n",
       "    <tr>\n",
       "      <th>1813</th>\n",
       "      <td>3</td>\n",
       "      <td>1000</td>\n",
       "      <td>22</td>\n",
       "      <td>185</td>\n",
       "      <td>43</td>\n",
       "      <td>24</td>\n",
       "      <td>706623223779</td>\n",
       "      <td>7.066232e+11</td>\n",
       "    </tr>\n",
       "  </tbody>\n",
       "</table>\n",
       "<p>1814 rows × 8 columns</p>\n",
       "</div>"
      ],
      "text/plain": [
       "     nodeName  packetNumber   temperature brightness humidity onBoardTemp  \\\n",
       "0           2             2            21        404       38          22   \n",
       "1         NaN  706621709426  706621709878        NaN      NaN         NaN   \n",
       "2           2             4            21        401       38          22   \n",
       "3           2             5            22        400       38          22   \n",
       "4           3            10             2        400       38          22   \n",
       "...       ...           ...           ...        ...      ...         ...   \n",
       "1809        2          1000            21        388       35          24   \n",
       "1810        3           997            21        184       43          24   \n",
       "1811        3           998            22        185       43          24   \n",
       "1812        3           999            22        167       43          24   \n",
       "1813        3          1000            22        185       43          24   \n",
       "\n",
       "              sent      received  \n",
       "0     706621708234  7.066217e+11  \n",
       "1              NaN           NaN  \n",
       "2     706621710949  7.066217e+11  \n",
       "3     706621712958  7.066217e+11  \n",
       "4     706621714165  7.066217e+11  \n",
       "...            ...           ...  \n",
       "1809  706623217339  7.066232e+11  \n",
       "1810  706623218856  7.066232e+11  \n",
       "1811  706623220864  7.066232e+11  \n",
       "1812  706623221871  7.066232e+11  \n",
       "1813  706623223779  7.066232e+11  \n",
       "\n",
       "[1814 rows x 8 columns]"
      ]
     },
     "execution_count": 12,
     "metadata": {},
     "output_type": "execute_result"
    }
   ],
   "source": [
    "noAlg[noAlg.applymap(isnumber)]"
   ]
  },
  {
   "cell_type": "code",
   "execution_count": 13,
   "metadata": {},
   "outputs": [],
   "source": [
    "raft_dropna=raft.dropna()"
   ]
  },
  {
   "cell_type": "code",
   "execution_count": 14,
   "metadata": {},
   "outputs": [
    {
     "data": {
      "text/plain": [
       "(2938, 8)"
      ]
     },
     "execution_count": 14,
     "metadata": {},
     "output_type": "execute_result"
    }
   ],
   "source": [
    "raft_dropna.shape"
   ]
  },
  {
   "cell_type": "code",
   "execution_count": 15,
   "metadata": {},
   "outputs": [],
   "source": [
    "paxos_dropna=paxos.dropna()"
   ]
  },
  {
   "cell_type": "code",
   "execution_count": 16,
   "metadata": {},
   "outputs": [
    {
     "data": {
      "text/plain": [
       "(2950, 8)"
      ]
     },
     "execution_count": 16,
     "metadata": {},
     "output_type": "execute_result"
    }
   ],
   "source": [
    "paxos_dropna.shape"
   ]
  },
  {
   "cell_type": "code",
   "execution_count": 17,
   "metadata": {},
   "outputs": [],
   "source": [
    "noAlg_dropna=noAlg.dropna()"
   ]
  },
  {
   "cell_type": "code",
   "execution_count": 18,
   "metadata": {},
   "outputs": [
    {
     "data": {
      "text/plain": [
       "(1725, 8)"
      ]
     },
     "execution_count": 18,
     "metadata": {},
     "output_type": "execute_result"
    }
   ],
   "source": [
    "noAlg_dropna.shape"
   ]
  },
  {
   "cell_type": "code",
   "execution_count": 19,
   "metadata": {},
   "outputs": [],
   "source": [
    "raft_timings = raft_dropna.drop(columns=['nodeName','packetNumber','temperature','brightness','humidity','onBoardTemp'])"
   ]
  },
  {
   "cell_type": "code",
   "execution_count": 20,
   "metadata": {},
   "outputs": [],
   "source": [
    "paxos_timings = paxos_dropna.drop(columns=['nodeName','packetNumber','temperature','brightness','humidity','onBoardTemp'])"
   ]
  },
  {
   "cell_type": "code",
   "execution_count": 21,
   "metadata": {},
   "outputs": [],
   "source": [
    "noAlg_timings = noAlg_dropna.drop(columns=['nodeName','packetNumber','temperature','brightness','humidity','onBoardTemp'])"
   ]
  },
  {
   "cell_type": "code",
   "execution_count": 22,
   "metadata": {},
   "outputs": [],
   "source": [
    "raft_timings_coerce = raft_timings.apply(pd.to_numeric, errors = 'coerce')"
   ]
  },
  {
   "cell_type": "code",
   "execution_count": 23,
   "metadata": {},
   "outputs": [],
   "source": [
    "paxos_timings_coerce= paxos_timings.apply(pd.to_numeric, errors = 'coerce')"
   ]
  },
  {
   "cell_type": "code",
   "execution_count": 24,
   "metadata": {},
   "outputs": [],
   "source": [
    "noAlg_timings_coerce= noAlg_timings.apply(pd.to_numeric, errors = 'coerce')"
   ]
  },
  {
   "cell_type": "code",
   "execution_count": 25,
   "metadata": {},
   "outputs": [],
   "source": [
    "raft_timings_coerce_dropna=raft_timings_coerce.dropna()"
   ]
  },
  {
   "cell_type": "code",
   "execution_count": 26,
   "metadata": {},
   "outputs": [],
   "source": [
    "paxos_timings_coerce_dropna=paxos_timings_coerce.dropna()"
   ]
  },
  {
   "cell_type": "code",
   "execution_count": 27,
   "metadata": {},
   "outputs": [],
   "source": [
    "noAlg_timings_coerce_dropna=noAlg_timings_coerce.dropna()"
   ]
  },
  {
   "cell_type": "code",
   "execution_count": 28,
   "metadata": {},
   "outputs": [
    {
     "data": {
      "text/plain": [
       "(2933, 2)"
      ]
     },
     "execution_count": 28,
     "metadata": {},
     "output_type": "execute_result"
    }
   ],
   "source": [
    "raft_timings_coerce_dropna.shape"
   ]
  },
  {
   "cell_type": "code",
   "execution_count": 29,
   "metadata": {},
   "outputs": [
    {
     "data": {
      "text/plain": [
       "(2942, 2)"
      ]
     },
     "execution_count": 29,
     "metadata": {},
     "output_type": "execute_result"
    }
   ],
   "source": [
    "paxos_timings_coerce_dropna.shape"
   ]
  },
  {
   "cell_type": "code",
   "execution_count": 30,
   "metadata": {},
   "outputs": [
    {
     "data": {
      "text/plain": [
       "(1682, 2)"
      ]
     },
     "execution_count": 30,
     "metadata": {},
     "output_type": "execute_result"
    }
   ],
   "source": [
    "noAlg_timings_coerce_dropna.shape"
   ]
  },
  {
   "cell_type": "code",
   "execution_count": 31,
   "metadata": {},
   "outputs": [
    {
     "name": "stdout",
     "output_type": "stream",
     "text": [
      "<class 'pandas.core.frame.DataFrame'>\n",
      "Int64Index: 2933 entries, 0 to 2962\n",
      "Data columns (total 2 columns):\n",
      " #   Column    Non-Null Count  Dtype  \n",
      "---  ------    --------------  -----  \n",
      " 0   sent      2933 non-null   float64\n",
      " 1   received  2933 non-null   float64\n",
      "dtypes: float64(2)\n",
      "memory usage: 68.7 KB\n"
     ]
    }
   ],
   "source": [
    "raft_timings_coerce_dropna.info()"
   ]
  },
  {
   "cell_type": "code",
   "execution_count": 32,
   "metadata": {},
   "outputs": [
    {
     "name": "stdout",
     "output_type": "stream",
     "text": [
      "<class 'pandas.core.frame.DataFrame'>\n",
      "Int64Index: 2942 entries, 0 to 2973\n",
      "Data columns (total 2 columns):\n",
      " #   Column    Non-Null Count  Dtype  \n",
      "---  ------    --------------  -----  \n",
      " 0   sent      2942 non-null   float64\n",
      " 1   received  2942 non-null   float64\n",
      "dtypes: float64(2)\n",
      "memory usage: 69.0 KB\n"
     ]
    }
   ],
   "source": [
    "paxos_timings_coerce_dropna.info()"
   ]
  },
  {
   "cell_type": "code",
   "execution_count": 33,
   "metadata": {},
   "outputs": [
    {
     "name": "stdout",
     "output_type": "stream",
     "text": [
      "<class 'pandas.core.frame.DataFrame'>\n",
      "Int64Index: 1682 entries, 0 to 1813\n",
      "Data columns (total 2 columns):\n",
      " #   Column    Non-Null Count  Dtype  \n",
      "---  ------    --------------  -----  \n",
      " 0   sent      1682 non-null   float64\n",
      " 1   received  1682 non-null   float64\n",
      "dtypes: float64(2)\n",
      "memory usage: 39.4 KB\n"
     ]
    }
   ],
   "source": [
    "noAlg_timings_coerce_dropna.info()"
   ]
  },
  {
   "cell_type": "code",
   "execution_count": 34,
   "metadata": {},
   "outputs": [],
   "source": [
    "raft_timings_redone = {'sent': [],'received':[]}\n",
    "\n",
    "raft_result_redone = pd.DataFrame(raft_timings_redone)"
   ]
  },
  {
   "cell_type": "code",
   "execution_count": 35,
   "metadata": {},
   "outputs": [],
   "source": [
    "paxos_timings_redone = {'sent': [],'received':[]}\n",
    "\n",
    "paxos_result_redone = pd.DataFrame(paxos_timings_redone)"
   ]
  },
  {
   "cell_type": "code",
   "execution_count": 36,
   "metadata": {},
   "outputs": [],
   "source": [
    "noAlg_timings_redone = {'sent': [],'received':[]}\n",
    "\n",
    "noAlg_result_redone = pd.DataFrame(noAlg_timings_redone)"
   ]
  },
  {
   "cell_type": "code",
   "execution_count": 37,
   "metadata": {},
   "outputs": [],
   "source": [
    "for index, row in raft_timings_coerce_dropna.iterrows():\n",
    "    try: \n",
    "        if(int(row['received']) > int(row['sent']) and int(row['sent']) > raft_timings_coerce_dropna['sent'].iloc[0]):\n",
    "            \n",
    "            raft_result_redone.at[index, 'sent'] = int(row['sent'])\n",
    "            raft_result_redone.at[index, 'received'] = int(row['received'])\n",
    "    except:\n",
    "        pass\n",
    "        #print('error')"
   ]
  },
  {
   "cell_type": "code",
   "execution_count": 38,
   "metadata": {},
   "outputs": [],
   "source": [
    "for index, row in paxos_timings_coerce_dropna.iterrows():\n",
    "    try: \n",
    "        if(int(row['received']) > int(row['sent']) and int(row['sent']) > paxos_timings_coerce_dropna['sent'].iloc[0]):\n",
    "            \n",
    "            paxos_result_redone.at[index, 'sent'] = int(row['sent'])\n",
    "            paxos_result_redone.at[index, 'received'] = int(row['received'])\n",
    "    except:\n",
    "        pass\n",
    "        #print('error')"
   ]
  },
  {
   "cell_type": "code",
   "execution_count": 39,
   "metadata": {},
   "outputs": [],
   "source": [
    "for index, row in noAlg_timings_coerce_dropna.iterrows():\n",
    "    try: \n",
    "        if(int(row['received']) > int(row['sent']) and int(row['sent']) > noAlg_timings_coerce_dropna['sent'].iloc[0]):\n",
    "            \n",
    "            noAlg_result_redone.at[index, 'sent'] = int(row['sent'])\n",
    "            noAlg_result_redone.at[index, 'received'] = int(row['received'])\n",
    "    except:\n",
    "        pass\n",
    "        #print('error')"
   ]
  },
  {
   "cell_type": "code",
   "execution_count": 40,
   "metadata": {},
   "outputs": [
    {
     "name": "stdout",
     "output_type": "stream",
     "text": [
      "<class 'pandas.core.frame.DataFrame'>\n",
      "Int64Index: 2931 entries, 1 to 2962\n",
      "Data columns (total 2 columns):\n",
      " #   Column    Non-Null Count  Dtype  \n",
      "---  ------    --------------  -----  \n",
      " 0   sent      2931 non-null   float64\n",
      " 1   received  2931 non-null   float64\n",
      "dtypes: float64(2)\n",
      "memory usage: 148.7 KB\n"
     ]
    }
   ],
   "source": [
    "raft_result_redone.info()\n"
   ]
  },
  {
   "cell_type": "code",
   "execution_count": 41,
   "metadata": {},
   "outputs": [
    {
     "name": "stdout",
     "output_type": "stream",
     "text": [
      "<class 'pandas.core.frame.DataFrame'>\n",
      "Int64Index: 2084 entries, 1 to 2971\n",
      "Data columns (total 2 columns):\n",
      " #   Column    Non-Null Count  Dtype  \n",
      "---  ------    --------------  -----  \n",
      " 0   sent      2084 non-null   float64\n",
      " 1   received  2084 non-null   float64\n",
      "dtypes: float64(2)\n",
      "memory usage: 128.8 KB\n"
     ]
    }
   ],
   "source": [
    "paxos_result_redone.info()"
   ]
  },
  {
   "cell_type": "code",
   "execution_count": 42,
   "metadata": {},
   "outputs": [
    {
     "name": "stdout",
     "output_type": "stream",
     "text": [
      "<class 'pandas.core.frame.DataFrame'>\n",
      "Int64Index: 1182 entries, 2 to 1809\n",
      "Data columns (total 2 columns):\n",
      " #   Column    Non-Null Count  Dtype  \n",
      "---  ------    --------------  -----  \n",
      " 0   sent      1182 non-null   float64\n",
      " 1   received  1182 non-null   float64\n",
      "dtypes: float64(2)\n",
      "memory usage: 67.7 KB\n"
     ]
    }
   ],
   "source": [
    "noAlg_result_redone.info()"
   ]
  },
  {
   "cell_type": "code",
   "execution_count": 43,
   "metadata": {},
   "outputs": [
    {
     "data": {
      "text/plain": [
       "(0.9999999984305896, array([1., 1.]))"
      ]
     },
     "execution_count": 43,
     "metadata": {},
     "output_type": "execute_result"
    }
   ],
   "source": [
    "#CRONBACH ALPHA\n",
    "pg.cronbach_alpha(data=raft_result_redone)"
   ]
  },
  {
   "cell_type": "code",
   "execution_count": 44,
   "metadata": {},
   "outputs": [
    {
     "data": {
      "text/plain": [
       "(0.9999999969368298, array([1., 1.]))"
      ]
     },
     "execution_count": 44,
     "metadata": {},
     "output_type": "execute_result"
    }
   ],
   "source": [
    "#CRONBACH ALPHA\n",
    "pg.cronbach_alpha(data=paxos_result_redone)"
   ]
  },
  {
   "cell_type": "code",
   "execution_count": 45,
   "metadata": {},
   "outputs": [
    {
     "data": {
      "text/plain": [
       "(0.9999999805126312, array([1., 1.]))"
      ]
     },
     "execution_count": 45,
     "metadata": {},
     "output_type": "execute_result"
    }
   ],
   "source": [
    "#CRONBACH ALPHA\n",
    "pg.cronbach_alpha(data=noAlg_result_redone)"
   ]
  },
  {
   "cell_type": "code",
   "execution_count": 46,
   "metadata": {},
   "outputs": [],
   "source": [
    "raft_latency_pd = {'latency': []}\n",
    "\n",
    "raft_latency = pd.DataFrame(raft_latency_pd)"
   ]
  },
  {
   "cell_type": "code",
   "execution_count": 47,
   "metadata": {},
   "outputs": [],
   "source": [
    "paxos_latency_pd = {'latency': []}\n",
    "\n",
    "paxos_latency = pd.DataFrame(paxos_latency_pd)"
   ]
  },
  {
   "cell_type": "code",
   "execution_count": 48,
   "metadata": {},
   "outputs": [],
   "source": [
    "noAlg_latency_pd = {'latency': []}\n",
    "\n",
    "noAlg_latency = pd.DataFrame(noAlg_latency_pd)"
   ]
  },
  {
   "cell_type": "code",
   "execution_count": 49,
   "metadata": {},
   "outputs": [],
   "source": [
    "for index, row in raft_result_redone.iterrows():\n",
    "    try:\n",
    "        \n",
    "        result = int(row['received']) - int(row['sent'])\n",
    "        raft_latency.at[index, 'latency'] = result      \n",
    "    except:\n",
    "        pass\n",
    "        "
   ]
  },
  {
   "cell_type": "code",
   "execution_count": 50,
   "metadata": {},
   "outputs": [],
   "source": [
    "for index, row in paxos_result_redone.iterrows():\n",
    "    try:\n",
    "        \n",
    "        result = int(row['received']) - int(row['sent'])\n",
    "        paxos_latency.at[index, 'latency'] = result      \n",
    "    except:\n",
    "        pass\n",
    "        "
   ]
  },
  {
   "cell_type": "code",
   "execution_count": 51,
   "metadata": {},
   "outputs": [],
   "source": [
    "for index, row in noAlg_result_redone.iterrows():\n",
    "    try:\n",
    "        \n",
    "        result = int(row['received']) - int(row['sent'])\n",
    "        noAlg_latency.at[index, 'latency'] = result      \n",
    "    except:\n",
    "        pass\n",
    "        "
   ]
  },
  {
   "cell_type": "code",
   "execution_count": 52,
   "metadata": {},
   "outputs": [
    {
     "name": "stdout",
     "output_type": "stream",
     "text": [
      "<class 'pandas.core.frame.DataFrame'>\n",
      "Int64Index: 2931 entries, 1 to 2962\n",
      "Data columns (total 1 columns):\n",
      " #   Column   Non-Null Count  Dtype  \n",
      "---  ------   --------------  -----  \n",
      " 0   latency  2931 non-null   float64\n",
      "dtypes: float64(1)\n",
      "memory usage: 125.8 KB\n"
     ]
    }
   ],
   "source": [
    "raft_latency.info()"
   ]
  },
  {
   "cell_type": "code",
   "execution_count": 53,
   "metadata": {},
   "outputs": [
    {
     "data": {
      "text/plain": [
       "(2931, 1)"
      ]
     },
     "execution_count": 53,
     "metadata": {},
     "output_type": "execute_result"
    }
   ],
   "source": [
    "raft_latency.shape"
   ]
  },
  {
   "cell_type": "code",
   "execution_count": 54,
   "metadata": {},
   "outputs": [
    {
     "name": "stdout",
     "output_type": "stream",
     "text": [
      "<class 'pandas.core.frame.DataFrame'>\n",
      "Int64Index: 2084 entries, 1 to 2971\n",
      "Data columns (total 1 columns):\n",
      " #   Column   Non-Null Count  Dtype  \n",
      "---  ------   --------------  -----  \n",
      " 0   latency  2084 non-null   float64\n",
      "dtypes: float64(1)\n",
      "memory usage: 112.6 KB\n"
     ]
    }
   ],
   "source": [
    "paxos_latency.info()"
   ]
  },
  {
   "cell_type": "code",
   "execution_count": 55,
   "metadata": {},
   "outputs": [
    {
     "data": {
      "text/plain": [
       "(2084, 1)"
      ]
     },
     "execution_count": 55,
     "metadata": {},
     "output_type": "execute_result"
    }
   ],
   "source": [
    "paxos_latency.shape"
   ]
  },
  {
   "cell_type": "code",
   "execution_count": 56,
   "metadata": {},
   "outputs": [
    {
     "name": "stdout",
     "output_type": "stream",
     "text": [
      "<class 'pandas.core.frame.DataFrame'>\n",
      "Int64Index: 1182 entries, 2 to 1809\n",
      "Data columns (total 1 columns):\n",
      " #   Column   Non-Null Count  Dtype  \n",
      "---  ------   --------------  -----  \n",
      " 0   latency  1182 non-null   float64\n",
      "dtypes: float64(1)\n",
      "memory usage: 58.5 KB\n"
     ]
    }
   ],
   "source": [
    "noAlg_latency.info()"
   ]
  },
  {
   "cell_type": "code",
   "execution_count": 57,
   "metadata": {},
   "outputs": [
    {
     "data": {
      "text/plain": [
       "(1182, 1)"
      ]
     },
     "execution_count": 57,
     "metadata": {},
     "output_type": "execute_result"
    }
   ],
   "source": [
    "noAlg_latency.shape"
   ]
  },
  {
   "cell_type": "code",
   "execution_count": 58,
   "metadata": {},
   "outputs": [
    {
     "data": {
      "text/plain": [
       "605.0440122824974"
      ]
     },
     "execution_count": 58,
     "metadata": {},
     "output_type": "execute_result"
    }
   ],
   "source": [
    "raft_latency['latency'].mean()"
   ]
  },
  {
   "cell_type": "code",
   "execution_count": 59,
   "metadata": {},
   "outputs": [
    {
     "data": {
      "text/plain": [
       "409.4596928982726"
      ]
     },
     "execution_count": 59,
     "metadata": {},
     "output_type": "execute_result"
    }
   ],
   "source": [
    "paxos_latency['latency'].mean()"
   ]
  },
  {
   "cell_type": "code",
   "execution_count": 60,
   "metadata": {},
   "outputs": [
    {
     "data": {
      "text/plain": [
       "378.1615905245347"
      ]
     },
     "execution_count": 60,
     "metadata": {},
     "output_type": "execute_result"
    }
   ],
   "source": [
    "noAlg_latency['latency'].mean()"
   ]
  },
  {
   "cell_type": "code",
   "execution_count": 61,
   "metadata": {},
   "outputs": [
    {
     "data": {
      "text/plain": [
       "'C:\\\\Users\\\\czaps\\\\Documents\\\\MSc\\\\data_wrangling\\\\latency_workbook'"
      ]
     },
     "execution_count": 61,
     "metadata": {},
     "output_type": "execute_result"
    }
   ],
   "source": [
    "pwd"
   ]
  },
  {
   "cell_type": "code",
   "execution_count": 74,
   "metadata": {},
   "outputs": [],
   "source": [
    "latency_3 = pd.read_csv(\"C:\\\\Users\\\\czaps\\\\Documents\\\\MSc\\\\data_wrangling\\\\latency_workbook\\\\latency_3.csv\", error_bad_lines=False, sep=\",\")"
   ]
  },
  {
   "cell_type": "code",
   "execution_count": 75,
   "metadata": {},
   "outputs": [
    {
     "data": {
      "image/png": "[encoded data removed]",
      "text/plain": [
       "<Figure size 432x288 with 1 Axes>"
      ]
     },
     "metadata": {
      "needs_background": "light"
     },
     "output_type": "display_data"
    }
   ],
   "source": [
    "ax = latency_3.plot.bar(x='algorithm')\n",
    "plt.title('Average latency of 3 node network')\n",
    "ax.set(xlabel='', ylabel='miliseconds')\n",
    "ax.set_xticklabels(ax.get_xticklabels(), rotation=0, ha=\"center\")\n",
    "for bars in ax.containers:\n",
    "    ax.bar_label(bars)\n",
    "#plt.legend(loc='upper right')\n",
    "ax.get_legend().remove()\n",
    "plt.savefig('C:\\\\Users\\\\czaps\\\\Documents\\\\MSc\\\\images\\\\latency_3_mean.png', bbox_inches='tight')\n"
   ]
  },
  {
   "cell_type": "code",
   "execution_count": null,
   "metadata": {},
   "outputs": [],
   "source": []
  }
 ],
 "metadata": {
  "kernelspec": {
   "display_name": "Python 3",
   "language": "python",
   "name": "python3"
  },
  "language_info": {
   "codemirror_mode": {
    "name": "ipython",
    "version": 3
   },
   "file_extension": ".py",
   "mimetype": "text/x-python",
   "name": "python",
   "nbconvert_exporter": "python",
   "pygments_lexer": "ipython3",
   "version": "3.7.1"
  }
 },
 "nbformat": 4,
 "nbformat_minor": 4
}
