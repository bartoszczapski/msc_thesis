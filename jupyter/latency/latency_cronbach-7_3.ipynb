{
 "cells": [
  {
   "cell_type": "code",
   "execution_count": 1,
   "metadata": {},
   "outputs": [],
   "source": [
    "# Import the libraries\n",
    "import os\n",
    "import pandas as pd\n",
    "import matplotlib\n",
    "matplotlib.use(u'nbAgg')\n",
    "import matplotlib.pyplot as plt\n",
    "import seaborn as sns\n",
    "import numpy as np\n",
    "import pickle\n",
    "from sklearn.manifold import TSNE\n",
    "from sklearn import preprocessing\n",
    "import pandas as pd\n",
    "import pingouin as pg\n",
    "import reliability_stability\n",
    "%matplotlib inline"
   ]
  },
  {
   "cell_type": "code",
   "execution_count": 2,
   "metadata": {},
   "outputs": [],
   "source": [
    "def isnumber(x):\n",
    "    try:\n",
    "        int(x)\n",
    "        return True\n",
    "    except:\n",
    "        return False"
   ]
  },
  {
   "cell_type": "code",
   "execution_count": 3,
   "metadata": {},
   "outputs": [
    {
     "name": "stderr",
     "output_type": "stream",
     "text": [
      "b'Skipping line 1443: expected 8 fields, saw 9\\nSkipping line 1477: expected 8 fields, saw 9\\n'\n",
      "b'Skipping line 2057: expected 8 fields, saw 9\\n'\n",
      "b'Skipping line 11: expected 8 fields, saw 9\\nSkipping line 766: expected 8 fields, saw 9\\nSkipping line 1698: expected 8 fields, saw 9\\n'\n"
     ]
    }
   ],
   "source": [
    "raft = pd.read_csv(\"C:\\\\Users\\\\czaps\\\\Documents\\\\MSc\\\\experiments\\\\latency\\\\outdoor_latency_experiment\\\\raft_data_7-nodes_3-fails.csv\", error_bad_lines=False, sep=\",\")\n",
    "paxos = pd.read_csv(\"C:\\\\Users\\\\czaps\\\\Documents\\\\MSc\\\\experiments\\\\latency\\\\outdoor_latency_experiment\\\\paxos_data_7-nodes_3-fails.csv\", error_bad_lines=False, sep=\",\")\n",
    "noAlg = pd.read_csv(\"C:\\\\Users\\\\czaps\\\\Documents\\\\MSc\\\\experiments\\\\latency\\\\outdoor_latency_experiment\\\\control\\\\outdoor_control_7-nodes_3-fails\\\\data.csv\", error_bad_lines=False, sep=\",\")"
   ]
  },
  {
   "cell_type": "code",
   "execution_count": 4,
   "metadata": {},
   "outputs": [
    {
     "data": {
      "text/plain": [
       "(4806, 8)"
      ]
     },
     "execution_count": 4,
     "metadata": {},
     "output_type": "execute_result"
    }
   ],
   "source": [
    "raft.shape"
   ]
  },
  {
   "cell_type": "code",
   "execution_count": 5,
   "metadata": {},
   "outputs": [
    {
     "data": {
      "text/plain": [
       "(5106, 8)"
      ]
     },
     "execution_count": 5,
     "metadata": {},
     "output_type": "execute_result"
    }
   ],
   "source": [
    "paxos.shape"
   ]
  },
  {
   "cell_type": "code",
   "execution_count": 6,
   "metadata": {},
   "outputs": [
    {
     "data": {
      "text/plain": [
       "(2573, 8)"
      ]
     },
     "execution_count": 6,
     "metadata": {},
     "output_type": "execute_result"
    }
   ],
   "source": [
    "noAlg.shape"
   ]
  },
  {
   "cell_type": "code",
   "execution_count": 7,
   "metadata": {},
   "outputs": [
    {
     "name": "stdout",
     "output_type": "stream",
     "text": [
      "<class 'pandas.core.frame.DataFrame'>\n",
      "RangeIndex: 4806 entries, 0 to 4805\n",
      "Data columns (total 8 columns):\n",
      " #   Column        Non-Null Count  Dtype  \n",
      "---  ------        --------------  -----  \n",
      " 0   nodeName      4805 non-null   object \n",
      " 1   packetNumber  4805 non-null   object \n",
      " 2   temperature   4803 non-null   object \n",
      " 3   brightness    4790 non-null   object \n",
      " 4   humidity      4765 non-null   object \n",
      " 5   onBoardTemp   4710 non-null   object \n",
      " 6   sent          4653 non-null   object \n",
      " 7   received      4562 non-null   float64\n",
      "dtypes: float64(1), object(7)\n",
      "memory usage: 300.5+ KB\n"
     ]
    }
   ],
   "source": [
    "raft.info()"
   ]
  },
  {
   "cell_type": "code",
   "execution_count": 8,
   "metadata": {},
   "outputs": [
    {
     "name": "stdout",
     "output_type": "stream",
     "text": [
      "<class 'pandas.core.frame.DataFrame'>\n",
      "RangeIndex: 5106 entries, 0 to 5105\n",
      "Data columns (total 8 columns):\n",
      " #   Column        Non-Null Count  Dtype  \n",
      "---  ------        --------------  -----  \n",
      " 0   nodeName      5106 non-null   object \n",
      " 1   packetNumber  5106 non-null   object \n",
      " 2   temperature   5102 non-null   object \n",
      " 3   brightness    5088 non-null   object \n",
      " 4   humidity      5083 non-null   object \n",
      " 5   onBoardTemp   5078 non-null   object \n",
      " 6   sent          5075 non-null   object \n",
      " 7   received      5068 non-null   float64\n",
      "dtypes: float64(1), object(7)\n",
      "memory usage: 319.2+ KB\n"
     ]
    }
   ],
   "source": [
    "paxos.info()"
   ]
  },
  {
   "cell_type": "code",
   "execution_count": 9,
   "metadata": {},
   "outputs": [
    {
     "name": "stdout",
     "output_type": "stream",
     "text": [
      "<class 'pandas.core.frame.DataFrame'>\n",
      "RangeIndex: 2573 entries, 0 to 2572\n",
      "Data columns (total 8 columns):\n",
      " #   Column        Non-Null Count  Dtype  \n",
      "---  ------        --------------  -----  \n",
      " 0   nodeName      2573 non-null   object \n",
      " 1   packetNumber  2573 non-null   object \n",
      " 2   temperature   2525 non-null   object \n",
      " 3   brightness    2477 non-null   object \n",
      " 4   humidity      2444 non-null   object \n",
      " 5   onBoardTemp   2379 non-null   object \n",
      " 6   sent          2330 non-null   object \n",
      " 7   received      2274 non-null   float64\n",
      "dtypes: float64(1), object(7)\n",
      "memory usage: 160.9+ KB\n"
     ]
    }
   ],
   "source": [
    "noAlg.info()"
   ]
  },
  {
   "cell_type": "code",
   "execution_count": 10,
   "metadata": {},
   "outputs": [
    {
     "data": {
      "text/html": [
       "<div>\n",
       "<style scoped>\n",
       "    .dataframe tbody tr th:only-of-type {\n",
       "        vertical-align: middle;\n",
       "    }\n",
       "\n",
       "    .dataframe tbody tr th {\n",
       "        vertical-align: top;\n",
       "    }\n",
       "\n",
       "    .dataframe thead th {\n",
       "        text-align: right;\n",
       "    }\n",
       "</style>\n",
       "<table border=\"1\" class=\"dataframe\">\n",
       "  <thead>\n",
       "    <tr style=\"text-align: right;\">\n",
       "      <th></th>\n",
       "      <th>nodeName</th>\n",
       "      <th>packetNumber</th>\n",
       "      <th>temperature</th>\n",
       "      <th>brightness</th>\n",
       "      <th>humidity</th>\n",
       "      <th>onBoardTemp</th>\n",
       "      <th>sent</th>\n",
       "      <th>received</th>\n",
       "    </tr>\n",
       "  </thead>\n",
       "  <tbody>\n",
       "    <tr>\n",
       "      <th>0</th>\n",
       "      <td>2</td>\n",
       "      <td>1</td>\n",
       "      <td>20</td>\n",
       "      <td>77</td>\n",
       "      <td>35</td>\n",
       "      <td>20</td>\n",
       "      <td>706303144043</td>\n",
       "      <td>7.063031e+11</td>\n",
       "    </tr>\n",
       "    <tr>\n",
       "      <th>1</th>\n",
       "      <td>NaN</td>\n",
       "      <td>706303145385</td>\n",
       "      <td>706303145816</td>\n",
       "      <td>NaN</td>\n",
       "      <td>NaN</td>\n",
       "      <td>NaN</td>\n",
       "      <td>NaN</td>\n",
       "      <td>NaN</td>\n",
       "    </tr>\n",
       "    <tr>\n",
       "      <th>2</th>\n",
       "      <td>4</td>\n",
       "      <td>1</td>\n",
       "      <td>20</td>\n",
       "      <td>90</td>\n",
       "      <td>32</td>\n",
       "      <td>21</td>\n",
       "      <td>706303146219</td>\n",
       "      <td>7.063031e+11</td>\n",
       "    </tr>\n",
       "    <tr>\n",
       "      <th>3</th>\n",
       "      <td>7</td>\n",
       "      <td>1</td>\n",
       "      <td>21</td>\n",
       "      <td>41</td>\n",
       "      <td>33</td>\n",
       "      <td>21</td>\n",
       "      <td>7063031504179</td>\n",
       "      <td>7.063032e+11</td>\n",
       "    </tr>\n",
       "    <tr>\n",
       "      <th>4</th>\n",
       "      <td>3</td>\n",
       "      <td>2</td>\n",
       "      <td>19</td>\n",
       "      <td>55</td>\n",
       "      <td>41</td>\n",
       "      <td>20</td>\n",
       "      <td>706303155901</td>\n",
       "      <td>7.063032e+11</td>\n",
       "    </tr>\n",
       "    <tr>\n",
       "      <th>...</th>\n",
       "      <td>...</td>\n",
       "      <td>...</td>\n",
       "      <td>...</td>\n",
       "      <td>...</td>\n",
       "      <td>...</td>\n",
       "      <td>...</td>\n",
       "      <td>...</td>\n",
       "      <td>...</td>\n",
       "    </tr>\n",
       "    <tr>\n",
       "      <th>4801</th>\n",
       "      <td>5</td>\n",
       "      <td>996</td>\n",
       "      <td>22</td>\n",
       "      <td>0</td>\n",
       "      <td>35</td>\n",
       "      <td>23</td>\n",
       "      <td>706313637625</td>\n",
       "      <td>7.063136e+11</td>\n",
       "    </tr>\n",
       "    <tr>\n",
       "      <th>4802</th>\n",
       "      <td>5</td>\n",
       "      <td>997</td>\n",
       "      <td>21</td>\n",
       "      <td>65535</td>\n",
       "      <td>35</td>\n",
       "      <td>23</td>\n",
       "      <td>706313639134</td>\n",
       "      <td>7.063136e+11</td>\n",
       "    </tr>\n",
       "    <tr>\n",
       "      <th>4803</th>\n",
       "      <td>5</td>\n",
       "      <td>998</td>\n",
       "      <td>22</td>\n",
       "      <td>0</td>\n",
       "      <td>35</td>\n",
       "      <td>23</td>\n",
       "      <td>706313640642</td>\n",
       "      <td>7.063136e+11</td>\n",
       "    </tr>\n",
       "    <tr>\n",
       "      <th>4804</th>\n",
       "      <td>5</td>\n",
       "      <td>999</td>\n",
       "      <td>22</td>\n",
       "      <td>0</td>\n",
       "      <td>35</td>\n",
       "      <td>23</td>\n",
       "      <td>706313642149</td>\n",
       "      <td>7.063136e+11</td>\n",
       "    </tr>\n",
       "    <tr>\n",
       "      <th>4805</th>\n",
       "      <td>5</td>\n",
       "      <td>1000</td>\n",
       "      <td>21</td>\n",
       "      <td>0</td>\n",
       "      <td>35</td>\n",
       "      <td>23</td>\n",
       "      <td>706313643657</td>\n",
       "      <td>7.063136e+11</td>\n",
       "    </tr>\n",
       "  </tbody>\n",
       "</table>\n",
       "<p>4806 rows × 8 columns</p>\n",
       "</div>"
      ],
      "text/plain": [
       "     nodeName  packetNumber   temperature brightness humidity onBoardTemp  \\\n",
       "0           2             1            20         77       35          20   \n",
       "1         NaN  706303145385  706303145816        NaN      NaN         NaN   \n",
       "2           4             1            20         90       32          21   \n",
       "3           7             1            21         41       33          21   \n",
       "4           3             2            19         55       41          20   \n",
       "...       ...           ...           ...        ...      ...         ...   \n",
       "4801        5           996            22          0       35          23   \n",
       "4802        5           997            21      65535       35          23   \n",
       "4803        5           998            22          0       35          23   \n",
       "4804        5           999            22          0       35          23   \n",
       "4805        5          1000            21          0       35          23   \n",
       "\n",
       "               sent      received  \n",
       "0      706303144043  7.063031e+11  \n",
       "1               NaN           NaN  \n",
       "2      706303146219  7.063031e+11  \n",
       "3     7063031504179  7.063032e+11  \n",
       "4      706303155901  7.063032e+11  \n",
       "...             ...           ...  \n",
       "4801   706313637625  7.063136e+11  \n",
       "4802   706313639134  7.063136e+11  \n",
       "4803   706313640642  7.063136e+11  \n",
       "4804   706313642149  7.063136e+11  \n",
       "4805   706313643657  7.063136e+11  \n",
       "\n",
       "[4806 rows x 8 columns]"
      ]
     },
     "execution_count": 10,
     "metadata": {},
     "output_type": "execute_result"
    }
   ],
   "source": [
    "raft[raft.applymap(isnumber)]"
   ]
  },
  {
   "cell_type": "code",
   "execution_count": 11,
   "metadata": {},
   "outputs": [
    {
     "data": {
      "text/html": [
       "<div>\n",
       "<style scoped>\n",
       "    .dataframe tbody tr th:only-of-type {\n",
       "        vertical-align: middle;\n",
       "    }\n",
       "\n",
       "    .dataframe tbody tr th {\n",
       "        vertical-align: top;\n",
       "    }\n",
       "\n",
       "    .dataframe thead th {\n",
       "        text-align: right;\n",
       "    }\n",
       "</style>\n",
       "<table border=\"1\" class=\"dataframe\">\n",
       "  <thead>\n",
       "    <tr style=\"text-align: right;\">\n",
       "      <th></th>\n",
       "      <th>nodeName</th>\n",
       "      <th>packetNumber</th>\n",
       "      <th>temperature</th>\n",
       "      <th>brightness</th>\n",
       "      <th>humidity</th>\n",
       "      <th>onBoardTemp</th>\n",
       "      <th>sent</th>\n",
       "      <th>received</th>\n",
       "    </tr>\n",
       "  </thead>\n",
       "  <tbody>\n",
       "    <tr>\n",
       "      <th>0</th>\n",
       "      <td>1</td>\n",
       "      <td>2</td>\n",
       "      <td>21</td>\n",
       "      <td>449</td>\n",
       "      <td>29</td>\n",
       "      <td>24</td>\n",
       "      <td>706291581201</td>\n",
       "      <td>7.062916e+11</td>\n",
       "    </tr>\n",
       "    <tr>\n",
       "      <th>1</th>\n",
       "      <td>2</td>\n",
       "      <td>1</td>\n",
       "      <td>22</td>\n",
       "      <td>575</td>\n",
       "      <td>29</td>\n",
       "      <td>23</td>\n",
       "      <td>706291581580</td>\n",
       "      <td>7.062916e+11</td>\n",
       "    </tr>\n",
       "    <tr>\n",
       "      <th>2</th>\n",
       "      <td>NaN</td>\n",
       "      <td>706291582713</td>\n",
       "      <td>706291583340</td>\n",
       "      <td>NaN</td>\n",
       "      <td>NaN</td>\n",
       "      <td>NaN</td>\n",
       "      <td>NaN</td>\n",
       "      <td>NaN</td>\n",
       "    </tr>\n",
       "    <tr>\n",
       "      <th>3</th>\n",
       "      <td>NaN</td>\n",
       "      <td>706291583160</td>\n",
       "      <td>706291584202</td>\n",
       "      <td>NaN</td>\n",
       "      <td>NaN</td>\n",
       "      <td>NaN</td>\n",
       "      <td>NaN</td>\n",
       "      <td>NaN</td>\n",
       "    </tr>\n",
       "    <tr>\n",
       "      <th>4</th>\n",
       "      <td>NaN</td>\n",
       "      <td>706291584224</td>\n",
       "      <td>706291584852</td>\n",
       "      <td>NaN</td>\n",
       "      <td>NaN</td>\n",
       "      <td>NaN</td>\n",
       "      <td>NaN</td>\n",
       "      <td>NaN</td>\n",
       "    </tr>\n",
       "    <tr>\n",
       "      <th>...</th>\n",
       "      <td>...</td>\n",
       "      <td>...</td>\n",
       "      <td>...</td>\n",
       "      <td>...</td>\n",
       "      <td>...</td>\n",
       "      <td>...</td>\n",
       "      <td>...</td>\n",
       "      <td>...</td>\n",
       "    </tr>\n",
       "    <tr>\n",
       "      <th>5101</th>\n",
       "      <td>5</td>\n",
       "      <td>996</td>\n",
       "      <td>21</td>\n",
       "      <td>43</td>\n",
       "      <td>32</td>\n",
       "      <td>22</td>\n",
       "      <td>706301970465</td>\n",
       "      <td>7.063020e+11</td>\n",
       "    </tr>\n",
       "    <tr>\n",
       "      <th>5102</th>\n",
       "      <td>5</td>\n",
       "      <td>997</td>\n",
       "      <td>21</td>\n",
       "      <td>39</td>\n",
       "      <td>32</td>\n",
       "      <td>22</td>\n",
       "      <td>706301971973</td>\n",
       "      <td>7.063020e+11</td>\n",
       "    </tr>\n",
       "    <tr>\n",
       "      <th>5103</th>\n",
       "      <td>5</td>\n",
       "      <td>998</td>\n",
       "      <td>21</td>\n",
       "      <td>39</td>\n",
       "      <td>32</td>\n",
       "      <td>22</td>\n",
       "      <td>706301973481</td>\n",
       "      <td>7.063020e+11</td>\n",
       "    </tr>\n",
       "    <tr>\n",
       "      <th>5104</th>\n",
       "      <td>5</td>\n",
       "      <td>999</td>\n",
       "      <td>21</td>\n",
       "      <td>43</td>\n",
       "      <td>32</td>\n",
       "      <td>22</td>\n",
       "      <td>706301974988</td>\n",
       "      <td>7.063020e+11</td>\n",
       "    </tr>\n",
       "    <tr>\n",
       "      <th>5105</th>\n",
       "      <td>5</td>\n",
       "      <td>1000</td>\n",
       "      <td>21</td>\n",
       "      <td>39</td>\n",
       "      <td>32</td>\n",
       "      <td>22</td>\n",
       "      <td>706301976496</td>\n",
       "      <td>7.063020e+11</td>\n",
       "    </tr>\n",
       "  </tbody>\n",
       "</table>\n",
       "<p>5106 rows × 8 columns</p>\n",
       "</div>"
      ],
      "text/plain": [
       "     nodeName  packetNumber   temperature brightness humidity onBoardTemp  \\\n",
       "0           1             2            21        449       29          24   \n",
       "1           2             1            22        575       29          23   \n",
       "2         NaN  706291582713  706291583340        NaN      NaN         NaN   \n",
       "3         NaN  706291583160  706291584202        NaN      NaN         NaN   \n",
       "4         NaN  706291584224  706291584852        NaN      NaN         NaN   \n",
       "...       ...           ...           ...        ...      ...         ...   \n",
       "5101        5           996            21         43       32          22   \n",
       "5102        5           997            21         39       32          22   \n",
       "5103        5           998            21         39       32          22   \n",
       "5104        5           999            21         43       32          22   \n",
       "5105        5          1000            21         39       32          22   \n",
       "\n",
       "              sent      received  \n",
       "0     706291581201  7.062916e+11  \n",
       "1     706291581580  7.062916e+11  \n",
       "2              NaN           NaN  \n",
       "3              NaN           NaN  \n",
       "4              NaN           NaN  \n",
       "...            ...           ...  \n",
       "5101  706301970465  7.063020e+11  \n",
       "5102  706301971973  7.063020e+11  \n",
       "5103  706301973481  7.063020e+11  \n",
       "5104  706301974988  7.063020e+11  \n",
       "5105  706301976496  7.063020e+11  \n",
       "\n",
       "[5106 rows x 8 columns]"
      ]
     },
     "execution_count": 11,
     "metadata": {},
     "output_type": "execute_result"
    }
   ],
   "source": [
    "paxos[paxos.applymap(isnumber)]"
   ]
  },
  {
   "cell_type": "code",
   "execution_count": 12,
   "metadata": {},
   "outputs": [
    {
     "data": {
      "text/html": [
       "<div>\n",
       "<style scoped>\n",
       "    .dataframe tbody tr th:only-of-type {\n",
       "        vertical-align: middle;\n",
       "    }\n",
       "\n",
       "    .dataframe tbody tr th {\n",
       "        vertical-align: top;\n",
       "    }\n",
       "\n",
       "    .dataframe thead th {\n",
       "        text-align: right;\n",
       "    }\n",
       "</style>\n",
       "<table border=\"1\" class=\"dataframe\">\n",
       "  <thead>\n",
       "    <tr style=\"text-align: right;\">\n",
       "      <th></th>\n",
       "      <th>nodeName</th>\n",
       "      <th>packetNumber</th>\n",
       "      <th>temperature</th>\n",
       "      <th>brightness</th>\n",
       "      <th>humidity</th>\n",
       "      <th>onBoardTemp</th>\n",
       "      <th>sent</th>\n",
       "      <th>received</th>\n",
       "    </tr>\n",
       "  </thead>\n",
       "  <tbody>\n",
       "    <tr>\n",
       "      <th>0</th>\n",
       "      <td>4</td>\n",
       "      <td>1</td>\n",
       "      <td>23</td>\n",
       "      <td>149</td>\n",
       "      <td>43</td>\n",
       "      <td>24</td>\n",
       "      <td>706636676156</td>\n",
       "      <td>7.066367e+11</td>\n",
       "    </tr>\n",
       "    <tr>\n",
       "      <th>1</th>\n",
       "      <td>7</td>\n",
       "      <td>1</td>\n",
       "      <td>24</td>\n",
       "      <td>129</td>\n",
       "      <td>42</td>\n",
       "      <td>23</td>\n",
       "      <td>706636676662</td>\n",
       "      <td>7.066367e+11</td>\n",
       "    </tr>\n",
       "    <tr>\n",
       "      <th>2</th>\n",
       "      <td>5</td>\n",
       "      <td>2</td>\n",
       "      <td>23</td>\n",
       "      <td>391</td>\n",
       "      <td>46</td>\n",
       "      <td>24</td>\n",
       "      <td>706636676901</td>\n",
       "      <td>7.066367e+11</td>\n",
       "    </tr>\n",
       "    <tr>\n",
       "      <th>3</th>\n",
       "      <td>4</td>\n",
       "      <td>3</td>\n",
       "      <td>23</td>\n",
       "      <td>132</td>\n",
       "      <td>43</td>\n",
       "      <td>24</td>\n",
       "      <td>706636678171</td>\n",
       "      <td>7.066367e+11</td>\n",
       "    </tr>\n",
       "    <tr>\n",
       "      <th>4</th>\n",
       "      <td>7</td>\n",
       "      <td>2</td>\n",
       "      <td>25</td>\n",
       "      <td>129</td>\n",
       "      <td>42</td>\n",
       "      <td>23</td>\n",
       "      <td>706636678670</td>\n",
       "      <td>7.066367e+11</td>\n",
       "    </tr>\n",
       "    <tr>\n",
       "      <th>...</th>\n",
       "      <td>...</td>\n",
       "      <td>...</td>\n",
       "      <td>...</td>\n",
       "      <td>...</td>\n",
       "      <td>...</td>\n",
       "      <td>...</td>\n",
       "      <td>...</td>\n",
       "      <td>...</td>\n",
       "    </tr>\n",
       "    <tr>\n",
       "      <th>2568</th>\n",
       "      <td>5</td>\n",
       "      <td>996</td>\n",
       "      <td>23</td>\n",
       "      <td>157</td>\n",
       "      <td>39</td>\n",
       "      <td>26</td>\n",
       "      <td>706638673029</td>\n",
       "      <td>7.066387e+11</td>\n",
       "    </tr>\n",
       "    <tr>\n",
       "      <th>2569</th>\n",
       "      <td>5</td>\n",
       "      <td>997</td>\n",
       "      <td>23</td>\n",
       "      <td>174</td>\n",
       "      <td>39</td>\n",
       "      <td>26</td>\n",
       "      <td>706638675036</td>\n",
       "      <td>7.066387e+11</td>\n",
       "    </tr>\n",
       "    <tr>\n",
       "      <th>2570</th>\n",
       "      <td>5</td>\n",
       "      <td>998</td>\n",
       "      <td>24</td>\n",
       "      <td>158</td>\n",
       "      <td>39</td>\n",
       "      <td>26</td>\n",
       "      <td>706638677044</td>\n",
       "      <td>7.066387e+11</td>\n",
       "    </tr>\n",
       "    <tr>\n",
       "      <th>2571</th>\n",
       "      <td>5</td>\n",
       "      <td>999</td>\n",
       "      <td>23</td>\n",
       "      <td>190</td>\n",
       "      <td>39</td>\n",
       "      <td>26</td>\n",
       "      <td>706638679052</td>\n",
       "      <td>7.066387e+11</td>\n",
       "    </tr>\n",
       "    <tr>\n",
       "      <th>2572</th>\n",
       "      <td>5</td>\n",
       "      <td>1000</td>\n",
       "      <td>23</td>\n",
       "      <td>157</td>\n",
       "      <td>39</td>\n",
       "      <td>26</td>\n",
       "      <td>706638681060</td>\n",
       "      <td>7.066387e+11</td>\n",
       "    </tr>\n",
       "  </tbody>\n",
       "</table>\n",
       "<p>2573 rows × 8 columns</p>\n",
       "</div>"
      ],
      "text/plain": [
       "     nodeName packetNumber temperature brightness humidity onBoardTemp  \\\n",
       "0           4            1          23        149       43          24   \n",
       "1           7            1          24        129       42          23   \n",
       "2           5            2          23        391       46          24   \n",
       "3           4            3          23        132       43          24   \n",
       "4           7            2          25        129       42          23   \n",
       "...       ...          ...         ...        ...      ...         ...   \n",
       "2568        5          996          23        157       39          26   \n",
       "2569        5          997          23        174       39          26   \n",
       "2570        5          998          24        158       39          26   \n",
       "2571        5          999          23        190       39          26   \n",
       "2572        5         1000          23        157       39          26   \n",
       "\n",
       "              sent      received  \n",
       "0     706636676156  7.066367e+11  \n",
       "1     706636676662  7.066367e+11  \n",
       "2     706636676901  7.066367e+11  \n",
       "3     706636678171  7.066367e+11  \n",
       "4     706636678670  7.066367e+11  \n",
       "...            ...           ...  \n",
       "2568  706638673029  7.066387e+11  \n",
       "2569  706638675036  7.066387e+11  \n",
       "2570  706638677044  7.066387e+11  \n",
       "2571  706638679052  7.066387e+11  \n",
       "2572  706638681060  7.066387e+11  \n",
       "\n",
       "[2573 rows x 8 columns]"
      ]
     },
     "execution_count": 12,
     "metadata": {},
     "output_type": "execute_result"
    }
   ],
   "source": [
    "noAlg[noAlg.applymap(isnumber)]"
   ]
  },
  {
   "cell_type": "code",
   "execution_count": 13,
   "metadata": {},
   "outputs": [],
   "source": [
    "raft_dropna=raft.dropna()"
   ]
  },
  {
   "cell_type": "code",
   "execution_count": 14,
   "metadata": {},
   "outputs": [
    {
     "data": {
      "text/plain": [
       "(4559, 8)"
      ]
     },
     "execution_count": 14,
     "metadata": {},
     "output_type": "execute_result"
    }
   ],
   "source": [
    "raft_dropna.shape"
   ]
  },
  {
   "cell_type": "code",
   "execution_count": 15,
   "metadata": {},
   "outputs": [],
   "source": [
    "paxos_dropna=paxos.dropna()"
   ]
  },
  {
   "cell_type": "code",
   "execution_count": 16,
   "metadata": {},
   "outputs": [
    {
     "data": {
      "text/plain": [
       "(5067, 8)"
      ]
     },
     "execution_count": 16,
     "metadata": {},
     "output_type": "execute_result"
    }
   ],
   "source": [
    "paxos_dropna.shape"
   ]
  },
  {
   "cell_type": "code",
   "execution_count": 17,
   "metadata": {},
   "outputs": [],
   "source": [
    "noAlg_dropna=noAlg.dropna()"
   ]
  },
  {
   "cell_type": "code",
   "execution_count": 18,
   "metadata": {},
   "outputs": [
    {
     "data": {
      "text/plain": [
       "(2274, 8)"
      ]
     },
     "execution_count": 18,
     "metadata": {},
     "output_type": "execute_result"
    }
   ],
   "source": [
    "noAlg_dropna.shape"
   ]
  },
  {
   "cell_type": "code",
   "execution_count": 19,
   "metadata": {},
   "outputs": [],
   "source": [
    "raft_timings = raft_dropna.drop(columns=['nodeName','packetNumber','temperature','brightness','humidity','onBoardTemp'])"
   ]
  },
  {
   "cell_type": "code",
   "execution_count": 20,
   "metadata": {},
   "outputs": [],
   "source": [
    "paxos_timings = paxos_dropna.drop(columns=['nodeName','packetNumber','temperature','brightness','humidity','onBoardTemp'])"
   ]
  },
  {
   "cell_type": "code",
   "execution_count": 21,
   "metadata": {},
   "outputs": [],
   "source": [
    "noAlg_timings = noAlg_dropna.drop(columns=['nodeName','packetNumber','temperature','brightness','humidity','onBoardTemp'])"
   ]
  },
  {
   "cell_type": "code",
   "execution_count": 22,
   "metadata": {},
   "outputs": [],
   "source": [
    "raft_timings_coerce = raft_timings.apply(pd.to_numeric, errors = 'coerce')"
   ]
  },
  {
   "cell_type": "code",
   "execution_count": 23,
   "metadata": {},
   "outputs": [],
   "source": [
    "paxos_timings_coerce= paxos_timings.apply(pd.to_numeric, errors = 'coerce')"
   ]
  },
  {
   "cell_type": "code",
   "execution_count": 24,
   "metadata": {},
   "outputs": [],
   "source": [
    "noAlg_timings_coerce= noAlg_timings.apply(pd.to_numeric, errors = 'coerce')"
   ]
  },
  {
   "cell_type": "code",
   "execution_count": 25,
   "metadata": {},
   "outputs": [],
   "source": [
    "raft_timings_coerce_dropna=raft_timings_coerce.dropna()"
   ]
  },
  {
   "cell_type": "code",
   "execution_count": 26,
   "metadata": {},
   "outputs": [],
   "source": [
    "paxos_timings_coerce_dropna=paxos_timings_coerce.dropna()"
   ]
  },
  {
   "cell_type": "code",
   "execution_count": 27,
   "metadata": {},
   "outputs": [],
   "source": [
    "noAlg_timings_coerce_dropna=noAlg_timings_coerce.dropna()"
   ]
  },
  {
   "cell_type": "code",
   "execution_count": 28,
   "metadata": {},
   "outputs": [
    {
     "data": {
      "text/plain": [
       "(4510, 2)"
      ]
     },
     "execution_count": 28,
     "metadata": {},
     "output_type": "execute_result"
    }
   ],
   "source": [
    "raft_timings_coerce_dropna.shape"
   ]
  },
  {
   "cell_type": "code",
   "execution_count": 29,
   "metadata": {},
   "outputs": [
    {
     "data": {
      "text/plain": [
       "(5041, 2)"
      ]
     },
     "execution_count": 29,
     "metadata": {},
     "output_type": "execute_result"
    }
   ],
   "source": [
    "paxos_timings_coerce_dropna.shape"
   ]
  },
  {
   "cell_type": "code",
   "execution_count": 30,
   "metadata": {},
   "outputs": [
    {
     "data": {
      "text/plain": [
       "(2161, 2)"
      ]
     },
     "execution_count": 30,
     "metadata": {},
     "output_type": "execute_result"
    }
   ],
   "source": [
    "noAlg_timings_coerce_dropna.shape"
   ]
  },
  {
   "cell_type": "code",
   "execution_count": 31,
   "metadata": {},
   "outputs": [
    {
     "name": "stdout",
     "output_type": "stream",
     "text": [
      "<class 'pandas.core.frame.DataFrame'>\n",
      "Int64Index: 4510 entries, 0 to 4805\n",
      "Data columns (total 2 columns):\n",
      " #   Column    Non-Null Count  Dtype  \n",
      "---  ------    --------------  -----  \n",
      " 0   sent      4510 non-null   float64\n",
      " 1   received  4510 non-null   float64\n",
      "dtypes: float64(2)\n",
      "memory usage: 105.7 KB\n"
     ]
    }
   ],
   "source": [
    "raft_timings_coerce_dropna.info()"
   ]
  },
  {
   "cell_type": "code",
   "execution_count": 32,
   "metadata": {},
   "outputs": [
    {
     "name": "stdout",
     "output_type": "stream",
     "text": [
      "<class 'pandas.core.frame.DataFrame'>\n",
      "Int64Index: 5041 entries, 0 to 5105\n",
      "Data columns (total 2 columns):\n",
      " #   Column    Non-Null Count  Dtype  \n",
      "---  ------    --------------  -----  \n",
      " 0   sent      5041 non-null   float64\n",
      " 1   received  5041 non-null   float64\n",
      "dtypes: float64(2)\n",
      "memory usage: 118.1 KB\n"
     ]
    }
   ],
   "source": [
    "paxos_timings_coerce_dropna.info()"
   ]
  },
  {
   "cell_type": "code",
   "execution_count": 33,
   "metadata": {},
   "outputs": [
    {
     "name": "stdout",
     "output_type": "stream",
     "text": [
      "<class 'pandas.core.frame.DataFrame'>\n",
      "Int64Index: 2161 entries, 0 to 2572\n",
      "Data columns (total 2 columns):\n",
      " #   Column    Non-Null Count  Dtype  \n",
      "---  ------    --------------  -----  \n",
      " 0   sent      2161 non-null   float64\n",
      " 1   received  2161 non-null   float64\n",
      "dtypes: float64(2)\n",
      "memory usage: 50.6 KB\n"
     ]
    }
   ],
   "source": [
    "noAlg_timings_coerce_dropna.info()"
   ]
  },
  {
   "cell_type": "code",
   "execution_count": 34,
   "metadata": {},
   "outputs": [],
   "source": [
    "raft_timings_redone = {'sent': [],'received':[]}\n",
    "\n",
    "raft_result_redone = pd.DataFrame(raft_timings_redone)"
   ]
  },
  {
   "cell_type": "code",
   "execution_count": 35,
   "metadata": {},
   "outputs": [],
   "source": [
    "paxos_timings_redone = {'sent': [],'received':[]}\n",
    "\n",
    "paxos_result_redone = pd.DataFrame(paxos_timings_redone)"
   ]
  },
  {
   "cell_type": "code",
   "execution_count": 36,
   "metadata": {},
   "outputs": [],
   "source": [
    "noAlg_timings_redone = {'sent': [],'received':[]}\n",
    "\n",
    "noAlg_result_redone = pd.DataFrame(noAlg_timings_redone)"
   ]
  },
  {
   "cell_type": "code",
   "execution_count": 37,
   "metadata": {},
   "outputs": [],
   "source": [
    "for index, row in raft_timings_coerce_dropna.iterrows():\n",
    "    try: \n",
    "        if(int(row['received']) > int(row['sent']) and int(row['sent']) > raft_timings_coerce_dropna['sent'].iloc[0]):\n",
    "            \n",
    "            raft_result_redone.at[index, 'sent'] = int(row['sent'])\n",
    "            raft_result_redone.at[index, 'received'] = int(row['received'])\n",
    "    except:\n",
    "        pass\n",
    "        #print('error')"
   ]
  },
  {
   "cell_type": "code",
   "execution_count": 38,
   "metadata": {},
   "outputs": [],
   "source": [
    "for index, row in paxos_timings_coerce_dropna.iterrows():\n",
    "    try: \n",
    "        if(int(row['received']) > int(row['sent']) and int(row['sent']) > paxos_timings_coerce_dropna['sent'].iloc[0]):\n",
    "            \n",
    "            paxos_result_redone.at[index, 'sent'] = int(row['sent'])\n",
    "            paxos_result_redone.at[index, 'received'] = int(row['received'])\n",
    "    except:\n",
    "        pass\n",
    "        #print('error')"
   ]
  },
  {
   "cell_type": "code",
   "execution_count": 39,
   "metadata": {},
   "outputs": [],
   "source": [
    "for index, row in noAlg_timings_coerce_dropna.iterrows():\n",
    "    try: \n",
    "        if(int(row['received']) > int(row['sent']) and int(row['sent']) > noAlg_timings_coerce_dropna['sent'].iloc[0]):\n",
    "            \n",
    "            noAlg_result_redone.at[index, 'sent'] = int(row['sent'])\n",
    "            noAlg_result_redone.at[index, 'received'] = int(row['received'])\n",
    "    except:\n",
    "        pass\n",
    "        #print('error')"
   ]
  },
  {
   "cell_type": "code",
   "execution_count": 40,
   "metadata": {},
   "outputs": [
    {
     "name": "stdout",
     "output_type": "stream",
     "text": [
      "<class 'pandas.core.frame.DataFrame'>\n",
      "Int64Index: 3595 entries, 2 to 4805\n",
      "Data columns (total 2 columns):\n",
      " #   Column    Non-Null Count  Dtype  \n",
      "---  ------    --------------  -----  \n",
      " 0   sent      3595 non-null   float64\n",
      " 1   received  3595 non-null   float64\n",
      "dtypes: float64(2)\n",
      "memory usage: 244.3 KB\n"
     ]
    }
   ],
   "source": [
    "raft_result_redone.info()\n"
   ]
  },
  {
   "cell_type": "code",
   "execution_count": 41,
   "metadata": {},
   "outputs": [
    {
     "name": "stdout",
     "output_type": "stream",
     "text": [
      "<class 'pandas.core.frame.DataFrame'>\n",
      "Int64Index: 4272 entries, 1 to 5086\n",
      "Data columns (total 2 columns):\n",
      " #   Column    Non-Null Count  Dtype  \n",
      "---  ------    --------------  -----  \n",
      " 0   sent      4272 non-null   float64\n",
      " 1   received  4272 non-null   float64\n",
      "dtypes: float64(2)\n",
      "memory usage: 260.1 KB\n"
     ]
    }
   ],
   "source": [
    "paxos_result_redone.info()"
   ]
  },
  {
   "cell_type": "code",
   "execution_count": 42,
   "metadata": {},
   "outputs": [
    {
     "name": "stdout",
     "output_type": "stream",
     "text": [
      "<class 'pandas.core.frame.DataFrame'>\n",
      "Int64Index: 2147 entries, 1 to 2572\n",
      "Data columns (total 2 columns):\n",
      " #   Column    Non-Null Count  Dtype  \n",
      "---  ------    --------------  -----  \n",
      " 0   sent      2147 non-null   float64\n",
      " 1   received  2147 non-null   float64\n",
      "dtypes: float64(2)\n",
      "memory usage: 130.3 KB\n"
     ]
    }
   ],
   "source": [
    "noAlg_result_redone.info()"
   ]
  },
  {
   "cell_type": "code",
   "execution_count": 43,
   "metadata": {},
   "outputs": [
    {
     "data": {
      "text/plain": [
       "(0.9999999593901441, array([1., 1.]))"
      ]
     },
     "execution_count": 43,
     "metadata": {},
     "output_type": "execute_result"
    }
   ],
   "source": [
    "#CRONBACH ALPHA\n",
    "pg.cronbach_alpha(data=raft_result_redone)"
   ]
  },
  {
   "cell_type": "code",
   "execution_count": 44,
   "metadata": {},
   "outputs": [
    {
     "data": {
      "text/plain": [
       "(0.9999999992479216, array([1., 1.]))"
      ]
     },
     "execution_count": 44,
     "metadata": {},
     "output_type": "execute_result"
    }
   ],
   "source": [
    "#CRONBACH ALPHA\n",
    "pg.cronbach_alpha(data=paxos_result_redone)"
   ]
  },
  {
   "cell_type": "code",
   "execution_count": 45,
   "metadata": {},
   "outputs": [
    {
     "data": {
      "text/plain": [
       "(0.9999999773847972, array([1., 1.]))"
      ]
     },
     "execution_count": 45,
     "metadata": {},
     "output_type": "execute_result"
    }
   ],
   "source": [
    "#CRONBACH ALPHA\n",
    "pg.cronbach_alpha(data=noAlg_result_redone)"
   ]
  },
  {
   "cell_type": "code",
   "execution_count": 46,
   "metadata": {},
   "outputs": [],
   "source": [
    "raft_latency_pd = {'latency': []}\n",
    "\n",
    "raft_latency = pd.DataFrame(raft_latency_pd)"
   ]
  },
  {
   "cell_type": "code",
   "execution_count": 47,
   "metadata": {},
   "outputs": [],
   "source": [
    "paxos_latency_pd = {'latency': []}\n",
    "\n",
    "paxos_latency = pd.DataFrame(paxos_latency_pd)"
   ]
  },
  {
   "cell_type": "code",
   "execution_count": 48,
   "metadata": {},
   "outputs": [],
   "source": [
    "noAlg_latency_pd = {'latency': []}\n",
    "\n",
    "noAlg_latency = pd.DataFrame(noAlg_latency_pd)"
   ]
  },
  {
   "cell_type": "code",
   "execution_count": 49,
   "metadata": {},
   "outputs": [],
   "source": [
    "for index, row in raft_result_redone.iterrows():\n",
    "    try:\n",
    "        \n",
    "        result = int(row['received']) - int(row['sent'])\n",
    "        raft_latency.at[index, 'latency'] = result      \n",
    "    except:\n",
    "        pass\n",
    "        "
   ]
  },
  {
   "cell_type": "code",
   "execution_count": 50,
   "metadata": {},
   "outputs": [],
   "source": [
    "for index, row in paxos_result_redone.iterrows():\n",
    "    try:\n",
    "        \n",
    "        result = int(row['received']) - int(row['sent'])\n",
    "        paxos_latency.at[index, 'latency'] = result      \n",
    "    except:\n",
    "        pass\n",
    "        "
   ]
  },
  {
   "cell_type": "code",
   "execution_count": 51,
   "metadata": {},
   "outputs": [],
   "source": [
    "for index, row in noAlg_result_redone.iterrows():\n",
    "    try:\n",
    "        \n",
    "        result = int(row['received']) - int(row['sent'])\n",
    "        noAlg_latency.at[index, 'latency'] = result      \n",
    "    except:\n",
    "        pass\n",
    "        "
   ]
  },
  {
   "cell_type": "code",
   "execution_count": 52,
   "metadata": {},
   "outputs": [
    {
     "name": "stdout",
     "output_type": "stream",
     "text": [
      "<class 'pandas.core.frame.DataFrame'>\n",
      "Int64Index: 3595 entries, 2 to 4805\n",
      "Data columns (total 1 columns):\n",
      " #   Column   Non-Null Count  Dtype  \n",
      "---  ------   --------------  -----  \n",
      " 0   latency  3595 non-null   float64\n",
      "dtypes: float64(1)\n",
      "memory usage: 216.2 KB\n"
     ]
    }
   ],
   "source": [
    "raft_latency.info()"
   ]
  },
  {
   "cell_type": "code",
   "execution_count": 53,
   "metadata": {},
   "outputs": [
    {
     "data": {
      "text/plain": [
       "(3595, 1)"
      ]
     },
     "execution_count": 53,
     "metadata": {},
     "output_type": "execute_result"
    }
   ],
   "source": [
    "raft_latency.shape"
   ]
  },
  {
   "cell_type": "code",
   "execution_count": 54,
   "metadata": {},
   "outputs": [
    {
     "name": "stdout",
     "output_type": "stream",
     "text": [
      "<class 'pandas.core.frame.DataFrame'>\n",
      "Int64Index: 4272 entries, 1 to 5086\n",
      "Data columns (total 1 columns):\n",
      " #   Column   Non-Null Count  Dtype  \n",
      "---  ------   --------------  -----  \n",
      " 0   latency  4272 non-null   float64\n",
      "dtypes: float64(1)\n",
      "memory usage: 226.8 KB\n"
     ]
    }
   ],
   "source": [
    "paxos_latency.info()"
   ]
  },
  {
   "cell_type": "code",
   "execution_count": 55,
   "metadata": {},
   "outputs": [
    {
     "data": {
      "text/plain": [
       "(4272, 1)"
      ]
     },
     "execution_count": 55,
     "metadata": {},
     "output_type": "execute_result"
    }
   ],
   "source": [
    "paxos_latency.shape"
   ]
  },
  {
   "cell_type": "code",
   "execution_count": 56,
   "metadata": {},
   "outputs": [
    {
     "name": "stdout",
     "output_type": "stream",
     "text": [
      "<class 'pandas.core.frame.DataFrame'>\n",
      "Int64Index: 2147 entries, 1 to 2572\n",
      "Data columns (total 1 columns):\n",
      " #   Column   Non-Null Count  Dtype  \n",
      "---  ------   --------------  -----  \n",
      " 0   latency  2147 non-null   float64\n",
      "dtypes: float64(1)\n",
      "memory usage: 113.5 KB\n"
     ]
    }
   ],
   "source": [
    "noAlg_latency.info()"
   ]
  },
  {
   "cell_type": "code",
   "execution_count": 57,
   "metadata": {},
   "outputs": [
    {
     "data": {
      "text/plain": [
       "(2147, 1)"
      ]
     },
     "execution_count": 57,
     "metadata": {},
     "output_type": "execute_result"
    }
   ],
   "source": [
    "noAlg_latency.shape"
   ]
  },
  {
   "cell_type": "code",
   "execution_count": 58,
   "metadata": {},
   "outputs": [
    {
     "data": {
      "text/plain": [
       "203.4981919332406"
      ]
     },
     "execution_count": 58,
     "metadata": {},
     "output_type": "execute_result"
    }
   ],
   "source": [
    "raft_latency['latency'].mean()"
   ]
  },
  {
   "cell_type": "code",
   "execution_count": 59,
   "metadata": {},
   "outputs": [
    {
     "data": {
      "text/plain": [
       "625.3394194756554"
      ]
     },
     "execution_count": 59,
     "metadata": {},
     "output_type": "execute_result"
    }
   ],
   "source": [
    "paxos_latency['latency'].mean()"
   ]
  },
  {
   "cell_type": "code",
   "execution_count": 60,
   "metadata": {},
   "outputs": [
    {
     "data": {
      "text/plain": [
       "691.7508150908244"
      ]
     },
     "execution_count": 60,
     "metadata": {},
     "output_type": "execute_result"
    }
   ],
   "source": [
    "noAlg_latency['latency'].mean()"
   ]
  },
  {
   "cell_type": "code",
   "execution_count": 61,
   "metadata": {},
   "outputs": [
    {
     "data": {
      "text/plain": [
       "'C:\\\\Users\\\\czaps\\\\Documents\\\\MSc\\\\data_wrangling\\\\latency_workbook'"
      ]
     },
     "execution_count": 61,
     "metadata": {},
     "output_type": "execute_result"
    }
   ],
   "source": [
    "pwd"
   ]
  },
  {
   "cell_type": "code",
   "execution_count": 68,
   "metadata": {},
   "outputs": [],
   "source": [
    "latency_7_2 = pd.read_csv(\"C:\\\\Users\\\\czaps\\\\Documents\\\\MSc\\\\data_wrangling\\\\latency_workbook\\\\latency_7_2.csv\", error_bad_lines=False, sep=\",\")"
   ]
  },
  {
   "cell_type": "code",
   "execution_count": 69,
   "metadata": {},
   "outputs": [
    {
     "data": {
      "image/png": "[encoded data removed]",
      "text/plain": [
       "<Figure size 432x288 with 1 Axes>"
      ]
     },
     "metadata": {
      "needs_background": "light"
     },
     "output_type": "display_data"
    }
   ],
   "source": [
    "ax = latency_7_2.plot.bar(x='algorithm')\n",
    "plt.title('Average latency of 7 node network with 3fails')\n",
    "ax.set(xlabel='', ylabel='miliseconds')\n",
    "ax.set_xticklabels(ax.get_xticklabels(), rotation=0, ha=\"center\")\n",
    "for bars in ax.containers:\n",
    "    ax.bar_label(bars)\n",
    "#plt.legend(loc='upper left')\n",
    "ax.get_legend().remove()\n",
    "plt.savefig('C:\\\\Users\\\\czaps\\\\Documents\\\\MSc\\\\images\\\\latency_7_3_mean.png', bbox_inches='tight')"
   ]
  },
  {
   "cell_type": "code",
   "execution_count": null,
   "metadata": {},
   "outputs": [],
   "source": []
  }
 ],
 "metadata": {
  "kernelspec": {
   "display_name": "Python 3",
   "language": "python",
   "name": "python3"
  },
  "language_info": {
   "codemirror_mode": {
    "name": "ipython",
    "version": 3
   },
   "file_extension": ".py",
   "mimetype": "text/x-python",
   "name": "python",
   "nbconvert_exporter": "python",
   "pygments_lexer": "ipython3",
   "version": "3.7.1"
  }
 },
 "nbformat": 4,
 "nbformat_minor": 4
}
