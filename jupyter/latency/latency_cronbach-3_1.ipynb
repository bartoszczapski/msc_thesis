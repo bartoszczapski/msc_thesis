{
 "cells": [
  {
   "cell_type": "code",
   "execution_count": 1,
   "metadata": {},
   "outputs": [],
   "source": [
    "# Import the libraries\n",
    "import os\n",
    "import pandas as pd\n",
    "import matplotlib\n",
    "matplotlib.use(u'nbAgg')\n",
    "import matplotlib.pyplot as plt\n",
    "import seaborn as sns\n",
    "import numpy as np\n",
    "import pickle\n",
    "from sklearn.manifold import TSNE\n",
    "from sklearn import preprocessing\n",
    "import pandas as pd\n",
    "import pingouin as pg\n",
    "import reliability_stability\n",
    "%matplotlib inline"
   ]
  },
  {
   "cell_type": "code",
   "execution_count": 2,
   "metadata": {},
   "outputs": [],
   "source": [
    "def isnumber(x):\n",
    "    try:\n",
    "        int(x)\n",
    "        return True\n",
    "    except:\n",
    "        return False"
   ]
  },
  {
   "cell_type": "code",
   "execution_count": 3,
   "metadata": {},
   "outputs": [],
   "source": [
    "raft = pd.read_csv(\"C:\\\\Users\\\\czaps\\\\Documents\\\\MSc\\\\experiments\\\\latency\\\\outdoor_latency_experiment\\\\raft_data_3-nodes_1-fail.csv\", error_bad_lines=False, sep=\",\")\n",
    "paxos = pd.read_csv(\"C:\\\\Users\\\\czaps\\\\Documents\\\\MSc\\\\experiments\\\\latency\\\\outdoor_latency_experiment\\\\paxos_data_3-nodes_1-fail.csv\", error_bad_lines=False, sep=\",\")\n",
    "noAlg = pd.read_csv(\"C:\\\\Users\\\\czaps\\\\Documents\\\\MSc\\\\experiments\\\\latency\\\\outdoor_latency_experiment\\\\control\\\\outdoor_control_3-nodes_1-fail\\\\data.csv\", error_bad_lines=False, sep=\",\")"
   ]
  },
  {
   "cell_type": "code",
   "execution_count": 4,
   "metadata": {},
   "outputs": [
    {
     "data": {
      "text/plain": [
       "(2466, 8)"
      ]
     },
     "execution_count": 4,
     "metadata": {},
     "output_type": "execute_result"
    }
   ],
   "source": [
    "raft.shape"
   ]
  },
  {
   "cell_type": "code",
   "execution_count": 5,
   "metadata": {},
   "outputs": [
    {
     "data": {
      "text/plain": [
       "(2476, 8)"
      ]
     },
     "execution_count": 5,
     "metadata": {},
     "output_type": "execute_result"
    }
   ],
   "source": [
    "paxos.shape"
   ]
  },
  {
   "cell_type": "code",
   "execution_count": 6,
   "metadata": {},
   "outputs": [
    {
     "data": {
      "text/plain": [
       "(1558, 8)"
      ]
     },
     "execution_count": 6,
     "metadata": {},
     "output_type": "execute_result"
    }
   ],
   "source": [
    "noAlg.shape"
   ]
  },
  {
   "cell_type": "code",
   "execution_count": 7,
   "metadata": {},
   "outputs": [
    {
     "name": "stdout",
     "output_type": "stream",
     "text": [
      "<class 'pandas.core.frame.DataFrame'>\n",
      "RangeIndex: 2466 entries, 0 to 2465\n",
      "Data columns (total 8 columns):\n",
      " #   Column        Non-Null Count  Dtype  \n",
      "---  ------        --------------  -----  \n",
      " 0   nodeName      2466 non-null   object \n",
      " 1   packetNumber  2466 non-null   object \n",
      " 2   temperature   2466 non-null   int64  \n",
      " 3   brightness    2420 non-null   object \n",
      " 4   humidity      2420 non-null   object \n",
      " 5   onBoardTemp   2419 non-null   object \n",
      " 6   sent          2419 non-null   object \n",
      " 7   received      2417 non-null   float64\n",
      "dtypes: float64(1), int64(1), object(6)\n",
      "memory usage: 154.2+ KB\n"
     ]
    }
   ],
   "source": [
    "raft.info()"
   ]
  },
  {
   "cell_type": "code",
   "execution_count": 8,
   "metadata": {},
   "outputs": [
    {
     "name": "stdout",
     "output_type": "stream",
     "text": [
      "<class 'pandas.core.frame.DataFrame'>\n",
      "RangeIndex: 2476 entries, 0 to 2475\n",
      "Data columns (total 8 columns):\n",
      " #   Column        Non-Null Count  Dtype  \n",
      "---  ------        --------------  -----  \n",
      " 0   nodeName      2476 non-null   object \n",
      " 1   packetNumber  2476 non-null   object \n",
      " 2   temperature   2476 non-null   int64  \n",
      " 3   brightness    2463 non-null   object \n",
      " 4   humidity      2463 non-null   object \n",
      " 5   onBoardTemp   2463 non-null   object \n",
      " 6   sent          2463 non-null   object \n",
      " 7   received      2458 non-null   float64\n",
      "dtypes: float64(1), int64(1), object(6)\n",
      "memory usage: 154.9+ KB\n"
     ]
    }
   ],
   "source": [
    "paxos.info()"
   ]
  },
  {
   "cell_type": "code",
   "execution_count": 9,
   "metadata": {},
   "outputs": [
    {
     "name": "stdout",
     "output_type": "stream",
     "text": [
      "<class 'pandas.core.frame.DataFrame'>\n",
      "RangeIndex: 1558 entries, 0 to 1557\n",
      "Data columns (total 8 columns):\n",
      " #   Column        Non-Null Count  Dtype  \n",
      "---  ------        --------------  -----  \n",
      " 0   nodeName      1558 non-null   object \n",
      " 1   packetNumber  1557 non-null   object \n",
      " 2   temperature   1548 non-null   object \n",
      " 3   brightness    1539 non-null   object \n",
      " 4   humidity      1536 non-null   object \n",
      " 5   onBoardTemp   1529 non-null   object \n",
      " 6   sent          1513 non-null   object \n",
      " 7   received      1489 non-null   float64\n",
      "dtypes: float64(1), object(7)\n",
      "memory usage: 97.5+ KB\n"
     ]
    }
   ],
   "source": [
    "noAlg.info()"
   ]
  },
  {
   "cell_type": "code",
   "execution_count": 10,
   "metadata": {},
   "outputs": [
    {
     "data": {
      "text/html": [
       "<div>\n",
       "<style scoped>\n",
       "    .dataframe tbody tr th:only-of-type {\n",
       "        vertical-align: middle;\n",
       "    }\n",
       "\n",
       "    .dataframe tbody tr th {\n",
       "        vertical-align: top;\n",
       "    }\n",
       "\n",
       "    .dataframe thead th {\n",
       "        text-align: right;\n",
       "    }\n",
       "</style>\n",
       "<table border=\"1\" class=\"dataframe\">\n",
       "  <thead>\n",
       "    <tr style=\"text-align: right;\">\n",
       "      <th></th>\n",
       "      <th>nodeName</th>\n",
       "      <th>packetNumber</th>\n",
       "      <th>temperature</th>\n",
       "      <th>brightness</th>\n",
       "      <th>humidity</th>\n",
       "      <th>onBoardTemp</th>\n",
       "      <th>sent</th>\n",
       "      <th>received</th>\n",
       "    </tr>\n",
       "  </thead>\n",
       "  <tbody>\n",
       "    <tr>\n",
       "      <th>0</th>\n",
       "      <td>2</td>\n",
       "      <td>1</td>\n",
       "      <td>20</td>\n",
       "      <td>114</td>\n",
       "      <td>46</td>\n",
       "      <td>20</td>\n",
       "      <td>706541300267</td>\n",
       "      <td>7.065413e+11</td>\n",
       "    </tr>\n",
       "    <tr>\n",
       "      <th>1</th>\n",
       "      <td>1</td>\n",
       "      <td>5</td>\n",
       "      <td>21</td>\n",
       "      <td>182</td>\n",
       "      <td>48</td>\n",
       "      <td>20</td>\n",
       "      <td>706541309116</td>\n",
       "      <td>7.065413e+11</td>\n",
       "    </tr>\n",
       "    <tr>\n",
       "      <th>2</th>\n",
       "      <td>2</td>\n",
       "      <td>2</td>\n",
       "      <td>20</td>\n",
       "      <td>108</td>\n",
       "      <td>46</td>\n",
       "      <td>20</td>\n",
       "      <td>706541310785</td>\n",
       "      <td>7.065413e+11</td>\n",
       "    </tr>\n",
       "    <tr>\n",
       "      <th>3</th>\n",
       "      <td>NaN</td>\n",
       "      <td>706541312156</td>\n",
       "      <td>706541312832</td>\n",
       "      <td>NaN</td>\n",
       "      <td>NaN</td>\n",
       "      <td>NaN</td>\n",
       "      <td>NaN</td>\n",
       "      <td>NaN</td>\n",
       "    </tr>\n",
       "    <tr>\n",
       "      <th>4</th>\n",
       "      <td>NaN</td>\n",
       "      <td>706541319637</td>\n",
       "      <td>706541319874</td>\n",
       "      <td>NaN</td>\n",
       "      <td>NaN</td>\n",
       "      <td>NaN</td>\n",
       "      <td>NaN</td>\n",
       "      <td>NaN</td>\n",
       "    </tr>\n",
       "    <tr>\n",
       "      <th>...</th>\n",
       "      <td>...</td>\n",
       "      <td>...</td>\n",
       "      <td>...</td>\n",
       "      <td>...</td>\n",
       "      <td>...</td>\n",
       "      <td>...</td>\n",
       "      <td>...</td>\n",
       "      <td>...</td>\n",
       "    </tr>\n",
       "    <tr>\n",
       "      <th>2461</th>\n",
       "      <td>2</td>\n",
       "      <td>996</td>\n",
       "      <td>21</td>\n",
       "      <td>474</td>\n",
       "      <td>35</td>\n",
       "      <td>24</td>\n",
       "      <td>706551765867</td>\n",
       "      <td>7.065518e+11</td>\n",
       "    </tr>\n",
       "    <tr>\n",
       "      <th>2462</th>\n",
       "      <td>2</td>\n",
       "      <td>997</td>\n",
       "      <td>21</td>\n",
       "      <td>498</td>\n",
       "      <td>35</td>\n",
       "      <td>24</td>\n",
       "      <td>706551767375</td>\n",
       "      <td>7.065518e+11</td>\n",
       "    </tr>\n",
       "    <tr>\n",
       "      <th>2463</th>\n",
       "      <td>2</td>\n",
       "      <td>998</td>\n",
       "      <td>22</td>\n",
       "      <td>501</td>\n",
       "      <td>35</td>\n",
       "      <td>24</td>\n",
       "      <td>706551768883</td>\n",
       "      <td>7.065518e+11</td>\n",
       "    </tr>\n",
       "    <tr>\n",
       "      <th>2464</th>\n",
       "      <td>2</td>\n",
       "      <td>999</td>\n",
       "      <td>22</td>\n",
       "      <td>478</td>\n",
       "      <td>35</td>\n",
       "      <td>24</td>\n",
       "      <td>706551770391</td>\n",
       "      <td>7.065518e+11</td>\n",
       "    </tr>\n",
       "    <tr>\n",
       "      <th>2465</th>\n",
       "      <td>2</td>\n",
       "      <td>1000</td>\n",
       "      <td>21</td>\n",
       "      <td>504</td>\n",
       "      <td>35</td>\n",
       "      <td>24</td>\n",
       "      <td>706551771899</td>\n",
       "      <td>7.065518e+11</td>\n",
       "    </tr>\n",
       "  </tbody>\n",
       "</table>\n",
       "<p>2466 rows × 8 columns</p>\n",
       "</div>"
      ],
      "text/plain": [
       "     nodeName  packetNumber   temperature brightness humidity onBoardTemp  \\\n",
       "0           2             1            20        114       46          20   \n",
       "1           1             5            21        182       48          20   \n",
       "2           2             2            20        108       46          20   \n",
       "3         NaN  706541312156  706541312832        NaN      NaN         NaN   \n",
       "4         NaN  706541319637  706541319874        NaN      NaN         NaN   \n",
       "...       ...           ...           ...        ...      ...         ...   \n",
       "2461        2           996            21        474       35          24   \n",
       "2462        2           997            21        498       35          24   \n",
       "2463        2           998            22        501       35          24   \n",
       "2464        2           999            22        478       35          24   \n",
       "2465        2          1000            21        504       35          24   \n",
       "\n",
       "              sent      received  \n",
       "0     706541300267  7.065413e+11  \n",
       "1     706541309116  7.065413e+11  \n",
       "2     706541310785  7.065413e+11  \n",
       "3              NaN           NaN  \n",
       "4              NaN           NaN  \n",
       "...            ...           ...  \n",
       "2461  706551765867  7.065518e+11  \n",
       "2462  706551767375  7.065518e+11  \n",
       "2463  706551768883  7.065518e+11  \n",
       "2464  706551770391  7.065518e+11  \n",
       "2465  706551771899  7.065518e+11  \n",
       "\n",
       "[2466 rows x 8 columns]"
      ]
     },
     "execution_count": 10,
     "metadata": {},
     "output_type": "execute_result"
    }
   ],
   "source": [
    "raft[raft.applymap(isnumber)]"
   ]
  },
  {
   "cell_type": "code",
   "execution_count": 11,
   "metadata": {},
   "outputs": [
    {
     "data": {
      "text/html": [
       "<div>\n",
       "<style scoped>\n",
       "    .dataframe tbody tr th:only-of-type {\n",
       "        vertical-align: middle;\n",
       "    }\n",
       "\n",
       "    .dataframe tbody tr th {\n",
       "        vertical-align: top;\n",
       "    }\n",
       "\n",
       "    .dataframe thead th {\n",
       "        text-align: right;\n",
       "    }\n",
       "</style>\n",
       "<table border=\"1\" class=\"dataframe\">\n",
       "  <thead>\n",
       "    <tr style=\"text-align: right;\">\n",
       "      <th></th>\n",
       "      <th>nodeName</th>\n",
       "      <th>packetNumber</th>\n",
       "      <th>temperature</th>\n",
       "      <th>brightness</th>\n",
       "      <th>humidity</th>\n",
       "      <th>onBoardTemp</th>\n",
       "      <th>sent</th>\n",
       "      <th>received</th>\n",
       "    </tr>\n",
       "  </thead>\n",
       "  <tbody>\n",
       "    <tr>\n",
       "      <th>0</th>\n",
       "      <td>1</td>\n",
       "      <td>2</td>\n",
       "      <td>21</td>\n",
       "      <td>176</td>\n",
       "      <td>48</td>\n",
       "      <td>22</td>\n",
       "      <td>706558002534</td>\n",
       "      <td>7.065580e+11</td>\n",
       "    </tr>\n",
       "    <tr>\n",
       "      <th>1</th>\n",
       "      <td>NaN</td>\n",
       "      <td>706558004047</td>\n",
       "      <td>706558004979</td>\n",
       "      <td>NaN</td>\n",
       "      <td>NaN</td>\n",
       "      <td>NaN</td>\n",
       "      <td>NaN</td>\n",
       "      <td>NaN</td>\n",
       "    </tr>\n",
       "    <tr>\n",
       "      <th>2</th>\n",
       "      <td>NaN</td>\n",
       "      <td>706558005558</td>\n",
       "      <td>706558006470</td>\n",
       "      <td>NaN</td>\n",
       "      <td>NaN</td>\n",
       "      <td>NaN</td>\n",
       "      <td>NaN</td>\n",
       "      <td>NaN</td>\n",
       "    </tr>\n",
       "    <tr>\n",
       "      <th>3</th>\n",
       "      <td>2</td>\n",
       "      <td>1</td>\n",
       "      <td>21</td>\n",
       "      <td>104</td>\n",
       "      <td>49</td>\n",
       "      <td>22</td>\n",
       "      <td>706558007208</td>\n",
       "      <td>7.065580e+11</td>\n",
       "    </tr>\n",
       "    <tr>\n",
       "      <th>4</th>\n",
       "      <td>3</td>\n",
       "      <td>1</td>\n",
       "      <td>21</td>\n",
       "      <td>131</td>\n",
       "      <td>54</td>\n",
       "      <td>22</td>\n",
       "      <td>706558009751</td>\n",
       "      <td>7.065580e+11</td>\n",
       "    </tr>\n",
       "    <tr>\n",
       "      <th>...</th>\n",
       "      <td>...</td>\n",
       "      <td>...</td>\n",
       "      <td>...</td>\n",
       "      <td>...</td>\n",
       "      <td>...</td>\n",
       "      <td>...</td>\n",
       "      <td>...</td>\n",
       "      <td>...</td>\n",
       "    </tr>\n",
       "    <tr>\n",
       "      <th>2471</th>\n",
       "      <td>2</td>\n",
       "      <td>996</td>\n",
       "      <td>23</td>\n",
       "      <td>0</td>\n",
       "      <td>40</td>\n",
       "      <td>23</td>\n",
       "      <td>706568496020</td>\n",
       "      <td>7.065685e+11</td>\n",
       "    </tr>\n",
       "    <tr>\n",
       "      <th>2472</th>\n",
       "      <td>2</td>\n",
       "      <td>997</td>\n",
       "      <td>23</td>\n",
       "      <td>0</td>\n",
       "      <td>40</td>\n",
       "      <td>23</td>\n",
       "      <td>706568497527</td>\n",
       "      <td>7.065685e+11</td>\n",
       "    </tr>\n",
       "    <tr>\n",
       "      <th>2473</th>\n",
       "      <td>2</td>\n",
       "      <td>998</td>\n",
       "      <td>22</td>\n",
       "      <td>0</td>\n",
       "      <td>40</td>\n",
       "      <td>23</td>\n",
       "      <td>706568499035</td>\n",
       "      <td>7.065685e+11</td>\n",
       "    </tr>\n",
       "    <tr>\n",
       "      <th>2474</th>\n",
       "      <td>2</td>\n",
       "      <td>999</td>\n",
       "      <td>23</td>\n",
       "      <td>0</td>\n",
       "      <td>40</td>\n",
       "      <td>23</td>\n",
       "      <td>706568500543</td>\n",
       "      <td>7.065685e+11</td>\n",
       "    </tr>\n",
       "    <tr>\n",
       "      <th>2475</th>\n",
       "      <td>2</td>\n",
       "      <td>1000</td>\n",
       "      <td>23</td>\n",
       "      <td>0</td>\n",
       "      <td>40</td>\n",
       "      <td>23</td>\n",
       "      <td>706568502051</td>\n",
       "      <td>7.065685e+11</td>\n",
       "    </tr>\n",
       "  </tbody>\n",
       "</table>\n",
       "<p>2476 rows × 8 columns</p>\n",
       "</div>"
      ],
      "text/plain": [
       "     nodeName  packetNumber   temperature brightness humidity onBoardTemp  \\\n",
       "0           1             2            21        176       48          22   \n",
       "1         NaN  706558004047  706558004979        NaN      NaN         NaN   \n",
       "2         NaN  706558005558  706558006470        NaN      NaN         NaN   \n",
       "3           2             1            21        104       49          22   \n",
       "4           3             1            21        131       54          22   \n",
       "...       ...           ...           ...        ...      ...         ...   \n",
       "2471        2           996            23          0       40          23   \n",
       "2472        2           997            23          0       40          23   \n",
       "2473        2           998            22          0       40          23   \n",
       "2474        2           999            23          0       40          23   \n",
       "2475        2          1000            23          0       40          23   \n",
       "\n",
       "              sent      received  \n",
       "0     706558002534  7.065580e+11  \n",
       "1              NaN           NaN  \n",
       "2              NaN           NaN  \n",
       "3     706558007208  7.065580e+11  \n",
       "4     706558009751  7.065580e+11  \n",
       "...            ...           ...  \n",
       "2471  706568496020  7.065685e+11  \n",
       "2472  706568497527  7.065685e+11  \n",
       "2473  706568499035  7.065685e+11  \n",
       "2474  706568500543  7.065685e+11  \n",
       "2475  706568502051  7.065685e+11  \n",
       "\n",
       "[2476 rows x 8 columns]"
      ]
     },
     "execution_count": 11,
     "metadata": {},
     "output_type": "execute_result"
    }
   ],
   "source": [
    "paxos[paxos.applymap(isnumber)]"
   ]
  },
  {
   "cell_type": "code",
   "execution_count": 12,
   "metadata": {},
   "outputs": [
    {
     "data": {
      "text/html": [
       "<div>\n",
       "<style scoped>\n",
       "    .dataframe tbody tr th:only-of-type {\n",
       "        vertical-align: middle;\n",
       "    }\n",
       "\n",
       "    .dataframe tbody tr th {\n",
       "        vertical-align: top;\n",
       "    }\n",
       "\n",
       "    .dataframe thead th {\n",
       "        text-align: right;\n",
       "    }\n",
       "</style>\n",
       "<table border=\"1\" class=\"dataframe\">\n",
       "  <thead>\n",
       "    <tr style=\"text-align: right;\">\n",
       "      <th></th>\n",
       "      <th>nodeName</th>\n",
       "      <th>packetNumber</th>\n",
       "      <th>temperature</th>\n",
       "      <th>brightness</th>\n",
       "      <th>humidity</th>\n",
       "      <th>onBoardTemp</th>\n",
       "      <th>sent</th>\n",
       "      <th>received</th>\n",
       "    </tr>\n",
       "  </thead>\n",
       "  <tbody>\n",
       "    <tr>\n",
       "      <th>0</th>\n",
       "      <td>3</td>\n",
       "      <td>3</td>\n",
       "      <td>20</td>\n",
       "      <td>251</td>\n",
       "      <td>48</td>\n",
       "      <td>22</td>\n",
       "      <td>706627140296</td>\n",
       "      <td>7.066271e+11</td>\n",
       "    </tr>\n",
       "    <tr>\n",
       "      <th>1</th>\n",
       "      <td>2</td>\n",
       "      <td>1</td>\n",
       "      <td>21</td>\n",
       "      <td>576</td>\n",
       "      <td>42</td>\n",
       "      <td>22</td>\n",
       "      <td>706627140391</td>\n",
       "      <td>7.066271e+11</td>\n",
       "    </tr>\n",
       "    <tr>\n",
       "      <th>2</th>\n",
       "      <td>NaN</td>\n",
       "      <td>706627141602</td>\n",
       "      <td>NaN</td>\n",
       "      <td>NaN</td>\n",
       "      <td>NaN</td>\n",
       "      <td>NaN</td>\n",
       "      <td>NaN</td>\n",
       "      <td>NaN</td>\n",
       "    </tr>\n",
       "    <tr>\n",
       "      <th>3</th>\n",
       "      <td>2</td>\n",
       "      <td>2</td>\n",
       "      <td>21</td>\n",
       "      <td>575</td>\n",
       "      <td>42</td>\n",
       "      <td>22</td>\n",
       "      <td>706627141698</td>\n",
       "      <td>7.066271e+11</td>\n",
       "    </tr>\n",
       "    <tr>\n",
       "      <th>4</th>\n",
       "      <td>NaN</td>\n",
       "      <td>706627143115</td>\n",
       "      <td>706627142886</td>\n",
       "      <td>NaN</td>\n",
       "      <td>NaN</td>\n",
       "      <td>NaN</td>\n",
       "      <td>NaN</td>\n",
       "      <td>NaN</td>\n",
       "    </tr>\n",
       "    <tr>\n",
       "      <th>...</th>\n",
       "      <td>...</td>\n",
       "      <td>...</td>\n",
       "      <td>...</td>\n",
       "      <td>...</td>\n",
       "      <td>...</td>\n",
       "      <td>...</td>\n",
       "      <td>...</td>\n",
       "      <td>...</td>\n",
       "    </tr>\n",
       "    <tr>\n",
       "      <th>1553</th>\n",
       "      <td>3</td>\n",
       "      <td>996</td>\n",
       "      <td>22</td>\n",
       "      <td>436</td>\n",
       "      <td>41</td>\n",
       "      <td>24</td>\n",
       "      <td>706628643863</td>\n",
       "      <td>7.066286e+11</td>\n",
       "    </tr>\n",
       "    <tr>\n",
       "      <th>1554</th>\n",
       "      <td>3</td>\n",
       "      <td>997</td>\n",
       "      <td>21</td>\n",
       "      <td>572</td>\n",
       "      <td>41</td>\n",
       "      <td>24</td>\n",
       "      <td>706628645671</td>\n",
       "      <td>7.066286e+11</td>\n",
       "    </tr>\n",
       "    <tr>\n",
       "      <th>1555</th>\n",
       "      <td>3</td>\n",
       "      <td>998</td>\n",
       "      <td>21</td>\n",
       "      <td>571</td>\n",
       "      <td>41</td>\n",
       "      <td>24</td>\n",
       "      <td>706628647078</td>\n",
       "      <td>7.066286e+11</td>\n",
       "    </tr>\n",
       "    <tr>\n",
       "      <th>1556</th>\n",
       "      <td>3</td>\n",
       "      <td>999</td>\n",
       "      <td>21</td>\n",
       "      <td>440</td>\n",
       "      <td>41</td>\n",
       "      <td>24</td>\n",
       "      <td>706628648186</td>\n",
       "      <td>7.066286e+11</td>\n",
       "    </tr>\n",
       "    <tr>\n",
       "      <th>1557</th>\n",
       "      <td>3</td>\n",
       "      <td>1000</td>\n",
       "      <td>20</td>\n",
       "      <td>572</td>\n",
       "      <td>41</td>\n",
       "      <td>24</td>\n",
       "      <td>706628649493</td>\n",
       "      <td>7.066286e+11</td>\n",
       "    </tr>\n",
       "  </tbody>\n",
       "</table>\n",
       "<p>1558 rows × 8 columns</p>\n",
       "</div>"
      ],
      "text/plain": [
       "     nodeName  packetNumber   temperature brightness humidity onBoardTemp  \\\n",
       "0           3             3            20        251       48          22   \n",
       "1           2             1            21        576       42          22   \n",
       "2         NaN  706627141602           NaN        NaN      NaN         NaN   \n",
       "3           2             2            21        575       42          22   \n",
       "4         NaN  706627143115  706627142886        NaN      NaN         NaN   \n",
       "...       ...           ...           ...        ...      ...         ...   \n",
       "1553        3           996            22        436       41          24   \n",
       "1554        3           997            21        572       41          24   \n",
       "1555        3           998            21        571       41          24   \n",
       "1556        3           999            21        440       41          24   \n",
       "1557        3          1000            20        572       41          24   \n",
       "\n",
       "              sent      received  \n",
       "0     706627140296  7.066271e+11  \n",
       "1     706627140391  7.066271e+11  \n",
       "2              NaN           NaN  \n",
       "3     706627141698  7.066271e+11  \n",
       "4              NaN           NaN  \n",
       "...            ...           ...  \n",
       "1553  706628643863  7.066286e+11  \n",
       "1554  706628645671  7.066286e+11  \n",
       "1555  706628647078  7.066286e+11  \n",
       "1556  706628648186  7.066286e+11  \n",
       "1557  706628649493  7.066286e+11  \n",
       "\n",
       "[1558 rows x 8 columns]"
      ]
     },
     "execution_count": 12,
     "metadata": {},
     "output_type": "execute_result"
    }
   ],
   "source": [
    "noAlg[noAlg.applymap(isnumber)]"
   ]
  },
  {
   "cell_type": "code",
   "execution_count": 13,
   "metadata": {},
   "outputs": [],
   "source": [
    "raft_dropna=raft.dropna()"
   ]
  },
  {
   "cell_type": "code",
   "execution_count": 14,
   "metadata": {},
   "outputs": [
    {
     "data": {
      "text/plain": [
       "(2416, 8)"
      ]
     },
     "execution_count": 14,
     "metadata": {},
     "output_type": "execute_result"
    }
   ],
   "source": [
    "raft_dropna.shape"
   ]
  },
  {
   "cell_type": "code",
   "execution_count": 15,
   "metadata": {},
   "outputs": [],
   "source": [
    "paxos_dropna=paxos.dropna()"
   ]
  },
  {
   "cell_type": "code",
   "execution_count": 16,
   "metadata": {},
   "outputs": [
    {
     "data": {
      "text/plain": [
       "(2458, 8)"
      ]
     },
     "execution_count": 16,
     "metadata": {},
     "output_type": "execute_result"
    }
   ],
   "source": [
    "paxos_dropna.shape"
   ]
  },
  {
   "cell_type": "code",
   "execution_count": 17,
   "metadata": {},
   "outputs": [],
   "source": [
    "noAlg_dropna=noAlg.dropna()"
   ]
  },
  {
   "cell_type": "code",
   "execution_count": 18,
   "metadata": {},
   "outputs": [
    {
     "data": {
      "text/plain": [
       "(1489, 8)"
      ]
     },
     "execution_count": 18,
     "metadata": {},
     "output_type": "execute_result"
    }
   ],
   "source": [
    "noAlg_dropna.shape"
   ]
  },
  {
   "cell_type": "code",
   "execution_count": 19,
   "metadata": {},
   "outputs": [],
   "source": [
    "raft_timings = raft_dropna.drop(columns=['nodeName','packetNumber','temperature','brightness','humidity','onBoardTemp'])"
   ]
  },
  {
   "cell_type": "code",
   "execution_count": 20,
   "metadata": {},
   "outputs": [],
   "source": [
    "paxos_timings = paxos_dropna.drop(columns=['nodeName','packetNumber','temperature','brightness','humidity','onBoardTemp'])"
   ]
  },
  {
   "cell_type": "code",
   "execution_count": 21,
   "metadata": {},
   "outputs": [],
   "source": [
    "noAlg_timings = noAlg_dropna.drop(columns=['nodeName','packetNumber','temperature','brightness','humidity','onBoardTemp'])"
   ]
  },
  {
   "cell_type": "code",
   "execution_count": 22,
   "metadata": {},
   "outputs": [],
   "source": [
    "raft_timings_coerce = raft_timings.apply(pd.to_numeric, errors = 'coerce')"
   ]
  },
  {
   "cell_type": "code",
   "execution_count": 23,
   "metadata": {},
   "outputs": [],
   "source": [
    "paxos_timings_coerce= paxos_timings.apply(pd.to_numeric, errors = 'coerce')"
   ]
  },
  {
   "cell_type": "code",
   "execution_count": 24,
   "metadata": {},
   "outputs": [],
   "source": [
    "noAlg_timings_coerce= noAlg_timings.apply(pd.to_numeric, errors = 'coerce')"
   ]
  },
  {
   "cell_type": "code",
   "execution_count": 25,
   "metadata": {},
   "outputs": [],
   "source": [
    "raft_timings_coerce_dropna=raft_timings_coerce.dropna()"
   ]
  },
  {
   "cell_type": "code",
   "execution_count": 26,
   "metadata": {},
   "outputs": [],
   "source": [
    "paxos_timings_coerce_dropna=paxos_timings_coerce.dropna()"
   ]
  },
  {
   "cell_type": "code",
   "execution_count": 27,
   "metadata": {},
   "outputs": [],
   "source": [
    "noAlg_timings_coerce_dropna=noAlg_timings_coerce.dropna()"
   ]
  },
  {
   "cell_type": "code",
   "execution_count": 28,
   "metadata": {},
   "outputs": [
    {
     "data": {
      "text/plain": [
       "(2416, 2)"
      ]
     },
     "execution_count": 28,
     "metadata": {},
     "output_type": "execute_result"
    }
   ],
   "source": [
    "raft_timings_coerce_dropna.shape"
   ]
  },
  {
   "cell_type": "code",
   "execution_count": 29,
   "metadata": {},
   "outputs": [
    {
     "data": {
      "text/plain": [
       "(2456, 2)"
      ]
     },
     "execution_count": 29,
     "metadata": {},
     "output_type": "execute_result"
    }
   ],
   "source": [
    "paxos_timings_coerce_dropna.shape"
   ]
  },
  {
   "cell_type": "code",
   "execution_count": 30,
   "metadata": {},
   "outputs": [
    {
     "data": {
      "text/plain": [
       "(1442, 2)"
      ]
     },
     "execution_count": 30,
     "metadata": {},
     "output_type": "execute_result"
    }
   ],
   "source": [
    "noAlg_timings_coerce_dropna.shape"
   ]
  },
  {
   "cell_type": "code",
   "execution_count": 31,
   "metadata": {},
   "outputs": [
    {
     "name": "stdout",
     "output_type": "stream",
     "text": [
      "<class 'pandas.core.frame.DataFrame'>\n",
      "Int64Index: 2416 entries, 0 to 2465\n",
      "Data columns (total 2 columns):\n",
      " #   Column    Non-Null Count  Dtype  \n",
      "---  ------    --------------  -----  \n",
      " 0   sent      2416 non-null   int64  \n",
      " 1   received  2416 non-null   float64\n",
      "dtypes: float64(1), int64(1)\n",
      "memory usage: 56.6 KB\n"
     ]
    }
   ],
   "source": [
    "raft_timings_coerce_dropna.info()"
   ]
  },
  {
   "cell_type": "code",
   "execution_count": 32,
   "metadata": {},
   "outputs": [
    {
     "name": "stdout",
     "output_type": "stream",
     "text": [
      "<class 'pandas.core.frame.DataFrame'>\n",
      "Int64Index: 2456 entries, 0 to 2475\n",
      "Data columns (total 2 columns):\n",
      " #   Column    Non-Null Count  Dtype  \n",
      "---  ------    --------------  -----  \n",
      " 0   sent      2456 non-null   float64\n",
      " 1   received  2456 non-null   float64\n",
      "dtypes: float64(2)\n",
      "memory usage: 57.6 KB\n"
     ]
    }
   ],
   "source": [
    "paxos_timings_coerce_dropna.info()"
   ]
  },
  {
   "cell_type": "code",
   "execution_count": 33,
   "metadata": {},
   "outputs": [
    {
     "name": "stdout",
     "output_type": "stream",
     "text": [
      "<class 'pandas.core.frame.DataFrame'>\n",
      "Int64Index: 1442 entries, 0 to 1557\n",
      "Data columns (total 2 columns):\n",
      " #   Column    Non-Null Count  Dtype  \n",
      "---  ------    --------------  -----  \n",
      " 0   sent      1442 non-null   float64\n",
      " 1   received  1442 non-null   float64\n",
      "dtypes: float64(2)\n",
      "memory usage: 33.8 KB\n"
     ]
    }
   ],
   "source": [
    "noAlg_timings_coerce_dropna.info()"
   ]
  },
  {
   "cell_type": "code",
   "execution_count": 34,
   "metadata": {},
   "outputs": [],
   "source": [
    "raft_timings_redone = {'sent': [],'received':[]}\n",
    "\n",
    "raft_result_redone = pd.DataFrame(raft_timings_redone)"
   ]
  },
  {
   "cell_type": "code",
   "execution_count": 35,
   "metadata": {},
   "outputs": [],
   "source": [
    "paxos_timings_redone = {'sent': [],'received':[]}\n",
    "\n",
    "paxos_result_redone = pd.DataFrame(paxos_timings_redone)"
   ]
  },
  {
   "cell_type": "code",
   "execution_count": 36,
   "metadata": {},
   "outputs": [],
   "source": [
    "noAlg_timings_redone = {'sent': [],'received':[]}\n",
    "\n",
    "noAlg_result_redone = pd.DataFrame(noAlg_timings_redone)"
   ]
  },
  {
   "cell_type": "code",
   "execution_count": 37,
   "metadata": {},
   "outputs": [],
   "source": [
    "for index, row in raft_timings_coerce_dropna.iterrows():\n",
    "    try: \n",
    "        if(int(row['received']) > int(row['sent']) and int(row['sent']) > raft_timings_coerce_dropna['sent'].iloc[0]):\n",
    "            \n",
    "            raft_result_redone.at[index, 'sent'] = int(row['sent'])\n",
    "            raft_result_redone.at[index, 'received'] = int(row['received'])\n",
    "    except:\n",
    "        pass\n",
    "        #print('error')"
   ]
  },
  {
   "cell_type": "code",
   "execution_count": 38,
   "metadata": {},
   "outputs": [],
   "source": [
    "for index, row in paxos_timings_coerce_dropna.iterrows():\n",
    "    try: \n",
    "        if(int(row['received']) > int(row['sent']) and int(row['sent']) > paxos_timings_coerce_dropna['sent'].iloc[0]):\n",
    "            \n",
    "            paxos_result_redone.at[index, 'sent'] = int(row['sent'])\n",
    "            paxos_result_redone.at[index, 'received'] = int(row['received'])\n",
    "    except:\n",
    "        pass\n",
    "        #print('error')"
   ]
  },
  {
   "cell_type": "code",
   "execution_count": 39,
   "metadata": {},
   "outputs": [],
   "source": [
    "for index, row in noAlg_timings_coerce_dropna.iterrows():\n",
    "    try: \n",
    "        if(int(row['received']) > int(row['sent']) and int(row['sent']) > noAlg_timings_coerce_dropna['sent'].iloc[0]):\n",
    "            \n",
    "            noAlg_result_redone.at[index, 'sent'] = int(row['sent'])\n",
    "            noAlg_result_redone.at[index, 'received'] = int(row['received'])\n",
    "    except:\n",
    "        pass\n",
    "        #print('error')"
   ]
  },
  {
   "cell_type": "code",
   "execution_count": 40,
   "metadata": {},
   "outputs": [
    {
     "name": "stdout",
     "output_type": "stream",
     "text": [
      "<class 'pandas.core.frame.DataFrame'>\n",
      "Int64Index: 1709 entries, 1 to 2465\n",
      "Data columns (total 2 columns):\n",
      " #   Column    Non-Null Count  Dtype  \n",
      "---  ------    --------------  -----  \n",
      " 0   sent      1709 non-null   float64\n",
      " 1   received  1709 non-null   float64\n",
      "dtypes: float64(2)\n",
      "memory usage: 120.1 KB\n"
     ]
    }
   ],
   "source": [
    "raft_result_redone.info()\n"
   ]
  },
  {
   "cell_type": "code",
   "execution_count": 41,
   "metadata": {},
   "outputs": [
    {
     "name": "stdout",
     "output_type": "stream",
     "text": [
      "<class 'pandas.core.frame.DataFrame'>\n",
      "Int64Index: 1191 entries, 4 to 2463\n",
      "Data columns (total 2 columns):\n",
      " #   Column    Non-Null Count  Dtype  \n",
      "---  ------    --------------  -----  \n",
      " 0   sent      1191 non-null   float64\n",
      " 1   received  1191 non-null   float64\n",
      "dtypes: float64(2)\n",
      "memory usage: 67.9 KB\n"
     ]
    }
   ],
   "source": [
    "paxos_result_redone.info()"
   ]
  },
  {
   "cell_type": "code",
   "execution_count": 42,
   "metadata": {},
   "outputs": [
    {
     "name": "stdout",
     "output_type": "stream",
     "text": [
      "<class 'pandas.core.frame.DataFrame'>\n",
      "Int64Index: 877 entries, 1 to 1548\n",
      "Data columns (total 2 columns):\n",
      " #   Column    Non-Null Count  Dtype  \n",
      "---  ------    --------------  -----  \n",
      " 0   sent      877 non-null    float64\n",
      " 1   received  877 non-null    float64\n",
      "dtypes: float64(2)\n",
      "memory usage: 60.6 KB\n"
     ]
    }
   ],
   "source": [
    "noAlg_result_redone.info()"
   ]
  },
  {
   "cell_type": "code",
   "execution_count": 43,
   "metadata": {},
   "outputs": [
    {
     "data": {
      "text/plain": [
       "(0.9999999990471669, array([1., 1.]))"
      ]
     },
     "execution_count": 43,
     "metadata": {},
     "output_type": "execute_result"
    }
   ],
   "source": [
    "#CRONBACH ALPHA\n",
    "pg.cronbach_alpha(data=raft_result_redone)"
   ]
  },
  {
   "cell_type": "code",
   "execution_count": 44,
   "metadata": {},
   "outputs": [
    {
     "data": {
      "text/plain": [
       "(0.9999999985774688, array([1., 1.]))"
      ]
     },
     "execution_count": 44,
     "metadata": {},
     "output_type": "execute_result"
    }
   ],
   "source": [
    "#CRONBACH ALPHA\n",
    "pg.cronbach_alpha(data=paxos_result_redone)"
   ]
  },
  {
   "cell_type": "code",
   "execution_count": 45,
   "metadata": {},
   "outputs": [
    {
     "data": {
      "text/plain": [
       "(0.9999999830284905, array([1., 1.]))"
      ]
     },
     "execution_count": 45,
     "metadata": {},
     "output_type": "execute_result"
    }
   ],
   "source": [
    "#CRONBACH ALPHA\n",
    "pg.cronbach_alpha(data=noAlg_result_redone)"
   ]
  },
  {
   "cell_type": "code",
   "execution_count": 46,
   "metadata": {},
   "outputs": [],
   "source": [
    "raft_latency_pd = {'latency': []}\n",
    "\n",
    "raft_latency = pd.DataFrame(raft_latency_pd)"
   ]
  },
  {
   "cell_type": "code",
   "execution_count": 47,
   "metadata": {},
   "outputs": [],
   "source": [
    "paxos_latency_pd = {'latency': []}\n",
    "\n",
    "paxos_latency = pd.DataFrame(paxos_latency_pd)"
   ]
  },
  {
   "cell_type": "code",
   "execution_count": 48,
   "metadata": {},
   "outputs": [],
   "source": [
    "noAlg_latency_pd = {'latency': []}\n",
    "\n",
    "noAlg_latency = pd.DataFrame(noAlg_latency_pd)"
   ]
  },
  {
   "cell_type": "code",
   "execution_count": 49,
   "metadata": {},
   "outputs": [],
   "source": [
    "for index, row in raft_result_redone.iterrows():\n",
    "    try:\n",
    "        \n",
    "        result = int(row['received']) - int(row['sent'])\n",
    "        raft_latency.at[index, 'latency'] = result      \n",
    "    except:\n",
    "        pass\n",
    "        "
   ]
  },
  {
   "cell_type": "code",
   "execution_count": 50,
   "metadata": {},
   "outputs": [],
   "source": [
    "for index, row in paxos_result_redone.iterrows():\n",
    "    try:\n",
    "        \n",
    "        result = int(row['received']) - int(row['sent'])\n",
    "        paxos_latency.at[index, 'latency'] = result      \n",
    "    except:\n",
    "        pass\n",
    "        "
   ]
  },
  {
   "cell_type": "code",
   "execution_count": 51,
   "metadata": {},
   "outputs": [],
   "source": [
    "for index, row in noAlg_result_redone.iterrows():\n",
    "    try:\n",
    "        \n",
    "        result = int(row['received']) - int(row['sent'])\n",
    "        noAlg_latency.at[index, 'latency'] = result      \n",
    "    except:\n",
    "        pass\n",
    "        "
   ]
  },
  {
   "cell_type": "code",
   "execution_count": 52,
   "metadata": {},
   "outputs": [
    {
     "name": "stdout",
     "output_type": "stream",
     "text": [
      "<class 'pandas.core.frame.DataFrame'>\n",
      "Int64Index: 1709 entries, 1 to 2465\n",
      "Data columns (total 1 columns):\n",
      " #   Column   Non-Null Count  Dtype  \n",
      "---  ------   --------------  -----  \n",
      " 0   latency  1709 non-null   float64\n",
      "dtypes: float64(1)\n",
      "memory usage: 106.7 KB\n"
     ]
    }
   ],
   "source": [
    "raft_latency.info()"
   ]
  },
  {
   "cell_type": "code",
   "execution_count": 53,
   "metadata": {},
   "outputs": [
    {
     "data": {
      "text/plain": [
       "(1709, 1)"
      ]
     },
     "execution_count": 53,
     "metadata": {},
     "output_type": "execute_result"
    }
   ],
   "source": [
    "raft_latency.shape"
   ]
  },
  {
   "cell_type": "code",
   "execution_count": 54,
   "metadata": {},
   "outputs": [
    {
     "name": "stdout",
     "output_type": "stream",
     "text": [
      "<class 'pandas.core.frame.DataFrame'>\n",
      "Int64Index: 1191 entries, 4 to 2463\n",
      "Data columns (total 1 columns):\n",
      " #   Column   Non-Null Count  Dtype  \n",
      "---  ------   --------------  -----  \n",
      " 0   latency  1191 non-null   float64\n",
      "dtypes: float64(1)\n",
      "memory usage: 58.6 KB\n"
     ]
    }
   ],
   "source": [
    "paxos_latency.info()"
   ]
  },
  {
   "cell_type": "code",
   "execution_count": 55,
   "metadata": {},
   "outputs": [
    {
     "data": {
      "text/plain": [
       "(1191, 1)"
      ]
     },
     "execution_count": 55,
     "metadata": {},
     "output_type": "execute_result"
    }
   ],
   "source": [
    "paxos_latency.shape"
   ]
  },
  {
   "cell_type": "code",
   "execution_count": 56,
   "metadata": {},
   "outputs": [
    {
     "name": "stdout",
     "output_type": "stream",
     "text": [
      "<class 'pandas.core.frame.DataFrame'>\n",
      "Int64Index: 877 entries, 1 to 1548\n",
      "Data columns (total 1 columns):\n",
      " #   Column   Non-Null Count  Dtype  \n",
      "---  ------   --------------  -----  \n",
      " 0   latency  877 non-null    float64\n",
      "dtypes: float64(1)\n",
      "memory usage: 53.7 KB\n"
     ]
    }
   ],
   "source": [
    "noAlg_latency.info()"
   ]
  },
  {
   "cell_type": "code",
   "execution_count": 57,
   "metadata": {},
   "outputs": [
    {
     "data": {
      "text/plain": [
       "(877, 1)"
      ]
     },
     "execution_count": 57,
     "metadata": {},
     "output_type": "execute_result"
    }
   ],
   "source": [
    "noAlg_latency.shape"
   ]
  },
  {
   "cell_type": "code",
   "execution_count": 58,
   "metadata": {},
   "outputs": [
    {
     "data": {
      "text/plain": [
       "221.8279695728496"
      ]
     },
     "execution_count": 58,
     "metadata": {},
     "output_type": "execute_result"
    }
   ],
   "source": [
    "raft_latency['latency'].mean()"
   ]
  },
  {
   "cell_type": "code",
   "execution_count": 59,
   "metadata": {},
   "outputs": [
    {
     "data": {
      "text/plain": [
       "511.79932829554997"
      ]
     },
     "execution_count": 59,
     "metadata": {},
     "output_type": "execute_result"
    }
   ],
   "source": [
    "paxos_latency['latency'].mean()"
   ]
  },
  {
   "cell_type": "code",
   "execution_count": 60,
   "metadata": {},
   "outputs": [
    {
     "data": {
      "text/plain": [
       "364.19726339794755"
      ]
     },
     "execution_count": 60,
     "metadata": {},
     "output_type": "execute_result"
    }
   ],
   "source": [
    "noAlg_latency['latency'].mean()"
   ]
  },
  {
   "cell_type": "code",
   "execution_count": 61,
   "metadata": {},
   "outputs": [
    {
     "data": {
      "text/plain": [
       "'C:\\\\Users\\\\czaps\\\\Documents\\\\MSc\\\\data_wrangling\\\\latency_workbook'"
      ]
     },
     "execution_count": 61,
     "metadata": {},
     "output_type": "execute_result"
    }
   ],
   "source": [
    "pwd"
   ]
  },
  {
   "cell_type": "code",
   "execution_count": 68,
   "metadata": {},
   "outputs": [],
   "source": [
    "latency_3_1 = pd.read_csv(\"C:\\\\Users\\\\czaps\\\\Documents\\\\MSc\\\\data_wrangling\\\\latency_workbook\\\\latency_3_1.csv\", error_bad_lines=False, sep=\",\")"
   ]
  },
  {
   "cell_type": "code",
   "execution_count": 69,
   "metadata": {},
   "outputs": [
    {
     "data": {
      "image/png": "[encoded data removed]",
      "text/plain": [
       "<Figure size 432x288 with 1 Axes>"
      ]
     },
     "metadata": {
      "needs_background": "light"
     },
     "output_type": "display_data"
    }
   ],
   "source": [
    "ax = latency_3_1.plot.bar(x='algorithm')\n",
    "plt.title('Average latency of 3 node network with 1fail')\n",
    "ax.set(xlabel='', ylabel='miliseconds')\n",
    "ax.set_xticklabels(ax.get_xticklabels(), rotation=0, ha=\"center\")\n",
    "for bars in ax.containers:\n",
    "    ax.bar_label(bars)\n",
    "#plt.legend(loc='upper right')\n",
    "ax.get_legend().remove()\n",
    "plt.savefig('C:\\\\Users\\\\czaps\\\\Documents\\\\MSc\\\\images\\\\latency_3_1_mean.png', bbox_inches='tight')\n"
   ]
  },
  {
   "cell_type": "code",
   "execution_count": null,
   "metadata": {},
   "outputs": [],
   "source": []
  }
 ],
 "metadata": {
  "kernelspec": {
   "display_name": "Python 3",
   "language": "python",
   "name": "python3"
  },
  "language_info": {
   "codemirror_mode": {
    "name": "ipython",
    "version": 3
   },
   "file_extension": ".py",
   "mimetype": "text/x-python",
   "name": "python",
   "nbconvert_exporter": "python",
   "pygments_lexer": "ipython3",
   "version": "3.7.1"
  }
 },
 "nbformat": 4,
 "nbformat_minor": 4
}
